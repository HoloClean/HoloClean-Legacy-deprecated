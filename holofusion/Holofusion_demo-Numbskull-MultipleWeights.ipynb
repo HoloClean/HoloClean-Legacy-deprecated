{
 "cells": [
  {
   "cell_type": "markdown",
   "metadata": {},
   "source": [
    "# A Step-by-Step Guide to HoloFusion example part 4/4 \n",
    "   # (our approach with multiple weights per source)\n"
   ]
  },
  {
   "cell_type": "markdown",
   "metadata": {},
   "source": [
    "# Setup\n",
    "Firstly, we import all the module from Holofusion that we will use."
   ]
  },
  {
   "cell_type": "code",
   "execution_count": 1,
   "metadata": {
    "collapsed": true
   },
   "outputs": [],
   "source": [
    "from holofusion import HoloFusion, HoloFusionSession\n",
    "from time import time as t"
   ]
  },
  {
   "cell_type": "markdown",
   "metadata": {},
   "source": [
    "##   Initialization\n",
    "In this part, we create the HoloFusion and Session object that we will use for this example."
   ]
  },
  {
   "cell_type": "code",
   "execution_count": 2,
   "metadata": {},
   "outputs": [
    {
     "name": "stderr",
     "output_type": "stream",
     "text": [
      "/home/james/anaconda/envs/python2.7/lib/python2.7/site-packages/sqlalchemy/dialects/mysql/base.py:1576: Warning: '@@tx_isolation' is deprecated and will be removed in a future release. Please use '@@transaction_isolation' instead\n",
      "  cursor.execute('SELECT @@tx_isolation')\n"
     ]
    }
   ],
   "source": [
    "        holo_obj = HoloFusion(majority_vote=0, training_data=1, multiple_weights=1)\n",
    "        session = HoloFusionSession(\"Session\", holo_obj)\n",
    "        fx = open('execution_time.txt', 'w')\n",
    "        "
   ]
  },
  {
   "cell_type": "markdown",
   "metadata": {},
   "source": [
    "## Read Input from file\n",
    "Test data and training data will be read using the Session's ingestor.\n",
    "After ingesting the test data will be loaded into MySQL tables along with entries in the a metadata table."
   ]
  },
  {
   "cell_type": "code",
   "execution_count": 3,
   "metadata": {
    "scrolled": false
   },
   "outputs": [
    {
     "name": "stdout",
     "output_type": "stream",
     "text": [
      "ingest csv time: 8.22992897034\n",
      "\n",
      "['Source', 'Flight_Num', 'Scheduled_Dept', 'Actual_Dept', 'Scheduled_Arrival', 'Actual_Arrival']\n",
      "adding training time: 24.7288529873\n",
      "\n",
      "Clean table\n",
      "+-------------+--------------------+--------------+------------+\n",
      "|       source|            rv_index|       rv_attr|assigned_val|\n",
      "+-------------+--------------------+--------------+------------+\n",
      "|        gofox|2011-12-01-AA-649...|Scheduled_Dept|        1:30|\n",
      "|  foxbusiness|2011-12-01-AA-649...|Scheduled_Dept|        1:30|\n",
      "| allegiantair|2011-12-01-AA-649...|Scheduled_Dept|        1:30|\n",
      "|       boston|2011-12-01-AA-649...|Scheduled_Dept|        1:30|\n",
      "|  travelocity|2011-12-01-AA-649...|Scheduled_Dept|        1:30|\n",
      "|       orbitz|2011-12-01-AA-649...|Scheduled_Dept|        1:30|\n",
      "|      weather|2011-12-01-AA-649...|Scheduled_Dept|        1:30|\n",
      "|mytripandmore|2011-12-01-AA-649...|Scheduled_Dept|        1:30|\n",
      "|           aa|2011-12-01-AA-306...|Scheduled_Dept|        8:20|\n",
      "|  flightaware|2011-12-01-AA-306...|Scheduled_Dept|        8:20|\n",
      "| wunderground|2011-12-01-AA-306...|Scheduled_Dept|        8:20|\n",
      "|  foxbusiness|2011-12-01-AA-384...|Scheduled_Dept|        6:00|\n",
      "| allegiantair|2011-12-01-AA-384...|Scheduled_Dept|        6:00|\n",
      "|       boston|2011-12-01-AA-384...|Scheduled_Dept|        6:00|\n",
      "|  travelocity|2011-12-01-AA-384...|Scheduled_Dept|        6:00|\n",
      "|       orbitz|2011-12-01-AA-384...|Scheduled_Dept|        6:00|\n",
      "|      weather|2011-12-01-AA-384...|Scheduled_Dept|        6:00|\n",
      "|          ord|2011-12-01-AA-384...|Scheduled_Dept|        6:00|\n",
      "|         ifly|2011-12-01-AA-384...|Scheduled_Dept|        6:00|\n",
      "|mytripandmore|2011-12-01-AA-384...|Scheduled_Dept|        6:00|\n",
      "+-------------+--------------------+--------------+------------+\n",
      "only showing top 20 rows\n",
      "\n",
      "Don't know table\n",
      "+-------------------+--------------------+--------------+------------+\n",
      "|             source|            rv_index|       rv_attr|assigned_val|\n",
      "+-------------------+--------------------+--------------+------------+\n",
      "|                 aa|2011-12-01-AA-100...|Scheduled_Dept|        1:55|\n",
      "|     flightexplorer|2011-12-01-AA-100...|Scheduled_Dept|        null|\n",
      "|    airtravelcenter|2011-12-01-AA-100...|Scheduled_Dept|        null|\n",
      "|         myrateplan|2011-12-01-AA-100...|Scheduled_Dept|        null|\n",
      "|        helloflight|2011-12-01-AA-100...|Scheduled_Dept|        null|\n",
      "|          flytecomm|2011-12-01-AA-100...|Scheduled_Dept|        null|\n",
      "|            flights|2011-12-01-AA-100...|Scheduled_Dept|        null|\n",
      "|businesstravellogue|2011-12-01-AA-100...|Scheduled_Dept|        null|\n",
      "|      flylouisville|2011-12-01-AA-100...|Scheduled_Dept|        null|\n",
      "|    airtravelcenter|2011-12-01-UA-581...|Scheduled_Dept|        null|\n",
      "|         myrateplan|2011-12-01-UA-581...|Scheduled_Dept|        null|\n",
      "|        helloflight|2011-12-01-UA-581...|Scheduled_Dept|        null|\n",
      "|          flytecomm|2011-12-01-UA-581...|Scheduled_Dept|        null|\n",
      "|        flightaware|2011-12-01-UA-581...|Scheduled_Dept|        8:36|\n",
      "|       wunderground|2011-12-01-UA-581...|Scheduled_Dept|        8:36|\n",
      "|            flights|2011-12-01-UA-581...|Scheduled_Dept|        8:36|\n",
      "|businesstravellogue|2011-12-01-UA-581...|Scheduled_Dept|        8:36|\n",
      "|      flylouisville|2011-12-01-UA-581...|Scheduled_Dept|        8:36|\n",
      "|        flightstats|2011-12-01-UA-581...|Scheduled_Dept|        8:36|\n",
      "|        travelocity|2011-12-01-AA-185...|Scheduled_Dept|        9:00|\n",
      "+-------------------+--------------------+--------------+------------+\n",
      "only showing top 20 rows\n",
      "\n"
     ]
    }
   ],
   "source": [
    "        list_time = []\n",
    "        start_time = t()\n",
    "\n",
    "        session.ingest_dataset(\"data/clean_flight/flight-data-test.csv\")\n",
    "        d = t()-start_time\n",
    "        list_time.append(d)\n",
    "        fx.write('ingest csv time: '+str(d)+'\\n')\n",
    "        print 'ingest csv time: '+str(d)+'\\n'\n",
    "        \n",
    "        start_time = t()\n",
    "        session.adding_training_data(\"data/clean_flight/flight-data_training.csv\")\n",
    "        d = t() - start_time\n",
    "        list_time.append(d)\n",
    "        fx.write('adding training data: ' + str(d) + '\\n')\n",
    "        print 'adding training time: ' + str(d) + '\\n'\n",
    "        \n",
    "        print 'Clean table'\n",
    "        sql = holo_obj.dataengine.get_table_to_dataframe(\"C_clean_flat\", session.dataset)\n",
    "        sql.show()\n",
    "        print 'Don\\'t know table'\n",
    "        sql = holo_obj.dataengine.get_table_to_dataframe(\"C_dk_flat\", session.dataset)\n",
    "        sql.show()"
   ]
  },
  {
   "cell_type": "markdown",
   "metadata": {},
   "source": [
    "## Featurization"
   ]
  },
  {
   "cell_type": "code",
   "execution_count": 4,
   "metadata": {},
   "outputs": [
    {
     "name": "stdout",
     "output_type": "stream",
     "text": [
      "['Source', 'Flight_Num', 'Scheduled_Dept', 'Actual_Dept', 'Scheduled_Arrival', 'Actual_Arrival']\n",
      "adding weight_id to feature table...\n",
      "creating weight table\n",
      "creating feature table with weights ids\n",
      "adding weight_id to feature table is finished\n",
      "Feature table\n",
      "+---------+-------------------+--------------------+-----------------+------------+---------+-----+\n",
      "|var_index|          Source_id|            rv_index|          rv_attr|assigned_val|weight_id|fixed|\n",
      "+---------+-------------------+--------------------+-----------------+------------+---------+-----+\n",
      "|        1|                 aa|2011-12-01-AA-100...|   Actual_Arrival|        2:57|       76|    0|\n",
      "|        2|     flightexplorer|2011-12-01-AA-100...|   Actual_Arrival|        2:51|      125|    0|\n",
      "|        3|    airtravelcenter|2011-12-01-AA-100...|   Actual_Arrival|        5:00|      126|    0|\n",
      "|        4|         myrateplan|2011-12-01-AA-100...|   Actual_Arrival|        5:00|      127|    0|\n",
      "|        5|        helloflight|2011-12-01-AA-100...|   Actual_Arrival|        5:00|      128|    0|\n",
      "|        6|          flytecomm|2011-12-01-AA-100...|   Actual_Arrival|        5:00|      129|    0|\n",
      "|        7|            flights|2011-12-01-AA-100...|   Actual_Arrival|        2:57|       77|    0|\n",
      "|        8|businesstravellogue|2011-12-01-AA-100...|   Actual_Arrival|        2:57|       78|    0|\n",
      "|        9|      flylouisville|2011-12-01-AA-100...|   Actual_Arrival|        2:57|       79|    0|\n",
      "|       10|                 aa|2011-12-01-AA-100...|      Actual_Dept|        2:07|       26|    0|\n",
      "|       11|     flightexplorer|2011-12-01-AA-100...|      Actual_Dept|        2:07|       45|    0|\n",
      "|       12|    airtravelcenter|2011-12-01-AA-100...|      Actual_Dept|        5:00|       99|    0|\n",
      "|       13|         myrateplan|2011-12-01-AA-100...|      Actual_Dept|        5:00|      100|    0|\n",
      "|       14|        helloflight|2011-12-01-AA-100...|      Actual_Dept|        5:00|      101|    0|\n",
      "|       15|          flytecomm|2011-12-01-AA-100...|      Actual_Dept|        5:00|      102|    0|\n",
      "|       16|            flights|2011-12-01-AA-100...|      Actual_Dept|        2:07|       27|    0|\n",
      "|       17|businesstravellogue|2011-12-01-AA-100...|      Actual_Dept|        2:07|       28|    0|\n",
      "|       18|      flylouisville|2011-12-01-AA-100...|      Actual_Dept|        2:07|       29|    0|\n",
      "|       19|                 aa|2011-12-01-AA-100...|Scheduled_Arrival|        3:00|       54|    0|\n",
      "|       20|                 aa|2011-12-01-AA-100...|   Scheduled_Dept|        1:55|        9|    0|\n",
      "+---------+-------------------+--------------------+-----------------+------------+---------+-----+\n",
      "only showing top 20 rows\n",
      "\n",
      " feature table time: 10.6836190224\n",
      "\n"
     ]
    }
   ],
   "source": [
    "        start_time = t()\n",
    "        session.feature()\n",
    "        d = t() - start_time\n",
    "        list_time.append(d)\n",
    "        fx.write('creating feature table time: '+str(d)+'\\n')\n",
    "        print 'Feature table'\n",
    "        sql = holo_obj.dataengine.get_table_to_dataframe(\"Feature\", session.dataset)\n",
    "        sql.show()\n",
    "        print ' feature table time: '+str(d)+'\\n'"
   ]
  },
  {
   "cell_type": "markdown",
   "metadata": {},
   "source": [
    "#  Learning\n",
    "In the learning phase, for our approach we get the weight from numbskull (one unique weight per source and attribute).\n"
   ]
  },
  {
   "cell_type": "code",
   "execution_count": 5,
   "metadata": {},
   "outputs": [
    {
     "name": "stdout",
     "output_type": "stream",
     "text": [
      "numbskull is starting\n",
      "wrapper is starting\n",
      "wrapper is finished\n",
      "numbskull is finished\n",
      "adding weight is finished is finished\n",
      "Probabilities table\n",
      "+--------------------+-----------------+------------+--------------------+\n",
      "|            rv_index|          rv_attr|assigned_val|         probability|\n",
      "+--------------------+-----------------+------------+--------------------+\n",
      "|2011-12-01-AA-100...|   Actual_Arrival|        2:51| 0.04010800235520191|\n",
      "|2011-12-01-AA-100...|   Actual_Arrival|        2:57|   0.805590762220706|\n",
      "|2011-12-01-AA-100...|   Actual_Arrival|        5:00| 0.15430123542409196|\n",
      "|2011-12-01-AA-100...|      Actual_Dept|        2:07|0.015244990658602254|\n",
      "|2011-12-01-AA-100...|      Actual_Dept|        5:00|  0.9847550093413977|\n",
      "|2011-12-01-AA-100...|Scheduled_Arrival|        3:00|                 1.0|\n",
      "|2011-12-01-AA-100...|   Scheduled_Dept|        1:55|                 1.0|\n",
      "|2011-12-01-AA-101...|   Actual_Arrival|        5:00|   0.342388312163603|\n",
      "|2011-12-01-AA-101...|   Actual_Arrival|        8:36|   0.657611687836397|\n",
      "|2011-12-01-AA-101...|      Actual_Dept|        5:00|   0.994158080144139|\n",
      "|2011-12-01-AA-101...|      Actual_Dept|        7:29|0.005841919855861037|\n",
      "|2011-12-01-AA-101...|Scheduled_Arrival|        8:40|                 1.0|\n",
      "|2011-12-01-AA-101...|   Scheduled_Dept|        7:15|                 1.0|\n",
      "|2011-12-01-AA-103...|   Actual_Arrival|        3:09|  0.3637174674242947|\n",
      "|2011-12-01-AA-103...|   Actual_Arrival|        3:14|  0.3637174674242947|\n",
      "|2011-12-01-AA-103...|   Actual_Arrival|        5:00|  0.2725650651514105|\n",
      "|2011-12-01-AA-103...|      Actual_Dept|        1:46| 0.08082661431410226|\n",
      "|2011-12-01-AA-103...|      Actual_Dept|        1:47| 0.24720379683183605|\n",
      "|2011-12-01-AA-103...|      Actual_Dept|        5:00|  0.6719695888540617|\n",
      "|2011-12-01-AA-103...|Scheduled_Arrival|        3:20|                 1.0|\n",
      "+--------------------+-----------------+------------+--------------------+\n",
      "only showing top 20 rows\n",
      "\n",
      "inference time: 1704.7820859\n",
      "\n"
     ]
    }
   ],
   "source": [
    "        start_time = t()\n",
    "        session.inference()\n",
    "        d = t() - start_time\n",
    "        list_time.append(d)\n",
    "        fx.write('inference time: ' + str(d) + '\\n')\n",
    "        print 'Probabilities table'\n",
    "        sql = holo_obj.dataengine.get_table_to_dataframe(\"Probabilities\", session.dataset)\n",
    "        sql.show()\n",
    "        print 'inference time: ' + str(d) + '\\n'\n",
    "        "
   ]
  },
  {
   "cell_type": "markdown",
   "metadata": {},
   "source": [
    "## Final Table and Accuracy Calculations"
   ]
  },
  {
   "cell_type": "code",
   "execution_count": 6,
   "metadata": {},
   "outputs": [
    {
     "name": "stdout",
     "output_type": "stream",
     "text": [
      "['Flight_Num', 'Scheduled_Dept', 'Actual_Dept', 'Scheduled_Arrival', 'Actual_Arrival']\n",
      "show only authors\n",
      "+--------------------+-----------------+------------+\n",
      "|            rv_index|          rv_attr|assigned_val|\n",
      "+--------------------+-----------------+------------+\n",
      "|2011-12-01-AA-100...|   Actual_Arrival|        2:57|\n",
      "|2011-12-01-AA-100...|      Actual_Dept|        5:00|\n",
      "|2011-12-01-AA-100...|Scheduled_Arrival|        3:00|\n",
      "|2011-12-01-AA-100...|   Scheduled_Dept|        1:55|\n",
      "|2011-12-01-AA-101...|   Actual_Arrival|        8:36|\n",
      "|2011-12-01-AA-101...|      Actual_Dept|        5:00|\n",
      "|2011-12-01-AA-101...|Scheduled_Arrival|        8:40|\n",
      "|2011-12-01-AA-101...|   Scheduled_Dept|        7:15|\n",
      "|2011-12-01-AA-103...|   Actual_Arrival|        3:14|\n",
      "|2011-12-01-AA-103...|      Actual_Dept|        5:00|\n",
      "|2011-12-01-AA-103...|Scheduled_Arrival|        3:20|\n",
      "|2011-12-01-AA-103...|   Scheduled_Dept|        1:25|\n",
      "|2011-12-01-AA-104...|   Actual_Arrival|        1:17|\n",
      "|2011-12-01-AA-104...|      Actual_Dept|       10:06|\n",
      "|2011-12-01-AA-104...|Scheduled_Arrival|        1:25|\n",
      "|2011-12-01-AA-104...|   Scheduled_Dept|       10:10|\n",
      "|2011-12-01-AA-104...|   Actual_Arrival|        2:37|\n",
      "|2011-12-01-AA-104...|      Actual_Dept|       11:08|\n",
      "|2011-12-01-AA-104...|Scheduled_Arrival|        2:50|\n",
      "|2011-12-01-AA-104...|   Scheduled_Dept|       11:10|\n",
      "+--------------------+-----------------+------------+\n",
      "only showing top 20 rows\n",
      "\n",
      "show ground_truth\n",
      "+--------------------+--------------+------------+\n",
      "|            rv_index|       rv_attr|assigned_val|\n",
      "+--------------------+--------------+------------+\n",
      "|2011-12-02-CO-102...|Scheduled_Dept|       11:40|\n",
      "|2011-12-02-CO-102...|Scheduled_Dept|       11:40|\n",
      "|2011-12-02-CO-102...|Scheduled_Dept|       11:40|\n",
      "|2011-12-02-CO-102...|Scheduled_Dept|       11:40|\n",
      "|2011-12-03-AA-154...|Scheduled_Dept|       11:25|\n",
      "|2011-12-03-AA-154...|Scheduled_Dept|       11:25|\n",
      "|2011-12-03-AA-154...|Scheduled_Dept|       11:25|\n",
      "|2011-12-03-AA-154...|Scheduled_Dept|       11:25|\n",
      "|2011-12-03-AA-188...|Scheduled_Dept|       10:45|\n",
      "|2011-12-03-AA-188...|Scheduled_Dept|       10:45|\n",
      "|2011-12-03-AA-188...|Scheduled_Dept|       10:45|\n",
      "|2011-12-03-AA-188...|Scheduled_Dept|       10:45|\n",
      "|2011-12-03-AA-226...|Scheduled_Dept|        7:15|\n",
      "|2011-12-03-AA-226...|Scheduled_Dept|        7:15|\n",
      "|2011-12-03-AA-226...|Scheduled_Dept|        7:15|\n",
      "|2011-12-03-AA-226...|Scheduled_Dept|        7:15|\n",
      "|2011-12-03-AA-306...|Scheduled_Dept|        8:20|\n",
      "|2011-12-03-AA-306...|Scheduled_Dept|        8:20|\n",
      "|2011-12-03-AA-306...|Scheduled_Dept|        8:20|\n",
      "|2011-12-03-AA-306...|Scheduled_Dept|        8:20|\n",
      "+--------------------+--------------+------------+\n",
      "only showing top 20 rows\n",
      "\n",
      "show incorrect values\n",
      "+--------------------+-----------------+------------+\n",
      "|            rv_index|          rv_attr|assigned_val|\n",
      "+--------------------+-----------------+------------+\n",
      "|2011-12-08-AA-271...|      Actual_Dept|       11:34|\n",
      "|2011-12-09-AA-205...|      Actual_Dept|       10:41|\n",
      "|2011-12-14-UA-272...|   Scheduled_Dept|        4:00|\n",
      "|2011-12-14-UA-309...|Scheduled_Arrival|        6:17|\n",
      "|2011-12-16-CO-16-...|      Actual_Dept|       11:01|\n",
      "|2011-12-29-CO-158...|      Actual_Dept|        7:01|\n",
      "|2011-12-29-CO-169...|   Scheduled_Dept|        7:41|\n",
      "|2011-12-29-CO-50-...|   Actual_Arrival|        4:16|\n",
      "|2012-01-02-CO-125...|   Actual_Arrival|        4:36|\n",
      "|2011-12-12-UA-382...|   Actual_Arrival|        3:03|\n",
      "|2011-12-16-UA-938...|      Actual_Dept|        3:56|\n",
      "|2011-12-16-UA-938...|Scheduled_Arrival|        7:17|\n",
      "|2011-12-22-AA-616...|      Actual_Dept|        8:59|\n",
      "|2011-12-29-AA-384...|   Actual_Arrival|        7:07|\n",
      "|2011-12-30-CO-125...|Scheduled_Arrival|        4:50|\n",
      "|2011-12-05-UA-248...|      Actual_Dept|       12:57|\n",
      "|2011-12-16-UA-843...|      Actual_Dept|        2:27|\n",
      "|2011-12-31-UA-938...|      Actual_Dept|        4:11|\n",
      "|2011-12-04-UA-248...|Scheduled_Arrival|        5:15|\n",
      "|2011-12-07-CO-488...|Scheduled_Arrival|        6:40|\n",
      "+--------------------+-----------------+------------+\n",
      "only showing top 20 rows\n",
      "\n",
      "the number of tuples for the ground truth is :\n",
      "10600\n",
      "the incorrect values are:\n",
      "1504\n",
      "the accuracy is:\n",
      "0.858113207547\n",
      "time to calculate accuracy: 31.6364269257\n",
      "\n"
     ]
    }
   ],
   "source": [
    "        start_time = t()\n",
    "\n",
    "        session.accuracy(\"data/clean_flight/flight-data_truth.csv\")\n",
    "        d = t() - start_time\n",
    "        list_time.append(d)\n",
    "        fx.write('time to calculate accuracy: ' + str(d) + '\\n')\n",
    "        print 'time to calculate accuracy: ' + str(d) + '\\n'\n",
    "        fx.close()"
   ]
  }
 ],
 "metadata": {
  "kernelspec": {
   "display_name": "Python 2",
   "language": "python",
   "name": "python2"
  },
  "language_info": {
   "codemirror_mode": {
    "name": "ipython",
    "version": 2
   },
   "file_extension": ".py",
   "mimetype": "text/x-python",
   "name": "python",
   "nbconvert_exporter": "python",
   "pygments_lexer": "ipython2",
   "version": "2.7.13"
  }
 },
 "nbformat": 4,
 "nbformat_minor": 2
}
