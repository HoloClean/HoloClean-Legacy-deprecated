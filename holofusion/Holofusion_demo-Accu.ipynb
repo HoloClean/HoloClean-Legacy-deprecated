{
 "cells": [
  {
   "cell_type": "markdown",
   "metadata": {},
   "source": [
    "# A Step-by-Step Guide to HoloFusion example part 2/4 \n",
    "  #  (accu implementation)\n"
   ]
  },
  {
   "cell_type": "markdown",
   "metadata": {},
   "source": [
    "# Setup\n",
    " Firstly, we import all the module from Holofusion that we will use."
   ]
  },
  {
   "cell_type": "code",
   "execution_count": 1,
   "metadata": {
    "collapsed": true
   },
   "outputs": [],
   "source": [
    "from holofusion import HoloFusion, HoloFusionSession\n",
    "from time import time as t"
   ]
  },
  {
   "cell_type": "markdown",
   "metadata": {},
   "source": [
    "##   Initialization\n",
    "In this part, we create the HoloFusion and Session object that we will use for this example."
   ]
  },
  {
   "cell_type": "code",
   "execution_count": 2,
   "metadata": {},
   "outputs": [
    {
     "name": "stderr",
     "output_type": "stream",
     "text": [
      "/home/james/anaconda/envs/python2.7/lib/python2.7/site-packages/sqlalchemy/dialects/mysql/base.py:1576: Warning: '@@tx_isolation' is deprecated and will be removed in a future release. Please use '@@transaction_isolation' instead\n",
      "  cursor.execute('SELECT @@tx_isolation')\n"
     ]
    }
   ],
   "source": [
    "        holo_obj = HoloFusion(algorithm=2, training_data=1, multiple_weights=0)\n",
    "        session = HoloFusionSession(\"Session\", holo_obj)\n",
    "        fx = open('execution_time.txt', 'w')\n",
    "        "
   ]
  },
  {
   "cell_type": "markdown",
   "metadata": {},
   "source": [
    "## Read Input from file\n",
    "Test data will be read using the Session's ingestor.\n",
    "After ingesting the test data will be loaded into MySQL tables along with entries in the a metadata table."
   ]
  },
  {
   "cell_type": "code",
   "execution_count": 3,
   "metadata": {
    "scrolled": false
   },
   "outputs": [
    {
     "name": "stdout",
     "output_type": "stream",
     "text": [
      "ingest csv time: 7.99743390083\n",
      "\n",
      "['Source', 'Flight_Num', 'Scheduled_Dept', 'Actual_Dept', 'Scheduled_Arrival', 'Actual_Arrival']\n",
      "adding training time: 11.0706410408\n",
      "\n",
      "Clean table\n",
      "+--------------------+--------------------+--------------+-----------+\n",
      "|              Source|          Flight_Num|Scheduled_Dept|Actual_Dept|\n",
      "+--------------------+--------------------+--------------+-----------+\n",
      "|                ifly|2011-12-01-AA-384...|          6:00|       6:56|\n",
      "|                  aa|2011-12-01-AA-466...|          6:00|       6:08|\n",
      "|             flights|2011-12-01-AA-466...|          6:00|       6:08|\n",
      "| businesstravellogue|2011-12-01-AA-466...|          6:00|       6:08|\n",
      "|         flightstats|2011-12-01-UA-248...|         12:57|       1:32|\n",
      "|           quicktrip|2011-12-01-UA-248...|         12:57|       1:32|\n",
      "| businesstravellogue|2011-12-01-AA-205...|         10:40|      11:05|\n",
      "|       flylouisville|2011-12-01-AA-205...|         10:40|      11:05|\n",
      "|         flightstats|2011-12-01-AA-205...|         10:40|      11:05|\n",
      "|           quicktrip|2011-12-01-AA-205...|         10:40|      11:05|\n",
      "|world-flight-tracker|2011-12-01-AA-205...|         10:40|      11:05|\n",
      "|                  CO|2011-12-01-CO-62-...|          2:30|       2:48|\n",
      "|                  ua|2011-12-01-UA-664...|          1:33|       1:31|\n",
      "|             flights|2011-12-01-UA-664...|          1:33|       1:31|\n",
      "|         flightstats|2011-12-01-CO-125...|          2:53|       3:01|\n",
      "|           quicktrip|2011-12-01-CO-125...|          2:53|       3:01|\n",
      "|         travelocity|2011-12-01-CO-125...|          2:53|       3:01|\n",
      "|         flightstats|2011-12-01-CO-89-...|          6:00|       6:02|\n",
      "|           quicktrip|2011-12-01-CO-89-...|          6:00|       6:02|\n",
      "|                ifly|2011-12-01-AA-143...|          7:15|       7:21|\n",
      "+--------------------+--------------------+--------------+-----------+\n",
      "only showing top 20 rows\n",
      "\n",
      "Don't know table\n",
      "+-------------------+--------------------+--------------+--------------------+\n",
      "|             Source|          Flight_Num|Scheduled_Dept|         Actual_Dept|\n",
      "+-------------------+--------------------+--------------+--------------------+\n",
      "|                 aa|2011-12-01-AA-100...|          1:55|                2:07|\n",
      "|     flightexplorer|2011-12-01-AA-100...|          null|                2:07|\n",
      "|    airtravelcenter|2011-12-01-AA-100...|          null|                5:00|\n",
      "|         myrateplan|2011-12-01-AA-100...|          null|                5:00|\n",
      "|        helloflight|2011-12-01-AA-100...|          null|                5:00|\n",
      "|          flytecomm|2011-12-01-AA-100...|          null|                5:00|\n",
      "|            flights|2011-12-01-AA-100...|          null|                2:07|\n",
      "|businesstravellogue|2011-12-01-AA-100...|          null|                2:07|\n",
      "|      flylouisville|2011-12-01-AA-100...|          null|                2:07|\n",
      "|    airtravelcenter|2011-12-01-UA-581...|          null|                7:00|\n",
      "|         myrateplan|2011-12-01-UA-581...|          null|                7:00|\n",
      "|        helloflight|2011-12-01-UA-581...|          null|                7:00|\n",
      "|          flytecomm|2011-12-01-UA-581...|          null|                7:00|\n",
      "|        flightaware|2011-12-01-UA-581...|          8:36|                9:27|\n",
      "|       wunderground|2011-12-01-UA-581...|          8:36|                9:27|\n",
      "|            flights|2011-12-01-UA-581...|          8:36|                8:39|\n",
      "|businesstravellogue|2011-12-01-UA-581...|          8:36|                8:39|\n",
      "|      flylouisville|2011-12-01-UA-581...|          8:36|                8:39|\n",
      "|        flightstats|2011-12-01-UA-581...|          8:36|                8:39|\n",
      "|        travelocity|2011-12-01-AA-185...|          9:00|Dec 01 - Not Avai...|\n",
      "+-------------------+--------------------+--------------+--------------------+\n",
      "only showing top 20 rows\n",
      "\n"
     ]
    }
   ],
   "source": [
    "        list_time = []\n",
    "        start_time = t()\n",
    "\n",
    "        session.ingest_dataset(\"data/clean_flight2/flight-data-test.csv\")\n",
    "        d = t()-start_time\n",
    "        list_time.append(d)\n",
    "        fx.write('ingest csv time: '+str(d)+'\\n')\n",
    "        print 'ingest csv time: '+str(d)+'\\n'\n",
    "        \n",
    "        start_time = t()\n",
    "        session.adding_training_data(\"data/clean_flight2/flight-data_training.csv\")\n",
    "        d = t() - start_time\n",
    "        list_time.append(d)\n",
    "        fx.write('adding training data: ' + str(d) + '\\n')\n",
    "        print 'adding training time: ' + str(d) + '\\n'\n",
    "        \n",
    "        print 'Clean table'\n",
    "        sql = holo_obj.dataengine.get_table_to_dataframe(\"C_clean\", session.dataset)\n",
    "        sql.select('Source','Flight_Num','Scheduled_Dept','Actual_Dept').show()\n",
    "        print 'Don\\'t know table'\n",
    "        sql = holo_obj.dataengine.get_table_to_dataframe(\"C_dk\", session.dataset)\n",
    "        sql.select('Source','Flight_Num','Scheduled_Dept','Actual_Dept').show()"
   ]
  },
  {
   "cell_type": "markdown",
   "metadata": {},
   "source": [
    "## Featurization\n",
    "We create the appropriate dictionary to run accu algorithm"
   ]
  },
  {
   "cell_type": "code",
   "execution_count": 4,
   "metadata": {},
   "outputs": [
    {
     "name": "stdout",
     "output_type": "stream",
     "text": [
      " feature table time: 2.61888098717\n",
      "\n"
     ]
    }
   ],
   "source": [
    "        start_time = t()\n",
    "        session.feature()\n",
    "        d = t() - start_time\n",
    "        list_time.append(d)\n",
    "        fx.write('creating feature table time: '+str(d)+'\\n')\n",
    "\n",
    "        print ' feature table time: '+str(d)+'\\n'"
   ]
  },
  {
   "cell_type": "markdown",
   "metadata": {},
   "source": [
    "##  Learning\n",
    "In the learning phase, we use the accu algorithm to get the most appropriate value for each object\n"
   ]
  },
  {
   "cell_type": "code",
   "execution_count": 5,
   "metadata": {},
   "outputs": [
    {
     "name": "stdout",
     "output_type": "stream",
     "text": [
      "0\n",
      "1000\n",
      "Print weight_accuracy for the first 10 sources:\n",
      "aa 0.99\n",
      "helloflight 0.769183922046\n",
      "boston 0.999589827728\n",
      "weather 0.567702702703\n",
      "airtravelcenter 0.693099273608\n",
      "flightview 0.750209819555\n",
      "flightstats 0.293577981651\n",
      "usatoday 0.684241245136\n",
      "ord 0.458333333333\n",
      "panynj 0.779220779221\n",
      "inference time: 371.294900179\n",
      "\n"
     ]
    }
   ],
   "source": [
    "        start_time = t()\n",
    "        session.inference(iterations = 2000)\n",
    "        d = t() - start_time\n",
    "        list_time.append(d)\n",
    "        fx.write('inference time: ' + str(d) + '\\n')\n",
    "        print 'inference time: ' + str(d) + '\\n'\n",
    "        "
   ]
  },
  {
   "cell_type": "markdown",
   "metadata": {},
   "source": [
    "## Evaluation\n",
    " In this part, we find the accuracy of our results by comparing them to ground truth for our data"
   ]
  },
  {
   "cell_type": "code",
   "execution_count": 6,
   "metadata": {
    "scrolled": false
   },
   "outputs": [
    {
     "name": "stdout",
     "output_type": "stream",
     "text": [
      "['Flight_Num', 'Scheduled_Dept', 'Actual_Dept', 'Scheduled_Arrival', 'Actual_Arrival']\n",
      "show the final table\n",
      "+--------------------+-----------------+------------+\n",
      "|            rv_index|          rv_attr|assigned_val|\n",
      "+--------------------+-----------------+------------+\n",
      "|2011-12-11-UA-843...|   Scheduled_Dept|        null|\n",
      "|2011-12-12-UA-111...|   Actual_Arrival|        6:45|\n",
      "|2011-12-18-AA-236...|      Actual_Dept|        null|\n",
      "|2011-12-22-UA-642...|      Actual_Dept|        null|\n",
      "|2011-12-15-UA-280...|      Actual_Dept|        null|\n",
      "|2011-12-07-AA-241...|   Scheduled_Dept|        null|\n",
      "|2011-12-16-UA-125...|   Scheduled_Dept|        null|\n",
      "|2011-12-08-CO-443...|   Scheduled_Dept|        4:25|\n",
      "|2011-12-20-CO-166...|Scheduled_Arrival|        6:00|\n",
      "|2011-12-11-AA-149...|      Actual_Dept|        8:15|\n",
      "|2011-12-10-UA-126...|   Scheduled_Dept|        9:58|\n",
      "|2011-12-05-AA-197...|   Actual_Arrival|       10:43|\n",
      "|2011-12-24-UA-616...|Scheduled_Arrival|        9:10|\n",
      "|2011-12-10-AA-74-...|Scheduled_Arrival|        null|\n",
      "|2011-12-05-UA-316...|      Actual_Dept|       12:39|\n",
      "|2011-12-30-UA-422...|Scheduled_Arrival|        null|\n",
      "|2011-12-29-AA-610...|   Scheduled_Dept|        null|\n",
      "|2011-12-05-UA-246...|Scheduled_Arrival|        null|\n",
      "|2011-12-10-UA-552...|   Actual_Arrival|        7:00|\n",
      "|2011-12-16-UA-100...|      Actual_Dept|        null|\n",
      "+--------------------+-----------------+------------+\n",
      "only showing top 20 rows\n",
      "\n",
      "show ground_truth\n",
      "+--------------------+--------------+------------+\n",
      "|            rv_index|       rv_attr|assigned_val|\n",
      "+--------------------+--------------+------------+\n",
      "|2011-12-11-UA-843...|Scheduled_Dept|        1:50|\n",
      "|2011-12-09-UA-251...|Scheduled_Dept|        7:05|\n",
      "|2011-12-12-UA-858...|Scheduled_Dept|        1:45|\n",
      "|2011-12-26-AA-166...|Scheduled_Dept|       10:15|\n",
      "|2011-12-22-CO-45-...|Scheduled_Dept|        3:50|\n",
      "|2011-12-08-AA-431...|Scheduled_Dept|        8:35|\n",
      "|2012-01-03-AA-152...|Scheduled_Dept|       11:55|\n",
      "|2011-12-28-AA-380...|Scheduled_Dept|        2:35|\n",
      "|2011-12-14-AA-85-...|Scheduled_Dept|        3:05|\n",
      "|2011-12-14-CO-119...|Scheduled_Dept|        9:15|\n",
      "|2011-12-28-AA-430...|Scheduled_Dept|        6:45|\n",
      "|2011-12-12-AA-188...|Scheduled_Dept|       10:45|\n",
      "|2011-12-22-AA-518...|Scheduled_Dept|        6:30|\n",
      "|2012-01-03-UA-150...|Scheduled_Dept|        9:30|\n",
      "|2011-12-13-CO-45-...|Scheduled_Dept|        4:00|\n",
      "|2011-12-30-AA-427...|Scheduled_Dept|       12:10|\n",
      "|2011-12-26-AA-59-...|Scheduled_Dept|        7:10|\n",
      "|2011-12-26-UA-37-...|Scheduled_Dept|        1:29|\n",
      "|2011-12-30-UA-248...|Scheduled_Dept|       12:52|\n",
      "|2011-12-31-UA-548...|Scheduled_Dept|       10:30|\n",
      "+--------------------+--------------+------------+\n",
      "only showing top 20 rows\n",
      "\n",
      "show incorrect values\n",
      "+--------------------+-----------------+------------+\n",
      "|            rv_index|          rv_attr|assigned_val|\n",
      "+--------------------+-----------------+------------+\n",
      "|2011-12-08-AA-431...|   Actual_Arrival|       11:31|\n",
      "|2011-12-09-AA-164...|   Scheduled_Dept|        6:30|\n",
      "|2011-12-11-UA-858...|   Scheduled_Dept|        1:45|\n",
      "|2011-12-14-UA-828...|   Actual_Arrival|        5:16|\n",
      "|2011-12-16-CO-16-...|      Actual_Dept|       11:01|\n",
      "|2011-12-20-UA-627...|   Actual_Arrival|        9:37|\n",
      "|2011-12-12-UA-548...|   Actual_Arrival|       11:30|\n",
      "|2011-12-20-UA-828...|   Scheduled_Dept|       11:13|\n",
      "|2011-12-22-AA-616...|      Actual_Dept|        8:59|\n",
      "|2011-12-22-UA-257...|      Actual_Dept|        2:27|\n",
      "|2011-12-24-CO-52-...|      Actual_Dept|        7:38|\n",
      "|2011-12-27-CO-16-...|   Actual_Arrival|        8:49|\n",
      "|2011-12-30-AA-466...|      Actual_Dept|        5:59|\n",
      "|2011-12-05-UA-248...|      Actual_Dept|       12:57|\n",
      "|2011-12-09-AA-164...|Scheduled_Arrival|        7:25|\n",
      "|2011-12-09-CO-63-...|   Scheduled_Dept|        5:25|\n",
      "|2011-12-10-CO-50-...|   Scheduled_Dept|        2:55|\n",
      "|2011-12-12-CO-58-...|Scheduled_Arrival|        2:50|\n",
      "|2011-12-17-CO-125...|Scheduled_Arrival|        4:46|\n",
      "|2011-12-18-CO-63-...|Scheduled_Arrival|        8:30|\n",
      "+--------------------+-----------------+------------+\n",
      "only showing top 20 rows\n",
      "\n",
      "the number of tuples for the ground truth is :\n",
      "2442\n",
      "the incorrect values are:\n",
      "1495\n",
      "the accuracy is:\n",
      "0.387796887797\n",
      "time to calculate accuracy: 28.64782691\n",
      "\n",
      "----------------------------------------\n",
      "Exception happened during processing of request from ('127.0.0.1', 50426)\n",
      "----------------------------------------\n"
     ]
    },
    {
     "name": "stderr",
     "output_type": "stream",
     "text": [
      "Traceback (most recent call last):\n",
      "  File \"/home/james/anaconda/envs/python2.7/lib/python2.7/SocketServer.py\", line 290, in _handle_request_noblock\n",
      "    self.process_request(request, client_address)\n",
      "  File \"/home/james/anaconda/envs/python2.7/lib/python2.7/SocketServer.py\", line 318, in process_request\n",
      "    self.finish_request(request, client_address)\n",
      "  File \"/home/james/anaconda/envs/python2.7/lib/python2.7/SocketServer.py\", line 331, in finish_request\n",
      "    self.RequestHandlerClass(request, client_address, self)\n",
      "  File \"/home/james/anaconda/envs/python2.7/lib/python2.7/SocketServer.py\", line 652, in __init__\n",
      "    self.handle()\n",
      "  File \"/home/james/anaconda/envs/python2.7/lib/python2.7/site-packages/pyspark/accumulators.py\", line 235, in handle\n",
      "    num_updates = read_int(self.rfile)\n",
      "  File \"/home/james/anaconda/envs/python2.7/lib/python2.7/site-packages/pyspark/serializers.py\", line 577, in read_int\n",
      "    raise EOFError\n",
      "EOFError\n"
     ]
    }
   ],
   "source": [
    "        start_time = t()\n",
    "        session.accuracy(\"data/clean_flight2/flight-data_truth.csv\")\n",
    "        d = t() - start_time\n",
    "        list_time.append(d)\n",
    "        fx.write('time to calculate accuracy: ' + str(d) + '\\n')\n",
    "        print 'time to calculate accuracy: ' + str(d) + '\\n'\n",
    "        fx.close()"
   ]
  }
 ],
 "metadata": {
  "kernelspec": {
   "display_name": "Python 2",
   "language": "python",
   "name": "python2"
  },
  "language_info": {
   "codemirror_mode": {
    "name": "ipython",
    "version": 2
   },
   "file_extension": ".py",
   "mimetype": "text/x-python",
   "name": "python",
   "nbconvert_exporter": "python",
   "pygments_lexer": "ipython2",
   "version": "2.7.13"
  }
 },
 "nbformat": 4,
 "nbformat_minor": 2
}
