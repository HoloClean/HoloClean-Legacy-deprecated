{
 "cells": [
  {
   "cell_type": "markdown",
   "metadata": {},
   "source": [
    "# HOLOCLEAN DEMO\n"
   ]
  },
  {
   "cell_type": "code",
   "execution_count": 1,
   "metadata": {},
   "outputs": [],
   "source": [
    "from holofusion import HoloFusion, HoloFusionSession\n",
    "from time import time as t"
   ]
  },
  {
   "cell_type": "markdown",
   "metadata": {},
   "source": [
    "## Start Holoclean demo\n",
    "Create HoloClean object and Session.\n",
    "The HoloClean object will log all info for the test.\n",
    "Session will be used to ingest data from input files."
   ]
  },
  {
   "cell_type": "code",
   "execution_count": 2,
   "metadata": {},
   "outputs": [
    {
     "name": "stderr",
     "output_type": "stream",
     "text": [
      "/home/james/anaconda/envs/python2.7/lib/python2.7/site-packages/sqlalchemy/dialects/mysql/base.py:1576: Warning: '@@tx_isolation' is deprecated and will be removed in a future release. Please use '@@transaction_isolation' instead\n",
      "  cursor.execute('SELECT @@tx_isolation')\n"
     ]
    }
   ],
   "source": [
    "        holo_obj = HoloFusion(majority_vote=2, training_data=0, multiple_weights=0)\n",
    "        session = HoloFusionSession(\"Session\", holo_obj)\n",
    "        fx = open('execution_time.txt', 'w')\n",
    "        "
   ]
  },
  {
   "cell_type": "markdown",
   "metadata": {},
   "source": [
    "## Read Input from file"
   ]
  },
  {
   "cell_type": "code",
   "execution_count": 3,
   "metadata": {},
   "outputs": [
    {
     "name": "stdout",
     "output_type": "stream",
     "text": [
      "ingest csv time: 17.1219959259\n",
      "\n",
      "adding training time: 8.61595487595\n",
      "\n",
      "Clean table\n",
      "+------+----------+--------------+-----------+\n",
      "|Source|Flight_Num|Scheduled_Dept|Actual_Dept|\n",
      "+------+----------+--------------+-----------+\n",
      "+------+----------+--------------+-----------+\n",
      "\n",
      "Don't know table\n",
      "+-------------------+--------------------+--------------+--------------------+\n",
      "|             Source|          Flight_Num|Scheduled_Dept|         Actual_Dept|\n",
      "+-------------------+--------------------+--------------+--------------------+\n",
      "|                 aa|2011-12-01-AA-100...|          1:55|                2:07|\n",
      "|     flightexplorer|2011-12-01-AA-100...|          null|                2:07|\n",
      "|    airtravelcenter|2011-12-01-AA-100...|          null|                5:00|\n",
      "|         myrateplan|2011-12-01-AA-100...|          null|                5:00|\n",
      "|        helloflight|2011-12-01-AA-100...|          null|                5:00|\n",
      "|          flytecomm|2011-12-01-AA-100...|          null|                5:00|\n",
      "|            flights|2011-12-01-AA-100...|          null|                2:07|\n",
      "|businesstravellogue|2011-12-01-AA-100...|          null|                2:07|\n",
      "|      flylouisville|2011-12-01-AA-100...|          null|                2:07|\n",
      "|    airtravelcenter|2011-12-01-UA-581...|          null|                7:00|\n",
      "|         myrateplan|2011-12-01-UA-581...|          null|                7:00|\n",
      "|        helloflight|2011-12-01-UA-581...|          null|                7:00|\n",
      "|          flytecomm|2011-12-01-UA-581...|          null|                7:00|\n",
      "|        flightaware|2011-12-01-UA-581...|          8:36|                9:27|\n",
      "|       wunderground|2011-12-01-UA-581...|          8:36|                9:27|\n",
      "|            flights|2011-12-01-UA-581...|          8:36|                8:39|\n",
      "|businesstravellogue|2011-12-01-UA-581...|          8:36|                8:39|\n",
      "|      flylouisville|2011-12-01-UA-581...|          8:36|                8:39|\n",
      "|        flightstats|2011-12-01-UA-581...|          8:36|                8:39|\n",
      "|        travelocity|2011-12-01-AA-185...|          9:00|Dec 01 - Not Avai...|\n",
      "+-------------------+--------------------+--------------+--------------------+\n",
      "only showing top 20 rows\n",
      "\n"
     ]
    }
   ],
   "source": [
    "        list_time = []\n",
    "        start_time = t()\n",
    "\n",
    "        session.ingest_dataset(\"data/clean_flight/flight-data-test.csv\")\n",
    "        d = t()-start_time\n",
    "        list_time.append(d)\n",
    "        fx.write('ingest csv time: '+str(d)+'\\n')\n",
    "        print 'ingest csv time: '+str(d)+'\\n'\n",
    "        \n",
    "        start_time = t()\n",
    "        session.adding_training_data(\"data/clean_flight/flight-data_training.csv\")\n",
    "        d = t() - start_time\n",
    "        list_time.append(d)\n",
    "        fx.write('adding training data: ' + str(d) + '\\n')\n",
    "        print 'adding training time: ' + str(d) + '\\n'\n",
    "        \n",
    "        print 'Clean table'\n",
    "        sql = holo_obj.dataengine.get_table_to_dataframe(\"C_clean\", session.dataset)\n",
    "        sql.select('Source','Flight_Num','Scheduled_Dept','Actual_Dept').show()\n",
    "        print 'Don\\'t know table'\n",
    "        sql = holo_obj.dataengine.get_table_to_dataframe(\"C_dk\", session.dataset)\n",
    "        sql.select('Source','Flight_Num','Scheduled_Dept','Actual_Dept').show()"
   ]
  },
  {
   "cell_type": "markdown",
   "metadata": {},
   "source": [
    "## Featurization"
   ]
  },
  {
   "cell_type": "code",
   "execution_count": 4,
   "metadata": {},
   "outputs": [
    {
     "name": "stdout",
     "output_type": "stream",
     "text": [
      " feature table time: 3.24964308739\n",
      "\n"
     ]
    }
   ],
   "source": [
    "        start_time = t()\n",
    "        session.feature()\n",
    "        d = t() - start_time\n",
    "        list_time.append(d)\n",
    "        fx.write('creating feature table time: '+str(d)+'\\n')\n",
    "\n",
    "        print ' feature table time: '+str(d)+'\\n'"
   ]
  },
  {
   "cell_type": "markdown",
   "metadata": {},
   "source": [
    "## Inference\n"
   ]
  },
  {
   "cell_type": "code",
   "execution_count": 5,
   "metadata": {},
   "outputs": [
    {
     "name": "stdout",
     "output_type": "stream",
     "text": [
      "inference time: 25.206330061\n",
      "\n"
     ]
    }
   ],
   "source": [
    "        start_time = t()\n",
    "        session.inference()\n",
    "        d = t() - start_time\n",
    "        list_time.append(d)\n",
    "        fx.write('inference time: ' + str(d) + '\\n')\n",
    "        print 'inference time: ' + str(d) + '\\n'\n",
    "        "
   ]
  },
  {
   "cell_type": "markdown",
   "metadata": {},
   "source": [
    "## Final Table and Accuracy Calculations"
   ]
  },
  {
   "cell_type": "code",
   "execution_count": 6,
   "metadata": {
    "scrolled": false
   },
   "outputs": [
    {
     "name": "stdout",
     "output_type": "stream",
     "text": [
      "['Flight_Num', 'Scheduled_Dept', 'Actual_Dept', 'Scheduled_Arrival', 'Actual_Arrival']\n",
      "show only authors\n",
      "+--------------------+-----------------+------------+\n",
      "|            rv_index|          rv_attr|assigned_val|\n",
      "+--------------------+-----------------+------------+\n",
      "|2011-12-08-UA-143...|   Actual_Arrival|        null|\n",
      "|2011-12-29-AA-168...|      Actual_Dept|        3:11|\n",
      "|2011-12-31-UA-145...|   Actual_Arrival|       11:50|\n",
      "|2011-12-08-CO-443...|   Scheduled_Dept|        4:25|\n",
      "|2011-12-07-UA-246...|Scheduled_Arrival|        1:27|\n",
      "|2011-12-22-CO-107...|Scheduled_Arrival|       12:28|\n",
      "|2011-12-22-UA-263...|Scheduled_Arrival|        6:59|\n",
      "|2012-01-01-AA-203...|      Actual_Dept|        2:22|\n",
      "|2011-12-29-AA-610...|   Scheduled_Dept|        null|\n",
      "|2011-12-02-UA-428...|   Actual_Arrival|        2:07|\n",
      "|2011-12-17-UA-246...|   Scheduled_Dept|        null|\n",
      "|2011-12-12-UA-282...|   Actual_Arrival|        8:18|\n",
      "|2011-12-04-AA-466...|      Actual_Dept|        6:05|\n",
      "|2011-12-20-AA-290...|      Actual_Dept|        5:27|\n",
      "|2011-12-28-AA-474...|Scheduled_Arrival|        null|\n",
      "|2011-12-16-AA-645...|Scheduled_Arrival|        9:20|\n",
      "|2011-12-07-UA-628...|   Scheduled_Dept|        null|\n",
      "|2012-01-03-UA-269...|   Actual_Arrival|        5:00|\n",
      "|2011-12-13-UA-257...|   Scheduled_Dept|        null|\n",
      "|2011-12-04-AA-188...|   Actual_Arrival|        1:47|\n",
      "+--------------------+-----------------+------------+\n",
      "only showing top 20 rows\n",
      "\n",
      "show ground_truth\n",
      "+--------------------+--------------+------------+\n",
      "|            rv_index|       rv_attr|assigned_val|\n",
      "+--------------------+--------------+------------+\n",
      "|2011-12-04-AA-466...|Scheduled_Dept|        6:00|\n",
      "|2011-12-13-UA-257...|Scheduled_Dept|        2:30|\n",
      "|2011-12-04-AA-188...|Scheduled_Dept|       10:45|\n",
      "|2011-12-12-UA-858...|Scheduled_Dept|        1:45|\n",
      "|2011-12-13-CO-488...|Scheduled_Dept|        5:30|\n",
      "|2011-12-18-AA-226...|Scheduled_Dept|        7:15|\n",
      "|2011-12-26-AA-166...|Scheduled_Dept|       10:15|\n",
      "|2011-12-22-CO-45-...|Scheduled_Dept|        3:50|\n",
      "|2011-12-18-AA-127...|Scheduled_Dept|        1:00|\n",
      "|2011-12-16-AA-643...|Scheduled_Dept|        7:10|\n",
      "|2011-12-28-AA-380...|Scheduled_Dept|        2:35|\n",
      "|2011-12-17-UA-248...|Scheduled_Dept|       12:52|\n",
      "|2011-12-17-UA-248...|Scheduled_Dept|       12:52|\n",
      "|2011-12-22-AA-518...|Scheduled_Dept|        6:30|\n",
      "|2011-12-19-CO-62-...|Scheduled_Dept|        2:30|\n",
      "|2011-12-24-UA-843...|Scheduled_Dept|        2:18|\n",
      "|2011-12-11-AA-173...|Scheduled_Dept|        7:45|\n",
      "|2011-12-11-AA-173...|Scheduled_Dept|        7:45|\n",
      "|2011-12-12-AA-252...|Scheduled_Dept|        7:25|\n",
      "|2011-12-14-CO-119...|Scheduled_Dept|        9:15|\n",
      "+--------------------+--------------+------------+\n",
      "only showing top 20 rows\n",
      "\n",
      "show incorrect values\n",
      "+--------------------+-----------------+------------+\n",
      "|            rv_index|          rv_attr|assigned_val|\n",
      "+--------------------+-----------------+------------+\n",
      "|2011-12-08-AA-431...|   Actual_Arrival|       11:31|\n",
      "|2011-12-09-AA-164...|   Scheduled_Dept|        6:30|\n",
      "|2011-12-14-UA-272...|   Scheduled_Dept|        4:00|\n",
      "|2011-12-14-UA-309...|Scheduled_Arrival|        6:17|\n",
      "|2011-12-16-CO-16-...|      Actual_Dept|       11:01|\n",
      "|2011-12-29-CO-158...|      Actual_Dept|        7:01|\n",
      "|2011-12-29-CO-169...|   Scheduled_Dept|        7:41|\n",
      "|2011-12-29-CO-50-...|   Actual_Arrival|        4:16|\n",
      "|2012-01-02-CO-125...|   Actual_Arrival|        4:36|\n",
      "|2011-12-12-UA-382...|   Actual_Arrival|        3:03|\n",
      "|2011-12-12-UA-548...|   Actual_Arrival|       11:30|\n",
      "|2011-12-16-UA-938...|      Actual_Dept|        3:56|\n",
      "|2011-12-16-UA-938...|Scheduled_Arrival|        7:17|\n",
      "|2011-12-20-UA-828...|   Scheduled_Dept|       11:13|\n",
      "|2011-12-22-AA-616...|      Actual_Dept|        8:59|\n",
      "|2011-12-30-AA-466...|      Actual_Dept|        5:59|\n",
      "|2011-12-30-CO-125...|Scheduled_Arrival|        4:50|\n",
      "|2011-12-03-AA-434...|   Actual_Arrival|        1:51|\n",
      "|2011-12-05-UA-248...|      Actual_Dept|       12:57|\n",
      "|2011-12-09-AA-164...|Scheduled_Arrival|        7:25|\n",
      "+--------------------+-----------------+------------+\n",
      "only showing top 20 rows\n",
      "\n",
      "the number of tuples for the ground truth is :\n",
      "10800\n",
      "the incorrect values are:\n",
      "1767\n",
      "the accuracy is:\n",
      "0.836388888889\n",
      "time to calculate accuracy: 34.7088057995\n",
      "\n"
     ]
    }
   ],
   "source": [
    "        start_time = t()\n",
    "\n",
    "        session.accuracy(\"data/clean_flight/flight-data_truth.csv\")\n",
    "        d = t() - start_time\n",
    "        list_time.append(d)\n",
    "        fx.write('time to calculate accuracy: ' + str(d) + '\\n')\n",
    "        print 'time to calculate accuracy: ' + str(d) + '\\n'\n",
    "        fx.close()"
   ]
  }
 ],
 "metadata": {
  "kernelspec": {
   "display_name": "Python 2",
   "language": "python",
   "name": "python2"
  },
  "language_info": {
   "codemirror_mode": {
    "name": "ipython",
    "version": 2
   },
   "file_extension": ".py",
   "mimetype": "text/x-python",
   "name": "python",
   "nbconvert_exporter": "python",
   "pygments_lexer": "ipython2",
   "version": "2.7.13"
  }
 },
 "nbformat": 4,
 "nbformat_minor": 2
}
