{
 "cells": [
  {
   "cell_type": "markdown",
   "metadata": {},
   "source": [
    "# A Step-by-Step Guide to HoloFusion example part 2/4 \n",
    "  # (accu implementation)\n"
   ]
  },
  {
   "cell_type": "markdown",
   "metadata": {},
   "source": [
    "# Setup\n",
    "Firstly, we import all the module from Holofusion that we will use."
   ]
  },
  {
   "cell_type": "code",
   "execution_count": 1,
   "metadata": {
    "collapsed": true
   },
   "outputs": [],
   "source": [
    "from holofusion import HoloFusion, HoloFusionSession\n",
    "from time import time as t"
   ]
  },
  {
   "cell_type": "markdown",
   "metadata": {},
   "source": [
    "##   Initialization\n",
    "In this part, we create the HoloFusion and Session object that we will use for this example."
   ]
  },
  {
   "cell_type": "code",
   "execution_count": 2,
   "metadata": {},
   "outputs": [
    {
     "name": "stderr",
     "output_type": "stream",
     "text": [
      "/home/gmichalo/anaconda/envs/python27/lib/python2.7/site-packages/sqlalchemy/dialects/mysql/base.py:1576: Warning: '@@tx_isolation' is deprecated and will be removed in a future release. Please use '@@transaction_isolation' instead\n",
      "  cursor.execute('SELECT @@tx_isolation')\n"
     ]
    }
   ],
   "source": [
    "        holo_obj = HoloFusion(algorithm=2, training_data=0, multiple_weights=0)\n",
    "        session = HoloFusionSession(\"Session\", holo_obj)\n",
    "        fx = open('execution_time.txt', 'w')\n",
    "        "
   ]
  },
  {
   "cell_type": "markdown",
   "metadata": {},
   "source": [
    "## Read Input from file\n",
    "Test data will be read using the Session's ingestor.\n",
    "After ingesting the test data will be loaded into MySQL tables along with entries in the a metadata table."
   ]
  },
  {
   "cell_type": "code",
   "execution_count": 3,
   "metadata": {
    "scrolled": true
   },
   "outputs": [
    {
     "name": "stdout",
     "output_type": "stream",
     "text": [
      "ingest csv time: 9.2502450943\n",
      "\n",
      "adding training time: 2.1162788868\n",
      "\n",
      "Clean table\n",
      "+------+----------+--------------+-----------+\n",
      "|Source|Flight_Num|Scheduled_Dept|Actual_Dept|\n",
      "+------+----------+--------------+-----------+\n",
      "+------+----------+--------------+-----------+\n",
      "\n",
      "Don't know table\n",
      "+-------------------+--------------------+--------------+--------------------+\n",
      "|             Source|          Flight_Num|Scheduled_Dept|         Actual_Dept|\n",
      "+-------------------+--------------------+--------------+--------------------+\n",
      "|                 aa|2011-12-01-AA-100...|          1:55|                2:07|\n",
      "|     flightexplorer|2011-12-01-AA-100...|          null|                2:07|\n",
      "|    airtravelcenter|2011-12-01-AA-100...|          null|                5:00|\n",
      "|         myrateplan|2011-12-01-AA-100...|          null|                5:00|\n",
      "|        helloflight|2011-12-01-AA-100...|          null|                5:00|\n",
      "|          flytecomm|2011-12-01-AA-100...|          null|                5:00|\n",
      "|            flights|2011-12-01-AA-100...|          null|                2:07|\n",
      "|businesstravellogue|2011-12-01-AA-100...|          null|                2:07|\n",
      "|      flylouisville|2011-12-01-AA-100...|          null|                2:07|\n",
      "|    airtravelcenter|2011-12-01-UA-581...|          null|                7:00|\n",
      "|         myrateplan|2011-12-01-UA-581...|          null|                7:00|\n",
      "|        helloflight|2011-12-01-UA-581...|          null|                7:00|\n",
      "|          flytecomm|2011-12-01-UA-581...|          null|                7:00|\n",
      "|        flightaware|2011-12-01-UA-581...|          8:36|                9:27|\n",
      "|       wunderground|2011-12-01-UA-581...|          8:36|                9:27|\n",
      "|            flights|2011-12-01-UA-581...|          8:36|                8:39|\n",
      "|businesstravellogue|2011-12-01-UA-581...|          8:36|                8:39|\n",
      "|      flylouisville|2011-12-01-UA-581...|          8:36|                8:39|\n",
      "|        flightstats|2011-12-01-UA-581...|          8:36|                8:39|\n",
      "|        travelocity|2011-12-01-AA-185...|          9:00|Dec 01 - Not Avai...|\n",
      "+-------------------+--------------------+--------------+--------------------+\n",
      "only showing top 20 rows\n",
      "\n"
     ]
    }
   ],
   "source": [
    "        list_time = []\n",
    "        start_time = t()\n",
    "\n",
    "        session.ingest_dataset(\"data/clean_flight/flight-data-test.csv\")\n",
    "        d = t()-start_time\n",
    "        list_time.append(d)\n",
    "        fx.write('ingest csv time: '+str(d)+'\\n')\n",
    "        print 'ingest csv time: '+str(d)+'\\n'\n",
    "        \n",
    "        start_time = t()\n",
    "        session.adding_training_data(\"data/clean_flight/flight-data_training.csv\")\n",
    "        d = t() - start_time\n",
    "        list_time.append(d)\n",
    "        fx.write('adding training data: ' + str(d) + '\\n')\n",
    "        print 'adding training time: ' + str(d) + '\\n'\n",
    "        \n",
    "        print 'Clean table'\n",
    "        sql = holo_obj.dataengine.get_table_to_dataframe(\"C_clean\", session.dataset)\n",
    "        sql.select('Source','Flight_Num','Scheduled_Dept','Actual_Dept').show()\n",
    "        print 'Don\\'t know table'\n",
    "        sql = holo_obj.dataengine.get_table_to_dataframe(\"C_dk\", session.dataset)\n",
    "        sql.select('Source','Flight_Num','Scheduled_Dept','Actual_Dept').show()"
   ]
  },
  {
   "cell_type": "markdown",
   "metadata": {},
   "source": [
    "## Featurization\n",
    "We create the appropriate dictionary to run accu algorithm"
   ]
  },
  {
   "cell_type": "code",
   "execution_count": 4,
   "metadata": {},
   "outputs": [
    {
     "name": "stdout",
     "output_type": "stream",
     "text": [
      " feature table time: 2.91080880165\n",
      "\n"
     ]
    }
   ],
   "source": [
    "        start_time = t()\n",
    "        session.feature()\n",
    "        d = t() - start_time\n",
    "        list_time.append(d)\n",
    "        fx.write('creating feature table time: '+str(d)+'\\n')\n",
    "\n",
    "        print ' feature table time: '+str(d)+'\\n'"
   ]
  },
  {
   "cell_type": "markdown",
   "metadata": {},
   "source": [
    "#  Learning\n",
    "In the learning phase, we use the accu algorithm to get the most appropriate value for each object\n"
   ]
  },
  {
   "cell_type": "code",
   "execution_count": 5,
   "metadata": {},
   "outputs": [
    {
     "name": "stdout",
     "output_type": "stream",
     "text": [
      "Print weight_accuracy for the first 10 sources:\n",
      "aa 0.99\n",
      "helloflight 0.768596702855\n",
      "boston 0.999593330622\n",
      "weather 0.567477284874\n",
      "airtravelcenter 0.691769876149\n",
      "flightview 0.751453488372\n",
      "flightstats 0.284258608573\n",
      "usatoday 0.682714617169\n",
      "ord 0.461244541485\n",
      "panynj 0.780718140307\n",
      "inference time: 22.2446730137\n",
      "\n"
     ]
    }
   ],
   "source": [
    "        start_time = t()\n",
    "        session.inference(iterations = 100)\n",
    "        d = t() - start_time\n",
    "        list_time.append(d)\n",
    "        fx.write('inference time: ' + str(d) + '\\n')\n",
    "        print 'inference time: ' + str(d) + '\\n'\n",
    "        "
   ]
  },
  {
   "cell_type": "markdown",
   "metadata": {},
   "source": [
    "# Evaluation\n",
    " In this part, we find the accuracy of our results by comparing them to ground truth for our data"
   ]
  },
  {
   "cell_type": "code",
   "execution_count": 6,
   "metadata": {
    "scrolled": false
   },
   "outputs": [
    {
     "name": "stdout",
     "output_type": "stream",
     "text": [
      "['Flight_Num', 'Scheduled_Dept', 'Actual_Dept', 'Scheduled_Arrival', 'Actual_Arrival']\n",
      "show the final table\n",
      "+--------------------+-----------------+------------+\n",
      "|            rv_index|          rv_attr|assigned_val|\n",
      "+--------------------+-----------------+------------+\n",
      "|2011-12-07-UA-246...|Scheduled_Arrival|        1:27|\n",
      "|2011-12-08-CO-443...|   Scheduled_Dept|        4:25|\n",
      "|2011-12-17-UA-246...|   Scheduled_Dept|        null|\n",
      "|2011-12-29-AA-610...|   Scheduled_Dept|        null|\n",
      "|2012-01-01-AA-203...|      Actual_Dept|        2:22|\n",
      "|2011-12-20-AA-290...|      Actual_Dept|        5:27|\n",
      "|2011-12-16-AA-645...|Scheduled_Arrival|        9:20|\n",
      "|2011-12-01-UA-126...|   Actual_Arrival|       12:56|\n",
      "|2011-12-04-AA-188...|   Actual_Arrival|        1:47|\n",
      "|2011-12-12-UA-858...|Scheduled_Arrival|        null|\n",
      "|2011-12-27-AA-309...|Scheduled_Arrival|        null|\n",
      "|2011-12-26-AA-166...|Scheduled_Arrival|       12:10|\n",
      "|2011-12-13-CO-488...|   Scheduled_Dept|        null|\n",
      "|2011-12-02-AA-129...|   Actual_Arrival|       10:46|\n",
      "|2011-12-02-UA-240...|   Scheduled_Dept|        null|\n",
      "|2011-12-20-UA-643...|Scheduled_Arrival|        7:00|\n",
      "|2012-01-03-AA-415...|   Actual_Arrival|        1:48|\n",
      "|2011-12-20-UA-303...|Scheduled_Arrival|        null|\n",
      "|2011-12-28-AA-373...|Scheduled_Arrival|       12:30|\n",
      "|2011-12-14-CO-161...|   Actual_Arrival|       11:19|\n",
      "+--------------------+-----------------+------------+\n",
      "only showing top 20 rows\n",
      "\n",
      "show ground_truth\n",
      "+--------------------+--------------+------------+\n",
      "|            rv_index|       rv_attr|assigned_val|\n",
      "+--------------------+--------------+------------+\n",
      "|2011-12-04-AA-188...|Scheduled_Dept|       10:45|\n",
      "|2011-12-12-UA-858...|Scheduled_Dept|        1:45|\n",
      "|2011-12-26-AA-166...|Scheduled_Dept|       10:15|\n",
      "|2011-12-13-CO-488...|Scheduled_Dept|        5:30|\n",
      "|2011-12-22-CO-45-...|Scheduled_Dept|        3:50|\n",
      "|2011-12-28-AA-380...|Scheduled_Dept|        2:35|\n",
      "|2011-12-16-AA-643...|Scheduled_Dept|        7:10|\n",
      "|2011-12-22-AA-518...|Scheduled_Dept|        6:30|\n",
      "|2011-12-24-UA-843...|Scheduled_Dept|        2:18|\n",
      "|2011-12-11-AA-173...|Scheduled_Dept|        7:45|\n",
      "|2011-12-11-AA-173...|Scheduled_Dept|        7:45|\n",
      "|2011-12-12-AA-252...|Scheduled_Dept|        7:25|\n",
      "|2011-12-09-UA-251...|Scheduled_Dept|        7:05|\n",
      "|2011-12-08-AA-431...|Scheduled_Dept|        8:35|\n",
      "|2012-01-03-AA-152...|Scheduled_Dept|       11:55|\n",
      "|2011-12-05-AA-154...|Scheduled_Dept|       11:25|\n",
      "|2011-12-20-AA-205...|Scheduled_Dept|       10:40|\n",
      "|2011-12-17-UA-938...|Scheduled_Dept|        3:54|\n",
      "|2011-12-03-AA-430...|Scheduled_Dept|        8:05|\n",
      "|2011-12-14-CO-119...|Scheduled_Dept|        9:15|\n",
      "+--------------------+--------------+------------+\n",
      "only showing top 20 rows\n",
      "\n",
      "show incorrect values\n",
      "+--------------------+-----------------+------------+\n",
      "|            rv_index|          rv_attr|assigned_val|\n",
      "+--------------------+-----------------+------------+\n",
      "|2011-12-08-AA-431...|   Actual_Arrival|       11:31|\n",
      "|2011-12-09-AA-164...|   Scheduled_Dept|        6:30|\n",
      "|2011-12-14-UA-272...|   Scheduled_Dept|        4:00|\n",
      "|2011-12-14-UA-309...|Scheduled_Arrival|        6:17|\n",
      "|2011-12-16-CO-16-...|      Actual_Dept|       11:01|\n",
      "|2011-12-29-CO-158...|      Actual_Dept|        7:01|\n",
      "|2011-12-29-CO-169...|   Scheduled_Dept|        7:41|\n",
      "|2011-12-29-CO-50-...|   Actual_Arrival|        4:16|\n",
      "|2012-01-02-CO-125...|   Actual_Arrival|        4:36|\n",
      "|2011-12-12-UA-382...|   Actual_Arrival|        3:03|\n",
      "|2011-12-12-UA-548...|   Actual_Arrival|       11:30|\n",
      "|2011-12-16-UA-938...|      Actual_Dept|        3:56|\n",
      "|2011-12-16-UA-938...|Scheduled_Arrival|        7:17|\n",
      "|2011-12-20-UA-828...|   Scheduled_Dept|       11:13|\n",
      "|2011-12-22-AA-616...|      Actual_Dept|        8:59|\n",
      "|2011-12-30-AA-466...|      Actual_Dept|        5:59|\n",
      "|2011-12-30-CO-125...|Scheduled_Arrival|        4:50|\n",
      "|2011-12-03-AA-434...|   Actual_Arrival|        1:51|\n",
      "|2011-12-05-UA-248...|      Actual_Dept|       12:57|\n",
      "|2011-12-09-AA-164...|Scheduled_Arrival|        7:25|\n",
      "+--------------------+-----------------+------------+\n",
      "only showing top 20 rows\n",
      "\n",
      "the number of tuples for the ground truth is :\n",
      "10800\n",
      "the incorrect values are:\n",
      "1767\n",
      "the accuracy is:\n",
      "0.836388888889\n",
      "time to calculate accuracy: 33.8629698753\n",
      "\n"
     ]
    }
   ],
   "source": [
    "        start_time = t()\n",
    "        session.accuracy(\"data/clean_flight/flight-data_truth.csv\")\n",
    "        d = t() - start_time\n",
    "        list_time.append(d)\n",
    "        fx.write('time to calculate accuracy: ' + str(d) + '\\n')\n",
    "        print 'time to calculate accuracy: ' + str(d) + '\\n'\n",
    "        fx.close()"
   ]
  }
 ],
 "metadata": {
  "kernelspec": {
   "display_name": "Python 2",
   "language": "python",
   "name": "python2"
  },
  "language_info": {
   "codemirror_mode": {
    "name": "ipython",
    "version": 2
   },
   "file_extension": ".py",
   "mimetype": "text/x-python",
   "name": "python",
   "nbconvert_exporter": "python",
   "pygments_lexer": "ipython2",
   "version": "2.7.13"
  }
 },
 "nbformat": 4,
 "nbformat_minor": 2
}
