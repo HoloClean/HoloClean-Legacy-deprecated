{
 "cells": [
  {
   "cell_type": "markdown",
   "metadata": {},
   "source": [
    "# A Step-by-Step Guide to HoloFusion example part 1/4\n",
    "  # (majority vote)\n"
   ]
  },
  {
   "cell_type": "markdown",
   "metadata": {},
   "source": [
    "# Setup\n",
    "Firstly, we import all the module from Holofusion that we will use."
   ]
  },
  {
   "cell_type": "code",
   "execution_count": 1,
   "metadata": {
    "collapsed": true
   },
   "outputs": [],
   "source": [
    "from holofusion import HoloFusion, HoloFusionSession\n",
    "from time import time as t"
   ]
  },
  {
   "cell_type": "markdown",
   "metadata": {},
   "source": [
    "##   Initialization\n",
    "In this part, we create the HoloFusion and Session object that we will use for this example."
   ]
  },
  {
   "cell_type": "code",
   "execution_count": 2,
   "metadata": {},
   "outputs": [
    {
     "name": "stderr",
     "output_type": "stream",
     "text": [
      "/home/james/anaconda/envs/python2.7/lib/python2.7/site-packages/sqlalchemy/dialects/mysql/base.py:1576: Warning: '@@tx_isolation' is deprecated and will be removed in a future release. Please use '@@transaction_isolation' instead\n",
      "  cursor.execute('SELECT @@tx_isolation')\n"
     ]
    }
   ],
   "source": [
    "        holo_obj = HoloFusion(algorithm=1, training_data=0, multiple_weights=0)\n",
    "        session = HoloFusionSession(\"Session\", holo_obj)\n",
    "        fx = open('execution_time.txt', 'w')\n",
    "        "
   ]
  },
  {
   "cell_type": "markdown",
   "metadata": {},
   "source": [
    "## Read Input from file\n",
    "Test data will be read using the Session's ingestor.\n",
    "After ingesting the test data will be loaded into MySQL tables along with entries in the a metadata table."
   ]
  },
  {
   "cell_type": "code",
   "execution_count": 3,
   "metadata": {},
   "outputs": [
    {
     "name": "stdout",
     "output_type": "stream",
     "text": [
      "ingest csv time: 7.89807105064\n",
      "\n",
      "adding training time: 7.13273978233\n",
      "\n",
      "Clean table\n",
      "+------+----------+--------------+-----------+\n",
      "|Source|Flight_Num|Scheduled_Dept|Actual_Dept|\n",
      "+------+----------+--------------+-----------+\n",
      "+------+----------+--------------+-----------+\n",
      "\n",
      "Don't know table\n",
      "+-------------------+--------------------+--------------+--------------------+\n",
      "|             Source|          Flight_Num|Scheduled_Dept|         Actual_Dept|\n",
      "+-------------------+--------------------+--------------+--------------------+\n",
      "|                 aa|2011-12-01-AA-100...|          1:55|                2:07|\n",
      "|     flightexplorer|2011-12-01-AA-100...|          null|                2:07|\n",
      "|    airtravelcenter|2011-12-01-AA-100...|          null|                5:00|\n",
      "|         myrateplan|2011-12-01-AA-100...|          null|                5:00|\n",
      "|        helloflight|2011-12-01-AA-100...|          null|                5:00|\n",
      "|          flytecomm|2011-12-01-AA-100...|          null|                5:00|\n",
      "|            flights|2011-12-01-AA-100...|          null|                2:07|\n",
      "|businesstravellogue|2011-12-01-AA-100...|          null|                2:07|\n",
      "|      flylouisville|2011-12-01-AA-100...|          null|                2:07|\n",
      "|    airtravelcenter|2011-12-01-UA-581...|          null|                7:00|\n",
      "|         myrateplan|2011-12-01-UA-581...|          null|                7:00|\n",
      "|        helloflight|2011-12-01-UA-581...|          null|                7:00|\n",
      "|          flytecomm|2011-12-01-UA-581...|          null|                7:00|\n",
      "|        flightaware|2011-12-01-UA-581...|          8:36|                9:27|\n",
      "|       wunderground|2011-12-01-UA-581...|          8:36|                9:27|\n",
      "|            flights|2011-12-01-UA-581...|          8:36|                8:39|\n",
      "|businesstravellogue|2011-12-01-UA-581...|          8:36|                8:39|\n",
      "|      flylouisville|2011-12-01-UA-581...|          8:36|                8:39|\n",
      "|        flightstats|2011-12-01-UA-581...|          8:36|                8:39|\n",
      "|        travelocity|2011-12-01-AA-185...|          9:00|Dec 01 - Not Avai...|\n",
      "+-------------------+--------------------+--------------+--------------------+\n",
      "only showing top 20 rows\n",
      "\n"
     ]
    }
   ],
   "source": [
    "        list_time = []\n",
    "        start_time = t()\n",
    "\n",
    "        session.ingest_dataset(\"data/clean_flight2/flight-data-test.csv\")\n",
    "        d = t()-start_time\n",
    "        list_time.append(d)\n",
    "        fx.write('ingest csv time: '+str(d)+'\\n')\n",
    "        print 'ingest csv time: '+str(d)+'\\n'\n",
    "        \n",
    "        start_time = t()\n",
    "        session.adding_training_data(\"data/clean_flight2/flight-data_training.csv\")\n",
    "        d = t() - start_time\n",
    "        list_time.append(d)\n",
    "        fx.write('adding training data: ' + str(d) + '\\n')\n",
    "        print 'adding training time: ' + str(d) + '\\n'\n",
    "        \n",
    "        print 'Clean table'\n",
    "        sql = holo_obj.dataengine.get_table_to_dataframe(\"C_clean\", session.dataset)\n",
    "        sql.select('Source','Flight_Num','Scheduled_Dept','Actual_Dept').show()\n",
    "        print 'Don\\'t know table'\n",
    "        sql = holo_obj.dataengine.get_table_to_dataframe(\"C_dk\", session.dataset)\n",
    "        sql.select('Source','Flight_Num','Scheduled_Dept','Actual_Dept').show()"
   ]
  },
  {
   "cell_type": "markdown",
   "metadata": {},
   "source": [
    "## Featurization"
   ]
  },
  {
   "cell_type": "code",
   "execution_count": 4,
   "metadata": {},
   "outputs": [
    {
     "name": "stdout",
     "output_type": "stream",
     "text": [
      "adding weight_id to feature table...\n",
      "creating weight table\n",
      "creating feature table with weights ids\n",
      "adding weight_id to feature table is finished\n",
      "Feature table\n",
      "+---------+-------------------+--------------------+-----------------+------------+---------+-----+\n",
      "|var_index|          Source_id|            rv_index|          rv_attr|assigned_val|weight_id|fixed|\n",
      "+---------+-------------------+--------------------+-----------------+------------+---------+-----+\n",
      "|        1|                 aa|2011-12-01-AA-100...|   Actual_Arrival|        2:57|        1|    0|\n",
      "|        2|     flightexplorer|2011-12-01-AA-100...|   Actual_Arrival|        2:51|       30|    0|\n",
      "|        3|    airtravelcenter|2011-12-01-AA-100...|   Actual_Arrival|        5:00|       31|    0|\n",
      "|        4|         myrateplan|2011-12-01-AA-100...|   Actual_Arrival|        5:00|       14|    0|\n",
      "|        5|        helloflight|2011-12-01-AA-100...|   Actual_Arrival|        5:00|       15|    0|\n",
      "|        6|          flytecomm|2011-12-01-AA-100...|   Actual_Arrival|        5:00|       16|    0|\n",
      "|        7|            flights|2011-12-01-AA-100...|   Actual_Arrival|        2:57|        4|    0|\n",
      "|        8|businesstravellogue|2011-12-01-AA-100...|   Actual_Arrival|        2:57|        5|    0|\n",
      "|        9|      flylouisville|2011-12-01-AA-100...|   Actual_Arrival|        2:57|        6|    0|\n",
      "|       10|                 aa|2011-12-01-AA-100...|      Actual_Dept|        2:07|        1|    0|\n",
      "|       11|     flightexplorer|2011-12-01-AA-100...|      Actual_Dept|        2:07|       30|    0|\n",
      "|       12|    airtravelcenter|2011-12-01-AA-100...|      Actual_Dept|        5:00|       31|    0|\n",
      "|       13|         myrateplan|2011-12-01-AA-100...|      Actual_Dept|        5:00|       14|    0|\n",
      "|       14|        helloflight|2011-12-01-AA-100...|      Actual_Dept|        5:00|       15|    0|\n",
      "|       15|          flytecomm|2011-12-01-AA-100...|      Actual_Dept|        5:00|       16|    0|\n",
      "|       16|            flights|2011-12-01-AA-100...|      Actual_Dept|        2:07|        4|    0|\n",
      "|       17|businesstravellogue|2011-12-01-AA-100...|      Actual_Dept|        2:07|        5|    0|\n",
      "|       18|      flylouisville|2011-12-01-AA-100...|      Actual_Dept|        2:07|        6|    0|\n",
      "|       19|                 aa|2011-12-01-AA-100...|Scheduled_Arrival|        3:00|        1|    0|\n",
      "|       20|                 aa|2011-12-01-AA-100...|   Scheduled_Dept|        1:55|        1|    0|\n",
      "+---------+-------------------+--------------------+-----------------+------------+---------+-----+\n",
      "only showing top 20 rows\n",
      "\n",
      " feature table time: 9.16338205338\n",
      "\n"
     ]
    }
   ],
   "source": [
    "        start_time = t()\n",
    "        session.feature()\n",
    "        d = t() - start_time\n",
    "        list_time.append(d)\n",
    "        fx.write('creating feature table time: '+str(d)+'\\n')\n",
    "        print 'Feature table'\n",
    "        sql = holo_obj.dataengine.get_table_to_dataframe(\"Feature\", session.dataset)\n",
    "        sql.show()\n",
    "        print ' feature table time: '+str(d)+'\\n'"
   ]
  },
  {
   "cell_type": "markdown",
   "metadata": {},
   "source": [
    "#  Learning\n",
    "In the learning phase, for majority vote we just assume that each weight takes the value 1.\n"
   ]
  },
  {
   "cell_type": "code",
   "execution_count": 5,
   "metadata": {},
   "outputs": [
    {
     "name": "stdout",
     "output_type": "stream",
     "text": [
      "Creating Group by Accur\n",
      "Creating Probability table\n",
      "Creating Final table\n",
      "Probabilities table\n",
      "+--------------------+-----------------+------------+--------------------+\n",
      "|            rv_index|          rv_attr|assigned_val|         probability|\n",
      "+--------------------+-----------------+------------+--------------------+\n",
      "|2011-12-01-AA-100...|   Actual_Arrival|        2:51|0.024288897679263205|\n",
      "|2011-12-01-AA-100...|   Actual_Arrival|        2:57| 0.48785555116036833|\n",
      "|2011-12-01-AA-100...|   Actual_Arrival|        5:00| 0.48785555116036833|\n",
      "|2011-12-01-AA-100...|      Actual_Dept|        2:07|  0.7310585786300049|\n",
      "|2011-12-01-AA-100...|      Actual_Dept|        5:00|  0.2689414213699951|\n",
      "|2011-12-01-AA-100...|Scheduled_Arrival|        3:00|                 1.0|\n",
      "|2011-12-01-AA-100...|   Scheduled_Dept|        1:55|                 1.0|\n",
      "|2011-12-01-AA-101...|   Actual_Arrival|        5:00|  0.7310585786300048|\n",
      "|2011-12-01-AA-101...|   Actual_Arrival|        8:36|  0.2689414213699951|\n",
      "|2011-12-01-AA-101...|      Actual_Dept|        5:00|  0.7310585786300048|\n",
      "|2011-12-01-AA-101...|      Actual_Dept|        7:29|  0.2689414213699951|\n",
      "|2011-12-01-AA-101...|Scheduled_Arrival|        8:40|                 1.0|\n",
      "|2011-12-01-AA-101...|   Scheduled_Dept|        7:15|                 1.0|\n",
      "|2011-12-01-AA-103...|   Actual_Arrival|        3:09|  0.2119415576170854|\n",
      "|2011-12-01-AA-103...|   Actual_Arrival|        3:14|  0.2119415576170854|\n",
      "|2011-12-01-AA-103...|   Actual_Arrival|        5:00|  0.5761168847658291|\n",
      "|2011-12-01-AA-103...|      Actual_Dept|        1:46|  0.2119415576170854|\n",
      "|2011-12-01-AA-103...|      Actual_Dept|        1:47|  0.2119415576170854|\n",
      "|2011-12-01-AA-103...|      Actual_Dept|        5:00|  0.5761168847658291|\n",
      "|2011-12-01-AA-103...|Scheduled_Arrival|        3:20|                 1.0|\n",
      "+--------------------+-----------------+------------+--------------------+\n",
      "only showing top 20 rows\n",
      "\n",
      "inference time: 368.50037694\n",
      "\n"
     ]
    }
   ],
   "source": [
    "        start_time = t()\n",
    "        session.inference()\n",
    "        d = t() - start_time\n",
    "        list_time.append(d)\n",
    "        fx.write('inference time: ' + str(d) + '\\n')\n",
    "        print 'Probabilities table'\n",
    "        sql = holo_obj.dataengine.get_table_to_dataframe(\"Probabilities\", session.dataset)\n",
    "        sql.show()\n",
    "        print 'inference time: ' + str(d) + '\\n'"
   ]
  },
  {
   "cell_type": "markdown",
   "metadata": {},
   "source": [
    "# Evaluation\n",
    " In this part, we find the accuracy of our results by comparing them to ground truth for our data"
   ]
  },
  {
   "cell_type": "code",
   "execution_count": 6,
   "metadata": {},
   "outputs": [
    {
     "name": "stdout",
     "output_type": "stream",
     "text": [
      "['Flight_Num', 'Scheduled_Dept', 'Actual_Dept', 'Scheduled_Arrival', 'Actual_Arrival']\n",
      "show the final table\n",
      "+--------------------+-----------------+------------+\n",
      "|            rv_index|          rv_attr|assigned_val|\n",
      "+--------------------+-----------------+------------+\n",
      "|2011-12-01-AA-100...|   Actual_Arrival|        5:00|\n",
      "|2011-12-01-AA-100...|      Actual_Dept|        2:07|\n",
      "|2011-12-01-AA-100...|Scheduled_Arrival|        3:00|\n",
      "|2011-12-01-AA-100...|   Scheduled_Dept|        1:55|\n",
      "|2011-12-01-AA-101...|   Actual_Arrival|        5:00|\n",
      "|2011-12-01-AA-101...|      Actual_Dept|        5:00|\n",
      "|2011-12-01-AA-101...|Scheduled_Arrival|        8:40|\n",
      "|2011-12-01-AA-101...|   Scheduled_Dept|        7:15|\n",
      "|2011-12-01-AA-103...|   Actual_Arrival|        5:00|\n",
      "|2011-12-01-AA-103...|      Actual_Dept|        5:00|\n",
      "|2011-12-01-AA-103...|Scheduled_Arrival|        3:20|\n",
      "|2011-12-01-AA-103...|   Scheduled_Dept|        1:25|\n",
      "|2011-12-01-AA-104...|   Actual_Arrival|        1:17|\n",
      "|2011-12-01-AA-104...|      Actual_Dept|       10:17|\n",
      "|2011-12-01-AA-104...|Scheduled_Arrival|        1:25|\n",
      "|2011-12-01-AA-104...|   Scheduled_Dept|       10:10|\n",
      "|2011-12-01-AA-104...|   Actual_Arrival|        2:37|\n",
      "|2011-12-01-AA-104...|      Actual_Dept|       11:35|\n",
      "|2011-12-01-AA-104...|Scheduled_Arrival|        2:50|\n",
      "|2011-12-01-AA-104...|   Scheduled_Dept|       11:10|\n",
      "+--------------------+-----------------+------------+\n",
      "only showing top 20 rows\n",
      "\n",
      "show ground_truth\n",
      "+--------------------+--------------+------------+\n",
      "|            rv_index|       rv_attr|assigned_val|\n",
      "+--------------------+--------------+------------+\n",
      "|2011-12-05-AA-154...|Scheduled_Dept|       11:25|\n",
      "|2011-12-05-AA-204...|Scheduled_Dept|       11:25|\n",
      "|2011-12-05-AA-231...|Scheduled_Dept|        8:25|\n",
      "|2011-12-05-AA-3-J...|Scheduled_Dept|       12:00|\n",
      "|2011-12-05-AA-380...|Scheduled_Dept|        6:00|\n",
      "|2011-12-05-AA-382...|Scheduled_Dept|        9:00|\n",
      "|2011-12-05-AA-385...|Scheduled_Dept|        7:10|\n",
      "|2011-12-05-AA-397...|Scheduled_Dept|        7:30|\n",
      "|2011-12-05-AA-404...|Scheduled_Dept|        6:45|\n",
      "|2011-12-05-AA-419...|Scheduled_Dept|       10:40|\n",
      "|2011-12-05-AA-427...|Scheduled_Dept|       12:10|\n",
      "|2011-12-05-AA-446...|Scheduled_Dept|       11:50|\n",
      "|2011-12-05-CO-158...|Scheduled_Dept|        7:00|\n",
      "|2011-12-05-CO-16-...|Scheduled_Dept|       10:25|\n",
      "|2011-12-05-CO-47-...|Scheduled_Dept|        7:10|\n",
      "|2011-12-05-CO-488...|Scheduled_Dept|        5:30|\n",
      "|2011-12-05-CO-62-...|Scheduled_Dept|        2:30|\n",
      "|2011-12-05-UA-231...|Scheduled_Dept|        2:55|\n",
      "|2011-12-05-UA-248...|Scheduled_Dept|       12:57|\n",
      "|2011-12-05-UA-270...|Scheduled_Dept|       11:15|\n",
      "+--------------------+--------------+------------+\n",
      "only showing top 20 rows\n",
      "\n",
      "show incorrect values\n",
      "+--------------------+-----------------+--------------------+\n",
      "|            rv_index|          rv_attr|        assigned_val|\n",
      "+--------------------+-----------------+--------------------+\n",
      "|2011-12-08-AA-271...|      Actual_Dept|               11:34|\n",
      "|2011-12-09-AA-205...|      Actual_Dept|               10:41|\n",
      "|2011-12-16-CO-16-...|      Actual_Dept|               11:01|\n",
      "|2011-12-22-AA-616...|      Actual_Dept|                8:59|\n",
      "|2011-12-22-UA-257...|      Actual_Dept|                2:27|\n",
      "|2011-12-29-AA-384...|   Actual_Arrival|                7:07|\n",
      "|2011-12-30-AA-116...|   Actual_Arrival|               10:00|\n",
      "|2011-12-05-UA-248...|      Actual_Dept|               12:57|\n",
      "|2011-12-12-CO-58-...|Scheduled_Arrival|                2:50|\n",
      "|2011-12-07-UA-283...|   Actual_Arrival|                5:25|\n",
      "|2011-12-09-AA-173...|      Actual_Dept|                7:40|\n",
      "|2011-12-14-CO-119...|      Actual_Dept|                9:14|\n",
      "|2011-12-14-CO-16-...|Scheduled_Arrival|                6:44|\n",
      "|2011-12-18-CO-62-...|   Scheduled_Dept|                2:30|\n",
      "|2011-12-29-UA-248...|   Actual_Arrival|                5:13|\n",
      "|2011-12-05-UA-854...|      Actual_Dept|                7:50|\n",
      "|2011-12-08-CO-47-...|      Actual_Dept|                7:12|\n",
      "|2011-12-27-AA-231...|      Actual_Dept|December 27; 2011...|\n",
      "|2011-12-27-UA-62-...|      Actual_Dept|                2:30|\n",
      "|2011-12-29-AA-205...|      Actual_Dept|               10:41|\n",
      "+--------------------+-----------------+--------------------+\n",
      "only showing top 20 rows\n",
      "\n",
      "the number of tuples for the ground truth is :\n",
      "2442\n",
      "the incorrect values are:\n",
      "847\n",
      "the accuracy is:\n",
      "0.653153153153\n",
      "time to calculate accuracy: 29.8471429348\n",
      "\n"
     ]
    }
   ],
   "source": [
    "        start_time = t()\n",
    "        session.accuracy(\"data/clean_flight2/flight-data_truth.csv\")\n",
    "        d = t() - start_time\n",
    "        list_time.append(d)\n",
    "        fx.write('time to calculate accuracy: ' + str(d) + '\\n')\n",
    "        print 'time to calculate accuracy: ' + str(d) + '\\n'\n",
    "        fx.close()"
   ]
  }
 ],
 "metadata": {
  "kernelspec": {
   "display_name": "Python 2",
   "language": "python",
   "name": "python2"
  },
  "language_info": {
   "codemirror_mode": {
    "name": "ipython",
    "version": 2
   },
   "file_extension": ".py",
   "mimetype": "text/x-python",
   "name": "python",
   "nbconvert_exporter": "python",
   "pygments_lexer": "ipython2",
   "version": "2.7.13"
  }
 },
 "nbformat": 4,
 "nbformat_minor": 2
}
