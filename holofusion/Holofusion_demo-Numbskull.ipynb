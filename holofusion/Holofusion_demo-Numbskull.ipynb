{
 "cells": [
  {
   "cell_type": "markdown",
   "metadata": {},
   "source": [
    "# HOLOCLEAN DEMO\n"
   ]
  },
  {
   "cell_type": "code",
   "execution_count": 1,
   "metadata": {
    "collapsed": true
   },
   "outputs": [],
   "source": [
    "from holofusion import HoloFusion, HoloFusionSession\n",
    "from time import time as t"
   ]
  },
  {
   "cell_type": "markdown",
   "metadata": {},
   "source": [
    "## Start Holoclean demo\n",
    "Create HoloClean object and Session.\n",
    "The HoloClean object will log all info for the test.\n",
    "Session will be used to ingest data from input files."
   ]
  },
  {
   "cell_type": "code",
   "execution_count": 2,
   "metadata": {},
   "outputs": [
    {
     "name": "stderr",
     "output_type": "stream",
     "text": [
      "/home/james/anaconda/envs/python2.7/lib/python2.7/site-packages/sqlalchemy/dialects/mysql/base.py:1576: Warning: '@@tx_isolation' is deprecated and will be removed in a future release. Please use '@@transaction_isolation' instead\n",
      "  cursor.execute('SELECT @@tx_isolation')\n"
     ]
    }
   ],
   "source": [
    "        holo_obj = HoloFusion(majority_vote=0, training_data=1, multiple_weights=0)\n",
    "        session = HoloFusionSession(\"Session\", holo_obj)\n",
    "        fx = open('execution_time.txt', 'w')\n",
    "        "
   ]
  },
  {
   "cell_type": "markdown",
   "metadata": {},
   "source": [
    "## Read Input from file"
   ]
  },
  {
   "cell_type": "code",
   "execution_count": null,
   "metadata": {},
   "outputs": [
    {
     "name": "stdout",
     "output_type": "stream",
     "text": [
      "ingest csv time: 26.4400908947\n",
      "\n",
      "['Source', 'Flight_Num', 'Scheduled_Dept', 'Actual_Dept', 'Scheduled_Arrival', 'Actual_Arrival']\n",
      "adding training time: 66.6959888935\n",
      "\n",
      "Clean table\n",
      "+--------------------+--------------------+--------------+-----------+\n",
      "|              Source|          Flight_Num|Scheduled_Dept|Actual_Dept|\n",
      "+--------------------+--------------------+--------------+-----------+\n",
      "|                ifly|2011-12-01-AA-384...|          6:00|       6:56|\n",
      "|                  aa|2011-12-01-AA-466...|          6:00|       6:08|\n",
      "|             flights|2011-12-01-AA-466...|          6:00|       6:08|\n",
      "| businesstravellogue|2011-12-01-AA-466...|          6:00|       6:08|\n",
      "| businesstravellogue|2011-12-01-AA-205...|         10:40|      11:05|\n",
      "|       flylouisville|2011-12-01-AA-205...|         10:40|      11:05|\n",
      "|         flightstats|2011-12-01-AA-205...|         10:40|      11:05|\n",
      "|           quicktrip|2011-12-01-AA-205...|         10:40|      11:05|\n",
      "|world-flight-tracker|2011-12-01-AA-205...|         10:40|      11:05|\n",
      "|                ifly|2011-12-01-AA-143...|          7:15|       7:21|\n",
      "|           quicktrip|2011-12-01-AA-434...|         11:45|      12:13|\n",
      "|                ifly|2011-12-01-AA-397...|          7:30|       8:04|\n",
      "|                ifly|2011-12-02-AA-127...|          1:00|       1:29|\n",
      "|             flights|2011-12-02-AA-484...|          4:15|       4:59|\n",
      "| businesstravellogue|2011-12-02-AA-484...|          4:15|       4:59|\n",
      "|       flylouisville|2011-12-02-AA-484...|          4:15|       4:59|\n",
      "|         flightstats|2011-12-02-AA-484...|          4:15|       4:59|\n",
      "|           quicktrip|2011-12-02-AA-484...|          4:15|       4:59|\n",
      "|world-flight-tracker|2011-12-02-AA-484...|          4:15|       4:59|\n",
      "|          flightview|2011-12-02-AA-484...|          4:15|       4:59|\n",
      "+--------------------+--------------------+--------------+-----------+\n",
      "only showing top 20 rows\n",
      "\n",
      "Don't know table\n",
      "+-------------------+--------------------+--------------+--------------------+\n",
      "|             Source|          Flight_Num|Scheduled_Dept|         Actual_Dept|\n",
      "+-------------------+--------------------+--------------+--------------------+\n",
      "|                 aa|2011-12-01-AA-100...|          1:55|                2:07|\n",
      "|     flightexplorer|2011-12-01-AA-100...|          null|                2:07|\n",
      "|    airtravelcenter|2011-12-01-AA-100...|          null|                5:00|\n",
      "|         myrateplan|2011-12-01-AA-100...|          null|                5:00|\n",
      "|        helloflight|2011-12-01-AA-100...|          null|                5:00|\n",
      "|          flytecomm|2011-12-01-AA-100...|          null|                5:00|\n",
      "|            flights|2011-12-01-AA-100...|          null|                2:07|\n",
      "|businesstravellogue|2011-12-01-AA-100...|          null|                2:07|\n",
      "|      flylouisville|2011-12-01-AA-100...|          null|                2:07|\n",
      "|    airtravelcenter|2011-12-01-UA-581...|          null|                7:00|\n",
      "|         myrateplan|2011-12-01-UA-581...|          null|                7:00|\n",
      "|        helloflight|2011-12-01-UA-581...|          null|                7:00|\n",
      "|          flytecomm|2011-12-01-UA-581...|          null|                7:00|\n",
      "|        flightaware|2011-12-01-UA-581...|          8:36|                9:27|\n",
      "|       wunderground|2011-12-01-UA-581...|          8:36|                9:27|\n",
      "|            flights|2011-12-01-UA-581...|          8:36|                8:39|\n",
      "|businesstravellogue|2011-12-01-UA-581...|          8:36|                8:39|\n",
      "|      flylouisville|2011-12-01-UA-581...|          8:36|                8:39|\n",
      "|        flightstats|2011-12-01-UA-581...|          8:36|                8:39|\n",
      "|        travelocity|2011-12-01-AA-185...|          9:00|Dec 01 - Not Avai...|\n",
      "+-------------------+--------------------+--------------+--------------------+\n",
      "only showing top 20 rows\n",
      "\n"
     ]
    }
   ],
   "source": [
    "        list_time = []\n",
    "        start_time = t()\n",
    "\n",
    "        session.ingest_dataset(\"data/clean_flight/flight-data-test.csv\")\n",
    "        d = t()-start_time\n",
    "        list_time.append(d)\n",
    "        fx.write('ingest csv time: '+str(d)+'\\n')\n",
    "        print 'ingest csv time: '+str(d)+'\\n'\n",
    "        \n",
    "        start_time = t()\n",
    "        session.adding_training_data(\"data/clean_flight/flight-data_training.csv\")\n",
    "        d = t() - start_time\n",
    "        list_time.append(d)\n",
    "        fx.write('adding training data: ' + str(d) + '\\n')\n",
    "        print 'adding training time: ' + str(d) + '\\n'\n",
    "        \n",
    "        print 'Clean table'\n",
    "        sql = holo_obj.dataengine.get_table_to_dataframe(\"C_clean\", session.dataset)\n",
    "        sql.select('Source','Flight_Num','Scheduled_Dept','Actual_Dept').show()\n",
    "        print 'Don\\'t know table'\n",
    "        sql = holo_obj.dataengine.get_table_to_dataframe(\"C_dk\", session.dataset)\n",
    "        sql.select('Source','Flight_Num','Scheduled_Dept','Actual_Dept').show()"
   ]
  },
  {
   "cell_type": "markdown",
   "metadata": {},
   "source": [
    "## Featurization"
   ]
  },
  {
   "cell_type": "code",
   "execution_count": null,
   "metadata": {},
   "outputs": [
    {
     "name": "stdout",
     "output_type": "stream",
     "text": [
      "['Source', 'Flight_Num', 'Scheduled_Dept', 'Actual_Dept', 'Scheduled_Arrival', 'Actual_Arrival']\n",
      "adding weight_id to feature table...\n",
      "creating weight table\n",
      "creating feature table with weights ids\n"
     ]
    }
   ],
   "source": [
    "        start_time = t()\n",
    "        session.feature()\n",
    "        d = t() - start_time\n",
    "        list_time.append(d)\n",
    "        fx.write('creating feature table time: '+str(d)+'\\n')\n",
    "        print 'Feature table'\n",
    "        sql = holo_obj.dataengine.get_table_to_dataframe(\"Feature_temp\", session.dataset)\n",
    "        sql.show()\n",
    "        print ' feature table time: '+str(d)+'\\n'"
   ]
  },
  {
   "cell_type": "markdown",
   "metadata": {},
   "source": [
    "## Inference\n"
   ]
  },
  {
   "cell_type": "code",
   "execution_count": null,
   "metadata": {},
   "outputs": [],
   "source": [
    "        start_time = t()\n",
    "        session.inference()\n",
    "        d = t() - start_time\n",
    "        list_time.append(d)\n",
    "        fx.write('inference time: ' + str(d) + '\\n')\n",
    "        print 'Probabilities table'\n",
    "        sql = holo_obj.dataengine.get_table_to_dataframe(\"Probabilities\", session.dataset)\n",
    "        sql.show()\n",
    "        print 'inference time: ' + str(d) + '\\n'\n",
    "        "
   ]
  },
  {
   "cell_type": "markdown",
   "metadata": {},
   "source": [
    "## Final Table and Accuracy Calculations"
   ]
  },
  {
   "cell_type": "code",
   "execution_count": null,
   "metadata": {},
   "outputs": [],
   "source": [
    "        start_time = t()\n",
    "\n",
    "        session.accuracy(\"data/clean_flight/flight-data_truth.csv\")\n",
    "        d = t() - start_time\n",
    "        list_time.append(d)\n",
    "        fx.write('time to calculate accuracy: ' + str(d) + '\\n')\n",
    "        print 'time to calculate accuracy: ' + str(d) + '\\n'\n",
    "        fx.close()"
   ]
  }
 ],
 "metadata": {
  "kernelspec": {
   "display_name": "Python 2",
   "language": "python",
   "name": "python2"
  },
  "language_info": {
   "codemirror_mode": {
    "name": "ipython",
    "version": 2
   },
   "file_extension": ".py",
   "mimetype": "text/x-python",
   "name": "python",
   "nbconvert_exporter": "python",
   "pygments_lexer": "ipython2",
   "version": "2.7.13"
  }
 },
 "nbformat": 4,
 "nbformat_minor": 2
}
