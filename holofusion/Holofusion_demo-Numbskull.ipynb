{
 "cells": [
  {
   "cell_type": "markdown",
   "metadata": {},
   "source": [
    "# A Step-by-Step Guide to HoloFusion example part 3/4 \n",
    "   # (our approach)\n",
    "\n"
   ]
  },
  {
   "cell_type": "markdown",
   "metadata": {},
   "source": [
    "# Setup\n",
    "Firstly, we import all the module from Holofusion that we will use."
   ]
  },
  {
   "cell_type": "code",
   "execution_count": 1,
   "metadata": {
    "collapsed": true
   },
   "outputs": [],
   "source": [
    "from holofusion import HoloFusion, HoloFusionSession\n",
    "from time import time as t"
   ]
  },
  {
   "cell_type": "markdown",
   "metadata": {},
   "source": [
    "##   Initialization\n",
    "In this part, we create the HoloFusion and Session object that we will use for this example."
   ]
  },
  {
   "cell_type": "code",
   "execution_count": 2,
   "metadata": {},
   "outputs": [
    {
     "name": "stderr",
     "output_type": "stream",
     "text": [
      "/home/james/anaconda/envs/python2.7/lib/python2.7/site-packages/sqlalchemy/dialects/mysql/base.py:1576: Warning: '@@tx_isolation' is deprecated and will be removed in a future release. Please use '@@transaction_isolation' instead\n",
      "  cursor.execute('SELECT @@tx_isolation')\n"
     ]
    }
   ],
   "source": [
    "        holo_obj = HoloFusion(algorithm=0, training_data=1, multiple_weights=0)\n",
    "        session = HoloFusionSession(\"Session\", holo_obj)\n",
    "        fx = open('execution_time.txt', 'w')\n",
    "        "
   ]
  },
  {
   "cell_type": "markdown",
   "metadata": {},
   "source": [
    "## Read Input from file\n",
    "Test data and training data will be read using the Session's ingestor.\n",
    "After ingesting the test data will be loaded into MySQL tables along with entries in the a metadata table."
   ]
  },
  {
   "cell_type": "code",
   "execution_count": 3,
   "metadata": {},
   "outputs": [
    {
     "name": "stdout",
     "output_type": "stream",
     "text": [
      "ingest csv time: 11.0261230469\n",
      "\n",
      "['Source', 'Flight_Num', 'Scheduled_Dept', 'Actual_Dept', 'Scheduled_Arrival', 'Actual_Arrival']\n",
      "adding training time: 14.036041975\n",
      "\n",
      "Clean table\n",
      "+--------------------+--------------------+--------------+-----------+\n",
      "|              Source|          Flight_Num|Scheduled_Dept|Actual_Dept|\n",
      "+--------------------+--------------------+--------------+-----------+\n",
      "|                ifly|2011-12-01-AA-384...|          6:00|       6:56|\n",
      "|                  aa|2011-12-01-AA-466...|          6:00|       6:08|\n",
      "|             flights|2011-12-01-AA-466...|          6:00|       6:08|\n",
      "| businesstravellogue|2011-12-01-AA-466...|          6:00|       6:08|\n",
      "|         flightstats|2011-12-01-UA-248...|         12:57|       1:32|\n",
      "|           quicktrip|2011-12-01-UA-248...|         12:57|       1:32|\n",
      "| businesstravellogue|2011-12-01-AA-205...|         10:40|      11:05|\n",
      "|       flylouisville|2011-12-01-AA-205...|         10:40|      11:05|\n",
      "|         flightstats|2011-12-01-AA-205...|         10:40|      11:05|\n",
      "|           quicktrip|2011-12-01-AA-205...|         10:40|      11:05|\n",
      "|world-flight-tracker|2011-12-01-AA-205...|         10:40|      11:05|\n",
      "|                  CO|2011-12-01-CO-62-...|          2:30|       2:48|\n",
      "|                  ua|2011-12-01-UA-664...|          1:33|       1:31|\n",
      "|             flights|2011-12-01-UA-664...|          1:33|       1:31|\n",
      "|         flightstats|2011-12-01-CO-125...|          2:53|       3:01|\n",
      "|           quicktrip|2011-12-01-CO-125...|          2:53|       3:01|\n",
      "|         travelocity|2011-12-01-CO-125...|          2:53|       3:01|\n",
      "|         flightstats|2011-12-01-CO-89-...|          6:00|       6:02|\n",
      "|           quicktrip|2011-12-01-CO-89-...|          6:00|       6:02|\n",
      "|                ifly|2011-12-01-AA-143...|          7:15|       7:21|\n",
      "+--------------------+--------------------+--------------+-----------+\n",
      "only showing top 20 rows\n",
      "\n",
      "Don't know table\n",
      "+-------------------+--------------------+--------------+--------------------+\n",
      "|             Source|          Flight_Num|Scheduled_Dept|         Actual_Dept|\n",
      "+-------------------+--------------------+--------------+--------------------+\n",
      "|                 aa|2011-12-01-AA-100...|          1:55|                2:07|\n",
      "|     flightexplorer|2011-12-01-AA-100...|          null|                2:07|\n",
      "|    airtravelcenter|2011-12-01-AA-100...|          null|                5:00|\n",
      "|         myrateplan|2011-12-01-AA-100...|          null|                5:00|\n",
      "|        helloflight|2011-12-01-AA-100...|          null|                5:00|\n",
      "|          flytecomm|2011-12-01-AA-100...|          null|                5:00|\n",
      "|            flights|2011-12-01-AA-100...|          null|                2:07|\n",
      "|businesstravellogue|2011-12-01-AA-100...|          null|                2:07|\n",
      "|      flylouisville|2011-12-01-AA-100...|          null|                2:07|\n",
      "|    airtravelcenter|2011-12-01-UA-581...|          null|                7:00|\n",
      "|         myrateplan|2011-12-01-UA-581...|          null|                7:00|\n",
      "|        helloflight|2011-12-01-UA-581...|          null|                7:00|\n",
      "|          flytecomm|2011-12-01-UA-581...|          null|                7:00|\n",
      "|        flightaware|2011-12-01-UA-581...|          8:36|                9:27|\n",
      "|       wunderground|2011-12-01-UA-581...|          8:36|                9:27|\n",
      "|            flights|2011-12-01-UA-581...|          8:36|                8:39|\n",
      "|businesstravellogue|2011-12-01-UA-581...|          8:36|                8:39|\n",
      "|      flylouisville|2011-12-01-UA-581...|          8:36|                8:39|\n",
      "|        flightstats|2011-12-01-UA-581...|          8:36|                8:39|\n",
      "|        travelocity|2011-12-01-AA-185...|          9:00|Dec 01 - Not Avai...|\n",
      "+-------------------+--------------------+--------------+--------------------+\n",
      "only showing top 20 rows\n",
      "\n"
     ]
    }
   ],
   "source": [
    "        list_time = []\n",
    "        start_time = t()\n",
    "\n",
    "        session.ingest_dataset(\"data/clean_flight2/flight-data-test.csv\")\n",
    "        d = t()-start_time\n",
    "        list_time.append(d)\n",
    "        fx.write('ingest csv time: '+str(d)+'\\n')\n",
    "        print 'ingest csv time: '+str(d)+'\\n'\n",
    "        \n",
    "        start_time = t()\n",
    "        session.adding_training_data(\"data/clean_flight2/flight-data_training.csv\")\n",
    "        d = t() - start_time\n",
    "        list_time.append(d)\n",
    "        fx.write('adding training data: ' + str(d) + '\\n')\n",
    "        print 'adding training time: ' + str(d) + '\\n'\n",
    "        \n",
    "        print 'Clean table'\n",
    "        sql = holo_obj.dataengine.get_table_to_dataframe(\"C_clean\", session.dataset)\n",
    "        sql.select('Source','Flight_Num','Scheduled_Dept','Actual_Dept').show()\n",
    "        print 'Don\\'t know table'\n",
    "        sql = holo_obj.dataengine.get_table_to_dataframe(\"C_dk\", session.dataset)\n",
    "        sql.select('Source','Flight_Num','Scheduled_Dept','Actual_Dept').show()"
   ]
  },
  {
   "cell_type": "markdown",
   "metadata": {},
   "source": [
    "## Featurization"
   ]
  },
  {
   "cell_type": "code",
   "execution_count": 4,
   "metadata": {},
   "outputs": [
    {
     "name": "stdout",
     "output_type": "stream",
     "text": [
      "adding weight_id to feature table...\n",
      "creating weight table\n",
      "creating feature table with weights ids\n",
      "adding weight_id to feature table is finished\n",
      "Feature table\n",
      "+---------+-------------------+--------------------+-----------------+------------+---------+-----+\n",
      "|var_index|          Source_id|            rv_index|          rv_attr|assigned_val|weight_id|fixed|\n",
      "+---------+-------------------+--------------------+-----------------+------------+---------+-----+\n",
      "|        1|                 aa|2011-12-01-AA-100...|   Actual_Arrival|        2:57|        2|    0|\n",
      "|        2|     flightexplorer|2011-12-01-AA-100...|   Actual_Arrival|        2:51|       29|    0|\n",
      "|        3|    airtravelcenter|2011-12-01-AA-100...|   Actual_Arrival|        5:00|       30|    0|\n",
      "|        4|         myrateplan|2011-12-01-AA-100...|   Actual_Arrival|        5:00|       21|    0|\n",
      "|        5|        helloflight|2011-12-01-AA-100...|   Actual_Arrival|        5:00|       22|    0|\n",
      "|        6|          flytecomm|2011-12-01-AA-100...|   Actual_Arrival|        5:00|       23|    0|\n",
      "|        7|            flights|2011-12-01-AA-100...|   Actual_Arrival|        2:57|        3|    0|\n",
      "|        8|businesstravellogue|2011-12-01-AA-100...|   Actual_Arrival|        2:57|        4|    0|\n",
      "|        9|      flylouisville|2011-12-01-AA-100...|   Actual_Arrival|        2:57|        7|    0|\n",
      "|       10|                 aa|2011-12-01-AA-100...|      Actual_Dept|        2:07|        2|    0|\n",
      "|       11|     flightexplorer|2011-12-01-AA-100...|      Actual_Dept|        2:07|       29|    0|\n",
      "|       12|    airtravelcenter|2011-12-01-AA-100...|      Actual_Dept|        5:00|       30|    0|\n",
      "|       13|         myrateplan|2011-12-01-AA-100...|      Actual_Dept|        5:00|       21|    0|\n",
      "|       14|        helloflight|2011-12-01-AA-100...|      Actual_Dept|        5:00|       22|    0|\n",
      "|       15|          flytecomm|2011-12-01-AA-100...|      Actual_Dept|        5:00|       23|    0|\n",
      "|       16|            flights|2011-12-01-AA-100...|      Actual_Dept|        2:07|        3|    0|\n",
      "|       17|businesstravellogue|2011-12-01-AA-100...|      Actual_Dept|        2:07|        4|    0|\n",
      "|       18|      flylouisville|2011-12-01-AA-100...|      Actual_Dept|        2:07|        7|    0|\n",
      "|       19|                 aa|2011-12-01-AA-100...|Scheduled_Arrival|        3:00|        2|    0|\n",
      "|       20|                 aa|2011-12-01-AA-100...|   Scheduled_Dept|        1:55|        2|    0|\n",
      "+---------+-------------------+--------------------+-----------------+------------+---------+-----+\n",
      "only showing top 20 rows\n",
      "\n",
      " feature table time: 10.0560729504\n",
      "\n"
     ]
    }
   ],
   "source": [
    "        start_time = t()\n",
    "        session.feature()\n",
    "        d = t() - start_time\n",
    "        list_time.append(d)\n",
    "        fx.write('creating feature table time: '+str(d)+'\\n')\n",
    "        print 'Feature table'\n",
    "        sql = holo_obj.dataengine.get_table_to_dataframe(\"Feature\", session.dataset)\n",
    "        sql.show()\n",
    "        print ' feature table time: '+str(d)+'\\n'"
   ]
  },
  {
   "cell_type": "markdown",
   "metadata": {},
   "source": [
    "#  Learning\n",
    "In the learning phase, for our approach we get the weight from numbskull (one unique weight per source)."
   ]
  },
  {
   "cell_type": "code",
   "execution_count": 5,
   "metadata": {},
   "outputs": [
    {
     "name": "stdout",
     "output_type": "stream",
     "text": [
      "numbskull is starting\n",
      "wrapper is starting\n",
      "making variables\n",
      "making weights\n",
      "making factor to var\n",
      "making factor\n",
      "wrapper is finished\n",
      "numbskull is finished\n",
      "adding weight is finished is finished\n",
      "Creating Group by Accur\n",
      "Creating Probability table\n",
      "Creating Final table\n",
      "Probabilities table\n",
      "+--------------------+-----------------+------------+--------------------+\n",
      "|            rv_index|          rv_attr|assigned_val|         probability|\n",
      "+--------------------+-----------------+------------+--------------------+\n",
      "|2011-12-01-AA-100...|   Actual_Arrival|        2:51|0.012431361450698616|\n",
      "|2011-12-01-AA-100...|   Actual_Arrival|        2:57|  0.9687849019260835|\n",
      "|2011-12-01-AA-100...|   Actual_Arrival|        5:00|0.018783736623217872|\n",
      "|2011-12-01-AA-100...|      Actual_Dept|        2:07|  0.9730704164304071|\n",
      "|2011-12-01-AA-100...|      Actual_Dept|        5:00|0.026929583569592876|\n",
      "|2011-12-01-AA-100...|Scheduled_Arrival|        3:00|                 1.0|\n",
      "|2011-12-01-AA-100...|   Scheduled_Dept|        1:55|                 1.0|\n",
      "|2011-12-01-AA-101...|   Actual_Arrival|        5:00|0.050065961377062915|\n",
      "|2011-12-01-AA-101...|   Actual_Arrival|        8:36|  0.9499340386229371|\n",
      "|2011-12-01-AA-101...|      Actual_Dept|        5:00|0.050065961377062915|\n",
      "|2011-12-01-AA-101...|      Actual_Dept|        7:29|  0.9499340386229371|\n",
      "|2011-12-01-AA-101...|Scheduled_Arrival|        8:40|                 1.0|\n",
      "|2011-12-01-AA-101...|   Scheduled_Dept|        7:15|                 1.0|\n",
      "|2011-12-01-AA-103...|   Actual_Arrival|        3:09| 0.15314539573716815|\n",
      "|2011-12-01-AA-103...|   Actual_Arrival|        3:14|  0.5941952374581784|\n",
      "|2011-12-01-AA-103...|   Actual_Arrival|        5:00| 0.25265936680465356|\n",
      "|2011-12-01-AA-103...|      Actual_Dept|        1:46|  0.5941952374581784|\n",
      "|2011-12-01-AA-103...|      Actual_Dept|        1:47| 0.15314539573716815|\n",
      "|2011-12-01-AA-103...|      Actual_Dept|        5:00| 0.25265936680465356|\n",
      "|2011-12-01-AA-103...|Scheduled_Arrival|        3:20|                 1.0|\n",
      "+--------------------+-----------------+------------+--------------------+\n",
      "only showing top 20 rows\n",
      "\n",
      "inference time: 1720.0378921\n",
      "\n"
     ]
    }
   ],
   "source": [
    "        start_time = t()\n",
    "        session.inference()\n",
    "        d = t() - start_time\n",
    "        list_time.append(d)\n",
    "        fx.write('inference time: ' + str(d) + '\\n')\n",
    "        print 'Probabilities table'\n",
    "        sql = holo_obj.dataengine.get_table_to_dataframe(\"Probabilities\", session.dataset)\n",
    "        sql.show()\n",
    "        print 'inference time: ' + str(d) + '\\n'\n",
    "        "
   ]
  },
  {
   "cell_type": "markdown",
   "metadata": {},
   "source": [
    "# Evaluation\n",
    " In this part, we find the accuracy of our results by comparing them to ground truth for our data"
   ]
  },
  {
   "cell_type": "code",
   "execution_count": 6,
   "metadata": {},
   "outputs": [
    {
     "name": "stdout",
     "output_type": "stream",
     "text": [
      "['Flight_Num', 'Scheduled_Dept', 'Actual_Dept', 'Scheduled_Arrival', 'Actual_Arrival']\n",
      "show the final table\n",
      "+--------------------+-----------------+------------+\n",
      "|            rv_index|          rv_attr|assigned_val|\n",
      "+--------------------+-----------------+------------+\n",
      "|2011-12-01-AA-100...|   Actual_Arrival|        2:57|\n",
      "|2011-12-01-AA-100...|      Actual_Dept|        2:07|\n",
      "|2011-12-01-AA-100...|Scheduled_Arrival|        3:00|\n",
      "|2011-12-01-AA-100...|   Scheduled_Dept|        1:55|\n",
      "|2011-12-01-AA-101...|   Actual_Arrival|        8:36|\n",
      "|2011-12-01-AA-101...|      Actual_Dept|        7:29|\n",
      "|2011-12-01-AA-101...|Scheduled_Arrival|        8:40|\n",
      "|2011-12-01-AA-101...|   Scheduled_Dept|        7:15|\n",
      "|2011-12-01-AA-103...|   Actual_Arrival|        3:14|\n",
      "|2011-12-01-AA-103...|      Actual_Dept|        1:46|\n",
      "|2011-12-01-AA-103...|Scheduled_Arrival|        3:20|\n",
      "|2011-12-01-AA-103...|   Scheduled_Dept|        1:25|\n",
      "|2011-12-01-AA-104...|   Actual_Arrival|        1:17|\n",
      "|2011-12-01-AA-104...|      Actual_Dept|       10:17|\n",
      "|2011-12-01-AA-104...|Scheduled_Arrival|        1:25|\n",
      "|2011-12-01-AA-104...|   Scheduled_Dept|       10:10|\n",
      "|2011-12-01-AA-104...|   Actual_Arrival|        2:50|\n",
      "|2011-12-01-AA-104...|      Actual_Dept|       11:35|\n",
      "|2011-12-01-AA-104...|Scheduled_Arrival|        2:50|\n",
      "|2011-12-01-AA-104...|   Scheduled_Dept|       11:10|\n",
      "+--------------------+-----------------+------------+\n",
      "only showing top 20 rows\n",
      "\n",
      "show ground_truth\n",
      "+--------------------+--------------+------------+\n",
      "|            rv_index|       rv_attr|assigned_val|\n",
      "+--------------------+--------------+------------+\n",
      "|2011-12-05-AA-154...|Scheduled_Dept|       11:25|\n",
      "|2011-12-05-AA-204...|Scheduled_Dept|       11:25|\n",
      "|2011-12-05-AA-231...|Scheduled_Dept|        8:25|\n",
      "|2011-12-05-AA-3-J...|Scheduled_Dept|       12:00|\n",
      "|2011-12-05-AA-380...|Scheduled_Dept|        6:00|\n",
      "|2011-12-05-AA-382...|Scheduled_Dept|        9:00|\n",
      "|2011-12-05-AA-385...|Scheduled_Dept|        7:10|\n",
      "|2011-12-05-AA-397...|Scheduled_Dept|        7:30|\n",
      "|2011-12-05-AA-404...|Scheduled_Dept|        6:45|\n",
      "|2011-12-05-AA-419...|Scheduled_Dept|       10:40|\n",
      "|2011-12-05-AA-427...|Scheduled_Dept|       12:10|\n",
      "|2011-12-05-AA-446...|Scheduled_Dept|       11:50|\n",
      "|2011-12-05-CO-158...|Scheduled_Dept|        7:00|\n",
      "|2011-12-05-CO-16-...|Scheduled_Dept|       10:25|\n",
      "|2011-12-05-CO-47-...|Scheduled_Dept|        7:10|\n",
      "|2011-12-05-CO-488...|Scheduled_Dept|        5:30|\n",
      "|2011-12-05-CO-62-...|Scheduled_Dept|        2:30|\n",
      "|2011-12-05-UA-231...|Scheduled_Dept|        2:55|\n",
      "|2011-12-05-UA-248...|Scheduled_Dept|       12:57|\n",
      "|2011-12-05-UA-270...|Scheduled_Dept|       11:15|\n",
      "+--------------------+--------------+------------+\n",
      "only showing top 20 rows\n",
      "\n",
      "show incorrect values\n",
      "+--------------------+--------------+--------------------+\n",
      "|            rv_index|       rv_attr|        assigned_val|\n",
      "+--------------------+--------------+--------------------+\n",
      "|2011-12-11-UA-858...|Scheduled_Dept|                1:45|\n",
      "|2011-12-12-UA-548...|Actual_Arrival|               11:30|\n",
      "|2011-12-22-AA-616...|   Actual_Dept|                8:59|\n",
      "|2011-12-22-UA-257...|   Actual_Dept|                2:27|\n",
      "|2011-12-05-UA-248...|   Actual_Dept|               12:57|\n",
      "|2011-12-07-UA-283...|Actual_Arrival|                5:25|\n",
      "|2011-12-09-AA-173...|   Actual_Dept|                7:40|\n",
      "|2011-12-14-CO-119...|   Actual_Dept|                9:14|\n",
      "|2011-12-29-UA-248...|Actual_Arrival|                5:13|\n",
      "|2011-12-08-CO-47-...|   Actual_Dept|                7:12|\n",
      "|2011-12-27-AA-231...|   Actual_Dept|December 27; 2011...|\n",
      "|2011-12-27-UA-62-...|   Actual_Dept|                2:30|\n",
      "|2011-12-29-AA-205...|   Actual_Dept|               10:41|\n",
      "|2011-12-27-AA-3-J...|Actual_Arrival|                2:49|\n",
      "|2011-12-10-UA-257...|   Actual_Dept|                3:39|\n",
      "|2011-12-19-AA-419...|   Actual_Dept|               10:36|\n",
      "|2011-12-20-CO-156...|   Actual_Dept|                8:02|\n",
      "|2012-01-03-AA-191...|Actual_Arrival|                6:58|\n",
      "|2011-12-11-AA-346...|Actual_Arrival|               10:15|\n",
      "|2011-12-24-AA-164...|Actual_Arrival|December 24; 2011...|\n",
      "+--------------------+--------------+--------------------+\n",
      "only showing top 20 rows\n",
      "\n",
      "the number of tuples for the ground truth is :\n",
      "2442\n",
      "the incorrect values are:\n",
      "575\n",
      "the accuracy is:\n",
      "0.764537264537\n",
      "time to calculate accuracy: 29.7169818878\n",
      "\n"
     ]
    }
   ],
   "source": [
    "        start_time = t()\n",
    "\n",
    "        session.accuracy(\"data/clean_flight2/flight-data_truth.csv\")\n",
    "        d = t() - start_time\n",
    "        list_time.append(d)\n",
    "        fx.write('time to calculate accuracy: ' + str(d) + '\\n')\n",
    "        print 'time to calculate accuracy: ' + str(d) + '\\n'\n",
    "        fx.close()"
   ]
  },
  {
   "cell_type": "code",
   "execution_count": null,
   "metadata": {
    "collapsed": true
   },
   "outputs": [],
   "source": []
  }
 ],
 "metadata": {
  "kernelspec": {
   "display_name": "Python 2",
   "language": "python",
   "name": "python2"
  },
  "language_info": {
   "codemirror_mode": {
    "name": "ipython",
    "version": 2
   },
   "file_extension": ".py",
   "mimetype": "text/x-python",
   "name": "python",
   "nbconvert_exporter": "python",
   "pygments_lexer": "ipython2",
   "version": "2.7.13"
  }
 },
 "nbformat": 4,
 "nbformat_minor": 2
}
