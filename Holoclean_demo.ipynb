{
 "cells": [
  {
   "cell_type": "markdown",
   "metadata": {},
   "source": [
    "# HOLOCLEAN DEMO\n"
   ]
  },
  {
   "cell_type": "code",
   "execution_count": 1,
   "metadata": {
    "collapsed": true
   },
   "outputs": [],
   "source": [
    "from holoclean.holoclean import HoloClean, Session\n",
    "from holoclean.errordetection.errordetector import ErrorDetectors\n",
    "from holoclean.featurization.featurizer import SignalInit, SignalCooccur, SignalDC\n",
    "from holoclean.learning.accuracy import Accuracy\n",
    "from time import time as t"
   ]
  },
  {
   "cell_type": "markdown",
   "metadata": {},
   "source": [
    "## Start Holoclean demo\n",
    "Create HoloClean object and Session.\n",
    "The HoloClean object will log all info for the test.\n",
    "Session will be used to ingest data from input files."
   ]
  },
  {
   "cell_type": "code",
   "execution_count": 2,
   "metadata": {},
   "outputs": [
    {
     "name": "stdout",
     "output_type": "stream",
     "text": [
      "Testing started :1517334591.33\n"
     ]
    },
    {
     "name": "stderr",
     "output_type": "stream",
     "text": [
      "/home/james/anaconda/envs/python2.7/lib/python2.7/site-packages/sqlalchemy/dialects/mysql/base.py:1576: Warning: '@@tx_isolation' is deprecated and will be removed in a future release. Please use '@@transaction_isolation' instead\n",
      "  cursor.execute('SELECT @@tx_isolation')\n"
     ]
    }
   ],
   "source": [
    "        holo_obj = HoloClean()\n",
    "        session = Session(\"Session\", holo_obj) \n",
    "        print \"Testing started :\"+str(t())\n",
    "        "
   ]
  },
  {
   "cell_type": "markdown",
   "metadata": {},
   "source": [
    "## Read Input and DC from file\n",
    "Test data and the Denial Constraints will be read using the Session's ingestor.\n",
    "After ingesting the test data will be loaded into MySQL tables along with entries in the a metadata table."
   ]
  },
  {
   "cell_type": "code",
   "execution_count": 3,
   "metadata": {},
   "outputs": [
    {
     "name": "stdout",
     "output_type": "stream",
     "text": [
      "Init table\n",
      "+-----+--------------+--------------------+--------------------+\n",
      "|index|ProviderNumber|        HospitalName|            Address1|\n",
      "+-----+--------------+--------------------+--------------------+\n",
      "|    1|         10018|CALLAHAN EYE FOUN...|1720 UNIVERSITY BLVD|\n",
      "|    2|         10018|CALLAHAN EYE FOUN...|1720 UNIVERSITY BLVD|\n",
      "|    3|         10018|CALLAHAN EYE FOUN...|1720 UNIVERSITY BLVD|\n",
      "|    4|         10018|CALLAHAN EYE FOUN...|1720 UNIVERSITY BLVD|\n",
      "|    5|         10018|CALLAHAN EYE FOUN...|1720 UNIVERSITY BLVD|\n",
      "|    6|         10018|CALLAHAN EYE FOUN...|1720 UNIVERSITY BLVD|\n",
      "|    7|         10018|CALLAHAN EYE FOUN...|1720 UNIVERSITY BLVD|\n",
      "|    8|         10018|CALLAHAN EYE FOUN...|1720 UNIVERSITY BLVD|\n",
      "|    9|         10019|HELEN KELLER MEMO...|1300 SOUTH MONTGO...|\n",
      "|   10|         10019|HELEN KELLER MEMO...|1300 SOUTH MONTGO...|\n",
      "|   11|         10019|HELEN KELLER MEMO...|1300 SOUTH MONTGO...|\n",
      "|   12|         10019|HELEN KELLER MEMO...|1300 SOUTH MONTGO...|\n",
      "|   13|         10019|HELEN KELLER MEMO...|1300 SOUTH MONTGO...|\n",
      "|   14|         1xx19|HELEN KELLER MEMO...|1300 SOUTH MONTGO...|\n",
      "|   15|         10019|HELEN KELLER MEMO...|1300 SOUTH MONTGO...|\n",
      "|   16|         10019|HELEN KELLER MEMO...|1300 SOUTH MONTGO...|\n",
      "|   17|         10019|HELEN KELLER MEMO...|1300 SOUTH MONTGO...|\n",
      "|   18|         10019|HELEN KELLER MEMO...|1300 SOUTH MONTGO...|\n",
      "|   19|         10019|HELEN KELLER MEMO...|1300 SOUTH MONTGO...|\n",
      "|   20|         10001|SOUTHEAST ALABAMA...|1108 ROSS CLARK C...|\n",
      "+-----+--------------+--------------------+--------------------+\n",
      "only showing top 20 rows\n",
      "\n",
      "ingest csv time: 8.44092798233\n",
      "\n",
      "read denial constraints time: 0.0134520530701\n",
      "\n"
     ]
    }
   ],
   "source": [
    "        fx = open('execution_time.txt', 'w')\n",
    "        list_time = []\n",
    "        start_time = t()\n",
    "        \n",
    "        session.ingest_dataset(\"test/inputDatabase.csv\")\n",
    "        #session.ingest_dataset(\"test/test.csv\")\n",
    "        d = t()-start_time\n",
    "        list_time.append(d)\n",
    "        holo_obj.logger.info('ingest csv time: '+str(d)+'\\n')\n",
    "        fx.write('ingest csv time: '+str(d)+'\\n')\n",
    "        print 'Init table'\n",
    "        sql = holo_obj.dataengine.get_table_to_dataframe(\"Init\", session.dataset)\n",
    "        sql.select('index','ProviderNumber','HospitalName', 'Address1').show()\n",
    "        print 'ingest csv time: '+str(d)+'\\n'\n",
    "        \n",
    "        start_time = t()\n",
    "        \n",
    "        session.denial_constraints(\"test/inputConstraint.txt\")\n",
    "        #session.denial_constraints(\"test/dc1.txt\")\n",
    "        d = t() - start_time\n",
    "        list_time.append(d)\n",
    "        holo_obj.logger.info('read denial constraints time: '+str(d)+'\\n')\n",
    "        fx.write('read denial constraints time: '+str(d)+'\\n')\n",
    "        print 'read denial constraints time: '+str(d)+'\\n'\n"
   ]
  },
  {
   "cell_type": "markdown",
   "metadata": {},
   "source": [
    "## Error Detection\n",
    "Using the Denial Constraints read through the ingestor, apply Error Detection on the test data"
   ]
  },
  {
   "cell_type": "code",
   "execution_count": 4,
   "metadata": {},
   "outputs": [
    {
     "name": "stdout",
     "output_type": "stream",
     "text": [
      "Clean table\n",
      "+---+----------------+\n",
      "|ind|            attr|\n",
      "+---+----------------+\n",
      "|104|    HospitalType|\n",
      "| 10|        Address1|\n",
      "|110|  ProviderNumber|\n",
      "|106|EmergencyService|\n",
      "|132|   HospitalOwner|\n",
      "|106|        Address3|\n",
      "|126|      CountyName|\n",
      "|107|    HospitalName|\n",
      "|111|        Address1|\n",
      "|109|    HospitalType|\n",
      "|140|           Score|\n",
      "|165|        Stateavg|\n",
      "|163|  ProviderNumber|\n",
      "|147|        Address2|\n",
      "|110|    HospitalName|\n",
      "|167|   HospitalOwner|\n",
      "|156|      CountyName|\n",
      "|111|      CountyName|\n",
      "|183|EmergencyService|\n",
      "|152|           Score|\n",
      "+---+----------------+\n",
      "only showing top 20 rows\n",
      "\n",
      "Don't know table\n",
      "+---+-------+\n",
      "|ind|   attr|\n",
      "+---+-------+\n",
      "|853|ZipCode|\n",
      "|897|   City|\n",
      "| 52|   City|\n",
      "|658|   City|\n",
      "|433|ZipCode|\n",
      "|466|ZipCode|\n",
      "|199|   City|\n",
      "|974|   City|\n",
      "|219|ZipCode|\n",
      "|596|   City|\n",
      "|952|   City|\n",
      "|298|   City|\n",
      "|360|ZipCode|\n",
      "|941|ZipCode|\n",
      "|228|ZipCode|\n",
      "|702|   City|\n",
      "|206|   City|\n",
      "|643|ZipCode|\n",
      "|538|   City|\n",
      "|677|ZipCode|\n",
      "+---+-------+\n",
      "only showing top 20 rows\n",
      "\n",
      "error dectection time: 218.317898035\n",
      "\n"
     ]
    }
   ],
   "source": [
    "        start_time = t()\n",
    "        err_detector = ErrorDetectors(session.Denial_constraints, holo_obj.dataengine,\n",
    "                                      holo_obj.spark_session, session.dataset)\n",
    "        session.add_error_detector(err_detector)\n",
    "        session.ds_detect_errors()\n",
    "        d = t() - start_time\n",
    "        list_time.append(d)\n",
    "        holo_obj.logger.info('error dectection time: '+str(d)+'\\n')\n",
    "        fx.write('error dectection time: '+str(d)+'\\n')\n",
    "        \n",
    "        print 'Clean table'\n",
    "        sql = holo_obj.dataengine.get_table_to_dataframe(\"C_clean\", session.dataset)\n",
    "        sql.show()\n",
    "        print 'Don\\'t know table'\n",
    "        sql = holo_obj.dataengine.get_table_to_dataframe(\"C_dk\", session.dataset)\n",
    "        sql.show()\n",
    "        print 'error dectection time: '+str(d)+'\\n'"
   ]
  },
  {
   "cell_type": "markdown",
   "metadata": {},
   "source": [
    "## Domain Pruning\n"
   ]
  },
  {
   "cell_type": "code",
   "execution_count": 5,
   "metadata": {},
   "outputs": [
    {
     "name": "stdout",
     "output_type": "stream",
     "text": [
      "Possible Values table\n",
      "+---+-----------+-------------+--------+---------+\n",
      "|tid|  attr_name|     attr_val|observed|data_type|\n",
      "+---+-----------+-------------+--------+---------+\n",
      "|805|   Stateavg|     AL_AMI-3|       1|   String|\n",
      "|805|   Stateavg|      AL_HF-3|       0|   String|\n",
      "|574|   Stateavg|      AL_HF-1|       1|   String|\n",
      "|806|       City|      GADSDEN|       1|   String|\n",
      "|456|       City|    SHEFFIELD|       1|   String|\n",
      "|232|       City|   FORT PAYNE|       1|   String|\n",
      "|348|       City|       DOTHAN|       1|   String|\n",
      "|575|       City|       VALLEY|       1|   String|\n",
      "|232|      State|           AL|       1|   String|\n",
      "|456|       City|   BIRMINGHAM|       0|   String|\n",
      "|  1|       City|   BIRMINGHAM|       1|   String|\n",
      "|806|      State|           AL|       1|   String|\n",
      "|232|    ZipCode|        35968|       1|   String|\n",
      "|691|    ZipCode|        35233|       1|   String|\n",
      "|456|      State|           AL|       1|   String|\n",
      "|348|      State|           AL|       1|   String|\n",
      "|113|   Stateavg|AL_SCIP-INF-1|       1|   String|\n",
      "|232|PhoneNumber|   2568453150|       1|   String|\n",
      "|575|      State|           AL|       1|   String|\n",
      "|  1|      State|           AL|       1|   String|\n",
      "+---+-----------+-------------+--------+---------+\n",
      "only showing top 20 rows\n",
      "\n",
      "domain pruning time: 8.97229409218\n",
      "\n"
     ]
    }
   ],
   "source": [
    "        start_time = t()\n",
    "        pruning_threshold = 0.5\n",
    "        session.ds_domain_pruning(pruning_threshold)\n",
    "        d = t() - start_time\n",
    "        list_time.append(d)\n",
    "        holo_obj.logger.info('domain pruning time: '+str(d)+'\\n')\n",
    "        fx.write('domain pruning time: '+str(d)+'\\n')\n",
    "        \n",
    "        print 'Possible Values table'\n",
    "        sql = holo_obj.dataengine.get_table_to_dataframe(\"Possible_values\", session.dataset)\n",
    "        sql.show()\n",
    "        print 'domain pruning time: '+str(d)+'\\n'"
   ]
  },
  {
   "cell_type": "markdown",
   "metadata": {},
   "source": [
    "## Initial Value Signal "
   ]
  },
  {
   "cell_type": "code",
   "execution_count": 6,
   "metadata": {},
   "outputs": [
    {
     "name": "stdout",
     "output_type": "stream",
     "text": [
      "init signal time: 0.000231027603149\n",
      "\n"
     ]
    }
   ],
   "source": [
    "        start_time = t()\n",
    "        start_time1 = t()\n",
    "        initial_value_signal = SignalInit(session.Denial_constraints, holo_obj.dataengine,\n",
    "                                          session.dataset)\n",
    "        d = t() - start_time\n",
    "        list_time.append(d)\n",
    "        holo_obj.logger.info('init signal time: '+str(d)+'\\n')\n",
    "        fx.write('init signal time: '+str(d)+'\\n')\n",
    "        print 'init signal time: '+str(d)+'\\n'"
   ]
  },
  {
   "cell_type": "markdown",
   "metadata": {},
   "source": [
    "## Co-occurence Signal "
   ]
  },
  {
   "cell_type": "code",
   "execution_count": 7,
   "metadata": {},
   "outputs": [
    {
     "name": "stdout",
     "output_type": "stream",
     "text": [
      "cooccur signal time: 0.000562906265259\n",
      "\n"
     ]
    }
   ],
   "source": [
    "        start_time = t()\n",
    "        session.add_featurizer(initial_value_signal)\n",
    "        statistics_signal = SignalCooccur(session.Denial_constraints, holo_obj.dataengine,\n",
    "                                          session.dataset)\n",
    "        d = t() - start_time\n",
    "        list_time.append(d)\n",
    "        holo_obj.logger.info('cooccur signal time: '+str(d)+'\\n')\n",
    "        fx.write('cooccur signal time: '+str(d)+'\\n')\n",
    "        print 'cooccur signal time: '+str(d)+'\\n'"
   ]
  },
  {
   "cell_type": "markdown",
   "metadata": {},
   "source": [
    "## DC Featurization "
   ]
  },
  {
   "cell_type": "code",
   "execution_count": 8,
   "metadata": {
    "scrolled": true
   },
   "outputs": [
    {
     "name": "stdout",
     "output_type": "stream",
     "text": [
      "dc signal time: 0.00037693977356\n",
      "\n",
      "dc featurize time: 0.000338077545166\n",
      "\n",
      "adding weight_id to feature table...\n",
      "adding weight_id to feature table is finished\n",
      "Feature table\n",
      "+---------+--------+--------------+--------------------+--------------------+----+---------+\n",
      "|var_index|rv_index|       rv_attr|        assigned_val|             feature|TYPE|weight_id|\n",
      "+---------+--------+--------------+--------------------+--------------------+----+---------+\n",
      "|        1|     593|      Stateavg|            AL_AMI-2|       Init=AL_AMI-2|init|         |\n",
      "|        2|     378|          City|            WINFIELD|       Init=WINFIELD|init|         |\n",
      "|        3|     108|   MeasureName|Pneumonia Patient...|Init=Pneumonia Pa...|init|         |\n",
      "|        4|     594|ProviderNumber|               10027|          Init=10027|init|         |\n",
      "|        5|       1|ProviderNumber|               10018|          Init=10018|init|         |\n",
      "|        6|     863|         State|                  AL|             Init=AL|init|         |\n",
      "|        7|     378|         State|                  AL|             Init=AL|init|         |\n",
      "|        8|     863|       ZipCode|               35570|          Init=35570|init|         |\n",
      "|        9|     378|       ZipCode|               35594|          Init=35594|init|         |\n",
      "|       10|     108|      Stateavg|             AL_PN-4|        Init=AL_PN-4|init|         |\n",
      "|       11|     486|          City|               xZARK|          Init=xZARK|init|         |\n",
      "|       12|     109|ProviderNumber|               10007|          Init=10007|init|         |\n",
      "|       13|     216|     Condition|Surgical Infectio...|Init=Surgical Inf...|init|         |\n",
      "|       14|     378|   PhoneNumber|          2054877736|     Init=2054877736|init|         |\n",
      "|       15|     486|         State|                  AL|             Init=AL|init|         |\n",
      "|       16|     863|   PhoneNumber|          2059216200|     Init=2059216200|init|         |\n",
      "|       17|     594|          City|                ELBA|           Init=ELBA|init|         |\n",
      "|       18|     486|       ZipCode|               36360|          Init=36360|init|         |\n",
      "|       19|       1|          City|          BIRMINGHAM|     Init=BIRMINGHAM|init|         |\n",
      "|       20|     216|   MeasureCode|          SCIP-INF-4|     Init=SCIP-INF-4|init|         |\n",
      "+---------+--------+--------------+--------------------+--------------------+----+---------+\n",
      "only showing top 20 rows\n",
      "\n",
      "total featurization time: 513.40741086\n",
      "\n"
     ]
    }
   ],
   "source": [
    "        start_time = t()\n",
    "        session.add_featurizer(statistics_signal)\n",
    "        d = t() - start_time\n",
    "        list_time.append(d)\n",
    "        holo_obj.logger.info('dc signal time: '+str(d)+'\\n')\n",
    "        fx.write('dc signal time: '+str(d)+'\\n')\n",
    "        print 'dc signal time: '+str(d)+'\\n'\n",
    "        start_time = t()\n",
    "        dc_signal = SignalDC(session.Denial_constraints, holo_obj.dataengine, session.dataset)\n",
    "        d = t() - start_time\n",
    "        list_time.append(d)\n",
    "        holo_obj.logger.info('dc featurize time: '+str(d)+'\\n')\n",
    "        fx.write('dc featurize time: '+str(d)+'\\n')\n",
    "        print 'dc featurize time: '+str(d)+'\\n'\n",
    "        session.add_featurizer(dc_signal)\n",
    "        session.ds_featurize()\n",
    "        d = t() - start_time\n",
    "        list_time.append(d)\n",
    "        holo_obj.logger.info('total featurization time: '+str(d)+'\\n')\n",
    "        fx.write('total featurization time: '+str(d)+'\\n')\n",
    "        print 'Feature table'\n",
    "        sql = holo_obj.dataengine.get_table_to_dataframe(\"Feature_temp\", session.dataset)\n",
    "        sql.show()\n",
    "        \n",
    "        print 'total featurization time: '+str(d)+'\\n'"
   ]
  },
  {
   "cell_type": "markdown",
   "metadata": {},
   "source": [
    "## Data Repair"
   ]
  },
  {
   "cell_type": "code",
   "execution_count": 9,
   "metadata": {},
   "outputs": [
    {
     "name": "stdout",
     "output_type": "stream",
     "text": [
      "numbskull is starting\n",
      "wrapper is starting\n",
      "wrapper is finished\n",
      "1\n",
      "numbskull is finished\n",
      "adding weight is finished is finished\n",
      "numbskull time: 205.241176844\n",
      "\n",
      "starting repairs\n",
      "repairs are finished\n",
      "+-------+-------+--------+------------+-------------------+\n",
      "|rv_attr|rv_attr|rv_index|assigned_val|        probability|\n",
      "+-------+-------+--------+------------+-------------------+\n",
      "|   City|   City|       1|  BIRMINGHAM|                1.0|\n",
      "|   City|   City|      10|  BIRMINGHAM| 0.2688911018612754|\n",
      "|   City|   City|      10|   SHEFFIELD| 0.7311088981387246|\n",
      "|   City|   City|     100|         OPP|                1.0|\n",
      "|   City|   City|    1000|     ONEONTA|                1.0|\n",
      "|   City|   City|     101|         OPP|                1.0|\n",
      "|   City|   City|     102|         OPP|                1.0|\n",
      "|   City|   City|     103|         OPP|                1.0|\n",
      "|   City|   City|     104|         OPP|                1.0|\n",
      "|   City|   City|     105|         OPP|                1.0|\n",
      "|   City|   City|     106|         OPP|                1.0|\n",
      "|   City|   City|     107|         OPP|                1.0|\n",
      "|   City|   City|     108|         OPP|                1.0|\n",
      "|   City|   City|     109|         OPP|                1.0|\n",
      "|   City|   City|      11|  BIRMINGHAM|0.26889663740974473|\n",
      "|   City|   City|      11|   SHEFFxELD| 0.7311033625902552|\n",
      "|   City|   City|     110|         OPP|                1.0|\n",
      "|   City|   City|     111|         OPP|                1.0|\n",
      "|   City|   City|     112|         OPP|                1.0|\n",
      "|   City|   City|     113|         OPP|                1.0|\n",
      "+-------+-------+--------+------------+-------------------+\n",
      "only showing top 20 rows\n",
      "\n",
      "repair time: 197.716642141\n",
      "\n",
      "Total time: 1152.11131096\n",
      "\n"
     ]
    }
   ],
   "source": [
    "        start_time = t()\n",
    "        session._numskull()\n",
    "        d = t() - start_time\n",
    "        list_time.append(d)\n",
    "        holo_obj.logger.info('numbskull time: '+str(d)+'\\n')\n",
    "        fx.write('numbskull time: '+str(d)+'\\n')\n",
    "        print 'numbskull time: '+str(d)+'\\n'\n",
    "        start_time = t()\n",
    "        session.ds_repair()\n",
    "        d = t() - start_time\n",
    "        list_time.append(d)\n",
    "        holo_obj.logger.info('repair time: '+str(d)+'\\n')\n",
    "        fx.write('repair time: '+str(d)+'\\n')\n",
    "        print 'repair time: '+str(d)+'\\n'\n",
    "\n",
    "        holo_obj.logger.info('Total time: ' + str(sum(list_time)) + '\\n')\n",
    "        fx.write('Total time: ' + str(sum(list_time)) + '\\n')\n",
    "        print 'Total time: ' + str(sum(list_time)) + '\\n'\n",
    "\n",
    "        fx.close()"
   ]
  }
 ],
 "metadata": {
  "kernelspec": {
   "display_name": "Python 2",
   "language": "python",
   "name": "python2"
  },
  "language_info": {
   "codemirror_mode": {
    "name": "ipython",
    "version": 2
   },
   "file_extension": ".py",
   "mimetype": "text/x-python",
   "name": "python",
   "nbconvert_exporter": "python",
   "pygments_lexer": "ipython2",
   "version": "2.7.13"
  }
 },
 "nbformat": 4,
 "nbformat_minor": 2
}
