{
 "cells": [
  {
   "cell_type": "markdown",
   "metadata": {},
   "source": [
    "# HOLOCLEAN DEMO\n"
   ]
  },
  {
   "cell_type": "code",
   "execution_count": 1,
   "metadata": {
    "collapsed": true
   },
   "outputs": [],
   "source": [
    "from holoclean.holoclean import HoloClean, Session\n",
    "from holoclean.errordetection.errordetector import ErrorDetectors\n",
    "from holoclean.featurization.featurizer import SignalInit, SignalCooccur, SignalDC\n",
    "from holoclean.learning.accuracy import Accuracy\n",
    "from time import time as t"
   ]
  },
  {
   "cell_type": "markdown",
   "metadata": {},
   "source": [
    "## Start Holoclean demo\n",
    "Create HoloClean object and Session.\n",
    "The HoloClean object will log all info for the test.\n",
    "Session will be used to ingest data from input files."
   ]
  },
  {
   "cell_type": "code",
   "execution_count": 2,
   "metadata": {},
   "outputs": [
    {
     "name": "stdout",
     "output_type": "stream",
     "text": [
      "Testing started :1517285806.76\n"
     ]
    },
    {
     "name": "stderr",
     "output_type": "stream",
     "text": [
      "/home/james/anaconda/envs/python2.7/lib/python2.7/site-packages/sqlalchemy/dialects/mysql/base.py:1576: Warning: '@@tx_isolation' is deprecated and will be removed in a future release. Please use '@@transaction_isolation' instead\n",
      "  cursor.execute('SELECT @@tx_isolation')\n"
     ]
    }
   ],
   "source": [
    "        holo_obj = HoloClean()\n",
    "        session = Session(\"Session\", holo_obj) \n",
    "        print \"Testing started :\"+str(t())\n",
    "        "
   ]
  },
  {
   "cell_type": "markdown",
   "metadata": {},
   "source": [
    "## Read Input and DC from file\n",
    "Test data and the Denial Constraints will be read using the Session's ingestor.\n",
    "After ingesting the test data will be loaded into MySQL tables along with entries in the a metadata table."
   ]
  },
  {
   "cell_type": "code",
   "execution_count": 3,
   "metadata": {},
   "outputs": [
    {
     "name": "stdout",
     "output_type": "stream",
     "text": [
      "Init table\n",
      "+-----+---+---+---+-------+\n",
      "|index|  A|  B|  C|Number1|\n",
      "+-----+---+---+---+-------+\n",
      "|    1|  p|  a|  d|      1|\n",
      "|    2|  p|  b|  e|      2|\n",
      "|    3|  o|  b|  f|      3|\n",
      "+-----+---+---+---+-------+\n",
      "\n",
      "ingest csv time: 4.4314250946\n",
      "\n",
      "read denial constraints time: 0.000128984451294\n",
      "\n"
     ]
    }
   ],
   "source": [
    "        fx = open('execution_time.txt', 'w')\n",
    "        list_time = []\n",
    "        start_time = t()\n",
    "        \n",
    "        #session.ingest_dataset(\"test/inputDatabase.csv\")\n",
    "        session.ingest_dataset(\"test/test.csv\")\n",
    "        d = t()-start_time\n",
    "        list_time.append(d)\n",
    "        holo_obj.logger.info('ingest csv time: '+str(d)+'\\n')\n",
    "        fx.write('ingest csv time: '+str(d)+'\\n')\n",
    "        print 'Init table'\n",
    "        sql = holo_obj.dataengine.get_table_to_dataframe(\"Init\", session.dataset)\n",
    "        sql.show()\n",
    "        print 'ingest csv time: '+str(d)+'\\n'\n",
    "        \n",
    "        start_time = t()\n",
    "        \n",
    "        #session.denial_constraints(\"test/inputConstraint.txt\")\n",
    "        session.denial_constraints(\"test/dc1.txt\")\n",
    "        d = t() - start_time\n",
    "        list_time.append(d)\n",
    "        holo_obj.logger.info('read denial constraints time: '+str(d)+'\\n')\n",
    "        fx.write('read denial constraints time: '+str(d)+'\\n')\n",
    "        print 'read denial constraints time: '+str(d)+'\\n'\n"
   ]
  },
  {
   "cell_type": "markdown",
   "metadata": {},
   "source": [
    "## Error Detection\n",
    "Using the Denial Constraints read through the ingestor, apply Error Detection on the test data"
   ]
  },
  {
   "cell_type": "code",
   "execution_count": 4,
   "metadata": {},
   "outputs": [
    {
     "name": "stdout",
     "output_type": "stream",
     "text": [
      "Clean table\n",
      "+---+-------+\n",
      "|ind|   attr|\n",
      "+---+-------+\n",
      "|  3|      C|\n",
      "|  3|Number1|\n",
      "|  3|      A|\n",
      "|  3|      B|\n",
      "|  1|      C|\n",
      "|  2|      C|\n",
      "+---+-------+\n",
      "\n",
      "Don't know table\n",
      "+---+-------+\n",
      "|ind|   attr|\n",
      "+---+-------+\n",
      "|  1|      A|\n",
      "|  2|Number1|\n",
      "|  2|      B|\n",
      "|  1|      B|\n",
      "|  1|Number1|\n",
      "|  2|      A|\n",
      "+---+-------+\n",
      "\n",
      "error dectection time: 50.5282518864\n",
      "\n"
     ]
    }
   ],
   "source": [
    "        start_time = t()\n",
    "        err_detector = ErrorDetectors(session.Denial_constraints, holo_obj.dataengine,\n",
    "                                      holo_obj.spark_session, session.dataset)\n",
    "        session.add_error_detector(err_detector)\n",
    "        session.ds_detect_errors()\n",
    "        d = t() - start_time\n",
    "        list_time.append(d)\n",
    "        holo_obj.logger.info('error dectection time: '+str(d)+'\\n')\n",
    "        fx.write('error dectection time: '+str(d)+'\\n')\n",
    "        \n",
    "        print 'Clean table'\n",
    "        sql = holo_obj.dataengine.get_table_to_dataframe(\"C_clean\", session.dataset)\n",
    "        sql.show()\n",
    "        print 'Don\\'t know table'\n",
    "        sql = holo_obj.dataengine.get_table_to_dataframe(\"C_dk\", session.dataset)\n",
    "        sql.show()\n",
    "        print 'error dectection time: '+str(d)+'\\n'"
   ]
  },
  {
   "cell_type": "markdown",
   "metadata": {},
   "source": [
    "## Domain Pruning\n"
   ]
  },
  {
   "cell_type": "code",
   "execution_count": 5,
   "metadata": {},
   "outputs": [
    {
     "name": "stdout",
     "output_type": "stream",
     "text": [
      "Init Flat table\n",
      "+---+---------+--------+\n",
      "|tid|attr_name|attr_val|\n",
      "+---+---------+--------+\n",
      "|  1|        A|       p|\n",
      "|  3|        C|       f|\n",
      "|  3|  Number1|       3|\n",
      "|  2|  Number1|       2|\n",
      "|  1|        B|       a|\n",
      "|  1|  Number1|       1|\n",
      "|  2|        A|       p|\n",
      "|  3|        B|       b|\n",
      "|  3|        A|       o|\n",
      "|  2|        C|       e|\n",
      "|  2|        B|       b|\n",
      "|  1|        C|       d|\n",
      "+---+---------+--------+\n",
      "\n",
      "domain pruning time: 1.14676117897\n",
      "\n"
     ]
    }
   ],
   "source": [
    "        start_time = t()\n",
    "        pruning_threshold = 0.5\n",
    "        session.ds_domain_pruning(pruning_threshold)\n",
    "        d = t() - start_time\n",
    "        list_time.append(d)\n",
    "        holo_obj.logger.info('domain pruning time: '+str(d)+'\\n')\n",
    "        fx.write('domain pruning time: '+str(d)+'\\n')\n",
    "        \n",
    "        print 'Init Flat table'\n",
    "        sql = holo_obj.dataengine.get_table_to_dataframe(\"Init_flat\", session.dataset)\n",
    "        sql.show()\n",
    "        print 'domain pruning time: '+str(d)+'\\n'"
   ]
  },
  {
   "cell_type": "markdown",
   "metadata": {},
   "source": [
    "## Initial Value Signal "
   ]
  },
  {
   "cell_type": "code",
   "execution_count": 6,
   "metadata": {},
   "outputs": [
    {
     "name": "stdout",
     "output_type": "stream",
     "text": [
      "init signal time: 0.13618183136\n",
      "\n"
     ]
    }
   ],
   "source": [
    "        start_time = t()\n",
    "        start_time1 = t()\n",
    "        initial_value_signal = SignalInit(session.Denial_constraints, holo_obj.dataengine,\n",
    "                                          session.dataset)\n",
    "        d = t() - start_time\n",
    "        list_time.append(d)\n",
    "        holo_obj.logger.info('init signal time: '+str(d)+'\\n')\n",
    "        fx.write('init signal time: '+str(d)+'\\n')\n",
    "        print 'init signal time: '+str(d)+'\\n'"
   ]
  },
  {
   "cell_type": "markdown",
   "metadata": {},
   "source": [
    "## Co-occurence Signal "
   ]
  },
  {
   "cell_type": "code",
   "execution_count": 7,
   "metadata": {},
   "outputs": [
    {
     "name": "stdout",
     "output_type": "stream",
     "text": [
      "cooccur signal time: 0.162782907486\n",
      "\n"
     ]
    }
   ],
   "source": [
    "        start_time = t()\n",
    "        session.add_featurizer(initial_value_signal)\n",
    "        statistics_signal = SignalCooccur(session.Denial_constraints, holo_obj.dataengine,\n",
    "                                          session.dataset)\n",
    "        d = t() - start_time\n",
    "        list_time.append(d)\n",
    "        holo_obj.logger.info('cooccur signal time: '+str(d)+'\\n')\n",
    "        fx.write('cooccur signal time: '+str(d)+'\\n')\n",
    "        print 'cooccur signal time: '+str(d)+'\\n'"
   ]
  },
  {
   "cell_type": "markdown",
   "metadata": {},
   "source": [
    "## DC Featurization "
   ]
  },
  {
   "cell_type": "code",
   "execution_count": 8,
   "metadata": {},
   "outputs": [
    {
     "name": "stdout",
     "output_type": "stream",
     "text": [
      "dc signal time: 0.000458002090454\n",
      "\n",
      "dc featurize time: 0.176409006119\n",
      "\n",
      "adding weight_id to feature table...\n",
      "adding weight_id to feature table is finished\n",
      "Feature table\n",
      "+---------+--------+-------+------------+---------+-------+---------+\n",
      "|var_index|rv_index|rv_attr|assigned_val|  feature|   TYPE|weight_id|\n",
      "+---------+--------+-------+------------+---------+-------+---------+\n",
      "|        1|       1|      A|           p|   Init=p|   init|         |\n",
      "|        2|       3|Number1|           3|   Init=3|   init|         |\n",
      "|        3|       2|Number1|           2|   Init=2|   init|         |\n",
      "|        4|       1|      B|           a|   Init=a|   init|         |\n",
      "|        5|       1|Number1|           1|   Init=1|   init|         |\n",
      "|        6|       2|      A|           p|   Init=p|   init|         |\n",
      "|        7|       3|      B|           b|   Init=b|   init|         |\n",
      "|        8|       3|      A|           o|   Init=o|   init|         |\n",
      "|        9|       2|      B|           b|   Init=b|   init|         |\n",
      "|       10|       1|      A|           p|      C=d|cooccur|         |\n",
      "|       11|       3|Number1|           3|      C=f|cooccur|         |\n",
      "|       12|       3|Number1|           3|      B=b|cooccur|         |\n",
      "|       13|       3|Number1|           3|      A=o|cooccur|         |\n",
      "|       14|       2|Number1|           2|      C=e|cooccur|         |\n",
      "|       15|       1|      B|           a|      C=d|cooccur|         |\n",
      "|       16|       1|Number1|           1|      C=d|cooccur|         |\n",
      "|       17|       2|      A|           p|      C=e|cooccur|         |\n",
      "|       18|       3|      B|           b|      C=f|cooccur|         |\n",
      "|       19|       3|      B|           b|Number1=3|cooccur|         |\n",
      "|       20|       3|      B|           b|      A=o|cooccur|         |\n",
      "+---------+--------+-------+------------+---------+-------+---------+\n",
      "only showing top 20 rows\n",
      "\n",
      "total featurization time: 2.05614590645\n",
      "\n"
     ]
    }
   ],
   "source": [
    "        start_time = t()\n",
    "        session.add_featurizer(statistics_signal)\n",
    "        d = t() - start_time\n",
    "        list_time.append(d)\n",
    "        holo_obj.logger.info('dc signal time: '+str(d)+'\\n')\n",
    "        fx.write('dc signal time: '+str(d)+'\\n')\n",
    "        print 'dc signal time: '+str(d)+'\\n'\n",
    "        start_time = t()\n",
    "        dc_signal = SignalDC(session.Denial_constraints, holo_obj.dataengine, session.dataset)\n",
    "        d = t() - start_time\n",
    "        list_time.append(d)\n",
    "        holo_obj.logger.info('dc featurize time: '+str(d)+'\\n')\n",
    "        fx.write('dc featurize time: '+str(d)+'\\n')\n",
    "        print 'dc featurize time: '+str(d)+'\\n'\n",
    "        session.add_featurizer(dc_signal)\n",
    "        session.ds_featurize()\n",
    "        d = t() - start_time\n",
    "        list_time.append(d)\n",
    "        holo_obj.logger.info('total featurization time: '+str(d)+'\\n')\n",
    "        fx.write('total featurization time: '+str(d)+'\\n')\n",
    "        print 'Feature table'\n",
    "        sql = holo_obj.dataengine.get_table_to_dataframe(\"Feature_temp\", session.dataset)\n",
    "        sql.show()\n",
    "        \n",
    "        print 'total featurization time: '+str(d)+'\\n'"
   ]
  },
  {
   "cell_type": "markdown",
   "metadata": {},
   "source": [
    "## Data Repair"
   ]
  },
  {
   "cell_type": "code",
   "execution_count": 9,
   "metadata": {},
   "outputs": [
    {
     "name": "stdout",
     "output_type": "stream",
     "text": [
      "numbskull is starting\n",
      "wrapper is starting\n",
      "wrapper is finished\n",
      "1\n",
      "numbskull is finished\n",
      "adding weight is finished is finished\n",
      "numbskull time: 2.97180604935\n",
      "\n",
      "starting repairs\n",
      "repairs are finished\n",
      "+-------+-------+--------+------------+-----------+\n",
      "|rv_attr|rv_attr|rv_index|assigned_val|probability|\n",
      "+-------+-------+--------+------------+-----------+\n",
      "|      A|      A|       1|           p|        1.0|\n",
      "|      A|      A|       2|           p|        1.0|\n",
      "|      A|      A|       3|           o|        1.0|\n",
      "|      B|      B|       1|           a|        1.0|\n",
      "|      B|      B|       2|           b|        1.0|\n",
      "|      B|      B|       3|           b|        1.0|\n",
      "|Number1|Number1|       1|           1|        1.0|\n",
      "|Number1|Number1|       2|           2|        1.0|\n",
      "|Number1|Number1|       3|           3|        1.0|\n",
      "+-------+-------+--------+------------+-----------+\n",
      "\n",
      "repair time: 1.44347000122\n",
      "\n",
      "Total time: 63.0538208485\n",
      "\n"
     ]
    }
   ],
   "source": [
    "        start_time = t()\n",
    "        session._numskull()\n",
    "        d = t() - start_time\n",
    "        list_time.append(d)\n",
    "        holo_obj.logger.info('numbskull time: '+str(d)+'\\n')\n",
    "        fx.write('numbskull time: '+str(d)+'\\n')\n",
    "        print 'numbskull time: '+str(d)+'\\n'\n",
    "        start_time = t()\n",
    "        session.ds_repair()\n",
    "        d = t() - start_time\n",
    "        list_time.append(d)\n",
    "        holo_obj.logger.info('repair time: '+str(d)+'\\n')\n",
    "        fx.write('repair time: '+str(d)+'\\n')\n",
    "        print 'repair time: '+str(d)+'\\n'\n",
    "\n",
    "        holo_obj.logger.info('Total time: ' + str(sum(list_time)) + '\\n')\n",
    "        fx.write('Total time: ' + str(sum(list_time)) + '\\n')\n",
    "        print 'Total time: ' + str(sum(list_time)) + '\\n'\n",
    "\n",
    "        fx.close()"
   ]
  }
 ],
 "metadata": {
  "kernelspec": {
   "display_name": "Python 2",
   "language": "python",
   "name": "python2"
  },
  "language_info": {
   "codemirror_mode": {
    "name": "ipython",
    "version": 2
   },
   "file_extension": ".py",
   "mimetype": "text/x-python",
   "name": "python",
   "nbconvert_exporter": "python",
   "pygments_lexer": "ipython2",
   "version": "2.7.13"
  }
 },
 "nbformat": 4,
 "nbformat_minor": 2
}
