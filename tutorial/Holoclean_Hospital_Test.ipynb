{
 "cells": [
  {
   "cell_type": "markdown",
   "metadata": {},
   "source": [
    "Noisy and erroneous data is a major bottleneck in analytics. Data cleaning and repairing account for about 60% of the work of data scientists. To address this bottleneck, we recently introduced HoloClean, a semi-automated data repairing framework that relies on statistical learning and inference to repair errors in structured data. In HoloClean, we build upon the paradigm of weak supervision and demonstrate how to leverage diverse signals, including user-defined heuristic rules (such as generalized data integrity constraints) and external dictionaries, to repair erroneous data. "
   ]
  },
  {
   "cell_type": "markdown",
   "metadata": {},
   "source": [
    "In this post, we walk through the process of implementing Holoclean, by creating a simple end-to-end example."
   ]
  },
  {
   "cell_type": "markdown",
   "metadata": {},
   "source": [
    "# Setup"
   ]
  },
  {
   "cell_type": "markdown",
   "metadata": {},
   "source": [
    "Firstly, we import all the module from Holoclean that we will use."
   ]
  },
  {
   "cell_type": "code",
   "execution_count": 1,
   "metadata": {
    "collapsed": true
   },
   "outputs": [],
   "source": [
    "from holoclean.holoclean import HoloClean, Session\n",
    "from holoclean.errordetection.errordetector import ErrorDetectors\n",
    "from holoclean.featurization.featurizer import SignalInit, SignalCooccur, SignalDC\n",
    "from holoclean.featurization.featurizer import Featurizer\n",
    "from holoclean.learning.softmax import SoftMax\n",
    "from holoclean.learning.accuracy import Accuracy\n",
    "import time"
   ]
  },
  {
   "cell_type": "markdown",
   "metadata": {},
   "source": [
    "##   Initialization\n",
    "In this part, we create the Holoclean and Session object that we will use for this example."
   ]
  },
  {
   "cell_type": "code",
   "execution_count": 2,
   "metadata": {},
   "outputs": [
    {
     "name": "stderr",
     "output_type": "stream",
     "text": [
      "/Users/joshmcgrath/anaconda2/lib/python2.7/site-packages/sqlalchemy/dialects/mysql/base.py:1569: Warning: '@@tx_isolation' is deprecated and will be removed in a future release. Please use '@@transaction_isolation' instead\n",
      "  cursor.execute('SELECT @@tx_isolation')\n"
     ]
    }
   ],
   "source": [
    "holo_obj = HoloClean(mysql_driver = \"../holoclean/lib/mysql-connector-java-5.1.44-bin.jar\" )\n",
    "session = Session(\"Session\", holo_obj)\n",
    "        "
   ]
  },
  {
   "cell_type": "markdown",
   "metadata": {},
   "source": [
    "## Read Input and DC from file\n",
    "Test data and the Denial Constraints will be read using the Session's ingestor.\n",
    "After ingesting the test data will be loaded into MySQL tables along with entries in the a metadata table."
   ]
  },
  {
   "cell_type": "code",
   "execution_count": 3,
   "metadata": {
    "collapsed": true
   },
   "outputs": [],
   "source": [
    "dataset = \"../datasets/hospital1k/hospital_dataset.csv\"\n",
    "\n",
    "denial_constraints = \"../datasets/hospital1k/hospital_constraints.txt\"\n",
    "\n",
    "ground_truth = \"../datasets/hospital1k/groundtruth.csv\"\n",
    "\n",
    "# Ingesting Dataset and Denial Constraints\n",
    "\n",
    "session.ingest_dataset(dataset)\n",
    "\n",
    "\n",
    "\n",
    "session.denial_constraints(denial_constraints)\n",
    "\n",
    "sql = holo_obj.dataengine.get_table_to_dataframe(\"Init\", session.dataset)\n"
   ]
  },
  {
   "cell_type": "markdown",
   "metadata": {},
   "source": [
    "## Error Detection\n",
    "In this part, we create the error detection. The output of this part is the C_dk table that contains all the noisy cells and the C_Clean table that contains the clean cells"
   ]
  },
  {
   "cell_type": "code",
   "execution_count": null,
   "metadata": {},
   "outputs": [],
   "source": [
    "t0 = time.time()\n",
    "err_detector = ErrorDetectors(session.Denial_constraints, holo_obj, session.dataset,detection_type=None)\n",
    "session.add_error_detector(err_detector)\n",
    "session.ds_detect_errors()\n",
    "\n",
    "t1 = time.time()\n",
    "total = t1 - t0\n"
   ]
  },
  {
   "cell_type": "markdown",
   "metadata": {},
   "source": [
    "## Domain Pruning\n",
    "In this part, we prune the domain. The output of this part is the possible_values tables that contains all the possible values for each cell"
   ]
  },
  {
   "cell_type": "code",
   "execution_count": 5,
   "metadata": {},
   "outputs": [
    {
     "name": "stdout",
     "output_type": "stream",
     "text": [
      "domain pruning time: 37.3310968876\n",
      "\n",
      "Possible_values_clean\n",
      "+----+---+-----------+--------------------+--------+---------+\n",
      "| vid|tid|  attr_name|            attr_val|observed|domain_id|\n",
      "+----+---+-----------+--------------------+--------+---------+\n",
      "| 892|496|  Condition|        Heart Attack|       1|        1|\n",
      "| 893|496|MeasureCode|               AMI-x|       1|        1|\n",
      "| 893|496|MeasureCode|               AMI-5|       0|        2|\n",
      "| 238|141|       City|             LUVERNE|       1|        1|\n",
      "|1615|854|PhoneNumber|          2059216200|       1|        1|\n",
      "| 692|399|       City|          PRATTVILLE|       1|        1|\n",
      "|1132|630|      State|                  AL|       1|        1|\n",
      "| 485|288|  Condition|Surgical Infectio...|       1|        1|\n",
      "| 894|496|MeasureName|Heart Attack Pati...|       1|        1|\n",
      "| 239|141|   Stateavg|       AL_SCIP-INF-4|       1|        1|\n",
      "|1616|855|      State|                  AL|       1|        1|\n",
      "|   1|  1|      State|                  AL|       1|        1|\n",
      "| 693|399|  Condition|       Heart Failure|       1|        1|\n",
      "| 240|142|       City|             LUVERNE|       1|        1|\n",
      "| 895|496|   Stateavg|            AL_AMI-5|       1|        1|\n",
      "|1368|760|MeasureName|surgery patients ...|       1|        1|\n",
      "|1617|855|PhoneNumber|          2059216200|       1|        1|\n",
      "| 694|399|MeasureCode|                HF-1|       0|        1|\n",
      "| 241|142|  Condition|Surgical Infectio...|       1|        1|\n",
      "| 896|497|       City|              CENTRE|       1|        1|\n",
      "+----+---+-----------+--------------------+--------+---------+\n",
      "only showing top 20 rows\n",
      "\n",
      "Possible values dk\n",
      "+---+---+-----------+--------------------+--------+---------+\n",
      "|vid|tid|  attr_name|            attr_val|observed|domain_id|\n",
      "+---+---+-----------+--------------------+--------+---------+\n",
      "|  1|  1|       City|          BIRMINGHAM|       1|        1|\n",
      "|  2|  1|    ZipCode|               35233|       1|        1|\n",
      "|  3|  1|PhoneNumber|          2053258100|       1|        1|\n",
      "|  4|  1|  Condition|Surgical Infectio...|       1|        1|\n",
      "|  4|  1|  Condition|        Heart Attack|       0|        2|\n",
      "|  5|  1|MeasureCode|         SCIP-CARD-2|       1|        1|\n",
      "|  6|  1|MeasureName|surgery patients ...|       0|        1|\n",
      "|  6|  1|MeasureName|surgery patients ...|       1|        2|\n",
      "|  7|  2|       City|          BIRMINGHAM|       1|        1|\n",
      "|  8|  2|    ZipCode|               35233|       1|        1|\n",
      "|  9|  2|PhoneNumber|          2053258100|       1|        1|\n",
      "| 10|  3|       City|          BIRMINGHAM|       1|        1|\n",
      "| 11|  3|      State|                  AL|       1|        1|\n",
      "| 12|  3|    ZipCode|               35233|       1|        1|\n",
      "| 13|  3|PhoneNumber|          2053258100|       1|        1|\n",
      "| 14|  3|  Condition|Surgical Infectio...|       1|        1|\n",
      "| 14|  3|  Condition|        Heart Attack|       0|        2|\n",
      "| 15|  3|MeasureCode|          SCIP-INF-2|       1|        1|\n",
      "| 16|  3|   Stateavg|       AL_SCIP-INF-2|       1|        1|\n",
      "| 17|  4|       City|          BIRMINGHAM|       0|        1|\n",
      "+---+---+-----------+--------------------+--------+---------+\n",
      "only showing top 20 rows\n",
      "\n"
     ]
    }
   ],
   "source": [
    "t0 = time.time()\n",
    "pruning_threshold = 0.5\n",
    "session.ds_domain_pruning(pruning_threshold)\n",
    "\n",
    "t1 = time.time()\n",
    "total = t1 - t0\n",
    "holo_obj.logger.info('domain pruning time: '+str(total)+'\\n')\n",
    "print 'domain pruning time: '+str(total)+'\\n'\n",
    "\n",
    "print 'Possible_values_clean'\n",
    "sql = holo_obj.dataengine.get_table_to_dataframe(\"Possible_values_clean\", session.dataset)\n",
    "sql.show()\n",
    "\n",
    "print 'Possible values dk'\n",
    "sql = holo_obj.dataengine.get_table_to_dataframe(\"Possible_values_dk\", session.dataset)\n",
    "sql.show()"
   ]
  },
  {
   "cell_type": "markdown",
   "metadata": {},
   "source": [
    "# Featurization"
   ]
  },
  {
   "cell_type": "markdown",
   "metadata": {},
   "source": [
    "In this part, we implement the featurization module of holoclean. We choose the signals that we want to use and the output of this part is the featurization table that contains the factors that we will use"
   ]
  },
  {
   "cell_type": "markdown",
   "metadata": {},
   "source": [
    "## Feature Signals"
   ]
  },
  {
   "cell_type": "code",
   "execution_count": 6,
   "metadata": {},
   "outputs": [
    {
     "name": "stdout",
     "output_type": "stream",
     "text": [
      "Feature Signal Time: 0.000611066818237\n"
     ]
    }
   ],
   "source": [
    "t0 = time.time()\n",
    "initial_value_signal = SignalInit(session.Denial_constraints, holo_obj.dataengine,\n",
    "                              session.dataset)\n",
    "session.add_featurizer(initial_value_signal )\n",
    "statistics_signal = SignalCooccur(session.Denial_constraints, holo_obj.dataengine,\n",
    "                              session.dataset )\n",
    "session.add_featurizer(statistics_signal)\n",
    "dc_signal = SignalDC(session.Denial_constraints, holo_obj.dataengine, session.dataset,\n",
    "                 holo_obj.spark_session)\n",
    "session.add_featurizer(dc_signal)\n",
    "t1 = time.time()\n",
    "total = t1 - t0\n",
    "print \"Feature Signal Time:\", total"
   ]
  },
  {
   "cell_type": "markdown",
   "metadata": {},
   "source": [
    "We use the signals that we choose in the previous step. The output of this part is the featurization table that contains the factors that we will use in the next step."
   ]
  },
  {
   "cell_type": "code",
   "execution_count": 7,
   "metadata": {
    "scrolled": false
   },
   "outputs": [
    {
     "name": "stdout",
     "output_type": "stream",
     "text": [
      "featurization time: 14.0898318291\n",
      "\n"
     ]
    }
   ],
   "source": [
    "t0 = time.time()\n",
    "session.ds_featurize(clean = 1)\n",
    "\n",
    "t1 = time.time()\n",
    "\n",
    "total = t1 - t0\n",
    "\n",
    "holo_obj.logger.info('featurization time: '+str(total)+'\\n')\n",
    "print 'featurization time: '+str(total)+'\\n'"
   ]
  },
  {
   "cell_type": "markdown",
   "metadata": {},
   "source": [
    "#  Learning\n",
    "We create the X-tensor from the feature_clean table and run softmax on it, then we save results to MySQL and output the accuracy"
   ]
  },
  {
   "cell_type": "code",
   "execution_count": 8,
   "metadata": {},
   "outputs": [
    {
     "name": "stdout",
     "output_type": "stream",
     "text": [
      "time for training model: 112.9060359\n",
      "\n"
     ]
    }
   ],
   "source": [
    "t0 = time.time()\n",
    "soft = SoftMax(holo_obj.dataengine, session.dataset, holo_obj,\n",
    "                       session.X_training)\n",
    "\n",
    "soft.logreg()\n",
    "t1 = time.time()\n",
    "total = t1 - t0\n",
    "\n",
    "print 'time for training model: '+str(total)+'\\n'\n"
   ]
  },
  {
   "cell_type": "markdown",
   "metadata": {},
   "source": [
    "In this part, we use the new weight, to learn the probabilities for each value for the cells\n"
   ]
  },
  {
   "cell_type": "code",
   "execution_count": 9,
   "metadata": {
    "scrolled": false
   },
   "outputs": [
    {
     "name": "stdout",
     "output_type": "stream",
     "text": [
      "time for test featurization: 11.1193227768\n",
      "\n",
      "time for inference:  11.4453318119\n",
      "Inferred values for dk cells\n",
      "+------------------+----+-----------+--------------------+---+---------+\n",
      "|       probability| vid|  attr_name|            attr_val|tid|domain_id|\n",
      "+------------------+----+-----------+--------------------+---+---------+\n",
      "|0.5953319072723389| 406|PhoneNumber|          2565938310| 63|        1|\n",
      "|               1.0|   3|PhoneNumber|          2053258100|  1|        1|\n",
      "|               1.0| 307|  Condition|        Heart Attack| 49|        1|\n",
      "|               1.0|1161|MeasureCode|               PN-5C|184|        1|\n",
      "|               1.0| 196|    ZipCode|               36302| 31|        1|\n",
      "|0.5996459126472473|  17|       City|          BIRMINGHAM|  4|        1|\n",
      "|0.5955309867858887| 442|PhoneNumber|          2565938310| 69|        1|\n",
      "|               1.0|  48|      State|                  AL|  9|        1|\n",
      "|               1.0|  58|PhoneNumber|          2563864556| 10|        1|\n",
      "|0.5283018946647644|   6|MeasureName|surgery patients ...|  1|        1|\n",
      "|               1.0| 525|MeasureCode|                HF-4| 80|        1|\n",
      "|               1.0|1384|   Stateavg|       AL_SCIP-VTE-1|218|        1|\n",
      "|0.5141159296035767| 441|    ZipCode|               35957| 69|        2|\n",
      "|               1.0|  62|   Stateavg|            AL_AMI-2| 10|        1|\n",
      "|               1.0| 475|       City|            FLORENCE| 74|        1|\n",
      "|               1.0| 737|MeasureCode|          SCIP-INF-3|115|        1|\n",
      "|               1.0| 657|    ZipCode|               36467|101|        1|\n",
      "|0.5057989358901978|1285|    ZipCode|               35235|203|        1|\n",
      "|               1.0| 482|   Stateavg|            AL_AMI-5| 74|        1|\n",
      "|               1.0|  79|MeasureCode|               AMI-5| 13|        1|\n",
      "+------------------+----+-----------+--------------------+---+---------+\n",
      "only showing top 20 rows\n",
      "\n",
      "The precision that we have is :0.987947882736\n",
      "The recall that we have is :0.672727272727\n",
      "total time:  620.693203926\n"
     ]
    }
   ],
   "source": [
    "t0 = time.time()\n",
    "session.ds_featurize(clean = 0)\n",
    "t1 = time.time()\n",
    "total = t1 - t0\n",
    "print 'time for test featurization: ' + str(total) + '\\n'\n",
    "\n",
    "Y = soft.predict(soft.model, session.X_testing, soft.setupMask(0, session.N, session.L))\n",
    "t1 = time.time()\n",
    "total = t1 - t0\n",
    "print 'time for inference: ', total\n",
    "soft.save_prediction(Y)\n",
    "\n",
    "print 'Inferred values for dk cells'\n",
    "sql = holo_obj.dataengine.get_table_to_dataframe(\"Inferred_values\", session.dataset)\n",
    "sql.show()\n",
    "\n",
    "\n",
    "flattening = 0\n",
    "\n",
    "acc = Accuracy(holo_obj.dataengine, ground_truth, session.dataset,\n",
    "               holo_obj.spark_session)\n",
    "acc.accuracy_calculation(flattening)\n",
    "\n",
    "\n",
    "endtime = time.time()\n",
    "print 'total time: ', endtime - start_time"
   ]
  }
 ],
 "metadata": {
  "kernelspec": {
   "display_name": "Python 2",
   "language": "python",
   "name": "python2"
  },
  "language_info": {
   "codemirror_mode": {
    "name": "ipython",
    "version": 2
   },
   "file_extension": ".py",
   "mimetype": "text/x-python",
   "name": "python",
   "nbconvert_exporter": "python",
   "pygments_lexer": "ipython2",
   "version": "2.7.14"
  }
 },
 "nbformat": 4,
 "nbformat_minor": 2
}
