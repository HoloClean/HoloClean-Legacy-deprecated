{
 "cells": [
  {
   "cell_type": "markdown",
   "metadata": {},
   "source": [
    "## Tutorial 2: A Complete HoloClean Pipeline"
   ]
  },
  {
   "cell_type": "markdown",
   "metadata": {},
   "source": [
    "In this tutorial, we will walk step-by-step through the process of repairing a dataset in `HoloClean`. "
   ]
  },
  {
   "cell_type": "markdown",
   "metadata": {},
   "source": [
    "The dataset in question contains information about hospitals and is commonly-used for research purposes. Errors are present in ~5% of the cells and there is significant duplicate information - the ideal environment for `HoloClean`."
   ]
  },
  {
   "cell_type": "markdown",
   "metadata": {},
   "source": [
    "### Step 1: Data Loading"
   ]
  },
  {
   "cell_type": "markdown",
   "metadata": {},
   "source": [
    "We begin by instantiating the `HoloClean` and `Session` objects needed to run the repairs. For a more detailed overview of these objects and the rest of our infrastructure, please see our [Data Loading & Denial Constraints Tutorial](Tutorial_1.ipynb).\n",
    "To altar exposed variables such as pruning threshold. \n",
    "Send as a parameter when initializing the HoloClean object.\n",
    "Examples of exposed variables:\n",
    "    Learning Rate: learning_rate\n",
    "    Pruning Threshold: pruning_threshold\n",
    "    Number of Learning Iterations: learning_iterations\n",
    "    Batch Size: batch_size\n",
    "For a list of all possible arguements check the holoclean.py file"
   ]
  },
  {
   "cell_type": "code",
   "execution_count": 1,
   "metadata": {},
   "outputs": [
    {
     "name": "stderr",
     "output_type": "stream",
     "text": [
      "/home/gmichalo/anaconda/envs/python27/lib/python2.7/site-packages/psycopg2/__init__.py:144: UserWarning: The psycopg2 wheel package will be renamed from release 2.8; in order to keep installing from binary please use \"pip install psycopg2-binary\" instead. For details see: <http://initd.org/psycopg/docs/install.html#binary-install-from-pypi>.\n",
      "  \"\"\")\n"
     ]
    }
   ],
   "source": [
    "from holoclean.holoclean import HoloClean, Session\n",
    "\n",
    "holo =      HoloClean(\n",
    "            holoclean_path=\"..\",\n",
    "            verbose=True,\n",
    "            timing_file='execution_time.txt',\n",
    "            learning_iterations=50,\n",
    "            learning_rate=0.001,\n",
    "            batch_size=20)\n",
    "session = Session(holo)"
   ]
  },
  {
   "cell_type": "markdown",
   "metadata": {},
   "source": [
    "Next, we load in the data and denial constraints needed for this dataset. Both pieces of information are stored in the MySQL database."
   ]
  },
  {
   "cell_type": "code",
   "execution_count": 2,
   "metadata": {},
   "outputs": [
    {
     "name": "stdout",
     "output_type": "stream",
     "text": [
      "Time to Load Data: 6.18669819832\n",
      "\n"
     ]
    }
   ],
   "source": [
    "data_path = \"data/hospital_dataset.csv\"\n",
    "\n",
    "## loads data into our database and returns pyspark dataframe of initial data\n",
    "data = session.load_data(data_path)\n",
    "\n",
    "dc_path = \"data/hospital_constraints.txt\"\n",
    "\n",
    "# loads denial constraints into our database and returns a simple list of dcs as strings \n",
    "dcs = session.load_denial_constraints(dc_path)"
   ]
  },
  {
   "cell_type": "markdown",
   "metadata": {},
   "source": [
    "It's easy to see the dataset has a decent amount of errors. Note the random 'x' characters that have been substituted in."
   ]
  },
  {
   "cell_type": "code",
   "execution_count": 3,
   "metadata": {},
   "outputs": [
    {
     "name": "stdout",
     "output_type": "stream",
     "text": [
      "+----------+\n",
      "|      City|\n",
      "+----------+\n",
      "|BIRMINGHAM|\n",
      "|BIRMINGHAM|\n",
      "|BIRMINGHAM|\n",
      "|BIRMINGHxM|\n",
      "|BIRMINGHAM|\n",
      "|BIRMINGHAM|\n",
      "|BIRMINGHAM|\n",
      "|BIRMINGxAM|\n",
      "| SHEFFIELD|\n",
      "| SHEFFIELD|\n",
      "| SHEFFxELD|\n",
      "| SHEFFIELD|\n",
      "| SHEFFIELD|\n",
      "| SHEFFIELD|\n",
      "| SHEFFIELD|\n",
      "+----------+\n",
      "only showing top 15 rows\n",
      "\n"
     ]
    }
   ],
   "source": [
    "# all pyspark dataframe commands available\n",
    "data.select('City').show(15)"
   ]
  },
  {
   "cell_type": "code",
   "execution_count": 4,
   "metadata": {},
   "outputs": [
    {
     "data": {
      "text/plain": [
       "['t1&t2&EQ(t1.ZipCode,t2.ZipCode)&IQ(t1.City,t2.City)',\n",
       " 't1&t2&EQ(t1.ZipCode,t2.ZipCode)&IQ(t1.State,t2.State)',\n",
       " 't1&t2&EQ(t1.PhoneNumber,t2.PhoneNumber)&IQ(t1.ZipCode,t2.ZipCode)',\n",
       " 't1&t2&EQ(t1.PhoneNumber,t2.PhoneNumber)&IQ(t1.City,t2.City)',\n",
       " 't1&t2&EQ(t1.PhoneNumber,t2.PhoneNumber)&IQ(t1.State,t2.State)',\n",
       " 't1&t2&EQ(t1.ProviderNumber,t2.ProviderNumber)&EQ(t1.MeasureCode,t2.MeasureCode)&IQ(t1.Stateavg,t2.Stateavg)',\n",
       " 't1&t2&EQ(t1.MeasureCode,t2.MeasureCode)&IQ(t1.MeasureName,t2.MeasureName)',\n",
       " 't1&t2&EQ(t1.MeasureCode,t2.MeasureCode)&IQ(t1.Condition,t2.Condition)',\n",
       " 't1&t2&EQ(t1.State,t2.State)&EQ(t1.MeasureCode,t2.MeasureCode)&IQ(t1.Stateavg,t2.Stateavg)']"
      ]
     },
     "execution_count": 4,
     "metadata": {},
     "output_type": "execute_result"
    }
   ],
   "source": [
    "# a simple list of strings\n",
    "dcs"
   ]
  },
  {
   "cell_type": "markdown",
   "metadata": {},
   "source": [
    "### Step 2: Error Detection"
   ]
  },
  {
   "cell_type": "markdown",
   "metadata": {},
   "source": [
    "HoloClean is a supervised error repairing system. In contrast to traditional supervision, we do not ask users to label individual data cells but rely on more high-level supervision signals. These signals are denial constraints or other, custom-made error detectors that split the data into two categories, \"clean\" and \"don't-know\". Using that split, our later steps of the process will be able to learn the features of a \"clean\" cell and perform inference on the values of the \"don't-know\" cells."
   ]
  },
  {
   "cell_type": "markdown",
   "metadata": {},
   "source": [
    "Please see our <a href=http://pages.cs.wisc.edu/~thodrek/blog/holoclean.html>blog post</a> for more information"
   ]
  },
  {
   "cell_type": "markdown",
   "metadata": {},
   "source": [
    "In this tutorial, we will use HoloClean's built in error detector that uses denial constraints to perform this split. Any cell that participates in a violation of a DC is marked \"don't-know\", the rest are treated as clean. If you wish to develop a custom error detector, please see our [Error Detectors Tutorial](Tutorial_3.ipynb) for a walkthrough."
   ]
  },
  {
   "cell_type": "code",
   "execution_count": 5,
   "metadata": {},
   "outputs": [
    {
     "name": "stdout",
     "output_type": "stream",
     "text": [
      "Time for Error Detection: 14.6848258972\n",
      "\n"
     ]
    }
   ],
   "source": [
    "from holoclean.errordetection.mysql_dcerrordetector import MysqlDCErrorDetection\n",
    "\n",
    "# instantiate Holoclean's built in error detector\n",
    "detector = MysqlDCErrorDetection(session)\n",
    "\n",
    "# both clean and dirty sets are returned as pyspark dataframes\n",
    "error_detector_list =[]\n",
    "error_detector_list.append(detector)\n",
    "clean, dirty = session.detect_errors(error_detector_list)"
   ]
  },
  {
   "cell_type": "code",
   "execution_count": 6,
   "metadata": {},
   "outputs": [
    {
     "data": {
      "text/plain": [
       "[Row(ind=3, attr=u'Score'),\n",
       " Row(ind=22, attr=u'Sample'),\n",
       " Row(ind=28, attr=u'Address3'),\n",
       " Row(ind=30, attr=u'Address2'),\n",
       " Row(ind=38, attr=u'Sample')]"
      ]
     },
     "execution_count": 6,
     "metadata": {},
     "output_type": "execute_result"
    }
   ],
   "source": [
    "clean.head(5)"
   ]
  },
  {
   "cell_type": "code",
   "execution_count": 7,
   "metadata": {},
   "outputs": [
    {
     "data": {
      "text/plain": [
       "[Row(ind=471, attr=u'ZipCode'),\n",
       " Row(ind=703, attr=u'ZipCode'),\n",
       " Row(ind=314, attr=u'ZipCode'),\n",
       " Row(ind=47, attr=u'City'),\n",
       " Row(ind=304, attr=u'City')]"
      ]
     },
     "execution_count": 7,
     "metadata": {},
     "output_type": "execute_result"
    }
   ],
   "source": [
    "dirty.head(5)"
   ]
  },
  {
   "cell_type": "markdown",
   "metadata": {},
   "source": [
    "### Step 3: Repairing"
   ]
  },
  {
   "cell_type": "markdown",
   "metadata": {},
   "source": [
    "With the \"clean\" and \"don't-know\" split defined, we are ready to perform repairs."
   ]
  },
  {
   "cell_type": "markdown",
   "metadata": {},
   "source": [
    "Denial Constraints are the driving force behind this process. Denial constraints are used as features in a softmax regression model. The clean cells are used as training examples to learn the parameters (weights) of this model. Once those weights are defined, we use this model to perform inference on the \"don't-know\" cells and insert the most likely value for each cell."
   ]
  },
  {
   "cell_type": "markdown",
   "metadata": {},
   "source": [
    "This tutorial will simply use the default parameters for our softmax model. Customization of parameters like learning rate, batch size, and number of epochs is described in Tutorial 4 (in development) and is recommended for performance-critical applications."
   ]
  },
  {
   "cell_type": "code",
   "execution_count": 8,
   "metadata": {},
   "outputs": [
    {
     "name": "stdout",
     "output_type": "stream",
     "text": [
      "Time for Domain Pruning: 3.69091701508\n",
      "\n",
      "INSERT INTO Thread_9_0852044601848( SELECT              init_flat.vid as vid, init_flat.domain_id AS assigned_val,             '1' AS feature,             1 as count            FROM Observed_Possible_values_clean_0852044601848 AS init_flat WHERE (init_flat.attr_name = 'City' OR init_flat.attr_name = 'Stateavg' OR init_flat.attr_name = 'ZipCode' OR init_flat.attr_name = 'State' OR init_flat.attr_name = 'PhoneNumber' OR init_flat.attr_name = 'ProviderNumber' OR init_flat.attr_name = 'MeasureName' OR init_flat.attr_name = 'MeasureCode' OR init_flat.attr_name = 'Condition'));\n",
      "INSERT INTO Thread_7_0852044601848(SELECT postab.vid as vid, postab.domain_id AS assigned_val, 2 AS feature,   count(t2.__ind) as count   FROM Init_0852044601848 as t1 ,Init_0852044601848 as t2,Possible_values_clean_0852044601848 as postab WHERE (postab.tid = t1.__ind AND postab.attr_name ='ZipCode' AND postab.attr_val=t2.ZipCode AND  t1.__ind < t2.__ind AND  t1.City<>t2.City) GROUP BY postab.vid, postab.domain_id);\n",
      "INSERT INTO Thread_9_0852044601848(SELECT postab.vid as vid, postab.domain_id AS assigned_val, 3 AS feature,   count(t1.__ind) as count   FROM Init_0852044601848 as t1 ,Init_0852044601848 as t2,Possible_values_clean_0852044601848 as postab WHERE (postab.tid = t2.__ind AND postab.attr_name = 'ZipCode' AND t1.ZipCode=postab.attr_val AND  t1.__ind < t2.__ind AND  t1.City<>t2.City) GROUP BY postab.vid, postab.domain_id);\n",
      "INSERT INTO Thread_6_0852044601848(SELECT postab.vid as vid, postab.domain_id AS assigned_val, 5 AS feature,   count(t1.__ind) as count   FROM Init_0852044601848 as t1 ,Init_0852044601848 as t2,Possible_values_clean_0852044601848 as postab WHERE (postab.tid = t2.__ind AND postab.attr_name = 'City' AND t1.City<>postab.attr_val AND  t1.__ind < t2.__ind AND  t1.ZipCode=t2.ZipCode) GROUP BY postab.vid, postab.domain_id);\n",
      "INSERT INTO Thread_8_0852044601848(SELECT postab.vid as vid, postab.domain_id AS assigned_val, 4 AS feature,   count(t2.__ind) as count   FROM Init_0852044601848 as t1 ,Init_0852044601848 as t2,Possible_values_clean_0852044601848 as postab WHERE (postab.tid = t1.__ind AND postab.attr_name ='City' AND postab.attr_val<>t2.City AND  t1.__ind < t2.__ind AND  t1.ZipCode=t2.ZipCode) GROUP BY postab.vid, postab.domain_id);\n",
      "INSERT INTO Thread_7_0852044601848(SELECT postab.vid as vid, postab.domain_id AS assigned_val, 6 AS feature,   count(t2.__ind) as count   FROM Init_0852044601848 as t1 ,Init_0852044601848 as t2,Possible_values_clean_0852044601848 as postab WHERE (postab.tid = t1.__ind AND postab.attr_name ='ZipCode' AND postab.attr_val=t2.ZipCode AND  t1.__ind < t2.__ind AND  t1.State<>t2.State) GROUP BY postab.vid, postab.domain_id);\n",
      "INSERT INTO Thread_9_0852044601848(SELECT postab.vid as vid, postab.domain_id AS assigned_val, 7 AS feature,   count(t1.__ind) as count   FROM Init_0852044601848 as t1 ,Init_0852044601848 as t2,Possible_values_clean_0852044601848 as postab WHERE (postab.tid = t2.__ind AND postab.attr_name = 'ZipCode' AND t1.ZipCode=postab.attr_val AND  t1.__ind < t2.__ind AND  t1.State<>t2.State) GROUP BY postab.vid, postab.domain_id);\n",
      "INSERT INTO Thread_7_0852044601848(SELECT postab.vid as vid, postab.domain_id AS assigned_val, 8 AS feature,   count(t2.__ind) as count   FROM Init_0852044601848 as t1 ,Init_0852044601848 as t2,Possible_values_clean_0852044601848 as postab WHERE (postab.tid = t1.__ind AND postab.attr_name ='State' AND postab.attr_val<>t2.State AND  t1.__ind < t2.__ind AND  t1.ZipCode=t2.ZipCode) GROUP BY postab.vid, postab.domain_id);\n",
      "INSERT INTO Thread_9_0852044601848(SELECT postab.vid as vid, postab.domain_id AS assigned_val, 9 AS feature,   count(t1.__ind) as count   FROM Init_0852044601848 as t1 ,Init_0852044601848 as t2,Possible_values_clean_0852044601848 as postab WHERE (postab.tid = t2.__ind AND postab.attr_name = 'State' AND t1.State<>postab.attr_val AND  t1.__ind < t2.__ind AND  t1.ZipCode=t2.ZipCode) GROUP BY postab.vid, postab.domain_id);\n",
      "INSERT INTO Thread_6_0852044601848(SELECT postab.vid as vid, postab.domain_id AS assigned_val, 10 AS feature,   count(t2.__ind) as count   FROM Init_0852044601848 as t1 ,Init_0852044601848 as t2,Possible_values_clean_0852044601848 as postab WHERE (postab.tid = t1.__ind AND postab.attr_name ='PhoneNumber' AND postab.attr_val=t2.PhoneNumber AND  t1.__ind < t2.__ind AND  t1.ZipCode<>t2.ZipCode) GROUP BY postab.vid, postab.domain_id);\n",
      "INSERT INTO Thread_7_0852044601848(SELECT postab.vid as vid, postab.domain_id AS assigned_val, 11 AS feature,   count(t1.__ind) as count   FROM Init_0852044601848 as t1 ,Init_0852044601848 as t2,Possible_values_clean_0852044601848 as postab WHERE (postab.tid = t2.__ind AND postab.attr_name = 'PhoneNumber' AND t1.PhoneNumber=postab.attr_val AND  t1.__ind < t2.__ind AND  t1.ZipCode<>t2.ZipCode) GROUP BY postab.vid, postab.domain_id);\n",
      "INSERT INTO Thread_8_0852044601848(SELECT postab.vid as vid, postab.domain_id AS assigned_val, 12 AS feature,   count(t2.__ind) as count   FROM Init_0852044601848 as t1 ,Init_0852044601848 as t2,Possible_values_clean_0852044601848 as postab WHERE (postab.tid = t1.__ind AND postab.attr_name ='ZipCode' AND postab.attr_val<>t2.ZipCode AND  t1.__ind < t2.__ind AND  t1.PhoneNumber=t2.PhoneNumber) GROUP BY postab.vid, postab.domain_id);\n",
      "INSERT INTO Thread_9_0852044601848(SELECT postab.vid as vid, postab.domain_id AS assigned_val, 13 AS feature,   count(t1.__ind) as count   FROM Init_0852044601848 as t1 ,Init_0852044601848 as t2,Possible_values_clean_0852044601848 as postab WHERE (postab.tid = t2.__ind AND postab.attr_name = 'ZipCode' AND t1.ZipCode<>postab.attr_val AND  t1.__ind < t2.__ind AND  t1.PhoneNumber=t2.PhoneNumber) GROUP BY postab.vid, postab.domain_id);\n",
      "INSERT INTO Thread_6_0852044601848(SELECT postab.vid as vid, postab.domain_id AS assigned_val, 14 AS feature,   count(t2.__ind) as count   FROM Init_0852044601848 as t1 ,Init_0852044601848 as t2,Possible_values_clean_0852044601848 as postab WHERE (postab.tid = t1.__ind AND postab.attr_name ='PhoneNumber' AND postab.attr_val=t2.PhoneNumber AND  t1.__ind < t2.__ind AND  t1.City<>t2.City) GROUP BY postab.vid, postab.domain_id);\n",
      "INSERT INTO Thread_7_0852044601848(SELECT postab.vid as vid, postab.domain_id AS assigned_val, 15 AS feature,   count(t1.__ind) as count   FROM Init_0852044601848 as t1 ,Init_0852044601848 as t2,Possible_values_clean_0852044601848 as postab WHERE (postab.tid = t2.__ind AND postab.attr_name = 'PhoneNumber' AND t1.PhoneNumber=postab.attr_val AND  t1.__ind < t2.__ind AND  t1.City<>t2.City) GROUP BY postab.vid, postab.domain_id);\n",
      "INSERT INTO Thread_8_0852044601848(SELECT postab.vid as vid, postab.domain_id AS assigned_val, 16 AS feature,   count(t2.__ind) as count   FROM Init_0852044601848 as t1 ,Init_0852044601848 as t2,Possible_values_clean_0852044601848 as postab WHERE (postab.tid = t1.__ind AND postab.attr_name ='City' AND postab.attr_val<>t2.City AND  t1.__ind < t2.__ind AND  t1.PhoneNumber=t2.PhoneNumber) GROUP BY postab.vid, postab.domain_id);\n",
      "INSERT INTO Thread_6_0852044601848(SELECT postab.vid as vid, postab.domain_id AS assigned_val, 17 AS feature,   count(t1.__ind) as count   FROM Init_0852044601848 as t1 ,Init_0852044601848 as t2,Possible_values_clean_0852044601848 as postab WHERE (postab.tid = t2.__ind AND postab.attr_name = 'City' AND t1.City<>postab.attr_val AND  t1.__ind < t2.__ind AND  t1.PhoneNumber=t2.PhoneNumber) GROUP BY postab.vid, postab.domain_id);\n",
      "INSERT INTO Thread_7_0852044601848(SELECT postab.vid as vid, postab.domain_id AS assigned_val, 18 AS feature,   count(t2.__ind) as count   FROM Init_0852044601848 as t1 ,Init_0852044601848 as t2,Possible_values_clean_0852044601848 as postab WHERE (postab.tid = t1.__ind AND postab.attr_name ='PhoneNumber' AND postab.attr_val=t2.PhoneNumber AND  t1.__ind < t2.__ind AND  t1.State<>t2.State) GROUP BY postab.vid, postab.domain_id);\n",
      "INSERT INTO Thread_9_0852044601848(SELECT postab.vid as vid, postab.domain_id AS assigned_val, 19 AS feature,   count(t1.__ind) as count   FROM Init_0852044601848 as t1 ,Init_0852044601848 as t2,Possible_values_clean_0852044601848 as postab WHERE (postab.tid = t2.__ind AND postab.attr_name = 'PhoneNumber' AND t1.PhoneNumber=postab.attr_val AND  t1.__ind < t2.__ind AND  t1.State<>t2.State) GROUP BY postab.vid, postab.domain_id);\n",
      "INSERT INTO Thread_6_0852044601848(SELECT postab.vid as vid, postab.domain_id AS assigned_val, 20 AS feature,   count(t2.__ind) as count   FROM Init_0852044601848 as t1 ,Init_0852044601848 as t2,Possible_values_clean_0852044601848 as postab WHERE (postab.tid = t1.__ind AND postab.attr_name ='State' AND postab.attr_val<>t2.State AND  t1.__ind < t2.__ind AND  t1.PhoneNumber=t2.PhoneNumber) GROUP BY postab.vid, postab.domain_id);\n",
      "INSERT INTO Thread_8_0852044601848(SELECT postab.vid as vid, postab.domain_id AS assigned_val, 21 AS feature,   count(t1.__ind) as count   FROM Init_0852044601848 as t1 ,Init_0852044601848 as t2,Possible_values_clean_0852044601848 as postab WHERE (postab.tid = t2.__ind AND postab.attr_name = 'State' AND t1.State<>postab.attr_val AND  t1.__ind < t2.__ind AND  t1.PhoneNumber=t2.PhoneNumber) GROUP BY postab.vid, postab.domain_id);\n",
      "INSERT INTO Thread_9_0852044601848(SELECT postab.vid as vid, postab.domain_id AS assigned_val, 22 AS feature,   count(t2.__ind) as count   FROM Init_0852044601848 as t1 ,Init_0852044601848 as t2,Possible_values_clean_0852044601848 as postab WHERE (postab.tid = t1.__ind AND postab.attr_name ='ProviderNumber' AND postab.attr_val=t2.ProviderNumber AND  t1.__ind < t2.__ind AND  t1.MeasureCode=t2.MeasureCode AND  t1.Stateavg<>t2.Stateavg) GROUP BY postab.vid, postab.domain_id);\n",
      "INSERT INTO Thread_9_0852044601848(SELECT postab.vid as vid, postab.domain_id AS assigned_val, 23 AS feature,   count(t1.__ind) as count   FROM Init_0852044601848 as t1 ,Init_0852044601848 as t2,Possible_values_clean_0852044601848 as postab WHERE (postab.tid = t2.__ind AND postab.attr_name = 'ProviderNumber' AND t1.ProviderNumber=postab.attr_val AND  t1.__ind < t2.__ind AND  t1.MeasureCode=t2.MeasureCode AND  t1.Stateavg<>t2.Stateavg) GROUP BY postab.vid, postab.domain_id);\n",
      "INSERT INTO Thread_7_0852044601848(SELECT postab.vid as vid, postab.domain_id AS assigned_val, 24 AS feature,   count(t2.__ind) as count   FROM Init_0852044601848 as t1 ,Init_0852044601848 as t2,Possible_values_clean_0852044601848 as postab WHERE (postab.tid = t1.__ind AND postab.attr_name ='MeasureCode' AND postab.attr_val=t2.MeasureCode AND  t1.__ind < t2.__ind AND  t1.ProviderNumber=t2.ProviderNumber AND  t1.Stateavg<>t2.Stateavg) GROUP BY postab.vid, postab.domain_id);\n",
      "INSERT INTO Thread_9_0852044601848(SELECT postab.vid as vid, postab.domain_id AS assigned_val, 25 AS feature,   count(t1.__ind) as count   FROM Init_0852044601848 as t1 ,Init_0852044601848 as t2,Possible_values_clean_0852044601848 as postab WHERE (postab.tid = t2.__ind AND postab.attr_name = 'MeasureCode' AND t1.MeasureCode=postab.attr_val AND  t1.__ind < t2.__ind AND  t1.ProviderNumber=t2.ProviderNumber AND  t1.Stateavg<>t2.Stateavg) GROUP BY postab.vid, postab.domain_id);\n",
      "INSERT INTO Thread_6_0852044601848(SELECT postab.vid as vid, postab.domain_id AS assigned_val, 26 AS feature,   count(t2.__ind) as count   FROM Init_0852044601848 as t1 ,Init_0852044601848 as t2,Possible_values_clean_0852044601848 as postab WHERE (postab.tid = t1.__ind AND postab.attr_name ='Stateavg' AND postab.attr_val<>t2.Stateavg AND  t1.__ind < t2.__ind AND  t1.ProviderNumber=t2.ProviderNumber AND  t1.MeasureCode=t2.MeasureCode) GROUP BY postab.vid, postab.domain_id);\n",
      "INSERT INTO Thread_7_0852044601848(SELECT postab.vid as vid, postab.domain_id AS assigned_val, 27 AS feature,   count(t1.__ind) as count   FROM Init_0852044601848 as t1 ,Init_0852044601848 as t2,Possible_values_clean_0852044601848 as postab WHERE (postab.tid = t2.__ind AND postab.attr_name = 'Stateavg' AND t1.Stateavg<>postab.attr_val AND  t1.__ind < t2.__ind AND  t1.ProviderNumber=t2.ProviderNumber AND  t1.MeasureCode=t2.MeasureCode) GROUP BY postab.vid, postab.domain_id);\n",
      "INSERT INTO Thread_8_0852044601848(SELECT postab.vid as vid, postab.domain_id AS assigned_val, 28 AS feature,   count(t2.__ind) as count   FROM Init_0852044601848 as t1 ,Init_0852044601848 as t2,Possible_values_clean_0852044601848 as postab WHERE (postab.tid = t1.__ind AND postab.attr_name ='MeasureCode' AND postab.attr_val=t2.MeasureCode AND  t1.__ind < t2.__ind AND  t1.MeasureName<>t2.MeasureName) GROUP BY postab.vid, postab.domain_id);\n",
      "INSERT INTO Thread_9_0852044601848(SELECT postab.vid as vid, postab.domain_id AS assigned_val, 29 AS feature,   count(t1.__ind) as count   FROM Init_0852044601848 as t1 ,Init_0852044601848 as t2,Possible_values_clean_0852044601848 as postab WHERE (postab.tid = t2.__ind AND postab.attr_name = 'MeasureCode' AND t1.MeasureCode=postab.attr_val AND  t1.__ind < t2.__ind AND  t1.MeasureName<>t2.MeasureName) GROUP BY postab.vid, postab.domain_id);\n",
      "INSERT INTO Thread_6_0852044601848(SELECT postab.vid as vid, postab.domain_id AS assigned_val, 30 AS feature,   count(t2.__ind) as count   FROM Init_0852044601848 as t1 ,Init_0852044601848 as t2,Possible_values_clean_0852044601848 as postab WHERE (postab.tid = t1.__ind AND postab.attr_name ='MeasureName' AND postab.attr_val<>t2.MeasureName AND  t1.__ind < t2.__ind AND  t1.MeasureCode=t2.MeasureCode) GROUP BY postab.vid, postab.domain_id);\n",
      "INSERT INTO Thread_7_0852044601848(SELECT postab.vid as vid, postab.domain_id AS assigned_val, 31 AS feature,   count(t1.__ind) as count   FROM Init_0852044601848 as t1 ,Init_0852044601848 as t2,Possible_values_clean_0852044601848 as postab WHERE (postab.tid = t2.__ind AND postab.attr_name = 'MeasureName' AND t1.MeasureName<>postab.attr_val AND  t1.__ind < t2.__ind AND  t1.MeasureCode=t2.MeasureCode) GROUP BY postab.vid, postab.domain_id);\n",
      "INSERT INTO Thread_8_0852044601848(SELECT postab.vid as vid, postab.domain_id AS assigned_val, 32 AS feature,   count(t2.__ind) as count   FROM Init_0852044601848 as t1 ,Init_0852044601848 as t2,Possible_values_clean_0852044601848 as postab WHERE (postab.tid = t1.__ind AND postab.attr_name ='MeasureCode' AND postab.attr_val=t2.MeasureCode AND  t1.__ind < t2.__ind AND  t1.Condition<>t2.Condition) GROUP BY postab.vid, postab.domain_id);\n",
      "INSERT INTO Thread_9_0852044601848(SELECT postab.vid as vid, postab.domain_id AS assigned_val, 33 AS feature,   count(t1.__ind) as count   FROM Init_0852044601848 as t1 ,Init_0852044601848 as t2,Possible_values_clean_0852044601848 as postab WHERE (postab.tid = t2.__ind AND postab.attr_name = 'MeasureCode' AND t1.MeasureCode=postab.attr_val AND  t1.__ind < t2.__ind AND  t1.Condition<>t2.Condition) GROUP BY postab.vid, postab.domain_id);\n",
      "INSERT INTO Thread_8_0852044601848(SELECT postab.vid as vid, postab.domain_id AS assigned_val, 34 AS feature,   count(t2.__ind) as count   FROM Init_0852044601848 as t1 ,Init_0852044601848 as t2,Possible_values_clean_0852044601848 as postab WHERE (postab.tid = t1.__ind AND postab.attr_name ='Condition' AND postab.attr_val<>t2.Condition AND  t1.__ind < t2.__ind AND  t1.MeasureCode=t2.MeasureCode) GROUP BY postab.vid, postab.domain_id);\n",
      "INSERT INTO Thread_9_0852044601848(SELECT postab.vid as vid, postab.domain_id AS assigned_val, 35 AS feature,   count(t1.__ind) as count   FROM Init_0852044601848 as t1 ,Init_0852044601848 as t2,Possible_values_clean_0852044601848 as postab WHERE (postab.tid = t2.__ind AND postab.attr_name = 'Condition' AND t1.Condition<>postab.attr_val AND  t1.__ind < t2.__ind AND  t1.MeasureCode=t2.MeasureCode) GROUP BY postab.vid, postab.domain_id);\n",
      "INSERT INTO Thread_7_0852044601848(SELECT postab.vid as vid, postab.domain_id AS assigned_val, 36 AS feature,   count(t2.__ind) as count   FROM Init_0852044601848 as t1 ,Init_0852044601848 as t2,Possible_values_clean_0852044601848 as postab WHERE (postab.tid = t1.__ind AND postab.attr_name ='State' AND postab.attr_val=t2.State AND  t1.__ind < t2.__ind AND  t1.MeasureCode=t2.MeasureCode AND  t1.Stateavg<>t2.Stateavg) GROUP BY postab.vid, postab.domain_id);\n",
      "INSERT INTO Thread_6_0852044601848(SELECT postab.vid as vid, postab.domain_id AS assigned_val, 37 AS feature,   count(t1.__ind) as count   FROM Init_0852044601848 as t1 ,Init_0852044601848 as t2,Possible_values_clean_0852044601848 as postab WHERE (postab.tid = t2.__ind AND postab.attr_name = 'State' AND t1.State=postab.attr_val AND  t1.__ind < t2.__ind AND  t1.MeasureCode=t2.MeasureCode AND  t1.Stateavg<>t2.Stateavg) GROUP BY postab.vid, postab.domain_id);\n",
      "INSERT INTO Thread_8_0852044601848(SELECT postab.vid as vid, postab.domain_id AS assigned_val, 38 AS feature,   count(t2.__ind) as count   FROM Init_0852044601848 as t1 ,Init_0852044601848 as t2,Possible_values_clean_0852044601848 as postab WHERE (postab.tid = t1.__ind AND postab.attr_name ='MeasureCode' AND postab.attr_val=t2.MeasureCode AND  t1.__ind < t2.__ind AND  t1.State=t2.State AND  t1.Stateavg<>t2.Stateavg) GROUP BY postab.vid, postab.domain_id);\n",
      "INSERT INTO Thread_9_0852044601848(SELECT postab.vid as vid, postab.domain_id AS assigned_val, 39 AS feature,   count(t1.__ind) as count   FROM Init_0852044601848 as t1 ,Init_0852044601848 as t2,Possible_values_clean_0852044601848 as postab WHERE (postab.tid = t2.__ind AND postab.attr_name = 'MeasureCode' AND t1.MeasureCode=postab.attr_val AND  t1.__ind < t2.__ind AND  t1.State=t2.State AND  t1.Stateavg<>t2.Stateavg) GROUP BY postab.vid, postab.domain_id);\n",
      "INSERT INTO Thread_7_0852044601848(SELECT postab.vid as vid, postab.domain_id AS assigned_val, 40 AS feature,   count(t2.__ind) as count   FROM Init_0852044601848 as t1 ,Init_0852044601848 as t2,Possible_values_clean_0852044601848 as postab WHERE (postab.tid = t1.__ind AND postab.attr_name ='Stateavg' AND postab.attr_val<>t2.Stateavg AND  t1.__ind < t2.__ind AND  t1.State=t2.State AND  t1.MeasureCode=t2.MeasureCode) GROUP BY postab.vid, postab.domain_id);\n",
      "INSERT INTO Thread_6_0852044601848(SELECT postab.vid as vid, postab.domain_id AS assigned_val, 41 AS feature,   count(t1.__ind) as count   FROM Init_0852044601848 as t1 ,Init_0852044601848 as t2,Possible_values_clean_0852044601848 as postab WHERE (postab.tid = t2.__ind AND postab.attr_name = 'Stateavg' AND t1.Stateavg<>postab.attr_val AND  t1.__ind < t2.__ind AND  t1.State=t2.State AND  t1.MeasureCode=t2.MeasureCode) GROUP BY postab.vid, postab.domain_id);\n"
     ]
    },
    {
     "name": "stdout",
     "output_type": "stream",
     "text": [
      "Time for Featurization: 1.17093801498\n",
      "\n"
     ]
    },
    {
     "name": "stderr",
     "output_type": "stream",
     "text": [
      "  6%|▌         | 3/50 [00:00<00:04,  9.81it/s]"
     ]
    },
    {
     "name": "stdout",
     "output_type": "stream",
     "text": [
      "Epoch 1, cost = 0.321568\n",
      "Epoch 2, cost = 0.251864\n",
      "Epoch 3, cost = 0.198702\n"
     ]
    },
    {
     "name": "stderr",
     "output_type": "stream",
     "text": [
      " 12%|█▏        | 6/50 [00:00<00:03, 11.02it/s]"
     ]
    },
    {
     "name": "stdout",
     "output_type": "stream",
     "text": [
      "Epoch 4, cost = 0.158417\n",
      "Epoch 5, cost = 0.128105\n",
      "Epoch 6, cost = 0.105503\n",
      "Epoch 7, cost = 0.088899\n",
      "Epoch 8, cost = 0.077028\n",
      "Epoch 9, cost = 0.068925\n"
     ]
    },
    {
     "name": "stderr",
     "output_type": "stream",
     "text": [
      " 28%|██▊       | 14/50 [00:00<00:01, 18.24it/s]"
     ]
    },
    {
     "name": "stdout",
     "output_type": "stream",
     "text": [
      "Epoch 10, cost = 0.063748\n",
      "Epoch 11, cost = 0.060693\n",
      "Epoch 12, cost = 0.059044\n",
      "Epoch 13, cost = 0.058240\n",
      "Epoch 14, cost = 0.057898\n",
      "Epoch 15, cost = 0.057780\n",
      "Epoch 16, cost = 0.057756\n",
      "Epoch 17, cost = 0.057764\n"
     ]
    },
    {
     "name": "stderr",
     "output_type": "stream",
     "text": [
      " 44%|████▍     | 22/50 [00:00<00:01, 22.41it/s]"
     ]
    },
    {
     "name": "stdout",
     "output_type": "stream",
     "text": [
      "Epoch 18, cost = 0.057776\n",
      "Epoch 19, cost = 0.057784\n",
      "Epoch 20, cost = 0.057786\n",
      "Epoch 21, cost = 0.057783\n",
      "Epoch 22, cost = 0.057778\n",
      "Epoch 23, cost = 0.057771\n",
      "Epoch 24, cost = 0.057764\n",
      "Epoch 25, cost = 0.057757\n"
     ]
    },
    {
     "name": "stderr",
     "output_type": "stream",
     "text": [
      " 62%|██████▏   | 31/50 [00:01<00:00, 25.62it/s]"
     ]
    },
    {
     "name": "stdout",
     "output_type": "stream",
     "text": [
      "Epoch 26, cost = 0.057751\n",
      "Epoch 27, cost = 0.057746\n",
      "Epoch 28, cost = 0.057742\n",
      "Epoch 29, cost = 0.057738\n",
      "Epoch 30, cost = 0.057735\n",
      "Epoch 31, cost = 0.057733\n",
      "Epoch 32, cost = 0.057731\n",
      "Epoch 33, cost = 0.057730\n"
     ]
    },
    {
     "name": "stderr",
     "output_type": "stream",
     "text": [
      " 80%|████████  | 40/50 [00:01<00:00, 27.94it/s]"
     ]
    },
    {
     "name": "stdout",
     "output_type": "stream",
     "text": [
      "Epoch 34, cost = 0.057729\n",
      "Epoch 35, cost = 0.057728\n",
      "Epoch 36, cost = 0.057727\n",
      "Epoch 37, cost = 0.057727\n",
      "Epoch 38, cost = 0.057726\n",
      "Epoch 39, cost = 0.057726\n",
      "Epoch 40, cost = 0.057726\n",
      "Epoch 41, cost = 0.057726\n",
      "Epoch 42, cost = 0.057725\n"
     ]
    },
    {
     "name": "stderr",
     "output_type": "stream",
     "text": [
      "100%|██████████| 50/50 [00:01<00:00, 29.95it/s]"
     ]
    },
    {
     "name": "stdout",
     "output_type": "stream",
     "text": [
      "Epoch 43, cost = 0.057725\n",
      "Epoch 44, cost = 0.057725\n",
      "Epoch 45, cost = 0.057725\n",
      "Epoch 46, cost = 0.057725\n",
      "Epoch 47, cost = 0.057725\n",
      "Epoch 48, cost = 0.057725\n",
      "Epoch 49, cost = 0.057725\n",
      "Epoch 50, cost = 0.057725\n",
      "Time for Training Model: 1.90788698196\n",
      "\n"
     ]
    },
    {
     "name": "stderr",
     "output_type": "stream",
     "text": [
      "\n"
     ]
    },
    {
     "name": "stdout",
     "output_type": "stream",
     "text": [
      "INSERT INTO Thread_12_0852044601848( SELECT              init_flat.vid as vid, init_flat.domain_id AS assigned_val,             '1' AS feature,             1 as count            FROM Observed_Possible_values_dk_0852044601848 AS init_flat WHERE (init_flat.attr_name = 'City' OR init_flat.attr_name = 'Stateavg' OR init_flat.attr_name = 'ZipCode' OR init_flat.attr_name = 'State' OR init_flat.attr_name = 'PhoneNumber' OR init_flat.attr_name = 'ProviderNumber' OR init_flat.attr_name = 'MeasureName' OR init_flat.attr_name = 'MeasureCode' OR init_flat.attr_name = 'Condition'));\n",
      "INSERT INTO Thread_13_0852044601848(SELECT postab.vid as vid, postab.domain_id AS assigned_val, 2 AS feature,   count(t2.__ind) as count   FROM Init_0852044601848 as t1 ,Init_0852044601848 as t2,Possible_values_dk_0852044601848 as postab WHERE (postab.tid = t1.__ind AND postab.attr_name ='ZipCode' AND postab.attr_val=t2.ZipCode AND  t1.__ind < t2.__ind AND  t1.City<>t2.City) GROUP BY postab.vid, postab.domain_id);\n",
      "INSERT INTO Thread_14_0852044601848(SELECT postab.vid as vid, postab.domain_id AS assigned_val, 3 AS feature,   count(t1.__ind) as count   FROM Init_0852044601848 as t1 ,Init_0852044601848 as t2,Possible_values_dk_0852044601848 as postab WHERE (postab.tid = t2.__ind AND postab.attr_name = 'ZipCode' AND t1.ZipCode=postab.attr_val AND  t1.__ind < t2.__ind AND  t1.City<>t2.City) GROUP BY postab.vid, postab.domain_id);INSERT INTO Thread_15_0852044601848(SELECT postab.vid as vid, postab.domain_id AS assigned_val, 4 AS feature,   count(t2.__ind) as count   FROM Init_0852044601848 as t1 ,Init_0852044601848 as t2,Possible_values_dk_0852044601848 as postab WHERE (postab.tid = t1.__ind AND postab.attr_name ='City' AND postab.attr_val<>t2.City AND  t1.__ind < t2.__ind AND  t1.ZipCode=t2.ZipCode) GROUP BY postab.vid, postab.domain_id);\n",
      "\n",
      "INSERT INTO Thread_12_0852044601848(SELECT postab.vid as vid, postab.domain_id AS assigned_val, 5 AS feature,   count(t1.__ind) as count   FROM Init_0852044601848 as t1 ,Init_0852044601848 as t2,Possible_values_dk_0852044601848 as postab WHERE (postab.tid = t2.__ind AND postab.attr_name = 'City' AND t1.City<>postab.attr_val AND  t1.__ind < t2.__ind AND  t1.ZipCode=t2.ZipCode) GROUP BY postab.vid, postab.domain_id);\n",
      "INSERT INTO Thread_14_0852044601848(SELECT postab.vid as vid, postab.domain_id AS assigned_val, 6 AS feature,   count(t2.__ind) as count   FROM Init_0852044601848 as t1 ,Init_0852044601848 as t2,Possible_values_dk_0852044601848 as postab WHERE (postab.tid = t1.__ind AND postab.attr_name ='ZipCode' AND postab.attr_val=t2.ZipCode AND  t1.__ind < t2.__ind AND  t1.State<>t2.State) GROUP BY postab.vid, postab.domain_id);\n",
      "INSERT INTO Thread_15_0852044601848(SELECT postab.vid as vid, postab.domain_id AS assigned_val, 7 AS feature,   count(t1.__ind) as count   FROM Init_0852044601848 as t1 ,Init_0852044601848 as t2,Possible_values_dk_0852044601848 as postab WHERE (postab.tid = t2.__ind AND postab.attr_name = 'ZipCode' AND t1.ZipCode=postab.attr_val AND  t1.__ind < t2.__ind AND  t1.State<>t2.State) GROUP BY postab.vid, postab.domain_id);\n",
      "INSERT INTO Thread_13_0852044601848(SELECT postab.vid as vid, postab.domain_id AS assigned_val, 8 AS feature,   count(t2.__ind) as count   FROM Init_0852044601848 as t1 ,Init_0852044601848 as t2,Possible_values_dk_0852044601848 as postab WHERE (postab.tid = t1.__ind AND postab.attr_name ='State' AND postab.attr_val<>t2.State AND  t1.__ind < t2.__ind AND  t1.ZipCode=t2.ZipCode) GROUP BY postab.vid, postab.domain_id);\n",
      "INSERT INTO Thread_14_0852044601848(SELECT postab.vid as vid, postab.domain_id AS assigned_val, 9 AS feature,   count(t1.__ind) as count   FROM Init_0852044601848 as t1 ,Init_0852044601848 as t2,Possible_values_dk_0852044601848 as postab WHERE (postab.tid = t2.__ind AND postab.attr_name = 'State' AND t1.State<>postab.attr_val AND  t1.__ind < t2.__ind AND  t1.ZipCode=t2.ZipCode) GROUP BY postab.vid, postab.domain_id);\n",
      "INSERT INTO Thread_12_0852044601848(SELECT postab.vid as vid, postab.domain_id AS assigned_val, 10 AS feature,   count(t2.__ind) as count   FROM Init_0852044601848 as t1 ,Init_0852044601848 as t2,Possible_values_dk_0852044601848 as postab WHERE (postab.tid = t1.__ind AND postab.attr_name ='PhoneNumber' AND postab.attr_val=t2.PhoneNumber AND  t1.__ind < t2.__ind AND  t1.ZipCode<>t2.ZipCode) GROUP BY postab.vid, postab.domain_id);\n",
      "INSERT INTO Thread_15_0852044601848(SELECT postab.vid as vid, postab.domain_id AS assigned_val, 11 AS feature,   count(t1.__ind) as count   FROM Init_0852044601848 as t1 ,Init_0852044601848 as t2,Possible_values_dk_0852044601848 as postab WHERE (postab.tid = t2.__ind AND postab.attr_name = 'PhoneNumber' AND t1.PhoneNumber=postab.attr_val AND  t1.__ind < t2.__ind AND  t1.ZipCode<>t2.ZipCode) GROUP BY postab.vid, postab.domain_id);\n",
      "INSERT INTO Thread_13_0852044601848(SELECT postab.vid as vid, postab.domain_id AS assigned_val, 12 AS feature,   count(t2.__ind) as count   FROM Init_0852044601848 as t1 ,Init_0852044601848 as t2,Possible_values_dk_0852044601848 as postab WHERE (postab.tid = t1.__ind AND postab.attr_name ='ZipCode' AND postab.attr_val<>t2.ZipCode AND  t1.__ind < t2.__ind AND  t1.PhoneNumber=t2.PhoneNumber) GROUP BY postab.vid, postab.domain_id);\n",
      "INSERT INTO Thread_12_0852044601848(SELECT postab.vid as vid, postab.domain_id AS assigned_val, 13 AS feature,   count(t1.__ind) as count   FROM Init_0852044601848 as t1 ,Init_0852044601848 as t2,Possible_values_dk_0852044601848 as postab WHERE (postab.tid = t2.__ind AND postab.attr_name = 'ZipCode' AND t1.ZipCode<>postab.attr_val AND  t1.__ind < t2.__ind AND  t1.PhoneNumber=t2.PhoneNumber) GROUP BY postab.vid, postab.domain_id);\n",
      "INSERT INTO Thread_14_0852044601848(SELECT postab.vid as vid, postab.domain_id AS assigned_val, 14 AS feature,   count(t2.__ind) as count   FROM Init_0852044601848 as t1 ,Init_0852044601848 as t2,Possible_values_dk_0852044601848 as postab WHERE (postab.tid = t1.__ind AND postab.attr_name ='PhoneNumber' AND postab.attr_val=t2.PhoneNumber AND  t1.__ind < t2.__ind AND  t1.City<>t2.City) GROUP BY postab.vid, postab.domain_id);\n",
      "INSERT INTO Thread_15_0852044601848(SELECT postab.vid as vid, postab.domain_id AS assigned_val, 15 AS feature,   count(t1.__ind) as count   FROM Init_0852044601848 as t1 ,Init_0852044601848 as t2,Possible_values_dk_0852044601848 as postab WHERE (postab.tid = t2.__ind AND postab.attr_name = 'PhoneNumber' AND t1.PhoneNumber=postab.attr_val AND  t1.__ind < t2.__ind AND  t1.City<>t2.City) GROUP BY postab.vid, postab.domain_id);\n",
      "INSERT INTO Thread_13_0852044601848(SELECT postab.vid as vid, postab.domain_id AS assigned_val, 16 AS feature,   count(t2.__ind) as count   FROM Init_0852044601848 as t1 ,Init_0852044601848 as t2,Possible_values_dk_0852044601848 as postab WHERE (postab.tid = t1.__ind AND postab.attr_name ='City' AND postab.attr_val<>t2.City AND  t1.__ind < t2.__ind AND  t1.PhoneNumber=t2.PhoneNumber) GROUP BY postab.vid, postab.domain_id);\n",
      "INSERT INTO Thread_12_0852044601848(SELECT postab.vid as vid, postab.domain_id AS assigned_val, 17 AS feature,   count(t1.__ind) as count   FROM Init_0852044601848 as t1 ,Init_0852044601848 as t2,Possible_values_dk_0852044601848 as postab WHERE (postab.tid = t2.__ind AND postab.attr_name = 'City' AND t1.City<>postab.attr_val AND  t1.__ind < t2.__ind AND  t1.PhoneNumber=t2.PhoneNumber) GROUP BY postab.vid, postab.domain_id);\n",
      "INSERT INTO Thread_14_0852044601848(SELECT postab.vid as vid, postab.domain_id AS assigned_val, 18 AS feature,   count(t2.__ind) as count   FROM Init_0852044601848 as t1 ,Init_0852044601848 as t2,Possible_values_dk_0852044601848 as postab WHERE (postab.tid = t1.__ind AND postab.attr_name ='PhoneNumber' AND postab.attr_val=t2.PhoneNumber AND  t1.__ind < t2.__ind AND  t1.State<>t2.State) GROUP BY postab.vid, postab.domain_id);\n",
      "INSERT INTO Thread_15_0852044601848(SELECT postab.vid as vid, postab.domain_id AS assigned_val, 19 AS feature,   count(t1.__ind) as count   FROM Init_0852044601848 as t1 ,Init_0852044601848 as t2,Possible_values_dk_0852044601848 as postab WHERE (postab.tid = t2.__ind AND postab.attr_name = 'PhoneNumber' AND t1.PhoneNumber=postab.attr_val AND  t1.__ind < t2.__ind AND  t1.State<>t2.State) GROUP BY postab.vid, postab.domain_id);\n",
      "INSERT INTO Thread_13_0852044601848(SELECT postab.vid as vid, postab.domain_id AS assigned_val, 20 AS feature,   count(t2.__ind) as count   FROM Init_0852044601848 as t1 ,Init_0852044601848 as t2,Possible_values_dk_0852044601848 as postab WHERE (postab.tid = t1.__ind AND postab.attr_name ='State' AND postab.attr_val<>t2.State AND  t1.__ind < t2.__ind AND  t1.PhoneNumber=t2.PhoneNumber) GROUP BY postab.vid, postab.domain_id);\n",
      "INSERT INTO Thread_12_0852044601848(SELECT postab.vid as vid, postab.domain_id AS assigned_val, 21 AS feature,   count(t1.__ind) as count   FROM Init_0852044601848 as t1 ,Init_0852044601848 as t2,Possible_values_dk_0852044601848 as postab WHERE (postab.tid = t2.__ind AND postab.attr_name = 'State' AND t1.State<>postab.attr_val AND  t1.__ind < t2.__ind AND  t1.PhoneNumber=t2.PhoneNumber) GROUP BY postab.vid, postab.domain_id);\n",
      "INSERT INTO Thread_14_0852044601848(SELECT postab.vid as vid, postab.domain_id AS assigned_val, 22 AS feature,   count(t2.__ind) as count   FROM Init_0852044601848 as t1 ,Init_0852044601848 as t2,Possible_values_dk_0852044601848 as postab WHERE (postab.tid = t1.__ind AND postab.attr_name ='ProviderNumber' AND postab.attr_val=t2.ProviderNumber AND  t1.__ind < t2.__ind AND  t1.MeasureCode=t2.MeasureCode AND  t1.Stateavg<>t2.Stateavg) GROUP BY postab.vid, postab.domain_id);\n",
      "INSERT INTO Thread_14_0852044601848(SELECT postab.vid as vid, postab.domain_id AS assigned_val, 23 AS feature,   count(t1.__ind) as count   FROM Init_0852044601848 as t1 ,Init_0852044601848 as t2,Possible_values_dk_0852044601848 as postab WHERE (postab.tid = t2.__ind AND postab.attr_name = 'ProviderNumber' AND t1.ProviderNumber=postab.attr_val AND  t1.__ind < t2.__ind AND  t1.MeasureCode=t2.MeasureCode AND  t1.Stateavg<>t2.Stateavg) GROUP BY postab.vid, postab.domain_id);\n",
      "INSERT INTO Thread_14_0852044601848(SELECT postab.vid as vid, postab.domain_id AS assigned_val, 24 AS feature,   count(t2.__ind) as count   FROM Init_0852044601848 as t1 ,Init_0852044601848 as t2,Possible_values_dk_0852044601848 as postab WHERE (postab.tid = t1.__ind AND postab.attr_name ='MeasureCode' AND postab.attr_val=t2.MeasureCode AND  t1.__ind < t2.__ind AND  t1.ProviderNumber=t2.ProviderNumber AND  t1.Stateavg<>t2.Stateavg) GROUP BY postab.vid, postab.domain_id);\n",
      "INSERT INTO Thread_15_0852044601848(SELECT postab.vid as vid, postab.domain_id AS assigned_val, 25 AS feature,   count(t1.__ind) as count   FROM Init_0852044601848 as t1 ,Init_0852044601848 as t2,Possible_values_dk_0852044601848 as postab WHERE (postab.tid = t2.__ind AND postab.attr_name = 'MeasureCode' AND t1.MeasureCode=postab.attr_val AND  t1.__ind < t2.__ind AND  t1.ProviderNumber=t2.ProviderNumber AND  t1.Stateavg<>t2.Stateavg) GROUP BY postab.vid, postab.domain_id);\n"
     ]
    },
    {
     "name": "stdout",
     "output_type": "stream",
     "text": [
      "INSERT INTO Thread_13_0852044601848(SELECT postab.vid as vid, postab.domain_id AS assigned_val, 26 AS feature,   count(t2.__ind) as count   FROM Init_0852044601848 as t1 ,Init_0852044601848 as t2,Possible_values_dk_0852044601848 as postab WHERE (postab.tid = t1.__ind AND postab.attr_name ='Stateavg' AND postab.attr_val<>t2.Stateavg AND  t1.__ind < t2.__ind AND  t1.ProviderNumber=t2.ProviderNumber AND  t1.MeasureCode=t2.MeasureCode) GROUP BY postab.vid, postab.domain_id);\n",
      "INSERT INTO Thread_12_0852044601848(SELECT postab.vid as vid, postab.domain_id AS assigned_val, 27 AS feature,   count(t1.__ind) as count   FROM Init_0852044601848 as t1 ,Init_0852044601848 as t2,Possible_values_dk_0852044601848 as postab WHERE (postab.tid = t2.__ind AND postab.attr_name = 'Stateavg' AND t1.Stateavg<>postab.attr_val AND  t1.__ind < t2.__ind AND  t1.ProviderNumber=t2.ProviderNumber AND  t1.MeasureCode=t2.MeasureCode) GROUP BY postab.vid, postab.domain_id);\n",
      "INSERT INTO Thread_14_0852044601848(SELECT postab.vid as vid, postab.domain_id AS assigned_val, 28 AS feature,   count(t2.__ind) as count   FROM Init_0852044601848 as t1 ,Init_0852044601848 as t2,Possible_values_dk_0852044601848 as postab WHERE (postab.tid = t1.__ind AND postab.attr_name ='MeasureCode' AND postab.attr_val=t2.MeasureCode AND  t1.__ind < t2.__ind AND  t1.MeasureName<>t2.MeasureName) GROUP BY postab.vid, postab.domain_id);\n",
      "INSERT INTO Thread_15_0852044601848(SELECT postab.vid as vid, postab.domain_id AS assigned_val, 29 AS feature,   count(t1.__ind) as count   FROM Init_0852044601848 as t1 ,Init_0852044601848 as t2,Possible_values_dk_0852044601848 as postab WHERE (postab.tid = t2.__ind AND postab.attr_name = 'MeasureCode' AND t1.MeasureCode=postab.attr_val AND  t1.__ind < t2.__ind AND  t1.MeasureName<>t2.MeasureName) GROUP BY postab.vid, postab.domain_id);\n",
      "INSERT INTO Thread_13_0852044601848(SELECT postab.vid as vid, postab.domain_id AS assigned_val, 30 AS feature,   count(t2.__ind) as count   FROM Init_0852044601848 as t1 ,Init_0852044601848 as t2,Possible_values_dk_0852044601848 as postab WHERE (postab.tid = t1.__ind AND postab.attr_name ='MeasureName' AND postab.attr_val<>t2.MeasureName AND  t1.__ind < t2.__ind AND  t1.MeasureCode=t2.MeasureCode) GROUP BY postab.vid, postab.domain_id);\n",
      "INSERT INTO Thread_12_0852044601848(SELECT postab.vid as vid, postab.domain_id AS assigned_val, 31 AS feature,   count(t1.__ind) as count   FROM Init_0852044601848 as t1 ,Init_0852044601848 as t2,Possible_values_dk_0852044601848 as postab WHERE (postab.tid = t2.__ind AND postab.attr_name = 'MeasureName' AND t1.MeasureName<>postab.attr_val AND  t1.__ind < t2.__ind AND  t1.MeasureCode=t2.MeasureCode) GROUP BY postab.vid, postab.domain_id);\n",
      "INSERT INTO Thread_14_0852044601848(SELECT postab.vid as vid, postab.domain_id AS assigned_val, 32 AS feature,   count(t2.__ind) as count   FROM Init_0852044601848 as t1 ,Init_0852044601848 as t2,Possible_values_dk_0852044601848 as postab WHERE (postab.tid = t1.__ind AND postab.attr_name ='MeasureCode' AND postab.attr_val=t2.MeasureCode AND  t1.__ind < t2.__ind AND  t1.Condition<>t2.Condition) GROUP BY postab.vid, postab.domain_id);\n",
      "INSERT INTO Thread_15_0852044601848(SELECT postab.vid as vid, postab.domain_id AS assigned_val, 33 AS feature,   count(t1.__ind) as count   FROM Init_0852044601848 as t1 ,Init_0852044601848 as t2,Possible_values_dk_0852044601848 as postab WHERE (postab.tid = t2.__ind AND postab.attr_name = 'MeasureCode' AND t1.MeasureCode=postab.attr_val AND  t1.__ind < t2.__ind AND  t1.Condition<>t2.Condition) GROUP BY postab.vid, postab.domain_id);\n",
      "INSERT INTO Thread_14_0852044601848(SELECT postab.vid as vid, postab.domain_id AS assigned_val, 34 AS feature,   count(t2.__ind) as count   FROM Init_0852044601848 as t1 ,Init_0852044601848 as t2,Possible_values_dk_0852044601848 as postab WHERE (postab.tid = t1.__ind AND postab.attr_name ='Condition' AND postab.attr_val<>t2.Condition AND  t1.__ind < t2.__ind AND  t1.MeasureCode=t2.MeasureCode) GROUP BY postab.vid, postab.domain_id);\n",
      "INSERT INTO Thread_13_0852044601848(SELECT postab.vid as vid, postab.domain_id AS assigned_val, 35 AS feature,   count(t1.__ind) as count   FROM Init_0852044601848 as t1 ,Init_0852044601848 as t2,Possible_values_dk_0852044601848 as postab WHERE (postab.tid = t2.__ind AND postab.attr_name = 'Condition' AND t1.Condition<>postab.attr_val AND  t1.__ind < t2.__ind AND  t1.MeasureCode=t2.MeasureCode) GROUP BY postab.vid, postab.domain_id);\n",
      "INSERT INTO Thread_15_0852044601848(SELECT postab.vid as vid, postab.domain_id AS assigned_val, 36 AS feature,   count(t2.__ind) as count   FROM Init_0852044601848 as t1 ,Init_0852044601848 as t2,Possible_values_dk_0852044601848 as postab WHERE (postab.tid = t1.__ind AND postab.attr_name ='State' AND postab.attr_val=t2.State AND  t1.__ind < t2.__ind AND  t1.MeasureCode=t2.MeasureCode AND  t1.Stateavg<>t2.Stateavg) GROUP BY postab.vid, postab.domain_id);\n",
      "INSERT INTO Thread_12_0852044601848(SELECT postab.vid as vid, postab.domain_id AS assigned_val, 37 AS feature,   count(t1.__ind) as count   FROM Init_0852044601848 as t1 ,Init_0852044601848 as t2,Possible_values_dk_0852044601848 as postab WHERE (postab.tid = t2.__ind AND postab.attr_name = 'State' AND t1.State=postab.attr_val AND  t1.__ind < t2.__ind AND  t1.MeasureCode=t2.MeasureCode AND  t1.Stateavg<>t2.Stateavg) GROUP BY postab.vid, postab.domain_id);\n",
      "INSERT INTO Thread_15_0852044601848(SELECT postab.vid as vid, postab.domain_id AS assigned_val, 38 AS feature,   count(t2.__ind) as count   FROM Init_0852044601848 as t1 ,Init_0852044601848 as t2,Possible_values_dk_0852044601848 as postab WHERE (postab.tid = t1.__ind AND postab.attr_name ='MeasureCode' AND postab.attr_val=t2.MeasureCode AND  t1.__ind < t2.__ind AND  t1.State=t2.State AND  t1.Stateavg<>t2.Stateavg) GROUP BY postab.vid, postab.domain_id);\n",
      "INSERT INTO Thread_12_0852044601848(SELECT postab.vid as vid, postab.domain_id AS assigned_val, 39 AS feature,   count(t1.__ind) as count   FROM Init_0852044601848 as t1 ,Init_0852044601848 as t2,Possible_values_dk_0852044601848 as postab WHERE (postab.tid = t2.__ind AND postab.attr_name = 'MeasureCode' AND t1.MeasureCode=postab.attr_val AND  t1.__ind < t2.__ind AND  t1.State=t2.State AND  t1.Stateavg<>t2.Stateavg) GROUP BY postab.vid, postab.domain_id);\n",
      "INSERT INTO Thread_14_0852044601848(SELECT postab.vid as vid, postab.domain_id AS assigned_val, 40 AS feature,   count(t2.__ind) as count   FROM Init_0852044601848 as t1 ,Init_0852044601848 as t2,Possible_values_dk_0852044601848 as postab WHERE (postab.tid = t1.__ind AND postab.attr_name ='Stateavg' AND postab.attr_val<>t2.Stateavg AND  t1.__ind < t2.__ind AND  t1.State=t2.State AND  t1.MeasureCode=t2.MeasureCode) GROUP BY postab.vid, postab.domain_id);\n",
      "INSERT INTO Thread_13_0852044601848(SELECT postab.vid as vid, postab.domain_id AS assigned_val, 41 AS feature,   count(t1.__ind) as count   FROM Init_0852044601848 as t1 ,Init_0852044601848 as t2,Possible_values_dk_0852044601848 as postab WHERE (postab.tid = t2.__ind AND postab.attr_name = 'Stateavg' AND t1.Stateavg<>postab.attr_val AND  t1.__ind < t2.__ind AND  t1.State=t2.State AND  t1.MeasureCode=t2.MeasureCode) GROUP BY postab.vid, postab.domain_id);\n",
      "Time for Test Featurization: 1.42995905876\n",
      "\n",
      "Time for Inference: 2.11174798012\n",
      "\n"
     ]
    }
   ],
   "source": [
    "repaired = session.repair()"
   ]
  },
  {
   "cell_type": "markdown",
   "metadata": {},
   "source": [
    "As we can see, our repaired dataset has effectively removed large numbers of the 'x' characters"
   ]
  },
  {
   "cell_type": "code",
   "execution_count": 9,
   "metadata": {},
   "outputs": [
    {
     "name": "stdout",
     "output_type": "stream",
     "text": [
      "+----------+\n",
      "|      City|\n",
      "+----------+\n",
      "|BIRMINGHAM|\n",
      "|BIRMINGHAM|\n",
      "|BIRMINGHAM|\n",
      "|BIRMINGHAM|\n",
      "|BIRMINGHAM|\n",
      "|BIRMINGHAM|\n",
      "|BIRMINGHAM|\n",
      "|BIRMINGHAM|\n",
      "| SHEFFIELD|\n",
      "| SHEFFIELD|\n",
      "| SHEFFIELD|\n",
      "| SHEFFIELD|\n",
      "| SHEFFIELD|\n",
      "| SHEFFIELD|\n",
      "| SHEFFIELD|\n",
      "+----------+\n",
      "only showing top 15 rows\n",
      "\n"
     ]
    }
   ],
   "source": [
    "repaired = repaired.withColumn(\"__ind\", repaired[\"__ind\"].cast(\"int\"))\n",
    "repaired.sort('__ind').select('City').show(15)"
   ]
  },
  {
   "cell_type": "markdown",
   "metadata": {},
   "source": [
    "### Performance Evaluation"
   ]
  },
  {
   "cell_type": "markdown",
   "metadata": {},
   "source": [
    "Since this is a research dataset, a clean version is available for us to compare our results to. "
   ]
  },
  {
   "cell_type": "code",
   "execution_count": 10,
   "metadata": {},
   "outputs": [
    {
     "name": "stdout",
     "output_type": "stream",
     "text": [
      "The precision that we have is :0.987947882736\n",
      "The recall that we have is :0.777272727273\n"
     ]
    }
   ],
   "source": [
    "session.compare_to_truth(\"data/groundtruth.csv\")"
   ]
  },
  {
   "cell_type": "code",
   "execution_count": null,
   "metadata": {
    "collapsed": true
   },
   "outputs": [],
   "source": []
  }
 ],
 "metadata": {
  "kernelspec": {
   "display_name": "Python 2",
   "language": "python",
   "name": "python2"
  },
  "language_info": {
   "codemirror_mode": {
    "name": "ipython",
    "version": 2
   },
   "file_extension": ".py",
   "mimetype": "text/x-python",
   "name": "python",
   "nbconvert_exporter": "python",
   "pygments_lexer": "ipython2",
   "version": "2.7.13"
  }
 },
 "nbformat": 4,
 "nbformat_minor": 2
}
