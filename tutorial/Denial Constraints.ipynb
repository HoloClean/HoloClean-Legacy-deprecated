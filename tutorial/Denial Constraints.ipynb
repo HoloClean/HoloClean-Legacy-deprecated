{
 "cells": [
  {
   "cell_type": "code",
   "execution_count": 1,
   "metadata": {},
   "outputs": [
    {
     "name": "stderr",
     "output_type": "stream",
     "text": [
      "/Users/joshmcgrath/anaconda2/lib/python2.7/site-packages/sqlalchemy/dialects/mysql/base.py:1569: Warning: '@@tx_isolation' is deprecated and will be removed in a future release. Please use '@@transaction_isolation' instead\n",
      "  cursor.execute('SELECT @@tx_isolation')\n"
     ]
    }
   ],
   "source": [
    "#Load up a HoloClean session\n",
    "\n",
    "from holoclean.holoclean import HoloClean, Session\n",
    "holo_obj = HoloClean(mysql_driver = \"../holoclean/lib/mysql-connector-java-5.1.44-bin.jar\" )\n",
    "session = Session( holo_obj)\n",
    "dataset = \"data/hospital_dataset.csv\"\n",
    "data = session.load_data(dataset)"
   ]
  },
  {
   "cell_type": "markdown",
   "metadata": {},
   "source": [
    "# Introduction to Denial Constraints\n",
    "\n",
    "HoloClean's goal is to clean your data, and the system is driven by a description of what clean data *should* be like. These are expressed in the form of a Denial Constraint, which is similar to a [functional dependency](https://en.wikipedia.org/wiki/Functional_dependency). However, functional dependencies express things that should hold for your data, a denial constraint expresses what clean data is not like.\n",
    "## An Example: The Hospital Dataset\n",
    "\n",
    "This tutorial will walk through one of the Denial Constraints used in the Hospital Dataset. The data has the following fields:\n",
    "\n",
    "\n",
    "\n",
    "\n",
    "\n",
    "`\n",
    "index,\n",
    "ProviderNumber,\n",
    "HospitalName,\n",
    "Address1,\n",
    "Address2,\n",
    "Address3,\n",
    "City,\n",
    "State,\n",
    "ZipCode,\n",
    "CountyName,\n",
    "PhoneNumber,\n",
    "HospitalType,\n",
    "HospitalOwner,\n",
    "EmergencyService,\n",
    "Condition,\n",
    "MeasureCode,\n",
    "MeasureName,\n",
    "Score,\n",
    "Sample,\n",
    "Stateavg`\n",
    "\n",
    "\n",
    "And we know that there are some errors in our data. For example some people have mistyped the city name, and so we see results like\n",
    "\n",
    "\n",
    "\n",
    "\n"
   ]
  },
  {
   "cell_type": "code",
   "execution_count": 13,
   "metadata": {},
   "outputs": [
    {
     "name": "stdout",
     "output_type": "stream",
     "text": [
      "+----------+-------+\n",
      "|      City|ZipCode|\n",
      "+----------+-------+\n",
      "|BIRMINGHAM|  35233|\n",
      "|BIRMINGHAM|  35233|\n",
      "|BIRMINGHAM|  35233|\n",
      "|BIRMINGHxM|  35233|\n",
      "|BIRMINGHAM|  35233|\n",
      "|BIRMINGHAM|  35233|\n",
      "|BIRMINGHAM|  35233|\n",
      "|BIRMINGxAM|  35233|\n",
      "| SHEFFIELD|  35660|\n",
      "| SHEFFIELD|  35660|\n",
      "| SHEFFxELD|  35660|\n",
      "| SHEFFIELD|  35660|\n",
      "| SHEFFIELD|  35660|\n",
      "| SHEFFIELD|  35660|\n",
      "| SHEFFIELD|  35660|\n",
      "| SHEFFIELD|  35660|\n",
      "| SHEFFIELD|  35660|\n",
      "| SHEFFIELD|  35660|\n",
      "| SHEFFIELD|  35660|\n",
      "|    DOTHAN|  36302|\n",
      "+----------+-------+\n",
      "only showing top 20 rows\n",
      "\n"
     ]
    }
   ],
   "source": [
    "data.select('City', 'ZipCode').show()"
   ]
  },
  {
   "cell_type": "markdown",
   "metadata": {},
   "source": [
    "Clearly we have an issue with a city called `BIRMGINxAM`. However, we know that whenever the zip codes are the same, the city should be the same. In the language of functional dependencies we could write this as: for any records $t_1, t_2$\n",
    "\n",
    "$$t_1.ZipCode = t_2.ZipCode \\implies t_1.City = t_2.City$$\n",
    "\n",
    "However the HoloClean denial constraint will be.\n",
    "\n",
    "`t1&t2&EQ(t1.ZipCode,t2.ZipCode)&IQ(t1.City,t2.City)`\n",
    "\n",
    "Let's break down how this works:`t1&t2` specifies that two records will be involved in the error. `EQ(t1.ZipCode, t2.ZipCode)&IQ(t1.City, t2.City)` says that the records will have equal zip codes, but inequal cities. Now any pairs of records in the hospital dataset which make this true will be marked as potentially dirty.\n",
    "\n",
    "\n",
    "# Adding Denial Constraints to HoloClean\n",
    "There are multiple ways to add denial constraints to the system, the first is to load from a text file"
   ]
  },
  {
   "cell_type": "code",
   "execution_count": null,
   "metadata": {
    "collapsed": true
   },
   "outputs": [],
   "source": [
    "\n",
    "\n",
    "#Load a set of denial contstraints\n",
    "dc_path = \"data/hospital_constraints.txt\"\n",
    "dcs = session.load_denial_constraints(dc_path)\n",
    "dcs"
   ]
  },
  {
   "cell_type": "markdown",
   "metadata": {},
   "source": [
    "# Adding/Removing Constraints one-by-one"
   ]
  },
  {
   "cell_type": "code",
   "execution_count": null,
   "metadata": {
    "collapsed": true
   },
   "outputs": [],
   "source": [
    "dcs = session.add_denial_constraint('t1&t2&EQ(t1.ZipCode,t2.ZipCode)&IQ(t1.Stateavg,t2.Stateavg)')\n",
    "dcs"
   ]
  },
  {
   "cell_type": "markdown",
   "metadata": {},
   "source": [
    "# Denial Constraint Operators\n",
    "\n",
    "If you want a thorough introduction to denial constraints, refer to the [HoloClean Paper](https://arxiv.org/pdf/1702.00820.pdf). For the brief introduction the logical operators available are:\n",
    "\n",
    "|Operator|Meaning|\n",
    "|--------|-----|\n",
    "|`EQ(x.y,z.w)`| `x.y==z.w` |\n",
    "|`IQ(x.y,z.w)`| `x.y != z.w` |\n",
    "|`GT(x.y, z.w)`| `x.y > z.y`|\n",
    "|`GTE(x.y, z.w)`| `x.y >= z.y`|\n",
    "|`LT(x.y, z.w)`| `x.y < z.y`|\n",
    "|`LT(x.y, z.w)`| `x.y <= z.y`|\n",
    "\n",
    "All denial constraints are of the form `t1&t2&<X>&<Y>&...`  where `<X>` and `<Y>` are logical operators mentioned above.\n",
    "\n",
    "# Next Steps\n",
    "\n",
    "Denial Constraints are just one of HoloClean's error detectors that it uses for learning, if you'd like to write your own check out our error detectors tutorial. If you want to learn about the next steps in the HoloClean pipeline, check out the [repairs]() tutorial."
   ]
  },
  {
   "cell_type": "code",
   "execution_count": null,
   "metadata": {
    "collapsed": true
   },
   "outputs": [],
   "source": []
  }
 ],
 "metadata": {
  "kernelspec": {
   "display_name": "Python 2",
   "language": "python",
   "name": "python2"
  },
  "language_info": {
   "codemirror_mode": {
    "name": "ipython",
    "version": 2
   },
   "file_extension": ".py",
   "mimetype": "text/x-python",
   "name": "python",
   "nbconvert_exporter": "python",
   "pygments_lexer": "ipython2",
   "version": "2.7.14"
  }
 },
 "nbformat": 4,
 "nbformat_minor": 2
}
