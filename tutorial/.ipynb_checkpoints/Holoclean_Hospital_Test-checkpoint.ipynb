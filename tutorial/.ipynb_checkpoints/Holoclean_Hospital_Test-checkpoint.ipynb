{
 "cells": [
  {
   "cell_type": "markdown",
   "metadata": {},
   "source": [
    "Noisy and erroneous data is a major bottleneck in analytics. Data cleaning and repairing account for about 60% of the work of data scientists. To address this bottleneck, we recently introduced HoloClean, a semi-automated data repairing framework that relies on statistical learning and inference to repair errors in structured data. In HoloClean, we build upon the paradigm of weak supervision and demonstrate how to leverage diverse signals, including user-defined heuristic rules (such as generalized data integrity constraints) and external dictionaries, to repair erroneous data. "
   ]
  },
  {
   "cell_type": "markdown",
   "metadata": {},
   "source": [
    "In this post, we walk through the process of implementing Holoclean, by creating a simple end-to-end example."
   ]
  },
  {
   "cell_type": "markdown",
   "metadata": {},
   "source": [
    "# Setup"
   ]
  },
  {
   "cell_type": "markdown",
   "metadata": {},
   "source": [
    "Firstly, we import all the module from Holoclean that we will use."
   ]
  },
  {
   "cell_type": "code",
   "execution_count": 1,
   "metadata": {
    "collapsed": true
   },
   "outputs": [],
   "source": [
    "from holoclean.holoclean import HoloClean, Session\n",
    "from holoclean.errordetection.errordetector import ErrorDetectors\n",
    "from holoclean.featurization.featurizer import SignalInit, SignalCooccur, SignalDC\n",
    "from holoclean.featurization.featurizer import Featurizer\n",
    "from holoclean.learning.softmax import SoftMax\n",
    "from holoclean.learning.accuracy import Accuracy\n",
    "import time"
   ]
  },
  {
   "cell_type": "markdown",
   "metadata": {},
   "source": [
    "##   Initialization\n",
    "In this part, we create the Holoclean and Session object that we will use for this example."
   ]
  },
  {
   "cell_type": "code",
   "execution_count": 2,
   "metadata": {},
   "outputs": [
    {
     "name": "stderr",
     "output_type": "stream",
     "text": [
      "/home/james/anaconda/envs/python2.7/lib/python2.7/site-packages/sqlalchemy/dialects/mysql/base.py:1576: Warning: '@@tx_isolation' is deprecated and will be removed in a future release. Please use '@@transaction_isolation' instead\n",
      "  cursor.execute('SELECT @@tx_isolation')\n"
     ]
    }
   ],
   "source": [
    "holo_obj = HoloClean(mysql_driver = \"../holoclean/lib/mysql-connector-java-5.1.44-bin.jar\" )\n",
    "session = Session(\"Session\", holo_obj)\n",
    "        "
   ]
  },
  {
   "cell_type": "markdown",
   "metadata": {},
   "source": [
    "## Read Input and DC from file\n",
    "Test data and the Denial Constraints will be read using the Session's ingestor.\n",
    "After ingesting the test data will be loaded into MySQL tables along with entries in the a metadata table."
   ]
  },
  {
   "cell_type": "code",
   "execution_count": 3,
   "metadata": {},
   "outputs": [
    {
     "name": "stdout",
     "output_type": "stream",
     "text": [
      "time for ingesting file: 5.02210903168\n",
      "\n",
      "Init table\n",
      "+-----+--------------+--------------------+--------------------+\n",
      "|index|ProviderNumber|        HospitalName|            Address1|\n",
      "+-----+--------------+--------------------+--------------------+\n",
      "|    1|         10018|CALLAHAN EYE FOUN...|1720 UNIVERSITY BLVD|\n",
      "|    2|         10018|CALLAHAN EYE FOUN...|1720 UNIVERSITY BLVD|\n",
      "|    3|         10018|CALLAHAN EYE FOUN...|1720 UNIVERSITY BLVD|\n",
      "|    4|         10018|CALLAHAN EYE FOUN...|1720 UNIVERSITY BLVD|\n",
      "|    5|         10018|CALLAHAN EYE FOUN...|1720 UNIVERSITY BLVD|\n",
      "|    6|         10018|CALLAHAN EYE FOUN...|1720 UNIVERSITY BLVD|\n",
      "|    7|         10018|CALLAHAN EYE FOUN...|1720 UNIVERSITY BLVD|\n",
      "|    8|         10018|CALLAHAN EYE FOUN...|1720 UNIVERSITY BLVD|\n",
      "|    9|         10019|HELEN KELLER MEMO...|1300 SOUTH MONTGO...|\n",
      "|   10|         10019|HELEN KELLER MEMO...|1300 SOUTH MONTGO...|\n",
      "|   11|         10019|HELEN KELLER MEMO...|1300 SOUTH MONTGO...|\n",
      "|   12|         10019|HELEN KELLER MEMO...|1300 SOUTH MONTGO...|\n",
      "|   13|         10019|HELEN KELLER MEMO...|1300 SOUTH MONTGO...|\n",
      "|   14|         1xx19|HELEN KELLER MEMO...|1300 SOUTH MONTGO...|\n",
      "|   15|         10019|HELEN KELLER MEMO...|1300 SOUTH MONTGO...|\n",
      "|   16|         10019|HELEN KELLER MEMO...|1300 SOUTH MONTGO...|\n",
      "|   17|         10019|HELEN KELLER MEMO...|1300 SOUTH MONTGO...|\n",
      "|   18|         10019|HELEN KELLER MEMO...|1300 SOUTH MONTGO...|\n",
      "|   19|         10019|HELEN KELLER MEMO...|1300 SOUTH MONTGO...|\n",
      "|   20|         10001|SOUTHEAST ALABAMA...|1108 ROSS CLARK C...|\n",
      "+-----+--------------+--------------------+--------------------+\n",
      "only showing top 20 rows\n",
      "\n"
     ]
    }
   ],
   "source": [
    "dataset = \"../datasets/hospital1k/hospital_dataset.csv\"\n",
    "\n",
    "denial_constraints = \"../datasets/hospital1k/hospital_constraints.txt\"\n",
    "\n",
    "ground_truth = \"../datasets/hospital1k/groundtruth.csv\"\n",
    "\n",
    "# Ingesting Dataset and Denial Constraints\n",
    "start_time = time.time()\n",
    "t0 = time.time()\n",
    "session.ingest_dataset(dataset)\n",
    "t1 = time.time()\n",
    "total = t1 - t0\n",
    "\n",
    "\n",
    "print 'time for ingesting file: ' + str(total) + '\\n'\n",
    "session.denial_constraints(denial_constraints)\n",
    "print 'Init table'\n",
    "sql = holo_obj.dataengine.get_table_to_dataframe(\"Init\", session.dataset)\n",
    "sql.select('index','ProviderNumber','HospitalName', 'Address1').show()"
   ]
  },
  {
   "cell_type": "markdown",
   "metadata": {},
   "source": [
    "## Error Detection\n",
    "In this part, we create the error detection. The output of this part is the C_dk table that contains all the noisy cells and the C_Clean table that contains the clean cells"
   ]
  },
  {
   "cell_type": "code",
   "execution_count": 4,
   "metadata": {},
   "outputs": [
    {
     "name": "stdout",
     "output_type": "stream",
     "text": [
      "Denial Constraint Queries: \n",
      "SELECT table1.index as ind,table2.index as indexT2 FROM df table1,df table2 WHERE (table1.ZipCode=table2.ZipCode AND table1.City<>table2.City)\n",
      "SELECT table1.index as ind,table2.index as indexT2 FROM df table1,df table2 WHERE (table1.ZipCode=table2.ZipCode AND table1.State<>table2.State)\n",
      "SELECT table1.index as ind,table2.index as indexT2 FROM df table1,df table2 WHERE (table1.PhoneNumber=table2.PhoneNumber AND table1.ZipCode<>table2.ZipCode)\n",
      "SELECT table1.index as ind,table2.index as indexT2 FROM df table1,df table2 WHERE (table1.PhoneNumber=table2.PhoneNumber AND table1.City<>table2.City)\n",
      "SELECT table1.index as ind,table2.index as indexT2 FROM df table1,df table2 WHERE (table1.PhoneNumber=table2.PhoneNumber AND table1.State<>table2.State)\n",
      "SELECT table1.index as ind,table2.index as indexT2 FROM df table1,df table2 WHERE (table1.ProviderNumber=table2.ProviderNumber AND table1.MeasureCode=table2.MeasureCode AND table1.Stateavg<>table2.Stateavg)\n",
      "SELECT table1.index as ind,table2.index as indexT2 FROM df table1,df table2 WHERE (table1.MeasureCode=table2.MeasureCode AND table1.MeasureName<>table2.MeasureName)\n",
      "SELECT table1.index as ind,table2.index as indexT2 FROM df table1,df table2 WHERE (table1.MeasureCode=table2.MeasureCode AND table1.Condition<>table2.Condition)\n",
      "SELECT table1.index as ind,table2.index as indexT2 FROM df table1,df table2 WHERE (table1.State=table2.State AND table1.MeasureCode=table2.MeasureCode AND table1.Stateavg<>table2.Stateavg)\n",
      "error dectection time: 442.028174162\n",
      "\n"
     ]
    }
   ],
   "source": [
    "t0 = time.time()\n",
    "err_detector = ErrorDetectors(session.Denial_constraints, holo_obj.dataengine,\n",
    "                             holo_obj.spark_session, session.dataset)\n",
    "session.add_error_detector(err_detector)\n",
    "session.ds_detect_errors()\n",
    "\n",
    "t1 = time.time()\n",
    "total = t1 - t0\n",
    "holo_obj.logger.info('error dectection time: '+str(total)+'\\n')\n",
    "print 'error dectection time: '+str(total)+'\\n'"
   ]
  },
  {
   "cell_type": "markdown",
   "metadata": {},
   "source": [
    "## Domain Pruning\n",
    "In this part, we prune the domain. The output of this part is the possible_values tables that contains all the possible values for each cell"
   ]
  },
  {
   "cell_type": "code",
   "execution_count": 5,
   "metadata": {},
   "outputs": [
    {
     "name": "stdout",
     "output_type": "stream",
     "text": [
      "domain pruning time: 45.56671381\n",
      "\n",
      "Possible_values_clean\n",
      "+----+---+-----------+--------------------+--------+---------+\n",
      "| vid|tid|  attr_name|            attr_val|observed|domain_id|\n",
      "+----+---+-----------+--------------------+--------+---------+\n",
      "| 892|496|  Condition|        Heart Attack|       1|        1|\n",
      "|   1|  1|      State|                  AL|       1|        1|\n",
      "| 893|496|MeasureCode|               AMI-x|       1|        1|\n",
      "|   2|  1|   Stateavg|      AL_SCIP-CARD-2|       1|        1|\n",
      "|1368|760|MeasureName|surgery patients ...|       1|        1|\n",
      "|1369|760|   Stateavg|       AL_SCIP-INF-1|       1|        1|\n",
      "|   3|  2|      State|                  AL|       1|        1|\n",
      "| 893|496|MeasureCode|               AMI-5|       0|        2|\n",
      "|   4|  2|  Condition|Surgical Infectio...|       1|        1|\n",
      "|1370|761|MeasureName|surgery patients ...|       1|        1|\n",
      "| 894|496|MeasureName|Heart Attack Pati...|       1|        1|\n",
      "|   4|  2|  Condition|        Heart Attack|       0|        2|\n",
      "|1371|762|MeasureName|surgery patients ...|       1|        1|\n",
      "| 895|496|   Stateavg|            AL_AMI-5|       1|        1|\n",
      "|   5|  2|MeasureCode|          SCIP-INF-1|       1|        1|\n",
      "|1372|762|   Stateavg|       AL_SCIP-INF-3|       1|        1|\n",
      "| 896|497|       City|              CENTRE|       1|        1|\n",
      "|   6|  2|MeasureName|surgery patients ...|       1|        1|\n",
      "|1373|763|   Stateavg|       AL_SCIP-INF-4|       1|        1|\n",
      "| 897|497|MeasureName|Heart Attack Pati...|       1|        1|\n",
      "+----+---+-----------+--------------------+--------+---------+\n",
      "only showing top 20 rows\n",
      "\n",
      "Possible values dk\n",
      "+---+---+-----------+--------------------+--------+---------+\n",
      "|vid|tid|  attr_name|            attr_val|observed|domain_id|\n",
      "+---+---+-----------+--------------------+--------+---------+\n",
      "|  1|  1|       City|          BIRMINGHAM|       1|        1|\n",
      "|744|117|      State|                  AL|       1|        1|\n",
      "|745|117|    ZipCode|               36467|       1|        1|\n",
      "|746|117|PhoneNumber|          3344933541|       1|        1|\n",
      "|747|117|MeasureCode|          SCIP-INF-6|       1|        1|\n",
      "|748|117|MeasureName|surgery patients ...|       1|        1|\n",
      "|749|118|      State|                  AL|       1|        1|\n",
      "|750|118|    ZipCode|               36467|       1|        1|\n",
      "|751|118|PhoneNumber|          3344933541|       1|        1|\n",
      "|752|118|MeasureCode|          SCIP-VTE-1|       1|        1|\n",
      "|753|118|MeasureName|surgery patients ...|       1|        1|\n",
      "|754|118|   Stateavg|       AL_SCIP-VTE-1|       1|        1|\n",
      "|755|119|      State|                  AL|       1|        1|\n",
      "|756|119|    ZipCode|               36467|       1|        1|\n",
      "|757|119|PhoneNumber|          3344933541|       1|        1|\n",
      "|758|119|  Condition|Surgical Infectio...|       1|        1|\n",
      "|759|119|MeasureCode|          SCIP-VTE-2|       1|        1|\n",
      "|760|119|   Stateavg|       AL_SCIP-VTE-2|       1|        1|\n",
      "|761|120|      State|                  Ax|       1|        1|\n",
      "|761|120|      State|                  AL|       0|        2|\n",
      "+---+---+-----------+--------------------+--------+---------+\n",
      "only showing top 20 rows\n",
      "\n"
     ]
    }
   ],
   "source": [
    "t0 = time.time()\n",
    "pruning_threshold = 0.5\n",
    "session.ds_domain_pruning(pruning_threshold)\n",
    "\n",
    "t1 = time.time()\n",
    "total = t1 - t0\n",
    "holo_obj.logger.info('domain pruning time: '+str(total)+'\\n')\n",
    "print 'domain pruning time: '+str(total)+'\\n'\n",
    "\n",
    "print 'Possible_values_clean'\n",
    "sql = holo_obj.dataengine.get_table_to_dataframe(\"Possible_values_clean\", session.dataset)\n",
    "sql.show()\n",
    "\n",
    "print 'Possible values dk'\n",
    "sql = holo_obj.dataengine.get_table_to_dataframe(\"Possible_values_dk\", session.dataset)\n",
    "sql.show()"
   ]
  },
  {
   "cell_type": "markdown",
   "metadata": {},
   "source": [
    "# Featurization"
   ]
  },
  {
   "cell_type": "markdown",
   "metadata": {},
   "source": [
    "In this part, we implement the featurization module of holoclean. We choose the signals that we want to use and the output of this part is the featurization table that contains the factors that we will use"
   ]
  },
  {
   "cell_type": "markdown",
   "metadata": {},
   "source": [
    "## Feature Signals"
   ]
  },
  {
   "cell_type": "code",
   "execution_count": 6,
   "metadata": {},
   "outputs": [
    {
     "name": "stdout",
     "output_type": "stream",
     "text": [
      "Feature Signal Time: 0.00168800354004\n"
     ]
    }
   ],
   "source": [
    "t0 = time.time()\n",
    "initial_value_signal = SignalInit(session.Denial_constraints, holo_obj.dataengine,\n",
    "                              session.dataset)\n",
    "session.add_featurizer(initial_value_signal )\n",
    "statistics_signal = SignalCooccur(session.Denial_constraints, holo_obj.dataengine,\n",
    "                              session.dataset )\n",
    "session.add_featurizer(statistics_signal)\n",
    "dc_signal = SignalDC(session.Denial_constraints, holo_obj.dataengine, session.dataset,\n",
    "                 holo_obj.spark_session)\n",
    "session.add_featurizer(dc_signal)\n",
    "t1 = time.time()\n",
    "total = t1 - t0\n",
    "print \"Feature Signal Time:\", total"
   ]
  },
  {
   "cell_type": "markdown",
   "metadata": {},
   "source": [
    "We use the signals that we choose in the previous step. The output of this part is the featurization table that contains the factors that we will use in the next step."
   ]
  },
  {
   "cell_type": "code",
   "execution_count": 7,
   "metadata": {
    "scrolled": false
   },
   "outputs": [
    {
     "name": "stdout",
     "output_type": "stream",
     "text": [
      "featurization time: 177.308799028\n",
      "\n"
     ]
    }
   ],
   "source": [
    "t0 = time.time()\n",
    "session.ds_featurize(clean = 1)\n",
    "\n",
    "t1 = time.time()\n",
    "\n",
    "total = t1 - t0\n",
    "\n",
    "holo_obj.logger.info('featurization time: '+str(total)+'\\n')\n",
    "print 'featurization time: '+str(total)+'\\n'"
   ]
  },
  {
   "cell_type": "markdown",
   "metadata": {},
   "source": [
    "#  Learning\n",
    "We create the X-tensor from the feature_clean table and run softmax on it, then we save results to MySQL and output the accuracy"
   ]
  },
  {
   "cell_type": "code",
   "execution_count": 8,
   "metadata": {},
   "outputs": [
    {
     "name": "stdout",
     "output_type": "stream",
     "text": [
      "time for training model: 17.9269869328\n",
      "\n"
     ]
    }
   ],
   "source": [
    "t0 = time.time()\n",
    "soft = SoftMax(holo_obj.dataengine, session.dataset, holo_obj.spark_session,\n",
    "                       session.X_training)\n",
    "\n",
    "soft.logreg()\n",
    "t1 = time.time()\n",
    "total = t1 - t0\n",
    "\n",
    "print 'time for training model: '+str(total)+'\\n'\n"
   ]
  },
  {
   "cell_type": "markdown",
   "metadata": {},
   "source": [
    "In this part, we use the new weight, to learn the probabilities for each value for the cells\n"
   ]
  },
  {
   "cell_type": "code",
   "execution_count": 9,
   "metadata": {
    "scrolled": false
   },
   "outputs": [
    {
     "name": "stdout",
     "output_type": "stream",
     "text": [
      "time for test featurization: 228.791152954\n",
      "\n",
      "time for inference:  229.058362961\n",
      "Inferred values for dk cells\n",
      "+-----------+----+-----------+--------------------+---+---------+\n",
      "|probability| vid|  attr_name|            attr_val|tid|domain_id|\n",
      "+-----------+----+-----------+--------------------+---+---------+\n",
      "|        1.0| 406|PhoneNumber|          2565938310| 63|        1|\n",
      "|        1.0|  17|       City|          BIRMINGHAM|  4|        1|\n",
      "|        1.0| 441|    ZipCode|               35957| 69|        2|\n",
      "|        1.0|  62|   Stateavg|            AL_AMI-2| 10|        1|\n",
      "|        1.0| 307|  Condition|        Heart Attack| 49|        1|\n",
      "|        1.0|   3|PhoneNumber|          2053258100|  1|        1|\n",
      "|        1.0| 442|PhoneNumber|          2565938310| 69|        1|\n",
      "|        1.0| 482|   Stateavg|            AL_AMI-5| 74|        1|\n",
      "|        1.0|  69|       City|           SHEFFIELD| 12|        1|\n",
      "|        1.0|1161|MeasureCode|               PN-5C|184|        1|\n",
      "|        1.0|   6|MeasureName|surgery patients ...|  1|        1|\n",
      "|        1.0| 196|    ZipCode|               36302| 31|        1|\n",
      "|        1.0|  58|PhoneNumber|          2563864556| 10|        1|\n",
      "|        1.0| 641|      State|                  AL| 98|        1|\n",
      "|        1.0|  48|      State|                  AL|  9|        1|\n",
      "|        1.0| 105|    ZipCode|               35660| 17|        1|\n",
      "|        1.0| 525|MeasureCode|                HF-4| 80|        1|\n",
      "|        1.0| 764|  Condition|        Heart Attack|120|        1|\n",
      "|        1.0|  79|MeasureCode|               AMI-5| 13|        1|\n",
      "|        1.0| 737|MeasureCode|          SCIP-INF-3|115|        1|\n",
      "+-----------+----+-----------+--------------------+---+---------+\n",
      "only showing top 20 rows\n",
      "\n",
      "The precision that we have is :0.992345276873\n",
      "The recall that we have is :0.813636363636\n",
      "total time:  945.941745043\n"
     ]
    }
   ],
   "source": [
    "t0 = time.time()\n",
    "session.ds_featurize(clean = 0)\n",
    "t1 = time.time()\n",
    "total = t1 - t0\n",
    "print 'time for test featurization: ' + str(total) + '\\n'\n",
    "\n",
    "Y = soft.predict(soft.model, session.X_testing, soft.setupMask(0, session.N, session.L))\n",
    "t1 = time.time()\n",
    "total = t1 - t0\n",
    "print 'time for inference: ', total\n",
    "soft.save_prediction(Y)\n",
    "\n",
    "print 'Inferred values for dk cells'\n",
    "sql = holo_obj.dataengine.get_table_to_dataframe(\"Inferred_values\", session.dataset)\n",
    "sql.show()\n",
    "\n",
    "\n",
    "flattening = 0\n",
    "\n",
    "acc = Accuracy(holo_obj.dataengine, ground_truth, session.dataset,\n",
    "               holo_obj.spark_session)\n",
    "acc.accuracy_calculation(flattening)\n",
    "\n",
    "\n",
    "endtime = time.time()\n",
    "print 'total time: ', endtime - start_time"
   ]
  }
 ],
 "metadata": {
  "kernelspec": {
   "display_name": "Python 2",
   "language": "python",
   "name": "python2"
  },
  "language_info": {
   "codemirror_mode": {
    "name": "ipython",
    "version": 2
   },
   "file_extension": ".py",
   "mimetype": "text/x-python",
   "name": "python",
   "nbconvert_exporter": "python",
   "pygments_lexer": "ipython2",
   "version": "2.7.13"
  }
 },
 "nbformat": 4,
 "nbformat_minor": 2
}
