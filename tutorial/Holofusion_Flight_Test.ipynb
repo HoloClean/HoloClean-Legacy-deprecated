{
 "cells": [
  {
   "cell_type": "markdown",
   "metadata": {},
   "source": [
    "# A Step-by-Step Guide to Holofusion example"
   ]
  },
  {
   "cell_type": "markdown",
   "metadata": {},
   "source": [
    "# Setup"
   ]
  },
  {
   "cell_type": "markdown",
   "metadata": {},
   "source": [
    "Firstly, we import all the module from Holoclean that we will use."
   ]
  },
  {
   "cell_type": "code",
   "execution_count": 1,
   "metadata": {
    "collapsed": true
   },
   "outputs": [],
   "source": [
    "from holoclean.holoclean import HoloClean, Session\n",
    "from holoclean.errordetection.errordetector import ErrorDetectors\n",
    "from holoclean.featurization.featurizer import SignalInit, SignalCooccur, SignalDC, SignalSource\n",
    "from holoclean.featurization.featurizer import Featurizer\n",
    "from holoclean.learning.softmax import SoftMax\n",
    "from holoclean.learning.accuracy import Accuracy\n",
    "import time"
   ]
  },
  {
   "cell_type": "markdown",
   "metadata": {},
   "source": [
    "##   Initialization\n",
    "In this part, we create the Holoclean and Session object that we will use for this example."
   ]
  },
  {
   "cell_type": "code",
   "execution_count": 2,
   "metadata": {},
   "outputs": [
    {
     "name": "stderr",
     "output_type": "stream",
     "text": [
      "/home/james/anaconda/envs/python2.7/lib/python2.7/site-packages/sqlalchemy/dialects/mysql/base.py:1576: Warning: '@@tx_isolation' is deprecated and will be removed in a future release. Please use '@@transaction_isolation' instead\n",
      "  cursor.execute('SELECT @@tx_isolation')\n"
     ]
    }
   ],
   "source": [
    "holo_obj = HoloClean(mysql_driver = \"../holoclean/lib/mysql-connector-java-5.1.44-bin.jar\" )\n",
    "session = Session(\"Session\", holo_obj)\n",
    "        "
   ]
  },
  {
   "cell_type": "markdown",
   "metadata": {},
   "source": [
    "## Read Input and DC from file\n",
    "Test data and the Denial Constraints will be read using the Session's ingestor.\n",
    "After ingesting the test data will be loaded into MySQL tables along with entries in the a metadata table."
   ]
  },
  {
   "cell_type": "code",
   "execution_count": 3,
   "metadata": {},
   "outputs": [
    {
     "name": "stdout",
     "output_type": "stream",
     "text": [
      "time for ingesting file: 5.0366230011\n",
      "\n",
      "Init table\n",
      "+-----+---+---------------+--------------+------------+--------------------+------------+\n",
      "|index|src|         flight|sched_dep_time|act_dep_time|      sched_arr_time|act_arr_time|\n",
      "+-----+---+---------------+--------------+------------+--------------------+------------+\n",
      "|    1| aa|AA-3859-IAH-ORD|     7:10 a.m.|   7:16 a.m.|           9:40 a.m.|   9:32 a.m.|\n",
      "|    2| aa|AA-1733-ORD-PHX|     7:45 p.m.|   7:58 p.m.|          10:30 p.m.|        null|\n",
      "|    3| aa|AA-1640-MIA-MCO|     6:30 p.m.|        null|           7:25 p.m.|        null|\n",
      "|    4| aa| AA-518-MIA-JFK|     6:40 a.m.|   6:54 a.m.|           9:25 a.m.|   9:28 a.m.|\n",
      "|    5| aa|AA-3756-ORD-SLC|    12:15 p.m.|  12:41 p.m.|           2:45 p.m.|   2:50 p.m.|\n",
      "|    6| aa| AA-204-LAX-MCO|    11:25 p.m.|        null|12/02/2011 6:55 a.m.|        null|\n",
      "|    7| aa|AA-3468-CVG-MIA|     7:00 a.m.|   7:25 a.m.|           9:55 a.m.|   9:45 a.m.|\n",
      "|    8| aa| AA-484-DFW-MIA|     4:15 p.m.|   4:29 p.m.|           7:55 p.m.|   7:39 p.m.|\n",
      "|    9| aa| AA-446-DFW-PHL|    11:50 a.m.|  12:12 p.m.|           3:50 p.m.|   4:09 p.m.|\n",
      "|   10| aa| AA-466-IAH-MIA|     6:00 a.m.|   6:08 a.m.|           9:20 a.m.|   9:05 a.m.|\n",
      "|   11| aa|AA-1886-BOS-MIA|    10:45 a.m.|  10:55 a.m.|           2:20 p.m.|   1:40 p.m.|\n",
      "|   12| aa|AA-2957-DFW-CVG|     7:55 a.m.|   8:04 a.m.|          11:05 a.m.|  11:01 a.m.|\n",
      "|   13| aa|AA-1664-MIA-ATL|    10:15 a.m.|  10:18 a.m.|          12:10 p.m.|  11:56 a.m.|\n",
      "|   14| aa|AA-3979-CVG-ORD|     7:30 a.m.|   8:04 a.m.|           8:00 a.m.|   8:06 a.m.|\n",
      "|   15| aa|AA-1279-DFW-PHX|     1:00 p.m.|   2:04 p.m.|           2:35 p.m.|   3:30 p.m.|\n",
      "|   16| aa| AA-616-DFW-DTW|     9:05 a.m.|  10:10 a.m.|          12:35 p.m.|   1:27 p.m.|\n",
      "|   17| aa|AA-4344-ORD-DTW|    11:45 a.m.|  12:13 p.m.|           2:00 p.m.|   2:10 p.m.|\n",
      "|   18| aa|AA-2525-DFW-MIA|     7:25 a.m.|   7:39 a.m.|          11:10 a.m.|  11:06 a.m.|\n",
      "|   19| aa| AA-404-MIA-MCO|     6:45 a.m.|   6:57 a.m.|           7:45 a.m.|   7:40 a.m.|\n",
      "|   20| aa| AA-271-MIA-LAX|    11:35 a.m.|  11:52 a.m.|           2:25 p.m.|   2:27 p.m.|\n",
      "+-----+---+---------------+--------------+------------+--------------------+------------+\n",
      "only showing top 20 rows\n",
      "\n"
     ]
    }
   ],
   "source": [
    "dataset = \"../datasets/flights/flight_input_holo.csv\"\n",
    "\n",
    "denial_constraints = \"../datasets/flights/flight_constraints.txt\"\n",
    "\n",
    "ground_truth = \"../datasets/flights/flights_clean.csv\"\n",
    "\n",
    "# Ingesting Dataset and Denial Constraints\n",
    "start_time = time.time()\n",
    "t0 = time.time()\n",
    "session.ingest_dataset(dataset)\n",
    "t1 = time.time()\n",
    "total = t1 - t0\n",
    "\n",
    "\n",
    "print 'time for ingesting file: ' + str(total) + '\\n'\n",
    "session.denial_constraints(denial_constraints)\n",
    "print 'Init table'\n",
    "sql = holo_obj.dataengine.get_table_to_dataframe(\"Init\", session.dataset)\n",
    "sql.show()"
   ]
  },
  {
   "cell_type": "markdown",
   "metadata": {},
   "source": [
    "## Error Detection\n",
    "In this part, we create the error detection. The output of this part is the C_dk table that contains all the noisy cells and the C_Clean table that contains the clean cells"
   ]
  },
  {
   "cell_type": "code",
   "execution_count": 4,
   "metadata": {},
   "outputs": [
    {
     "name": "stdout",
     "output_type": "stream",
     "text": [
      "Denial Constraint Queries: \n",
      "SELECT table1.index as ind,table2.index as indexT2 FROM df table1,df table2 WHERE (table1.flight=table2.flight AND table1.sched_dep_time<>table2.sched_dep_time)\n",
      "SELECT table1.index as ind,table2.index as indexT2 FROM df table1,df table2 WHERE (table1.flight=table2.flight AND table1.act_dep_time<>table2.act_dep_time)\n",
      "SELECT table1.index as ind,table2.index as indexT2 FROM df table1,df table2 WHERE (table1.flight=table2.flight AND table1.sched_arr_time<>table2.sched_arr_time)\n",
      "SELECT table1.index as ind,table2.index as indexT2 FROM df table1,df table2 WHERE (table1.flight=table2.flight AND table1.act_arr_time<>table2.act_arr_time)\n",
      "error dectection time: 188.833686113\n",
      "\n"
     ]
    }
   ],
   "source": [
    "t0 = time.time()\n",
    "err_detector = ErrorDetectors(session.Denial_constraints, holo_obj.dataengine,\n",
    "                             holo_obj.spark_session, session.dataset)\n",
    "session.add_error_detector(err_detector)\n",
    "session.ds_detect_errors()\n",
    "\n",
    "t1 = time.time()\n",
    "total = t1 - t0\n",
    "holo_obj.logger.info('error dectection time: '+str(total)+'\\n')\n",
    "print 'error dectection time: '+str(total)+'\\n'"
   ]
  },
  {
   "cell_type": "markdown",
   "metadata": {},
   "source": [
    "## Domain Pruning\n",
    "In this part, we prune the domain. The output of this part is the possible_values tables that contains all the possible values for each cell"
   ]
  },
  {
   "cell_type": "code",
   "execution_count": 5,
   "metadata": {},
   "outputs": [
    {
     "name": "stdout",
     "output_type": "stream",
     "text": [
      "domain pruning time: 31.8843641281\n",
      "\n",
      "Possible_values_clean\n",
      "+---+----+--------------+---------------+--------+---------+\n",
      "|vid| tid|     attr_name|       attr_val|observed|domain_id|\n",
      "+---+----+--------------+---------------+--------+---------+\n",
      "|261| 956|        flight|UA-2314-ATL-PHL|       1|        2|\n",
      "|262| 956|sched_dep_time|      2:55 p.m.|       1|        1|\n",
      "|262| 956|sched_dep_time|           None|       0|        2|\n",
      "|350|1265|sched_dep_time|           None|       0|        1|\n",
      "| 91| 316|sched_arr_time|      4:53 p.m.|       1|        2|\n",
      "|175| 607|sched_dep_time|           None|       0|        2|\n",
      "|614|2058|sched_dep_time|      2:55 p.m.|       0|        1|\n",
      "|  1|   3|sched_dep_time|      6:30 p.m.|       1|        1|\n",
      "|440|1477|sched_dep_time|           None|       0|        2|\n",
      "|263| 956|sched_arr_time|      5:55 p.m.|       0|        1|\n",
      "|350|1265|sched_dep_time|      3:35 p.m.|       1|        2|\n",
      "|176| 607|sched_arr_time|      4:48 p.m.|       1|        1|\n",
      "|  2|   5|sched_dep_time|     10:40 a.m.|       0|        1|\n",
      "| 91| 316|sched_arr_time|           None|       0|        3|\n",
      "|529|1766|sched_dep_time|           None|       0|        3|\n",
      "|263| 956|sched_arr_time|      5:00 p.m.|       1|        2|\n",
      "|176| 607|sched_arr_time|           None|       0|        2|\n",
      "|614|2058|sched_dep_time|      3:27 p.m.|       1|        2|\n",
      "|351|1270|sched_dep_time|      7:15 p.m.|       1|        1|\n",
      "| 92| 317|        flight| UA-257-JFK-SFO|       0|        1|\n",
      "+---+----+--------------+---------------+--------+---------+\n",
      "only showing top 20 rows\n",
      "\n",
      "Possible values dk\n",
      "+----+----+--------------+---------------+--------+---------+\n",
      "| vid| tid|     attr_name|       attr_val|observed|domain_id|\n",
      "+----+----+--------------+---------------+--------+---------+\n",
      "|9755|2075|  act_dep_time|     12:12 p.m.|       1|        1|\n",
      "|9755|2075|  act_dep_time|     12:13 p.m.|       0|        2|\n",
      "|9755|2075|  act_dep_time|           None|       0|        3|\n",
      "|2604| 552|  act_arr_time|      9:09 a.m.|       0|        1|\n",
      "|   1|   1|        flight|AA-3859-IAH-ORD|       1|        1|\n",
      "|5707|1209|  act_dep_time|           None|       0|        2|\n",
      "|1066| 224|  act_arr_time|      2:02 p.m.|       1|        2|\n",
      "|6674|1417|        flight|AA-2050-ORD-MIA|       0|        3|\n",
      "|9756|2075|sched_arr_time|      3:15 p.m.|       0|        1|\n",
      "|   2|   1|sched_dep_time|      7:10 a.m.|       1|        1|\n",
      "|8133|1730|  act_arr_time|      5:17 p.m.|       1|        2|\n",
      "|1066| 224|  act_arr_time|      2:00 p.m.|       0|        3|\n",
      "|6675|1417|sched_dep_time|    10:40aDec 1|       1|        1|\n",
      "|5708|1209|sched_arr_time|           None|       1|        1|\n",
      "|4219| 893|        flight|AA-4277-CVG-JFK|       1|        1|\n",
      "|   3|   1|  act_dep_time|      7:16 a.m.|       1|        1|\n",
      "|1067| 225|        flight|AA-3063-SLC-LAX|       1|        1|\n",
      "|6675|1417|sched_dep_time|     10:40 a.m.|       0|        2|\n",
      "|8134|1731|        flight|UA-5487-SFO-MRY|       1|        1|\n",
      "|5709|1209|  act_arr_time|           None|       0|        1|\n",
      "+----+----+--------------+---------------+--------+---------+\n",
      "only showing top 20 rows\n",
      "\n"
     ]
    }
   ],
   "source": [
    "t0 = time.time()\n",
    "pruning_threshold = 0.3\n",
    "session.ds_domain_pruning(pruning_threshold)\n",
    "\n",
    "t1 = time.time()\n",
    "total = t1 - t0\n",
    "holo_obj.logger.info('domain pruning time: '+str(total)+'\\n')\n",
    "print 'domain pruning time: '+str(total)+'\\n'\n",
    "\n",
    "print 'Possible_values_clean'\n",
    "sql = holo_obj.dataengine.get_table_to_dataframe(\"Possible_values_clean\", session.dataset)\n",
    "sql.show()\n",
    "\n",
    "print 'Possible values dk'\n",
    "sql = holo_obj.dataengine.get_table_to_dataframe(\"Possible_values_dk\", session.dataset)\n",
    "sql.show()"
   ]
  },
  {
   "cell_type": "markdown",
   "metadata": {},
   "source": [
    "# Featurization"
   ]
  },
  {
   "cell_type": "markdown",
   "metadata": {},
   "source": [
    "In this part, we implement the featurization module of holoclean. We choose the signals that we want to use and the output of this part is the featurization table that contains the factors that we will use. For fusion we will only use the Source Signal."
   ]
  },
  {
   "cell_type": "markdown",
   "metadata": {},
   "source": [
    "## Feature Signals"
   ]
  },
  {
   "cell_type": "code",
   "execution_count": 6,
   "metadata": {},
   "outputs": [
    {
     "name": "stdout",
     "output_type": "stream",
     "text": [
      "Feature Signal Time: 0.85898900032\n"
     ]
    }
   ],
   "source": [
    "t0 = time.time()\n",
    "source_signal = SignalSource(session.Denial_constraints, holo_obj.dataengine, session.dataset,\n",
    "                 holo_obj.spark_session, 1, 0)\n",
    "\n",
    "session.add_featurizer(source_signal)\n",
    "t1 = time.time()\n",
    "total = t1 - t0\n",
    "print \"Feature Signal Time:\", total"
   ]
  },
  {
   "cell_type": "markdown",
   "metadata": {},
   "source": [
    "We use the signals that we choose in the previous step. The output of this part is the featurization table that contains the factors that we will use in the next step."
   ]
  },
  {
   "cell_type": "code",
   "execution_count": 7,
   "metadata": {
    "scrolled": false
   },
   "outputs": [
    {
     "name": "stdout",
     "output_type": "stream",
     "text": [
      "featurization time: 11.1742520332\n",
      "\n"
     ]
    }
   ],
   "source": [
    "t0 = time.time()\n",
    "session.ds_featurize()\n",
    "\n",
    "t1 = time.time()\n",
    "\n",
    "total = t1 - t0\n",
    "\n",
    "holo_obj.logger.info('featurization time: '+str(total)+'\\n')\n",
    "print 'featurization time: '+str(total)+'\\n'"
   ]
  },
  {
   "cell_type": "markdown",
   "metadata": {},
   "source": [
    "#  Learning\n",
    "We create the X-tensor from the feature_clean table and run softmax on it, then we save results to MySQL and output the accuracy"
   ]
  },
  {
   "cell_type": "code",
   "execution_count": 8,
   "metadata": {},
   "outputs": [
    {
     "name": "stdout",
     "output_type": "stream",
     "text": [
      "time for training model: 10.6733698845\n",
      "\n"
     ]
    }
   ],
   "source": [
    "t0 = time.time()\n",
    "soft = SoftMax(holo_obj.dataengine, session.dataset, holo_obj.spark_session,\n",
    "                       session.X_training)\n",
    "\n",
    "soft.logreg()\n",
    "t1 = time.time()\n",
    "total = t1 - t0\n",
    "\n",
    "print 'time for training model: '+str(total)+'\\n'\n"
   ]
  },
  {
   "cell_type": "markdown",
   "metadata": {},
   "source": [
    "In this part, we use the new weight, to learn the probabilities for each value for the cells\n"
   ]
  },
  {
   "cell_type": "code",
   "execution_count": 9,
   "metadata": {
    "scrolled": false
   },
   "outputs": [
    {
     "name": "stdout",
     "output_type": "stream",
     "text": [
      "time for test featurization: 181.898511171\n",
      "\n",
      "time for inference:  182.822692156\n",
      "Inferred values for dk cells\n",
      "+------------------+----+--------------+---------------+---+---------+\n",
      "|       probability| vid|     attr_name|       attr_val|tid|domain_id|\n",
      "+------------------+----+--------------+---------------+---+---------+\n",
      "|               1.0|  17|  act_dep_time|      6:54 a.m.|  4|        1|\n",
      "|0.9941208958625793| 200|sched_dep_time|      8:35 a.m.| 44|        2|\n",
      "|0.9626284837722778| 307|sched_dep_time|      9:45 a.m.| 66|        1|\n",
      "|0.9591427445411682| 205|  act_dep_time|      3:38 p.m.| 45|        2|\n",
      "|               1.0|   6|        flight|AA-1733-ORD-PHX|  2|        1|\n",
      "|0.9859389662742615|  58|  act_dep_time|     10:19 a.m.| 13|        1|\n",
      "|               1.0|   3|  act_dep_time|      7:16 a.m.|  1|        1|\n",
      "|               1.0|  62|sched_dep_time|      7:30 a.m.| 14|        1|\n",
      "|0.9981526732444763| 475|sched_dep_time|      7:10 a.m.|101|        1|\n",
      "|               1.0| 191|        flight|AA-4277-CVG-JFK| 42|        1|\n",
      "|0.9960432052612305| 555|sched_arr_time|     10:34 a.m.|117|        3|\n",
      "|0.9106093645095825| 461|  act_dep_time|      2:38 p.m.| 98|        2|\n",
      "|0.8649536967277527| 512|  act_arr_time|     10:45 a.m.|108|        2|\n",
      "|               1.0| 737|        flight|AA-1733-ORD-PHX|156|        1|\n",
      "| 0.509631335735321|  69|  act_arr_time|      3:19 p.m.| 15|        1|\n",
      "|0.9321218132972717| 644|sched_arr_time|     11:53 a.m.|136|        1|\n",
      "|               1.0| 482|sched_arr_time|           None|102|        1|\n",
      "|0.9998183846473694| 678|        flight|UA-3099-PHX-PHL|144|        2|\n",
      "|0.8397321105003357|2041|  act_dep_time|      3:58 p.m.|434|        1|\n",
      "|0.9886379241943359| 105|  act_dep_time|      7:22 a.m.| 23|        1|\n",
      "+------------------+----+--------------+---------------+---+---------+\n",
      "only showing top 20 rows\n",
      "\n",
      "The precision that we have is :0.717583892617\n",
      "The recall that we have is :0.619308943089\n",
      "total time:  449.038578987\n"
     ]
    }
   ],
   "source": [
    "t0 = time.time()\n",
    "session.ds_featurize(0)\n",
    "t1 = time.time()\n",
    "total = t1 - t0\n",
    "print 'time for test featurization: ' + str(total) + '\\n'\n",
    "\n",
    "Y = soft.predict(soft.model, session.X_testing, soft.setupMask(0, session.N, session.L))\n",
    "t1 = time.time()\n",
    "total = t1 - t0\n",
    "print 'time for inference: ', total\n",
    "soft.save_prediction(Y)\n",
    "\n",
    "print 'Inferred values for dk cells'\n",
    "sql = holo_obj.dataengine.get_table_to_dataframe(\"Inferred_values\", session.dataset)\n",
    "sql.show()\n",
    "\n",
    "flattening = 0\n",
    "\n",
    "acc = Accuracy(holo_obj.dataengine, ground_truth, session.dataset,\n",
    "               holo_obj.spark_session)\n",
    "acc.accuracy_calculation(flattening)\n",
    "\n",
    "\n",
    "endtime = time.time()\n",
    "print 'total time: ', endtime - start_time"
   ]
  },
  {
   "cell_type": "code",
   "execution_count": null,
   "metadata": {
    "collapsed": true
   },
   "outputs": [],
   "source": []
  }
 ],
 "metadata": {
  "kernelspec": {
   "display_name": "Python 2",
   "language": "python",
   "name": "python2"
  },
  "language_info": {
   "codemirror_mode": {
    "name": "ipython",
    "version": 2
   },
   "file_extension": ".py",
   "mimetype": "text/x-python",
   "name": "python",
   "nbconvert_exporter": "python",
   "pygments_lexer": "ipython2",
   "version": "2.7.13"
  }
 },
 "nbformat": 4,
 "nbformat_minor": 2
}
