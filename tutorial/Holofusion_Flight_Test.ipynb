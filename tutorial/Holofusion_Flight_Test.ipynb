{
 "cells": [
  {
   "cell_type": "markdown",
   "metadata": {},
   "source": [
    "# A Step-by-Step Guide to Holofusion example"
   ]
  },
  {
   "cell_type": "markdown",
   "metadata": {},
   "source": [
    "# Setup"
   ]
  },
  {
   "cell_type": "markdown",
   "metadata": {},
   "source": [
    "Firstly, we import all the module from Holoclean that we will use."
   ]
  },
  {
   "cell_type": "code",
   "execution_count": 1,
   "metadata": {},
   "outputs": [],
   "source": [
    "from holoclean.holoclean import HoloClean, Session\n",
    "from holoclean.errordetection.errordetector import ErrorDetectors\n",
    "from holoclean.featurization.featurizer import SignalInit, SignalCooccur, SignalDC, SignalSource\n",
    "from holoclean.featurization.featurizer import Featurizer\n",
    "from holoclean.learning.softmax import SoftMax\n",
    "from holoclean.learning.accuracy import Accuracy\n",
    "import time"
   ]
  },
  {
   "cell_type": "markdown",
   "metadata": {},
   "source": [
    "##   Initialization\n",
    "In this part, we create the Holoclean and Session object that we will use for this example."
   ]
  },
  {
   "cell_type": "code",
   "execution_count": 2,
   "metadata": {},
   "outputs": [],
   "source": [
    "holo_obj = HoloClean(mysql_driver = \"../holoclean/lib/mysql-connector-java-5.1.44-bin.jar\" )\n",
    "session = Session(\"Session\", holo_obj)\n",
    "        "
   ]
  },
  {
   "cell_type": "markdown",
   "metadata": {},
   "source": [
    "## Read Input and DC from file\n",
    "Test data and the Denial Constraints will be read using the Session's ingestor.\n",
    "After ingesting the test data will be loaded into MySQL tables along with entries in the a metadata table."
   ]
  },
  {
   "cell_type": "code",
   "execution_count": 3,
   "metadata": {},
   "outputs": [
    {
     "name": "stdout",
     "output_type": "stream",
     "text": [
      "time for ingesting file: 4.22856211662\n",
      "\n",
      "Init table\n",
      "+-----+---+---------------+--------------+------------+--------------------+------------+\n",
      "|index|src|         flight|sched_dep_time|act_dep_time|      sched_arr_time|act_arr_time|\n",
      "+-----+---+---------------+--------------+------------+--------------------+------------+\n",
      "|    1| aa|AA-3859-IAH-ORD|     7:10 a.m.|   7:16 a.m.|           9:40 a.m.|   9:32 a.m.|\n",
      "|    2| aa|AA-1733-ORD-PHX|     7:45 p.m.|   7:58 p.m.|          10:30 p.m.|        null|\n",
      "|    3| aa|AA-1640-MIA-MCO|     6:30 p.m.|        null|           7:25 p.m.|        null|\n",
      "|    4| aa| AA-518-MIA-JFK|     6:40 a.m.|   6:54 a.m.|           9:25 a.m.|   9:28 a.m.|\n",
      "|    5| aa|AA-3756-ORD-SLC|    12:15 p.m.|  12:41 p.m.|           2:45 p.m.|   2:50 p.m.|\n",
      "|    6| aa| AA-204-LAX-MCO|    11:25 p.m.|        null|12/02/2011 6:55 a.m.|        null|\n",
      "|    7| aa|AA-3468-CVG-MIA|     7:00 a.m.|   7:25 a.m.|           9:55 a.m.|   9:45 a.m.|\n",
      "|    8| aa| AA-484-DFW-MIA|     4:15 p.m.|   4:29 p.m.|           7:55 p.m.|   7:39 p.m.|\n",
      "|    9| aa| AA-446-DFW-PHL|    11:50 a.m.|  12:12 p.m.|           3:50 p.m.|   4:09 p.m.|\n",
      "|   10| aa| AA-466-IAH-MIA|     6:00 a.m.|   6:08 a.m.|           9:20 a.m.|   9:05 a.m.|\n",
      "|   11| aa|AA-1886-BOS-MIA|    10:45 a.m.|  10:55 a.m.|           2:20 p.m.|   1:40 p.m.|\n",
      "|   12| aa|AA-2957-DFW-CVG|     7:55 a.m.|   8:04 a.m.|          11:05 a.m.|  11:01 a.m.|\n",
      "|   13| aa|AA-1664-MIA-ATL|    10:15 a.m.|  10:18 a.m.|          12:10 p.m.|  11:56 a.m.|\n",
      "|   14| aa|AA-3979-CVG-ORD|     7:30 a.m.|   8:04 a.m.|           8:00 a.m.|   8:06 a.m.|\n",
      "|   15| aa|AA-1279-DFW-PHX|     1:00 p.m.|   2:04 p.m.|           2:35 p.m.|   3:30 p.m.|\n",
      "|   16| aa| AA-616-DFW-DTW|     9:05 a.m.|  10:10 a.m.|          12:35 p.m.|   1:27 p.m.|\n",
      "|   17| aa|AA-4344-ORD-DTW|    11:45 a.m.|  12:13 p.m.|           2:00 p.m.|   2:10 p.m.|\n",
      "|   18| aa|AA-2525-DFW-MIA|     7:25 a.m.|   7:39 a.m.|          11:10 a.m.|  11:06 a.m.|\n",
      "|   19| aa| AA-404-MIA-MCO|     6:45 a.m.|   6:57 a.m.|           7:45 a.m.|   7:40 a.m.|\n",
      "|   20| aa| AA-271-MIA-LAX|    11:35 a.m.|  11:52 a.m.|           2:25 p.m.|   2:27 p.m.|\n",
      "+-----+---+---------------+--------------+------------+--------------------+------------+\n",
      "only showing top 20 rows\n",
      "\n"
     ]
    }
   ],
   "source": [
    "dataset = \"../datasets/flights/flight_input_holo.csv\"\n",
    "\n",
    "denial_constraints = \"../datasets/flights/flight_constraints.txt\"\n",
    "\n",
    "ground_truth = \"../datasets/flights/flights_clean.csv\"\n",
    "\n",
    "# Ingesting Dataset and Denial Constraints\n",
    "start_time = time.time()\n",
    "t0 = time.time()\n",
    "session.ingest_dataset(dataset)\n",
    "t1 = time.time()\n",
    "total = t1 - t0\n",
    "\n",
    "\n",
    "print 'time for ingesting file: ' + str(total) + '\\n'\n",
    "session.denial_constraints(denial_constraints)\n",
    "print 'Init table'\n",
    "sql = holo_obj.dataengine.get_table_to_dataframe(\"Init\", session.dataset)\n",
    "sql.show()"
   ]
  },
  {
   "cell_type": "markdown",
   "metadata": {},
   "source": [
    "## Error Detection\n",
    "In this part, we create the error detection. The output of this part is the C_dk table that contains all the noisy cells and the C_Clean table that contains the clean cells"
   ]
  },
  {
   "cell_type": "code",
   "execution_count": 4,
   "metadata": {},
   "outputs": [
    {
     "name": "stdout",
     "output_type": "stream",
     "text": [
      "Denial Constraint Queries: \n",
      "SELECT table1.index as ind,table2.index as indexT2 FROM df table1,df table2 WHERE (table1.flight=table2.flight AND table1.sched_dep_time<>table2.sched_dep_time)\n",
      "SELECT table1.index as ind,table2.index as indexT2 FROM df table1,df table2 WHERE (table1.flight=table2.flight AND table1.act_dep_time<>table2.act_dep_time)\n",
      "SELECT table1.index as ind,table2.index as indexT2 FROM df table1,df table2 WHERE (table1.flight=table2.flight AND table1.sched_arr_time<>table2.sched_arr_time)\n",
      "SELECT table1.index as ind,table2.index as indexT2 FROM df table1,df table2 WHERE (table1.flight=table2.flight AND table1.act_arr_time<>table2.act_arr_time)\n",
      "error dectection time: 294.977092981\n",
      "\n"
     ]
    }
   ],
   "source": [
    "t0 = time.time()\n",
    "err_detector = ErrorDetectors(session.Denial_constraints, holo_obj.dataengine,\n",
    "                             holo_obj.spark_session, session.dataset)\n",
    "session.add_error_detector(err_detector)\n",
    "session.ds_detect_errors()\n",
    "\n",
    "t1 = time.time()\n",
    "total = t1 - t0\n",
    "holo_obj.logger.info('error dectection time: '+str(total)+'\\n')\n",
    "print 'error dectection time: '+str(total)+'\\n'"
   ]
  },
  {
   "cell_type": "markdown",
   "metadata": {},
   "source": [
    "## Domain Pruning\n",
    "In this part, we prune the domain. The output of this part is the possible_values tables that contains all the possible values for each cell"
   ]
  },
  {
   "cell_type": "code",
   "execution_count": 5,
   "metadata": {},
   "outputs": [
    {
     "name": "stdout",
     "output_type": "stream",
     "text": [
      "domain pruning time: 33.3899209499\n",
      "\n",
      "Possible_values_clean\n",
      "+---+----+--------------+---------------+--------+---------+\n",
      "|vid| tid|     attr_name|       attr_val|observed|domain_id|\n",
      "+---+----+--------------+---------------+--------+---------+\n",
      "|261| 956|        flight|UA-2314-ATL-PHL|       1|        2|\n",
      "|262| 956|sched_dep_time|           None|       0|        1|\n",
      "|262| 956|sched_dep_time|      2:55 p.m.|       1|        2|\n",
      "|263| 956|sched_arr_time|           None|       0|        1|\n",
      "|263| 956|sched_arr_time|      5:00 p.m.|       1|        2|\n",
      "|263| 956|sched_arr_time|      5:55 p.m.|       0|        3|\n",
      "|264| 958|sched_dep_time|     12:00 p.m.|       0|        1|\n",
      "|264| 958|sched_dep_time|           None|       0|        2|\n",
      "|264| 958|sched_dep_time|     12:10 p.m.|       1|        3|\n",
      "|265| 962|sched_dep_time|           None|       0|        1|\n",
      "|265| 962|sched_dep_time|      4:00 p.m.|       0|        2|\n",
      "|265| 962|sched_dep_time|      3:05 p.m.|       1|        3|\n",
      "|266| 973|sched_dep_time|      6:30 p.m.|       1|        1|\n",
      "|266| 973|sched_dep_time|           None|       0|        2|\n",
      "|267| 978|sched_dep_time|           None|       0|        1|\n",
      "|267| 978|sched_dep_time|      1:05 p.m.|       1|        2|\n",
      "|268| 979|sched_dep_time|      8:25 p.m.|       1|        1|\n",
      "|268| 979|sched_dep_time|           None|       0|        2|\n",
      "|269| 980|sched_dep_time|      7:15 p.m.|       1|        1|\n",
      "|614|2058|sched_dep_time|           None|       0|        1|\n",
      "+---+----+--------------+---------------+--------+---------+\n",
      "only showing top 20 rows\n",
      "\n",
      "Possible values dk\n",
      "+----+----+--------------+---------------+--------+---------+\n",
      "| vid| tid|     attr_name|       attr_val|observed|domain_id|\n",
      "+----+----+--------------+---------------+--------+---------+\n",
      "|1066| 224|  act_arr_time|      2:02 p.m.|       1|        2|\n",
      "|1066| 224|  act_arr_time|      2:00 p.m.|       0|        3|\n",
      "|1067| 225|        flight|AA-3063-SLC-LAX|       1|        1|\n",
      "|1068| 225|sched_dep_time|           None|       1|        1|\n",
      "|1068| 225|sched_dep_time|      8:20 p.m.|       0|        2|\n",
      "|1069| 225|  act_dep_time|      8:39 p.m.|       0|        1|\n",
      "|1069| 225|  act_dep_time|      8:40 p.m.|       1|        2|\n",
      "|1070| 225|sched_arr_time|           None|       1|        1|\n",
      "|1071| 225|  act_arr_time|      9:11 p.m.|       1|        1|\n",
      "|1071| 225|  act_arr_time|      9:12 p.m.|       0|        2|\n",
      "|1072| 226|        flight|UA-2708-EWR-CLT|       1|        1|\n",
      "|1072| 226|        flight|UA-2314-ATL-PHL|       0|        2|\n",
      "|1073| 226|sched_dep_time|           None|       1|        1|\n",
      "|1074| 226|  act_dep_time|      3:04 p.m.|       1|        1|\n",
      "|5707|1209|  act_dep_time|           None|       0|        2|\n",
      "|1075| 226|sched_arr_time|           None|       1|        1|\n",
      "|5708|1209|sched_arr_time|           None|       1|        1|\n",
      "|1076| 226|  act_arr_time|      4:44 p.m.|       0|        1|\n",
      "|5709|1209|  act_arr_time|           None|       0|        1|\n",
      "|1076| 226|  act_arr_time|      4:24 p.m.|       1|        2|\n",
      "+----+----+--------------+---------------+--------+---------+\n",
      "only showing top 20 rows\n",
      "\n"
     ]
    }
   ],
   "source": [
    "t0 = time.time()\n",
    "pruning_threshold = 0.3\n",
    "session.ds_domain_pruning(pruning_threshold)\n",
    "\n",
    "t1 = time.time()\n",
    "total = t1 - t0\n",
    "holo_obj.logger.info('domain pruning time: '+str(total)+'\\n')\n",
    "print 'domain pruning time: '+str(total)+'\\n'\n",
    "\n",
    "print 'Possible_values_clean'\n",
    "sql = holo_obj.dataengine.get_table_to_dataframe(\"Possible_values_clean\", session.dataset)\n",
    "sql.show()\n",
    "\n",
    "print 'Possible values dk'\n",
    "sql = holo_obj.dataengine.get_table_to_dataframe(\"Possible_values_dk\", session.dataset)\n",
    "sql.show()"
   ]
  },
  {
   "cell_type": "markdown",
   "metadata": {},
   "source": [
    "# Featurization"
   ]
  },
  {
   "cell_type": "markdown",
   "metadata": {},
   "source": [
    "In this part, we implement the featurization module of holoclean. We choose the signals that we want to use and the output of this part is the featurization table that contains the factors that we will use. For fusion we will only use the Source Signal."
   ]
  },
  {
   "cell_type": "markdown",
   "metadata": {},
   "source": [
    "## Feature Signals"
   ]
  },
  {
   "cell_type": "code",
   "execution_count": 6,
   "metadata": {},
   "outputs": [
    {
     "name": "stdout",
     "output_type": "stream",
     "text": [
      "Feature Signal Time: 0.571250200272\n"
     ]
    }
   ],
   "source": [
    "t0 = time.time()\n",
    "source_signal = SignalSource(session.Denial_constraints, holo_obj.dataengine, session.dataset,\n",
    "                 holo_obj.spark_session, 1, 0)\n",
    "\n",
    "session.add_featurizer(source_signal)\n",
    "t1 = time.time()\n",
    "total = t1 - t0\n",
    "print \"Feature Signal Time:\", total"
   ]
  },
  {
   "cell_type": "markdown",
   "metadata": {},
   "source": [
    "We use the signals that we choose in the previous step. The output of this part is the featurization table that contains the factors that we will use in the next step."
   ]
  },
  {
   "cell_type": "code",
   "execution_count": 7,
   "metadata": {
    "scrolled": false
   },
   "outputs": [
    {
     "name": "stdout",
     "output_type": "stream",
     "text": [
      "featurization time: 5.72740602493\n",
      "\n"
     ]
    }
   ],
   "source": [
    "t0 = time.time()\n",
    "session.ds_featurize()\n",
    "\n",
    "t1 = time.time()\n",
    "\n",
    "total = t1 - t0\n",
    "\n",
    "holo_obj.logger.info('featurization time: '+str(total)+'\\n')\n",
    "print 'featurization time: '+str(total)+'\\n'"
   ]
  },
  {
   "cell_type": "markdown",
   "metadata": {},
   "source": [
    "#  Learning\n",
    "We create the X-tensor from the feature_clean table and run softmax on it, then we save results to MySQL and output the accuracy"
   ]
  },
  {
   "cell_type": "code",
   "execution_count": 8,
   "metadata": {},
   "outputs": [
    {
     "name": "stdout",
     "output_type": "stream",
     "text": [
      "time for training model: 8.11107587814\n",
      "\n"
     ]
    }
   ],
   "source": [
    "t0 = time.time()\n",
    "soft = SoftMax(holo_obj.dataengine, session.dataset, holo_obj.spark_session,\n",
    "                       session.X_training)\n",
    "\n",
    "soft.logreg()\n",
    "t1 = time.time()\n",
    "total = t1 - t0\n",
    "\n",
    "print 'time for training model: '+str(total)+'\\n'\n"
   ]
  },
  {
   "cell_type": "markdown",
   "metadata": {},
   "source": [
    "In this part, we use the new weight, to learn the probabilities for each value for the cells\n"
   ]
  },
  {
   "cell_type": "code",
   "execution_count": 9,
   "metadata": {
    "scrolled": false
   },
   "outputs": [
    {
     "name": "stdout",
     "output_type": "stream",
     "text": [
      "time for test featurization: 58.2881071568\n",
      "\n",
      "time for inference:  59.1708080769\n",
      "Inferred values for dk cells\n",
      "+------------------+----+--------------+---------------+---+---------+\n",
      "|       probability| vid|     attr_name|       attr_val|tid|domain_id|\n",
      "+------------------+----+--------------+---------------+---+---------+\n",
      "|0.9941208958625793| 200|sched_dep_time|      8:35 a.m.| 44|        2|\n",
      "|               1.0|   3|  act_dep_time|      7:16 a.m.|  1|        1|\n",
      "|               1.0| 737|        flight|AA-1733-ORD-PHX|156|        1|\n",
      "|0.8649541735649109| 512|  act_arr_time|     10:45 a.m.|108|        2|\n",
      "|               1.0| 756|sched_dep_time|           None|160|        1|\n",
      "|0.9998480081558228| 822|        flight|UA-2314-ATL-PHL|174|        2|\n",
      "|0.9591429829597473| 205|  act_dep_time|      3:38 p.m.| 45|        2|\n",
      "|               1.0| 874|sched_arr_time|           None|184|        1|\n",
      "|0.8586862683296204|1318|  act_dep_time|     12:41 a.m.|279|        2|\n",
      "|0.9756609201431274| 525|  act_dep_time|     12:42 p.m.|111|        1|\n",
      "|0.6407335996627808|1334|  act_arr_time|      1:14 p.m.|282|        1|\n",
      "|0.9963908195495605| 657|sched_dep_time|      3:05 p.m.|139|        1|\n",
      "|0.9990167021751404|1420|sched_arr_time|      2:59 p.m.|300|        1|\n",
      "|               1.0|1623|        flight|UA-5487-SFO-MRY|347|        1|\n",
      "|0.9940367937088013|1986|sched_arr_time|     11:05 a.m.|422|        1|\n",
      "|               1.0|   6|        flight|AA-1733-ORD-PHX|  2|        1|\n",
      "|0.9049030542373657| 790|  act_dep_time|     10:11 a.m.|167|        1|\n",
      "|0.9999558925628662| 983|        flight| AA-400-DFW-JFK|207|        2|\n",
      "|0.9998224377632141|2079|        flight|UA-3925-IAD-ORF|442|        1|\n",
      "|0.9986402988433838| 328|sched_arr_time|      7:55 p.m.| 70|        2|\n",
      "+------------------+----+--------------+---------------+---+---------+\n",
      "only showing top 20 rows\n",
      "\n",
      "The precision that we have is :0.717583892617\n",
      "The recall that we have is :0.606707317073\n",
      "total time:  479.140736818\n"
     ]
    }
   ],
   "source": [
    "t0 = time.time()\n",
    "session.ds_featurize(0)\n",
    "t1 = time.time()\n",
    "total = t1 - t0\n",
    "print 'time for test featurization: ' + str(total) + '\\n'\n",
    "\n",
    "Y = soft.predict(soft.model, session.X_testing, soft.setupMask(0, session.N, session.L))\n",
    "t1 = time.time()\n",
    "total = t1 - t0\n",
    "print 'time for inference: ', total\n",
    "soft.save_prediction(Y)\n",
    "\n",
    "soft.repair_init()\n",
    "\n",
    "\n",
    "print 'Inferred values for dk cells'\n",
    "sql = holo_obj.dataengine.get_table_to_dataframe(\"Inferred_values\", session.dataset)\n",
    "sql.show()\n",
    "\n",
    "flattening = 0\n",
    "\n",
    "acc = Accuracy(holo_obj.dataengine, ground_truth, session.dataset,\n",
    "               holo_obj.spark_session)\n",
    "acc.accuracy_calculation(flattening)\n",
    "\n",
    "\n",
    "endtime = time.time()\n",
    "print 'total time: ', endtime - start_time"
   ]
  },
  {
   "cell_type": "code",
   "execution_count": 10,
   "metadata": {},
   "outputs": [
    {
     "name": "stdout",
     "output_type": "stream",
     "text": [
      "+----+-----------------+-------------+---------------+-----------------+--------------+\n",
      "| tid|     act_arr_time| act_dep_time|         flight|   sched_arr_time|sched_dep_time|\n",
      "+----+-----------------+-------------+---------------+-----------------+--------------+\n",
      "|2213|        4:23 p.m.|    1:48 p.m.| UA-664-ORD-PHL|        4:31 p.m.|     1:33 p.m.|\n",
      "|  13|       11:50 a.m.|   10:19 a.m.|AA-1664-MIA-ATL|       12:10 p.m.|    10:15 a.m.|\n",
      "| 218|    Not Available|Not Available| AA-649-ORD-SNA|        3:50 p.m.|          null|\n",
      "| 280|        1:27 p.m.|   10:11 a.m.| AA-616-DFW-DTW|       12:35 p.m.|     9:05 a.m.|\n",
      "| 148|        6:19 a.m.|    6:11 a.m.|AA-3809-PHX-LAX|        6:40 a.m.|     6:00 a.m.|\n",
      "| 229|        3:36 p.m.|    2:44 p.m.|AA-3804-PHL-ORD|        4:05 p.m.|          null|\n",
      "| 348|12/2/11 6:35 a.m.|   11:29 p.m.| AA-204-LAX-MCO|             None|    11:25 p.m.|\n",
      "| 307|       11:44 a.m.|    8:52 a.m.| AA-431-MIA-SFO|       11:50 a.m.|     8:35 a.m.|\n",
      "|1085|        9:09 a.m.|    7:56 a.m.|  CO-52-IAH-LAX|        9:21 a.m.|     7:35 a.m.|\n",
      "| 326|        1:30 p.m.|    8:07 a.m.| UA-854-SFO-IAH|        1:39 p.m.|     7:53 a.m.|\n",
      "| 537|        3:14 p.m.|    7:32 a.m.| AA-222-LAX-BOS|        3:30 p.m.|     7:10 a.m.|\n",
      "| 766|       11:06 a.m.|    7:40 a.m.|AA-2525-DFW-MIA|       11:10 a.m.|     7:25 a.m.|\n",
      "| 823|        7:17 a.m.|    6:10 a.m.| UA-414-LAX-SFO|        7:23 a.m.|     6:00 a.m.|\n",
      "| 931|        8:53 p.m.|    6:56 p.m.|AA-4307-ORD-DTW|        9:10 p.m.|     6:45 p.m.|\n",
      "| 960|       12:09 p.m.|   10:11 a.m.|  UA-37-EDI-EWR|       11:53 a.m.|     9:05 a.m.|\n",
      "|1037|    Not Available|Not Available| UA-233-LAX-JFK|12:29 a.m. Dec 02|          null|\n",
      "|1096|        1:14 p.m.|   12:06 p.m.|CO-1023-IAH-DEN|        1:17 p.m.|    11:40 a.m.|\n",
      "|1545|       10:45 a.m.|    7:31 a.m.|UA-2515-DFW-CLT|             None|          None|\n",
      "|1637|        7:40 a.m.|    6:58 a.m.| AA-404-MIA-MCO|        7:45 a.m.|     6:45 a.m.|\n",
      "|1727|       11:12 a.m.|    7:40 a.m.|  AA-59-JFK-SFO|       10:45 a.m.|     7:10 a.m.|\n",
      "+----+-----------------+-------------+---------------+-----------------+--------------+\n",
      "only showing top 20 rows\n",
      "\n"
     ]
    }
   ],
   "source": [
    "sql = holo_obj.dataengine.get_table_to_dataframe(\"Repairs\", session.dataset)\n",
    "sql.show()"
   ]
  },
  {
   "cell_type": "code",
   "execution_count": 11,
   "metadata": {},
   "outputs": [
    {
     "name": "stdout",
     "output_type": "stream",
     "text": [
      "+-----+---+---------------+--------------+------------+--------------------+--------------------+\n",
      "|index|src|         flight|sched_dep_time|act_dep_time|      sched_arr_time|        act_arr_time|\n",
      "+-----+---+---------------+--------------+------------+--------------------+--------------------+\n",
      "|    1| aa|AA-3859-IAH-ORD|     7:10 a.m.|   7:16 a.m.|           9:40 a.m.|           9:22 a.m.|\n",
      "|    2| aa|AA-1733-ORD-PHX|     7:45 p.m.|   7:59 p.m.|          10:30 p.m.|10:30 p.m. (Estim...|\n",
      "|    3| aa|AA-1640-MIA-MCO|     6:30 p.m.|        None|           7:25 p.m.|                None|\n",
      "|    4| aa| AA-518-MIA-JFK|     6:40 a.m.|   6:54 a.m.|           9:25 a.m.|           9:28 a.m.|\n",
      "|    5| aa|AA-3756-ORD-SLC|    12:15 p.m.|  12:42 p.m.|           2:45 p.m.|           2:52 p.m.|\n",
      "|    6| aa| AA-204-LAX-MCO|    11:25 p.m.|        None|12/02/2011 6:55 a.m.|                None|\n",
      "|    7| aa|AA-3468-CVG-MIA|     7:00 a.m.|   7:25 a.m.|           9:55 a.m.|           9:45 a.m.|\n",
      "|    8| aa| AA-484-DFW-MIA|     4:15 p.m.|   4:29 p.m.|           7:55 p.m.|           7:39 p.m.|\n",
      "|    9| aa| AA-446-DFW-PHL|    11:50 a.m.|  12:13 p.m.|           3:50 p.m.|           4:09 p.m.|\n",
      "|   10| aa| AA-466-IAH-MIA|     6:00 a.m.|   6:09 a.m.|           9:20 a.m.|           9:05 a.m.|\n",
      "|   11| aa|AA-1886-BOS-MIA|    10:45 a.m.|  10:55 a.m.|           2:20 p.m.|           1:40 p.m.|\n",
      "|   12| aa|AA-2957-DFW-CVG|     7:55 a.m.|   8:05 a.m.|          11:05 a.m.|          11:00 a.m.|\n",
      "|   13| aa|AA-1664-MIA-ATL|    10:15 a.m.|  10:19 a.m.|          12:10 p.m.|          11:50 a.m.|\n",
      "|   14| aa|AA-3979-CVG-ORD|     7:30 a.m.|   8:04 a.m.|           8:00 a.m.|           7:57 a.m.|\n",
      "|   15| aa|AA-1279-DFW-PHX|     1:00 p.m.|   2:04 p.m.|           2:35 p.m.|           3:19 p.m.|\n",
      "|   16| aa| AA-616-DFW-DTW|     9:05 a.m.|  10:11 a.m.|          12:35 p.m.|           1:27 p.m.|\n",
      "|   17| aa|AA-4344-ORD-DTW|    11:45 a.m.|  12:14 p.m.|           2:00 p.m.|           2:10 p.m.|\n",
      "|   18| aa|AA-2525-DFW-MIA|     7:25 a.m.|   7:40 a.m.|          11:10 a.m.|          11:06 a.m.|\n",
      "|   19| aa| AA-404-MIA-MCO|     6:45 a.m.|   6:58 a.m.|           7:45 a.m.|           7:32 a.m.|\n",
      "|   20| aa| AA-271-MIA-LAX|    11:35 a.m.|  11:52 a.m.|           2:25 p.m.|           2:27 p.m.|\n",
      "+-----+---+---------------+--------------+------------+--------------------+--------------------+\n",
      "only showing top 20 rows\n",
      "\n"
     ]
    }
   ],
   "source": [
    "sql = holo_obj.dataengine.get_table_to_dataframe(\"Repaired\", session.dataset)\n",
    "sql.show()"
   ]
  }
 ],
 "metadata": {
  "kernelspec": {
   "display_name": "Python 2",
   "language": "python",
   "name": "python2"
  },
  "language_info": {
   "codemirror_mode": {
    "name": "ipython",
    "version": 2
   },
   "file_extension": ".py",
   "mimetype": "text/x-python",
   "name": "python",
   "nbconvert_exporter": "python",
   "pygments_lexer": "ipython2",
   "version": "2.7.14"
  }
 },
 "nbformat": 4,
 "nbformat_minor": 2
}
