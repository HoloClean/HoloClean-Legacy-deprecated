{
 "cells": [
  {
   "cell_type": "markdown",
   "metadata": {},
   "source": [
    "# Intro to Holoclean: Repairing Erroneous Hospital Data"
   ]
  },
  {
   "cell_type": "markdown",
   "metadata": {},
   "source": [
    "In this post, we walk through the process of using `HoloClean` to repair a dataset with information about hospitals. The dataset is an easy benchmark where errors amount to ~5% of the total data. There is significant duplicate information across the dataset - the ideal environment for Holoclean."
   ]
  },
  {
   "cell_type": "markdown",
   "metadata": {},
   "source": [
    "## Part 1: Setup & Loading Data"
   ]
  },
  {
   "cell_type": "markdown",
   "metadata": {},
   "source": [
    "We've split this tutorial into 4 separate parts. Each is a simple and self-contained guide through the major components of `HoloClean`. \n",
    "\n",
    "Our first notebook introduces the infrastructure and performs the basic steps needed to load data for repairs."
   ]
  },
  {
   "cell_type": "markdown",
   "metadata": {},
   "source": [
    "### Connecting to the Database"
   ]
  },
  {
   "cell_type": "markdown",
   "metadata": {},
   "source": [
    "Without further ado, let's see some code! We begin by initializing `HoloClean` and `Session` objects."
   ]
  },
  {
   "cell_type": "code",
   "execution_count": 1,
   "metadata": {},
   "outputs": [],
   "source": [
    "from holoclean.holoclean import HoloClean, Session\n",
    "\n",
    "holo = HoloClean(mysql_driver = \"../holoclean/lib/mysql-connector-java-5.1.44-bin.jar\" )\n",
    "session = Session(holo)"
   ]
  },
  {
   "cell_type": "markdown",
   "metadata": {},
   "source": [
    "Our `Session` manages a connection to the MySQL database automatically  and allows us to save intermediate results."
   ]
  },
  {
   "cell_type": "markdown",
   "metadata": {},
   "source": [
    "### Loading Data"
   ]
  },
  {
   "cell_type": "markdown",
   "metadata": {},
   "source": [
    "Next, we ingest the hospital dataset we'd like to clean."
   ]
  },
  {
   "cell_type": "code",
   "execution_count": 3,
   "metadata": {},
   "outputs": [],
   "source": [
    "data_path = \"../datasets/hospital1k/hospital_dataset.csv\"\n",
    "\n",
    "data = session.load_data(data_path)"
   ]
  },
  {
   "cell_type": "markdown",
   "metadata": {},
   "source": [
    "At this time, we only support .csv files as our data formats. The data is then loaded into the database and a representation is returned. `HoloClean` uses PySpark DataFrames as its internal data structure and so any PySpark operations can be used.\n",
    "\n",
    "For Example:"
   ]
  },
  {
   "cell_type": "code",
   "execution_count": 7,
   "metadata": {},
   "outputs": [
    {
     "name": "stdout",
     "output_type": "stream",
     "text": [
      "+-----+--------------+--------------------+--------------------+--------+--------+----------+-----+-------+----------+-----------+--------------------+--------------------+----------------+--------------------+-----------+--------------------+-----+------+--------------+\n",
      "|index|ProviderNumber|        HospitalName|            Address1|Address2|Address3|      City|State|ZipCode|CountyName|PhoneNumber|        HospitalType|       HospitalOwner|EmergencyService|           Condition|MeasureCode|         MeasureName|Score|Sample|      Stateavg|\n",
      "+-----+--------------+--------------------+--------------------+--------+--------+----------+-----+-------+----------+-----------+--------------------+--------------------+----------------+--------------------+-----------+--------------------+-----+------+--------------+\n",
      "|    1|         10018|CALLAHAN EYE FOUN...|1720 UNIVERSITY BLVD|   Empty|   Empty|BIRMINGHAM|   AL|  35233| JEFFERSON| 2053258100|Acute Care Hospitals|Voluntary non-pro...|             Yes|Surgical Infectio...|SCIP-CARD-2|surgery patients ...|Empty| Empty|AL_SCIP-CARD-2|\n",
      "+-----+--------------+--------------------+--------------------+--------+--------+----------+-----+-------+----------+-----------+--------------------+--------------------+----------------+--------------------+-----------+--------------------+-----+------+--------------+\n",
      "only showing top 1 row\n",
      "\n"
     ]
    }
   ],
   "source": [
    "data.show(1, truncate=True)"
   ]
  },
  {
   "cell_type": "code",
   "execution_count": 8,
   "metadata": {},
   "outputs": [
    {
     "name": "stdout",
     "output_type": "stream",
     "text": [
      "root\n",
      " |-- index: string (nullable = true)\n",
      " |-- ProviderNumber: string (nullable = true)\n",
      " |-- HospitalName: string (nullable = true)\n",
      " |-- Address1: string (nullable = true)\n",
      " |-- Address2: string (nullable = true)\n",
      " |-- Address3: string (nullable = true)\n",
      " |-- City: string (nullable = true)\n",
      " |-- State: string (nullable = true)\n",
      " |-- ZipCode: string (nullable = true)\n",
      " |-- CountyName: string (nullable = true)\n",
      " |-- PhoneNumber: string (nullable = true)\n",
      " |-- HospitalType: string (nullable = true)\n",
      " |-- HospitalOwner: string (nullable = true)\n",
      " |-- EmergencyService: string (nullable = true)\n",
      " |-- Condition: string (nullable = true)\n",
      " |-- MeasureCode: string (nullable = true)\n",
      " |-- MeasureName: string (nullable = true)\n",
      " |-- Score: string (nullable = true)\n",
      " |-- Sample: string (nullable = true)\n",
      " |-- Stateavg: string (nullable = true)\n",
      "\n"
     ]
    }
   ],
   "source": [
    "data.printSchema()"
   ]
  },
  {
   "cell_type": "code",
   "execution_count": 9,
   "metadata": {},
   "outputs": [
    {
     "data": {
      "text/plain": [
       "1000"
      ]
     },
     "execution_count": 9,
     "metadata": {},
     "output_type": "execute_result"
    }
   ],
   "source": [
    "data.count()"
   ]
  },
  {
   "cell_type": "markdown",
   "metadata": {},
   "source": [
    "Please see: https://spark.apache.org/docs/latest/sql-programming-guide.html for more information"
   ]
  },
  {
   "cell_type": "markdown",
   "metadata": {},
   "source": [
    "It's easy to see this dataset has a significant number of errors."
   ]
  },
  {
   "cell_type": "code",
   "execution_count": 20,
   "metadata": {},
   "outputs": [
    {
     "name": "stdout",
     "output_type": "stream",
     "text": [
      "+----------+\n",
      "|      City|\n",
      "+----------+\n",
      "|BIRMINGHAM|\n",
      "|BIRMINGHAM|\n",
      "|BIRMINGHAM|\n",
      "|BIRMINGHxM|\n",
      "|BIRMINGHAM|\n",
      "|BIRMINGHAM|\n",
      "|BIRMINGHAM|\n",
      "|BIRMINGxAM|\n",
      "| SHEFFIELD|\n",
      "| SHEFFIELD|\n",
      "| SHEFFxELD|\n",
      "| SHEFFIELD|\n",
      "| SHEFFIELD|\n",
      "| SHEFFIELD|\n",
      "| SHEFFIELD|\n",
      "+----------+\n",
      "only showing top 15 rows\n",
      "\n"
     ]
    }
   ],
   "source": [
    "data.select('City').show(15)"
   ]
  },
  {
   "cell_type": "markdown",
   "metadata": {},
   "source": [
    "In Tutorial 2, we'll see an intro of the driving force behing `HoloClean`, Denial Constraints, and how they can be written to detect and repair these sorts of errors."
   ]
  }
 ],
 "metadata": {
  "kernelspec": {
   "display_name": "Python 2",
   "language": "python",
   "name": "python2"
  },
  "language_info": {
   "codemirror_mode": {
    "name": "ipython",
    "version": 2
   },
   "file_extension": ".py",
   "mimetype": "text/x-python",
   "name": "python",
   "nbconvert_exporter": "python",
   "pygments_lexer": "ipython2",
   "version": "2.7.14"
  }
 },
 "nbformat": 4,
 "nbformat_minor": 2
}
