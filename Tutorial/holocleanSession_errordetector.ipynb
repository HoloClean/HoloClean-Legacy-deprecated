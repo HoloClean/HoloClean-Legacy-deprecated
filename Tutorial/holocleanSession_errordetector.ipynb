{
 "cells": [
  {
   "cell_type": "markdown",
   "metadata": {},
   "source": [
    "# **Test communication with database** -In this notebook we going to examine the dataengine , ingest and dataset with spark and creating the error detection part\n",
    "\n",
    "For first step we create import the sufficient packages "
   ]
  },
  {
   "cell_type": "code",
   "execution_count": 1,
   "metadata": {
    "collapsed": true
   },
   "outputs": [],
   "source": [
    "import sys\n",
    "import os\n",
    "sys.path.append('../')\n",
    "from holoclean import dataengine , dataset , holocleansession"
   ]
  },
  {
   "cell_type": "markdown",
   "metadata": {},
   "source": [
    "##  Specify the MySQL driver\n",
    "For first step we need to add the connector for reading from mysql to JDBC and reverse "
   ]
  },
  {
   "cell_type": "code",
   "execution_count": 2,
   "metadata": {
    "collapsed": true
   },
   "outputs": [],
   "source": [
    "my_path = os.path.abspath(os.path.dirname('__file__'))\n",
    "path = os.path.join(my_path, \"../holoclean/mysql-connector-java-5.1.44-bin.jar\")\n",
    "holoclean_se=holocleansession.HolocleanSession(path)"
   ]
  },
  {
   "cell_type": "markdown",
   "metadata": {},
   "source": [
    "##  Creating Dataset and dataengine and holocleansession \n",
    "In this part we create dataset for keep tracking the runnig step and dataengine for make connector to the database we try to ingest the 10 element csv file and after ingesting it returns df other wise we can read it from database"
   ]
  },
  {
   "cell_type": "code",
   "execution_count": 3,
   "metadata": {},
   "outputs": [
    {
     "name": "stdout",
     "output_type": "stream",
     "text": [
      "index\n",
      "+-----+-----------+--------+--------+----+\n",
      "|index|       city|    date|tempType|temp|\n",
      "+-----+-----------+--------+--------+----+\n",
      "|    1|ITE00100554|18000101|    TMAX| -75|\n",
      "|    2|ITE00100554|18000101|    TMIN|-148|\n",
      "|    3|GM000010962|18000101|    PRCP|   0|\n",
      "|    4|EZE00100082|18000101|    TMAX| -86|\n",
      "|    5|EZE00100082|18000101|    TMAX|-135|\n",
      "|    6|ITE00100554|18000102|    TMAX| -60|\n",
      "|    7|ITE00100554|18000102|    TMIN|-125|\n",
      "|    8|GM000010962|18000102|    PRCP|   0|\n",
      "|    9|EZE00100082|18000102|    TMAX| -44|\n",
      "|   10|EZE00100082|18000102|    TMIN|-135|\n",
      "+-----+-----------+--------+--------+----+\n",
      "\n"
     ]
    }
   ],
   "source": [
    "ds=dataset.Dataset()  \n",
    "d=dataengine.Dataengine(\"metadb-config.txt\",'datadb-config.txt',ds,holoclean_se.return_sqlcontext())\n",
    "holoclean_se.set_dataengine(d)\n",
    "df=d.ingest_spark('10.csv',holoclean_se.returnspark_session())\n",
    "df.show()"
   ]
  },
  {
   "cell_type": "markdown",
   "metadata": {},
   "source": [
    "##  Read table from database\n",
    "We can read table from database too"
   ]
  },
  {
   "cell_type": "code",
   "execution_count": 4,
   "metadata": {},
   "outputs": [
    {
     "name": "stdout",
     "output_type": "stream",
     "text": [
      "+-----+-----------+--------+--------+----+\n",
      "|index|       city|    date|tempType|temp|\n",
      "+-----+-----------+--------+--------+----+\n",
      "|    1|ITE00100554|18000101|    TMAX| -75|\n",
      "|    2|ITE00100554|18000101|    TMIN|-148|\n",
      "|    3|GM000010962|18000101|    PRCP|   0|\n",
      "|    4|EZE00100082|18000101|    TMAX| -86|\n",
      "|    5|EZE00100082|18000101|    TMAX|-135|\n",
      "|    6|ITE00100554|18000102|    TMAX| -60|\n",
      "|    7|ITE00100554|18000102|    TMIN|-125|\n",
      "|    8|GM000010962|18000102|    PRCP|   0|\n",
      "|    9|EZE00100082|18000102|    TMAX| -44|\n",
      "|   10|EZE00100082|18000102|    TMIN|-135|\n",
      "+-----+-----------+--------+--------+----+\n",
      "\n"
     ]
    }
   ],
   "source": [
    "df=d.get_table_spark(\"T\")\n",
    "df.show()"
   ]
  },
  {
   "cell_type": "code",
   "execution_count": 5,
   "metadata": {},
   "outputs": [
    {
     "name": "stdout",
     "output_type": "stream",
     "text": [
      "ind\n",
      "ind\n",
      "+---+--------+\n",
      "|ind|    attr|\n",
      "+---+--------+\n",
      "| 10|    temp|\n",
      "|  5|tempType|\n",
      "|  5|    city|\n",
      "| 10|    city|\n",
      "| 10|tempType|\n",
      "|  5|    temp|\n",
      "+---+--------+\n",
      "\n",
      "+---+--------+\n",
      "|ind|    attr|\n",
      "+---+--------+\n",
      "|  7|    city|\n",
      "|  9|   index|\n",
      "|  1|    temp|\n",
      "|  5|    date|\n",
      "|  7|    temp|\n",
      "|  1|   index|\n",
      "|  2|    city|\n",
      "|  3|    city|\n",
      "|  8|   index|\n",
      "|  2|   index|\n",
      "|  4|tempType|\n",
      "|  2|    date|\n",
      "|  2|    temp|\n",
      "|  3|    date|\n",
      "|  5|   index|\n",
      "|  8|    date|\n",
      "|  8|tempType|\n",
      "|  8|    city|\n",
      "|  9|    date|\n",
      "| 10|   index|\n",
      "+---+--------+\n",
      "only showing top 20 rows\n",
      "\n"
     ]
    }
   ],
   "source": [
    "dcCode=['t1&t2&EQ(t1.city,t2.city)&EQ(t1.temp,t2.temp)&IQ(t1.tempType,t2.tempType)']\n",
    "\n",
    "dk_cells,clean_cells=holoclean_se._error_detection(dcCode)\n",
    "dk_cells.show()\n",
    "\n",
    "clean_cells.show()"
   ]
  },
  {
   "cell_type": "markdown",
   "metadata": {},
   "source": [
    "##  Error detection\n",
    "This step create table of index and attribute which violate or make no violation by given denial constraints. In here we can get from data base or get it directly from error detection method"
   ]
  },
  {
   "cell_type": "markdown",
   "metadata": {},
   "source": [
    "##  Call the table from database \n",
    "Here we call the table from database to spark dataframe too"
   ]
  },
  {
   "cell_type": "code",
   "execution_count": 6,
   "metadata": {},
   "outputs": [
    {
     "name": "stdout",
     "output_type": "stream",
     "text": [
      "+---+--------+\n",
      "|ind|    attr|\n",
      "+---+--------+\n",
      "| 10|    temp|\n",
      "|  5|    city|\n",
      "|  5|tempType|\n",
      "| 10|    city|\n",
      "| 10|tempType|\n",
      "|  5|    temp|\n",
      "+---+--------+\n",
      "\n"
     ]
    }
   ],
   "source": [
    "dk_cells_in_db=d.get_table_spark(\"C_dk\")\n",
    "\n",
    "dk_cells_in_db.show(dk_cells_in_db.count())"
   ]
  },
  {
   "cell_type": "markdown",
   "metadata": {},
   "source": [
    "We make a feature vector from denial constraints signals for all the cells in the dataset"
   ]
  },
  {
   "cell_type": "code",
   "execution_count": 7,
   "metadata": {},
   "outputs": [
    {
     "name": "stdout",
     "output_type": "stream",
     "text": [
      "+------------+---+---+---+---+---+---+---+---+---+---+\n",
      "|        cell|  1|  2|  3|  4|  5|  6|  7|  8|  9| 10|\n",
      "+------------+---+---+---+---+---+---+---+---+---+---+\n",
      "|    [1,city]|  1|  1|  1|  1|  1|  1|  1|  1|  1|  1|\n",
      "|    [1,date]|  0|  0|  0|  0|  0|  0|  0|  0|  0|  0|\n",
      "|[1,tempType]|  1|  1|  1|  1|  1|  1|  1|  1|  1|  1|\n",
      "|    [1,temp]|  1|  1|  1|  1|  1|  1|  1|  1|  1|  1|\n",
      "|    [2,city]|  1|  1|  1|  1|  1|  1|  1|  1|  1|  1|\n",
      "|    [2,date]|  0|  0|  0|  0|  0|  0|  0|  0|  0|  0|\n",
      "|[2,tempType]|  1|  1|  1|  1|  1|  1|  1|  1|  1|  1|\n",
      "|    [2,temp]|  1|  1|  1|  1|  1|  1|  1|  1|  1|  1|\n",
      "|    [3,city]|  1|  1|  1|  1|  1|  1|  1|  1|  1|  1|\n",
      "|    [3,date]|  0|  0|  0|  0|  0|  0|  0|  0|  0|  0|\n",
      "|[3,tempType]|  1|  1|  1|  1|  1|  1|  1|  1|  1|  1|\n",
      "|    [3,temp]|  1|  1|  1|  1|  1|  1|  1|  1|  1|  1|\n",
      "|    [4,city]|  1|  1|  1|  1|  1|  1|  1|  1|  1|  1|\n",
      "|    [4,date]|  0|  0|  0|  0|  0|  0|  0|  0|  0|  0|\n",
      "|[4,tempType]|  1|  1|  1|  1|  1|  1|  1|  1|  1|  1|\n",
      "|    [4,temp]|  1|  1|  1|  1|  1|  1|  1|  1|  1|  1|\n",
      "|    [5,city]|  1|  1|  1|  1|  1|  1|  1|  1|  1| -1|\n",
      "|    [5,date]|  0|  0|  0|  0|  0|  0|  0|  0|  0|  0|\n",
      "|[5,tempType]|  1|  1|  1|  1|  1|  1|  1|  1|  1| -1|\n",
      "|    [5,temp]|  1|  1|  1|  1|  1|  1|  1|  1|  1| -1|\n",
      "+------------+---+---+---+---+---+---+---+---+---+---+\n",
      "only showing top 20 rows\n",
      "\n"
     ]
    }
   ],
   "source": [
    "holoclean_se._featurizer()"
   ]
  }
 ],
 "metadata": {
  "kernelspec": {
   "display_name": "Python 2",
   "language": "python",
   "name": "python2"
  },
  "language_info": {
   "codemirror_mode": {
    "name": "ipython",
    "version": 2
   },
   "file_extension": ".py",
   "mimetype": "text/x-python",
   "name": "python",
   "nbconvert_exporter": "python",
   "pygments_lexer": "ipython2",
   "version": "2.7.13"
  }
 },
 "nbformat": 4,
 "nbformat_minor": 2
}
