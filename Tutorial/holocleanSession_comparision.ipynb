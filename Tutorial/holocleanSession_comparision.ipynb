{
 "cells": [
  {
   "cell_type": "markdown",
   "metadata": {},
   "source": [
    "# Test random varible evaluation\n",
    "\n",
    "For first step we create import the sufficient packages "
   ]
  },
  {
   "cell_type": "code",
   "execution_count": 1,
   "metadata": {
    "collapsed": true
   },
   "outputs": [],
   "source": [
    "import sys\n",
    "import os\n",
    "import time\n",
    "sys.path.append('../')\n",
    "from holoclean import holocleansession , dataset , dataengine\n",
    "from holoclean.utils import domainpruning\n",
    "from holoclean.featurization import dcfeaturizer"
   ]
  },
  {
   "cell_type": "code",
   "execution_count": 2,
   "metadata": {
    "collapsed": true
   },
   "outputs": [],
   "source": [
    "my_path = os.path.abspath(os.path.dirname('__file__'))\n",
    "path = os.path.join(my_path, \"../holoclean/mysql-connector-java-5.1.44-bin.jar\")\n",
    "holoclean_se=holocleansession.HolocleanSession(path)"
   ]
  },
  {
   "cell_type": "markdown",
   "metadata": {},
   "source": [
    "##  Creating Dataset and dataengine and holocleansession \n",
    "In this part we create dataset for keep tracking the runnig step and dataengine for make connector to the database we try to ingest the 10 element csv file and after ingesting it returns df other wise we can read it from database"
   ]
  },
  {
   "cell_type": "code",
   "execution_count": 3,
   "metadata": {},
   "outputs": [
    {
     "name": "stdout",
     "output_type": "stream",
     "text": [
      "index\n"
     ]
    }
   ],
   "source": [
    "ds=dataset.Dataset()  \n",
    "d=dataengine.Dataengine(\"metadb-config.txt\",'datadb-config.txt',ds,holoclean_se.return_sqlcontext())\n",
    "holoclean_se.set_dataengine(d)\n",
    "df=d.ingest_spark('10.csv',holoclean_se.returnspark_session())"
   ]
  },
  {
   "cell_type": "markdown",
   "metadata": {},
   "source": [
    "##  Create featurizer\n"
   ]
  },
  {
   "cell_type": "code",
   "execution_count": 4,
   "metadata": {},
   "outputs": [],
   "source": [
    "dcCode=['t1&t2&EQ(t1.city,t2.city)&EQ(t1.temp,t2.temp)&IQ(t1.tempType,t2.tempType)']\n",
    "dcf=dcfeaturizer.DCFeaturizer(df,dcCode,d)"
   ]
  },
  {
   "cell_type": "code",
   "execution_count": 5,
   "metadata": {},
   "outputs": [
    {
     "name": "stderr",
     "output_type": "stream",
     "text": [
      "/home/alireza/anaconda2/lib/python2.7/site-packages/pyspark/sql/session.py:331: UserWarning: inferring schema from dict is deprecated,please use pyspark.sql.Row instead\n",
      "  warnings.warn(\"inferring schema from dict is deprecated,\"\n"
     ]
    },
    {
     "name": "stdout",
     "output_type": "stream",
     "text": [
      "+-------------+-----------+--------------------+------+\n",
      "|           rv|   assigned|                  dc|tup_id|\n",
      "+-------------+-----------+--------------------+------+\n",
      "|     t_1.temp|       -125|t1&t2&EQ(t1.city,...|     7|\n",
      "|     t_1.temp|       -148|t1&t2&EQ(t1.city,...|     2|\n",
      "|     t_2.temp|        -60|t1&t2&EQ(t1.city,...|     6|\n",
      "|     t_2.temp|        -75|t1&t2&EQ(t1.city,...|     1|\n",
      "| t_3.tempType|       TMAX|t1&t2&EQ(t1.city,...|     8|\n",
      "| t_3.tempType|       TMIN|t1&t2&EQ(t1.city,...|     8|\n",
      "|     t_4.temp|       -135|t1&t2&EQ(t1.city,...|    10|\n",
      "|     t_5.city|EZE00100082|t1&t2&EQ(t1.city,...|    10|\n",
      "| t_5.tempType|       TMAX|t1&t2&EQ(t1.city,...|    10|\n",
      "| t_5.tempType|       PRCP|t1&t2&EQ(t1.city,...|    10|\n",
      "|     t_5.temp|       -135|t1&t2&EQ(t1.city,...|    10|\n",
      "|     t_6.temp|       -125|t1&t2&EQ(t1.city,...|     7|\n",
      "|     t_6.temp|       -148|t1&t2&EQ(t1.city,...|     2|\n",
      "|     t_7.temp|        -60|t1&t2&EQ(t1.city,...|     6|\n",
      "|     t_7.temp|        -75|t1&t2&EQ(t1.city,...|     1|\n",
      "| t_8.tempType|       TMAX|t1&t2&EQ(t1.city,...|     3|\n",
      "| t_8.tempType|       TMIN|t1&t2&EQ(t1.city,...|     3|\n",
      "|     t_9.temp|       -135|t1&t2&EQ(t1.city,...|    10|\n",
      "|    t_10.city|EZE00100082|t1&t2&EQ(t1.city,...|     5|\n",
      "|t_10.tempType|       PRCP|t1&t2&EQ(t1.city,...|     5|\n",
      "|t_10.tempType|       TMIN|t1&t2&EQ(t1.city,...|     5|\n",
      "|    t_10.temp|       -135|t1&t2&EQ(t1.city,...|     5|\n",
      "|    t_10.temp|        -86|t1&t2&EQ(t1.city,...|     4|\n",
      "|    t_10.temp|        -44|t1&t2&EQ(t1.city,...|     9|\n",
      "+-------------+-----------+--------------------+------+\n",
      "\n"
     ]
    }
   ],
   "source": [
    "start_time_spark = time.time()\n",
    "dgf=dcf.pre_features(holoclean_se.returnspark_session())\n",
    "finish_time_spark=time.time()\n",
    "dgf.show(dgf.count())"
   ]
  },
  {
   "cell_type": "markdown",
   "metadata": {},
   "source": [
    "Execution time is"
   ]
  },
  {
   "cell_type": "code",
   "execution_count": 7,
   "metadata": {},
   "outputs": [
    {
     "name": "stdout",
     "output_type": "stream",
     "text": [
      "--- 535.392323017 seconds ---\n"
     ]
    }
   ],
   "source": [
    "print(\"--- %s seconds ---\" % (finish_time_spark-start_time_spark))"
   ]
  },
  {
   "cell_type": "markdown",
   "metadata": {},
   "source": [
    "By using mysql we have same table :"
   ]
  },
  {
   "cell_type": "code",
   "execution_count": 6,
   "metadata": {},
   "outputs": [
    {
     "name": "stdout",
     "output_type": "stream",
     "text": [
      "438288925569_T\n",
      "OK!\n",
      "+--------+--------+------------+--------------------+------+\n",
      "|rv_index| rv_attr|assigned_val|              DCname|tup_id|\n",
      "+--------+--------+------------+--------------------+------+\n",
      "|      10|    city| EZE00100082|table1.city=table...|     5|\n",
      "|       5|    city| EZE00100082|table1.city=table...|    10|\n",
      "|      10|    date|    18000101|table1.city=table...|     5|\n",
      "|      10|    date|    18000102|table1.city=table...|     5|\n",
      "|       5|    date|    18000101|table1.city=table...|    10|\n",
      "|       5|    date|    18000102|table1.city=table...|    10|\n",
      "|      10|tempType|        PRCP|table1.city=table...|     5|\n",
      "|      10|tempType|        TMIN|table1.city=table...|     5|\n",
      "|       3|tempType|        TMAX|table1.city=table...|     8|\n",
      "|       3|tempType|        TMIN|table1.city=table...|     8|\n",
      "|       5|tempType|        PRCP|table1.city=table...|    10|\n",
      "|       5|tempType|        TMAX|table1.city=table...|    10|\n",
      "|       8|tempType|        TMAX|table1.city=table...|     3|\n",
      "|       8|tempType|        TMIN|table1.city=table...|     3|\n",
      "|       1|    temp|        -125|table1.city=table...|     7|\n",
      "|       1|    temp|        -148|table1.city=table...|     2|\n",
      "|      10|    temp|        -135|table1.city=table...|     5|\n",
      "|      10|    temp|         -44|table1.city=table...|     9|\n",
      "|      10|    temp|         -86|table1.city=table...|     4|\n",
      "|       2|    temp|         -60|table1.city=table...|     6|\n",
      "|       2|    temp|         -75|table1.city=table...|     1|\n",
      "|       4|    temp|        -135|table1.city=table...|    10|\n",
      "|       5|    temp|        -135|table1.city=table...|    10|\n",
      "|       6|    temp|        -125|table1.city=table...|     7|\n",
      "|       6|    temp|        -148|table1.city=table...|     2|\n",
      "|       7|    temp|         -60|table1.city=table...|     6|\n",
      "|       7|    temp|         -75|table1.city=table...|     1|\n",
      "|       9|    temp|        -135|table1.city=table...|    10|\n",
      "+--------+--------+------------+--------------------+------+\n",
      "\n",
      "None\n"
     ]
    }
   ],
   "source": [
    "start_time_mysql = time.time()\n",
    "dcf.make_dc_f_table()\n",
    "finish_time_mysql=time.time()\n",
    "mysqlv=d.get_table_spark(\"dc_f\")\n",
    "print(mysqlv.show(mysqlv.count()))"
   ]
  },
  {
   "cell_type": "markdown",
   "metadata": {},
   "source": [
    "Execution time is :"
   ]
  },
  {
   "cell_type": "code",
   "execution_count": 8,
   "metadata": {},
   "outputs": [
    {
     "name": "stdout",
     "output_type": "stream",
     "text": [
      "--- 0.268074989319 seconds ---\n"
     ]
    }
   ],
   "source": [
    "print(\"--- %s seconds ---\" % (finish_time_mysql-start_time_mysql))"
   ]
  },
  {
   "cell_type": "markdown",
   "metadata": {},
   "source": [
    "Because we have just one dc in all value in dc column is same"
   ]
  }
 ],
 "metadata": {
  "kernelspec": {
   "display_name": "Python 2",
   "language": "python",
   "name": "python2"
  },
  "language_info": {
   "codemirror_mode": {
    "name": "ipython",
    "version": 2
   },
   "file_extension": ".py",
   "mimetype": "text/x-python",
   "name": "python",
   "nbconvert_exporter": "python",
   "pygments_lexer": "ipython2",
   "version": "2.7.13"
  }
 },
 "nbformat": 4,
 "nbformat_minor": 2
}
