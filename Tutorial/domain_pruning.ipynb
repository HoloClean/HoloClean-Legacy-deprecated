{
 "cells": [
  {
   "cell_type": "markdown",
   "metadata": {},
   "source": [
    "# Domain pruning in holocleansession \n",
    "In this notebook we will show the mechanism of domain pruning and how it works. To start we import the necessary modules "
   ]
  },
  {
   "cell_type": "code",
   "execution_count": 1,
   "metadata": {
    "collapsed": true
   },
   "outputs": [],
   "source": [
    "import sys\n",
    "import os\n",
    "sys.path.append('../')\n",
    "from holoclean import holocleansession , dataset , dataengine"
   ]
  },
  {
   "cell_type": "markdown",
   "metadata": {},
   "source": [
    "After import file we have to indicate the driver file path for mysql connector and initialize the holocleansession with it."
   ]
  },
  {
   "cell_type": "code",
   "execution_count": 2,
   "metadata": {},
   "outputs": [],
   "source": [
    "my_path = os.path.abspath(os.path.dirname('__file__'))\n",
    "path = os.path.join(my_path, \"../holoclean/mysql-connector-java-5.1.44-bin.jar\")\n",
    "holoclean_se=holocleansession.HolocleanSession(path)"
   ]
  },
  {
   "cell_type": "markdown",
   "metadata": {},
   "source": [
    "We have to create dataset object to create specific object that track the project tables in the database and after that we ingest the csv to spark and database."
   ]
  },
  {
   "cell_type": "code",
   "execution_count": 3,
   "metadata": {},
   "outputs": [
    {
     "name": "stdout",
     "output_type": "stream",
     "text": [
      "index\n"
     ]
    }
   ],
   "source": [
    "ds=dataset.Dataset()  \n",
    "d=dataengine.Dataengine(\"metadb-config.txt\",'datadb-config.txt',ds,holoclean_se.return_sqlcontext())\n",
    "holoclean_se.set_dataengine(d)\n",
    "df=d.ingest_spark('10.csv',holoclean_se.returnspark_session())"
   ]
  },
  {
   "cell_type": "markdown",
   "metadata": {},
   "source": [
    "In here based on the denial constraints we divide the cells into two sets cells that we know their values are clean and cells that have some violations."
   ]
  },
  {
   "cell_type": "code",
   "execution_count": 4,
   "metadata": {},
   "outputs": [
    {
     "name": "stdout",
     "output_type": "stream",
     "text": [
      "ind\n",
      "ind\n"
     ]
    }
   ],
   "source": [
    "dcCode=['t1&t2&EQ(t1.city,t2.city)&EQ(t1.temp,t2.temp)&IQ(t1.tempType,t2.tempType)']\n",
    "\n",
    "dk_cells,clean_cells=holoclean_se._error_detection(dcCode,df)"
   ]
  },
  {
   "cell_type": "markdown",
   "metadata": {},
   "source": [
    "In here we try to prune the domain the default value for threshold is 0.5"
   ]
  },
  {
   "cell_type": "code",
   "execution_count": 5,
   "metadata": {},
   "outputs": [
    {
     "name": "stdout",
     "output_type": "stream",
     "text": [
      "attr\n",
      "+--------+-----------+\n",
      "|    attr|      value|\n",
      "+--------+-----------+\n",
      "|    date|   18000101|\n",
      "|    date|   18000102|\n",
      "|    city|EZE00100082|\n",
      "|    city|ITE00100554|\n",
      "|tempType|       TMAX|\n",
      "|tempType|       TMIN|\n",
      "|    temp|       -135|\n",
      "+--------+-----------+\n",
      "\n"
     ]
    }
   ],
   "source": [
    "can=holoclean_se._domain_prunnig()\n",
    "can.show(can.count())"
   ]
  },
  {
   "cell_type": "markdown",
   "metadata": {},
   "source": [
    "In here we can call the table from mysql database too"
   ]
  },
  {
   "cell_type": "code",
   "execution_count": 6,
   "metadata": {},
   "outputs": [
    {
     "name": "stdout",
     "output_type": "stream",
     "text": [
      "+--------+-----------+\n",
      "|    attr|      value|\n",
      "+--------+-----------+\n",
      "|    date|   18000101|\n",
      "|tempType|       TMIN|\n",
      "|    temp|       -135|\n",
      "|    city|ITE00100554|\n",
      "|tempType|       TMAX|\n",
      "|    date|   18000102|\n",
      "|    city|EZE00100082|\n",
      "+--------+-----------+\n",
      "\n"
     ]
    }
   ],
   "source": [
    "d_in_db=d.get_table_spark(\"D\")\n",
    "d_in_db.show(d_in_db.count())"
   ]
  },
  {
   "cell_type": "markdown",
   "metadata": {},
   "source": [
    "Next challenge is change the threshold value to zero and see it return all values or not"
   ]
  },
  {
   "cell_type": "code",
   "execution_count": 7,
   "metadata": {},
   "outputs": [
    {
     "name": "stdout",
     "output_type": "stream",
     "text": [
      "attr\n",
      "+--------+-----------+\n",
      "|    attr|      value|\n",
      "+--------+-----------+\n",
      "|    date|   18000101|\n",
      "|    date|   18000102|\n",
      "|    city|EZE00100082|\n",
      "|    city|GM000010962|\n",
      "|    city|ITE00100554|\n",
      "|tempType|       PRCP|\n",
      "|tempType|       TMAX|\n",
      "|tempType|       TMIN|\n",
      "|    temp|       -125|\n",
      "|    temp|       -135|\n",
      "|    temp|       -148|\n",
      "|    temp|        -44|\n",
      "|    temp|        -60|\n",
      "|    temp|        -75|\n",
      "|    temp|        -86|\n",
      "|    temp|          0|\n",
      "+--------+-----------+\n",
      "\n"
     ]
    }
   ],
   "source": [
    "can2=holoclean_se._domain_prunnig(new_threshold = 0)\n",
    "can2.show(can2.count())"
   ]
  },
  {
   "cell_type": "markdown",
   "metadata": {},
   "source": [
    "Again we check that the new table has been substitute in database "
   ]
  },
  {
   "cell_type": "code",
   "execution_count": 8,
   "metadata": {},
   "outputs": [
    {
     "name": "stdout",
     "output_type": "stream",
     "text": [
      "+--------+-----------+\n",
      "|    attr|      value|\n",
      "+--------+-----------+\n",
      "|    temp|        -60|\n",
      "|    temp|        -75|\n",
      "|    temp|        -86|\n",
      "|    city|ITE00100554|\n",
      "|    temp|       -125|\n",
      "|tempType|       PRCP|\n",
      "|tempType|       TMAX|\n",
      "|tempType|       TMIN|\n",
      "|    temp|          0|\n",
      "|    date|   18000101|\n",
      "|    temp|       -135|\n",
      "|    temp|       -148|\n",
      "|    date|   18000102|\n",
      "|    temp|        -44|\n",
      "|    city|EZE00100082|\n",
      "|    city|GM000010962|\n",
      "+--------+-----------+\n",
      "\n"
     ]
    }
   ],
   "source": [
    "d2_in_db=d.get_table_spark(\"D\")\n",
    "d2_in_db.show(d2_in_db.count())"
   ]
  }
 ],
 "metadata": {
  "kernelspec": {
   "display_name": "Python 2",
   "language": "python",
   "name": "python2"
  },
  "language_info": {
   "codemirror_mode": {
    "name": "ipython",
    "version": 2
   },
   "file_extension": ".py",
   "mimetype": "text/x-python",
   "name": "python",
   "nbconvert_exporter": "python",
   "pygments_lexer": "ipython2",
   "version": "2.7.13"
  }
 },
 "nbformat": 4,
 "nbformat_minor": 2
}
