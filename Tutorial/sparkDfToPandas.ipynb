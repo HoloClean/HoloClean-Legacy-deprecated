{
 "cells": [
  {
   "cell_type": "code",
   "execution_count": 1,
   "metadata": {
    "collapsed": true
   },
   "outputs": [],
   "source": [
    "import pyspark as ps\n",
    "import numpy as np\n",
    "import copy\n",
    "import itertools\n",
    "import pandas as pa"
   ]
  },
  {
   "cell_type": "code",
   "execution_count": 2,
   "metadata": {
    "collapsed": true
   },
   "outputs": [],
   "source": [
    "spark = ps.sql.SparkSession.builder.master(\"local\").appName(\"Word Count\").getOrCreate()"
   ]
  },
  {
   "cell_type": "code",
   "execution_count": 3,
   "metadata": {},
   "outputs": [
    {
     "name": "stdout",
     "output_type": "stream",
     "text": [
      "+-----+-----------+--------+--------+----+\n",
      "|index|       city|    date|tempType|temp|\n",
      "+-----+-----------+--------+--------+----+\n",
      "|    1|ITE00100554|18000101|    TMAX| -75|\n",
      "|    2|ITE00100554|18000101|    TMIN|-148|\n",
      "|    3|GM000010962|18000101|    PRCP|   0|\n",
      "|    4|EZE00100082|18000101|    TMAX| -86|\n",
      "|    5|EZE00100082|18000101|    TMAX|-135|\n",
      "|    6|ITE00100554|18000102|    TMAX| -60|\n",
      "|    7|ITE00100554|18000102|    TMIN|-125|\n",
      "|    8|GM000010962|18000102|    PRCP|   0|\n",
      "|    9|EZE00100082|18000102|    TMAX| -44|\n",
      "|   10|EZE00100082|18000102|    TMIN|-135|\n",
      "+-----+-----------+--------+--------+----+\n",
      "\n",
      "None\n"
     ]
    }
   ],
   "source": [
    "df=spark.read.csv(\"10.csv\",header=True)\n",
    "\n",
    "print(df.show())"
   ]
  },
  {
   "cell_type": "code",
   "execution_count": 4,
   "metadata": {
    "collapsed": true
   },
   "outputs": [],
   "source": [
    "pandDf=df.toPandas()"
   ]
  },
  {
   "cell_type": "code",
   "execution_count": 5,
   "metadata": {},
   "outputs": [
    {
     "name": "stdout",
     "output_type": "stream",
     "text": [
      "  index         city      date tempType  temp\n",
      "0     1  ITE00100554  18000101     TMAX   -75\n",
      "1     2  ITE00100554  18000101     TMIN  -148\n",
      "2     3  GM000010962  18000101     PRCP     0\n",
      "3     4  EZE00100082  18000101     TMAX   -86\n",
      "4     5  EZE00100082  18000101     TMAX  -135\n",
      "5     6  ITE00100554  18000102     TMAX   -60\n",
      "6     7  ITE00100554  18000102     TMIN  -125\n",
      "7     8  GM000010962  18000102     PRCP     0\n",
      "8     9  EZE00100082  18000102     TMAX   -44\n",
      "9    10  EZE00100082  18000102     TMIN  -135\n"
     ]
    }
   ],
   "source": [
    "print(pandDf)"
   ]
  },
  {
   "cell_type": "code",
   "execution_count": null,
   "metadata": {
    "collapsed": true
   },
   "outputs": [],
   "source": []
  }
 ],
 "metadata": {
  "kernelspec": {
   "display_name": "Python 2",
   "language": "python",
   "name": "python2"
  },
  "language_info": {
   "codemirror_mode": {
    "name": "ipython",
    "version": 2
   },
   "file_extension": ".py",
   "mimetype": "text/x-python",
   "name": "python",
   "nbconvert_exporter": "python",
   "pygments_lexer": "ipython2",
   "version": "2.7.13"
  }
 },
 "nbformat": 4,
 "nbformat_minor": 2
}
