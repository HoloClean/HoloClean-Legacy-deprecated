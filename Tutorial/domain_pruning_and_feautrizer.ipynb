{
 "cells": [
  {
   "cell_type": "markdown",
   "metadata": {},
   "source": [
    "# Domain pruning in holocleansession \n",
    "In this notebook we will show the mechanism of domain pruning and how it works. To start we import the necessary modules "
   ]
  },
  {
   "cell_type": "code",
   "execution_count": 1,
   "metadata": {
    "collapsed": true
   },
   "outputs": [],
   "source": [
    "import sys\n",
    "import os\n",
    "import time\n",
    "sys.path.append('../')\n",
    "from holoclean import holocleansession , dataset , dataengine\n",
    "from holoclean.utils import domainpruning\n",
    "from holoclean.featurization import dcfeaturizer,dc_featurizer"
   ]
  },
  {
   "cell_type": "markdown",
   "metadata": {},
   "source": [
    "After import file we have to indicate the driver file path for mysql connector and initialize the holocleansession with it."
   ]
  },
  {
   "cell_type": "code",
   "execution_count": 2,
   "metadata": {
    "collapsed": true
   },
   "outputs": [],
   "source": [
    "my_path = os.path.abspath(os.path.dirname('__file__'))\n",
    "path = os.path.join(my_path, \"../holoclean/mysql-connector-java-5.1.44-bin.jar\")\n",
    "holoclean_se=holocleansession.HolocleanSession(path)"
   ]
  },
  {
   "cell_type": "markdown",
   "metadata": {},
   "source": [
    "We have to create dataset object to create specific object that track the project tables in the database and after that we ingest the csv to spark and database."
   ]
  },
  {
   "cell_type": "code",
   "execution_count": 3,
   "metadata": {},
   "outputs": [
    {
     "name": "stdout",
     "output_type": "stream",
     "text": [
      "index\n"
     ]
    }
   ],
   "source": [
    "ds=dataset.Dataset()  \n",
    "d=dataengine.Dataengine(\"metadb-config.txt\",'datadb-config.txt',ds,holoclean_se.return_sqlcontext())\n",
    "holoclean_se.set_dataengine(d)\n",
    "df=d.ingest_spark('100.csv',holoclean_se.returnspark_session())"
   ]
  },
  {
   "cell_type": "markdown",
   "metadata": {},
   "source": [
    "In here based on the denial constraints we divide the cells into two sets cells that we know their values are clean and cells that have some violations."
   ]
  },
  {
   "cell_type": "code",
   "execution_count": null,
   "metadata": {},
   "outputs": [
    {
     "name": "stdout",
     "output_type": "stream",
     "text": [
      "ind\n",
      "ind\n"
     ]
    }
   ],
   "source": [
    "dcCode=['t1&t2&EQ(t1.city,t2.city)&EQ(t1.temp,t2.temp)&IQ(t1.tempType,t2.tempType)']\n",
    "\n",
    "dk_cells,clean_cells=holoclean_se._error_detection(dcCode,df)"
   ]
  },
  {
   "cell_type": "markdown",
   "metadata": {},
   "source": [
    "In here we try to prune the domain the default value for threshold is 0.5"
   ]
  },
  {
   "cell_type": "code",
   "execution_count": null,
   "metadata": {},
   "outputs": [],
   "source": [
    "can=holoclean_se._domain_prunnig()\n",
    "can.show(can.count())"
   ]
  },
  {
   "cell_type": "markdown",
   "metadata": {},
   "source": [
    "In here we can call the table from mysql database too"
   ]
  },
  {
   "cell_type": "code",
   "execution_count": null,
   "metadata": {},
   "outputs": [],
   "source": [
    "d_in_db=d.get_table_spark(\"D\")\n",
    "d_in_db.show(d_in_db.count())"
   ]
  },
  {
   "cell_type": "markdown",
   "metadata": {},
   "source": [
    "Next create the dc-featurizer with the domain that we pruned"
   ]
  },
  {
   "cell_type": "code",
   "execution_count": null,
   "metadata": {},
   "outputs": [],
   "source": [
    "dc_f=dc_featurizer.DCFeaturizer(df,dcCode,d)\n",
    "\n",
    "start_time_dd = time.time()\n",
    "dc_f.table_featurizer_pruning()\n",
    "finish_time_dd=time.time()\n",
    "mysqlv=d.get_table_spark(\"dc_f1\")\n",
    "print(mysqlv.count())\n",
    "print(mysqlv.show())"
   ]
  },
  {
   "cell_type": "code",
   "execution_count": null,
   "metadata": {},
   "outputs": [],
   "source": [
    "print(\"--- %s seconds ---\" % (finish_time_dd-start_time_dd))"
   ]
  }
 ],
 "metadata": {
  "kernelspec": {
   "display_name": "Python 2",
   "language": "python",
   "name": "python2"
  },
  "language_info": {
   "codemirror_mode": {
    "name": "ipython",
    "version": 2
   },
   "file_extension": ".py",
   "mimetype": "text/x-python",
   "name": "python",
   "nbconvert_exporter": "python",
   "pygments_lexer": "ipython2",
   "version": "2.7.13"
  }
 },
 "nbformat": 4,
 "nbformat_minor": 2
}
