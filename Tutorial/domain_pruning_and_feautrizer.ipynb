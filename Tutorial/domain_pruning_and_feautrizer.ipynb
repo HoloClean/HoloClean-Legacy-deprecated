{
 "cells": [
  {
   "cell_type": "markdown",
   "metadata": {},
   "source": [
    "# Domain pruning in holocleansession \n",
    "In this notebook we will show the mechanism of domain pruning and how it works. To start we import the necessary modules "
   ]
  },
  {
   "cell_type": "code",
   "execution_count": 1,
   "metadata": {
    "collapsed": true
   },
   "outputs": [],
   "source": [
    "import sys\n",
    "import os\n",
    "import time\n",
    "sys.path.append('../')\n",
    "from holoclean import holocleansession , dataset , dataengine\n",
    "from holoclean.utils import domainpruning\n",
    "from holoclean.featurization import dcfeaturizer,dc_featurizer"
   ]
  },
  {
   "cell_type": "markdown",
   "metadata": {},
   "source": [
    "After import file we have to indicate the driver file path for mysql connector and initialize the holocleansession with it."
   ]
  },
  {
   "cell_type": "code",
   "execution_count": 2,
   "metadata": {
    "collapsed": true
   },
   "outputs": [],
   "source": [
    "my_path = os.path.abspath(os.path.dirname('__file__'))\n",
    "path = os.path.join(my_path, \"../holoclean/mysql-connector-java-5.1.44-bin.jar\")\n",
    "holoclean_se=holocleansession.HolocleanSession(path)"
   ]
  },
  {
   "cell_type": "markdown",
   "metadata": {},
   "source": [
    "We have to create dataset object to create specific object that track the project tables in the database and after that we ingest the csv to spark and database."
   ]
  },
  {
   "cell_type": "code",
   "execution_count": 3,
   "metadata": {},
   "outputs": [
    {
     "name": "stdout",
     "output_type": "stream",
     "text": [
      "index\n"
     ]
    }
   ],
   "source": [
    "ds=dataset.Dataset()  \n",
    "d=dataengine.Dataengine(\"metadb-config.txt\",'datadb-config.txt',ds,holoclean_se.return_sqlcontext())\n",
    "holoclean_se.set_dataengine(d)\n",
    "df=d.ingest_spark('100.csv',holoclean_se.returnspark_session())"
   ]
  },
  {
   "cell_type": "markdown",
   "metadata": {},
   "source": [
    "In here based on the denial constraints we divide the cells into two sets cells that we know their values are clean and cells that have some violations."
   ]
  },
  {
   "cell_type": "code",
   "execution_count": 4,
   "metadata": {},
   "outputs": [
    {
     "name": "stdout",
     "output_type": "stream",
     "text": [
      "ind\n",
      "ind\n"
     ]
    }
   ],
   "source": [
    "dcCode=['t1&t2&EQ(t1.city,t2.city)&EQ(t1.temp,t2.temp)&IQ(t1.tempType,t2.tempType)']\n",
    "\n",
    "dk_cells,clean_cells=holoclean_se._error_detection(dcCode,df)"
   ]
  },
  {
   "cell_type": "markdown",
   "metadata": {},
   "source": [
    "In here we try to prune the domain the default value for threshold is 0.5"
   ]
  },
  {
   "cell_type": "code",
   "execution_count": 5,
   "metadata": {},
   "outputs": [
    {
     "name": "stdout",
     "output_type": "stream",
     "text": [
      "attr\n",
      "+--------+-----------+\n",
      "|    attr|      value|\n",
      "+--------+-----------+\n",
      "|    date|   18000101|\n",
      "|    date|   18000102|\n",
      "|    date|   18000103|\n",
      "|    date|   18000104|\n",
      "|    date|   18000105|\n",
      "|    date|   18000106|\n",
      "|    date|   18000107|\n",
      "|    date|   18000108|\n",
      "|    date|   18000109|\n",
      "|    date|   18000110|\n",
      "|    date|   18000111|\n",
      "|    date|   18000112|\n",
      "|    date|   18000113|\n",
      "|    date|   18000114|\n",
      "|    date|   18000115|\n",
      "|    date|   18000116|\n",
      "|    date|   18000117|\n",
      "|    date|   18000118|\n",
      "|    date|   18000119|\n",
      "|    date|   18000120|\n",
      "|    city|EZE00100082|\n",
      "|    city|ITE00100554|\n",
      "|tempType|       TMAX|\n",
      "|tempType|       TMIN|\n",
      "|    temp|       -130|\n",
      "|    temp|        -46|\n",
      "|    temp|         10|\n",
      "|    temp|         13|\n",
      "|    temp|         23|\n",
      "|    temp|         29|\n",
      "|    temp|         31|\n",
      "|    temp|         41|\n",
      "|    temp|         46|\n",
      "+--------+-----------+\n",
      "\n"
     ]
    }
   ],
   "source": [
    "can=holoclean_se._domain_prunnig()\n",
    "can.show(can.count())"
   ]
  },
  {
   "cell_type": "markdown",
   "metadata": {},
   "source": [
    "In here we can call the table from mysql database too"
   ]
  },
  {
   "cell_type": "code",
   "execution_count": 6,
   "metadata": {},
   "outputs": [
    {
     "name": "stdout",
     "output_type": "stream",
     "text": [
      "+--------+-----------+\n",
      "|    attr|      value|\n",
      "+--------+-----------+\n",
      "|    date|   18000117|\n",
      "|    date|   18000118|\n",
      "|    date|   18000119|\n",
      "|    date|   18000120|\n",
      "|    city|EZE00100082|\n",
      "|    city|ITE00100554|\n",
      "|tempType|       TMAX|\n",
      "|tempType|       TMIN|\n",
      "|    date|   18000101|\n",
      "|    date|   18000102|\n",
      "|    date|   18000103|\n",
      "|    date|   18000104|\n",
      "|    date|   18000105|\n",
      "|    date|   18000106|\n",
      "|    date|   18000107|\n",
      "|    date|   18000108|\n",
      "|    date|   18000109|\n",
      "|    date|   18000110|\n",
      "|    date|   18000111|\n",
      "|    date|   18000112|\n",
      "|    date|   18000113|\n",
      "|    date|   18000114|\n",
      "|    date|   18000115|\n",
      "|    date|   18000116|\n",
      "|    temp|       -130|\n",
      "|    temp|        -46|\n",
      "|    temp|         10|\n",
      "|    temp|         13|\n",
      "|    temp|         23|\n",
      "|    temp|         29|\n",
      "|    temp|         31|\n",
      "|    temp|         41|\n",
      "|    temp|         46|\n",
      "+--------+-----------+\n",
      "\n"
     ]
    }
   ],
   "source": [
    "d_in_db=d.get_table_spark(\"D\")\n",
    "d_in_db.show(d_in_db.count())"
   ]
  },
  {
   "cell_type": "markdown",
   "metadata": {},
   "source": [
    "Next create the dc-featurizer with the domain that we pruned"
   ]
  },
  {
   "cell_type": "code",
   "execution_count": 7,
   "metadata": {},
   "outputs": [
    {
     "name": "stdout",
     "output_type": "stream",
     "text": [
      "1168\n",
      "+--------+------------+--------+------+--------------------+\n",
      "|rv_index|assigned_val| rv_attr|tup_id|             DC_name|\n",
      "+--------+------------+--------+------+--------------------+\n",
      "|       1|        TMIN|tempType|     1|table1.city=table...|\n",
      "|       1|         -46|    temp|    12|table1.city=table...|\n",
      "|       1|          13|    temp|    27|table1.city=table...|\n",
      "|       1|          10|    temp|    32|table1.city=table...|\n",
      "|       1|          23|    temp|    42|table1.city=table...|\n",
      "|       1|          31|    temp|    47|table1.city=table...|\n",
      "|       1| EZE00100082|    city|    50|table1.city=table...|\n",
      "|       1|          41|    temp|    52|table1.city=table...|\n",
      "|       1|          29|    temp|    57|table1.city=table...|\n",
      "|       1|          13|    temp|    62|table1.city=table...|\n",
      "|       1|          23|    temp|    67|table1.city=table...|\n",
      "|       1|          41|    temp|    72|table1.city=table...|\n",
      "|       1|          41|    temp|    77|table1.city=table...|\n",
      "|       1|          46|    temp|    87|table1.city=table...|\n",
      "|       2|        TMAX|tempType|     2|table1.city=table...|\n",
      "|       2|          10|    temp|    21|table1.city=table...|\n",
      "|       2|          13|    temp|    26|table1.city=table...|\n",
      "|       2|          31|    temp|    31|table1.city=table...|\n",
      "|       2|          29|    temp|    36|table1.city=table...|\n",
      "|       2|          46|    temp|    46|table1.city=table...|\n",
      "+--------+------------+--------+------+--------------------+\n",
      "only showing top 20 rows\n",
      "\n",
      "None\n"
     ]
    }
   ],
   "source": [
    "dc_f=dc_featurizer.DCFeaturizer(df,dcCode,d)\n",
    "\n",
    "start_time_dd = time.time()\n",
    "asd=dc_f.table_featurizer_pruning()\n",
    "finish_time_dd=time.time()\n",
    "mysqlv=d.get_table_spark(\"dc_f1\")\n",
    "print(mysqlv.count())\n",
    "print(mysqlv.show())"
   ]
  },
  {
   "cell_type": "code",
   "execution_count": 8,
   "metadata": {},
   "outputs": [
    {
     "name": "stdout",
     "output_type": "stream",
     "text": [
      "--- 0.155375957489 seconds ---\n"
     ]
    }
   ],
   "source": [
    "print(\"--- %s seconds ---\" % (finish_time_dd-start_time_dd))"
   ]
  }
 ],
 "metadata": {
  "kernelspec": {
   "display_name": "Python 2",
   "language": "python",
   "name": "python2"
  },
  "language_info": {
   "codemirror_mode": {
    "name": "ipython",
    "version": 2
   },
   "file_extension": ".py",
   "mimetype": "text/x-python",
   "name": "python",
   "nbconvert_exporter": "python",
   "pygments_lexer": "ipython2",
   "version": "2.7.13"
  }
 },
 "nbformat": 4,
 "nbformat_minor": 2
}
