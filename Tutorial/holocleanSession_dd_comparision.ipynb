{
 "cells": [
  {
   "cell_type": "markdown",
   "metadata": {},
   "source": [
    "# Test random varible evaluation\n",
    "\n",
    "For first step we create import the sufficient packages "
   ]
  },
  {
   "cell_type": "code",
   "execution_count": 1,
   "metadata": {
    "collapsed": true,
    "scrolled": false
   },
   "outputs": [],
   "source": [
    "import sys\n",
    "import os\n",
    "import time\n",
    "sys.path.append('../')\n",
    "from holoclean import holocleansession , dataset , dataengine\n",
    "from holoclean.utils import domainpruning\n",
    "from holoclean.featurization import dcfeaturizer,dc_featurizer"
   ]
  },
  {
   "cell_type": "code",
   "execution_count": 2,
   "metadata": {
    "collapsed": true
   },
   "outputs": [],
   "source": [
    "my_path = os.path.abspath(os.path.dirname('__file__'))\n",
    "path = os.path.join(my_path, \"../holoclean/mysql-connector-java-5.1.44-bin.jar\")\n",
    "holoclean_se=holocleansession.HolocleanSession(path)"
   ]
  },
  {
   "cell_type": "markdown",
   "metadata": {},
   "source": [
    "##  Creating Dataset and dataengine and holocleansession \n",
    "In this part we create dataset for keep tracking the runnig step and dataengine for make connector to the database we try to ingest the 10 element csv file and after ingesting it returns df other wise we can read it from database"
   ]
  },
  {
   "cell_type": "code",
   "execution_count": 3,
   "metadata": {},
   "outputs": [
    {
     "name": "stdout",
     "output_type": "stream",
     "text": [
      "index\n"
     ]
    }
   ],
   "source": [
    "ds=dataset.Dataset()  \n",
    "d=dataengine.Dataengine(\"metadb-config.txt\",'datadb-config.txt',ds,holoclean_se.return_sqlcontext())\n",
    "holoclean_se.set_dataengine(d)\n",
    "df=d.ingest_spark('100.csv',holoclean_se.returnspark_session())"
   ]
  },
  {
   "cell_type": "markdown",
   "metadata": {},
   "source": [
    "##  Create featurizer\n"
   ]
  },
  {
   "cell_type": "code",
   "execution_count": 4,
   "metadata": {
    "collapsed": true
   },
   "outputs": [],
   "source": [
    "dcCode=['t1&t2&EQ(t1.city,t2.city)&EQ(t1.temp,t2.temp)&IQ(t1.tempType,t2.tempType)']\n",
    "#dcCode=['t1&t2&EQ(t1.city,t2.city)&GTE(t1.temp,t2.temp)&IQ(t1.tempType,t2.tempType)']\n",
    "dcf=dcfeaturizer.DCFeaturizer(df,dcCode,d)"
   ]
  },
  {
   "cell_type": "markdown",
   "metadata": {},
   "source": [
    "In this version we create new table which ha sall possible value and by using join it with original table twe create the final table."
   ]
  },
  {
   "cell_type": "code",
   "execution_count": 5,
   "metadata": {
    "collapsed": true
   },
   "outputs": [],
   "source": [
    "dc_f=dc_featurizer.DCFeaturizer(df,dcCode,d)"
   ]
  },
  {
   "cell_type": "markdown",
   "metadata": {},
   "source": [
    "we claculate the creation time in this version :"
   ]
  },
  {
   "cell_type": "code",
   "execution_count": 6,
   "metadata": {},
   "outputs": [
    {
     "name": "stdout",
     "output_type": "stream",
     "text": [
      "2194\n",
      "+--------+------------+-------+------+--------------------+\n",
      "|rv_index|assigned_val|rv_attr|tup_id|             DC_name|\n",
      "+--------+------------+-------+------+--------------------+\n",
      "|       3| ITE00100554|   city|    16|table1.city=table...|\n",
      "|       8| ITE00100554|   city|    16|table1.city=table...|\n",
      "|      18| ITE00100554|   city|    16|table1.city=table...|\n",
      "|      21| ITE00100554|   city|    32|table1.city=table...|\n",
      "|      23| ITE00100554|   city|    16|table1.city=table...|\n",
      "|      26| ITE00100554|   city|    27|table1.city=table...|\n",
      "|      26| ITE00100554|   city|    62|table1.city=table...|\n",
      "|      27| ITE00100554|   city|    26|table1.city=table...|\n",
      "|      28| ITE00100554|   city|    16|table1.city=table...|\n",
      "|      31| ITE00100554|   city|    47|table1.city=table...|\n",
      "|      32| ITE00100554|   city|    21|table1.city=table...|\n",
      "|      33| ITE00100554|   city|    16|table1.city=table...|\n",
      "|      36| ITE00100554|   city|    57|table1.city=table...|\n",
      "|      38| ITE00100554|   city|    16|table1.city=table...|\n",
      "|      42| ITE00100554|   city|    61|table1.city=table...|\n",
      "|      43| ITE00100554|   city|    16|table1.city=table...|\n",
      "|      46| ITE00100554|   city|    87|table1.city=table...|\n",
      "|      47| ITE00100554|   city|    31|table1.city=table...|\n",
      "|      48| ITE00100554|   city|    16|table1.city=table...|\n",
      "|      49| ITE00100554|   city|    12|table1.city=table...|\n",
      "+--------+------------+-------+------+--------------------+\n",
      "only showing top 20 rows\n",
      "\n",
      "None\n"
     ]
    }
   ],
   "source": [
    "start_time_dd = time.time()\n",
    "dc_f.table_featurizer()\n",
    "finish_time_dd=time.time()\n",
    "mysqlv=d.get_table_spark(\"dc_f1\")\n",
    "print(mysqlv.count())\n",
    "print(mysqlv.show())"
   ]
  },
  {
   "cell_type": "code",
   "execution_count": 7,
   "metadata": {},
   "outputs": [
    {
     "name": "stdout",
     "output_type": "stream",
     "text": [
      "--- 4.28311109543 seconds ---\n"
     ]
    }
   ],
   "source": [
    "print(\"--- %s seconds ---\" % (finish_time_dd-start_time_dd))"
   ]
  },
  {
   "cell_type": "code",
   "execution_count": 8,
   "metadata": {},
   "outputs": [
    {
     "name": "stdout",
     "output_type": "stream",
     "text": [
      "2194\n",
      "+--------+-------+------------+--------------------+------+\n",
      "|rv_index|rv_attr|assigned_val|                  DC|tup_id|\n",
      "+--------+-------+------------+--------------------+------+\n",
      "|       3|   city| ITE00100554|table1.city=table...|    16|\n",
      "|       8|   city| ITE00100554|table1.city=table...|    16|\n",
      "|      18|   city| ITE00100554|table1.city=table...|    16|\n",
      "|      21|   city| ITE00100554|table1.city=table...|    32|\n",
      "|      23|   city| ITE00100554|table1.city=table...|    16|\n",
      "|      26|   city| ITE00100554|table1.city=table...|    27|\n",
      "|      26|   city| ITE00100554|table1.city=table...|    62|\n",
      "|      27|   city| ITE00100554|table1.city=table...|    26|\n",
      "|      28|   city| ITE00100554|table1.city=table...|    16|\n",
      "|      31|   city| ITE00100554|table1.city=table...|    47|\n",
      "|      32|   city| ITE00100554|table1.city=table...|    21|\n",
      "|      33|   city| ITE00100554|table1.city=table...|    16|\n",
      "|      36|   city| ITE00100554|table1.city=table...|    57|\n",
      "|      38|   city| ITE00100554|table1.city=table...|    16|\n",
      "|      42|   city| ITE00100554|table1.city=table...|    61|\n",
      "|      43|   city| ITE00100554|table1.city=table...|    16|\n",
      "|      46|   city| ITE00100554|table1.city=table...|    87|\n",
      "|      47|   city| ITE00100554|table1.city=table...|    31|\n",
      "|      48|   city| ITE00100554|table1.city=table...|    16|\n",
      "|      49|   city| ITE00100554|table1.city=table...|    12|\n",
      "+--------+-------+------------+--------------------+------+\n",
      "only showing top 20 rows\n",
      "\n",
      "None\n"
     ]
    }
   ],
   "source": [
    "start_time_dd = time.time()\n",
    "dc_f.make_dc_f_table()\n",
    "finish_time_dd=time.time()\n",
    "mysqlv=d.get_table_spark(\"dc_f_dd\")\n",
    "print(mysqlv.count())\n",
    "print(mysqlv.show())"
   ]
  },
  {
   "cell_type": "markdown",
   "metadata": {},
   "source": [
    "Execution time is :"
   ]
  },
  {
   "cell_type": "code",
   "execution_count": 9,
   "metadata": {},
   "outputs": [
    {
     "name": "stdout",
     "output_type": "stream",
     "text": [
      "--- 48.0284688473 seconds ---\n"
     ]
    }
   ],
   "source": [
    "print(\"--- %s seconds ---\" % (finish_time_dd-start_time_dd))"
   ]
  },
  {
   "cell_type": "markdown",
   "metadata": {},
   "source": [
    "Because we have just one dc in all value in dc column is same"
   ]
  }
 ],
 "metadata": {
  "kernelspec": {
   "display_name": "Python 2",
   "language": "python",
   "name": "python2"
  },
  "language_info": {
   "codemirror_mode": {
    "name": "ipython",
    "version": 2
   },
   "file_extension": ".py",
   "mimetype": "text/x-python",
   "name": "python",
   "nbconvert_exporter": "python",
   "pygments_lexer": "ipython2",
   "version": "2.7.13"
  }
 },
 "nbformat": 4,
 "nbformat_minor": 2
}
