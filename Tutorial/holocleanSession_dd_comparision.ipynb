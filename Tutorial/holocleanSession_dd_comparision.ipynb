{
 "cells": [
  {
   "cell_type": "markdown",
   "metadata": {},
   "source": [
    "# Test random varible evaluation\n",
    "\n",
    "For first step we create import the sufficient packages "
   ]
  },
  {
   "cell_type": "code",
   "execution_count": 1,
   "metadata": {
    "collapsed": true,
    "scrolled": false
   },
   "outputs": [],
   "source": [
    "import sys\n",
    "import os\n",
    "import time\n",
    "sys.path.append('../')\n",
    "from holoclean import holocleansession , dataset , dataengine\n",
    "from holoclean.utils import domainpruning\n",
    "from holoclean.featurization import dcfeaturizer,dc_featurizer"
   ]
  },
  {
   "cell_type": "code",
   "execution_count": 2,
   "metadata": {
    "collapsed": true
   },
   "outputs": [],
   "source": [
    "my_path = os.path.abspath(os.path.dirname('__file__'))\n",
    "path = os.path.join(my_path, \"../holoclean/mysql-connector-java-5.1.44-bin.jar\")\n",
    "holoclean_se=holocleansession.HolocleanSession(path)"
   ]
  },
  {
   "cell_type": "markdown",
   "metadata": {},
   "source": [
    "##  Creating Dataset and dataengine and holocleansession \n",
    "In this part we create dataset for keep tracking the runnig step and dataengine for make connector to the database we try to ingest the 10 element csv file and after ingesting it returns df other wise we can read it from database"
   ]
  },
  {
   "cell_type": "code",
   "execution_count": 3,
   "metadata": {},
   "outputs": [
    {
     "name": "stdout",
     "output_type": "stream",
     "text": [
      "index\n"
     ]
    }
   ],
   "source": [
    "ds=dataset.Dataset()  \n",
    "d=dataengine.Dataengine(\"metadb-config.txt\",'datadb-config.txt',ds,holoclean_se.return_sqlcontext())\n",
    "holoclean_se.set_dataengine(d)\n",
    "df=d.ingest_spark('10.csv',holoclean_se.returnspark_session())"
   ]
  },
  {
   "cell_type": "markdown",
   "metadata": {},
   "source": [
    "##  Create featurizer\n"
   ]
  },
  {
   "cell_type": "code",
   "execution_count": 4,
   "metadata": {
    "collapsed": true
   },
   "outputs": [],
   "source": [
    "dcCode=['t1&t2&EQ(t1.city,t2.city)&EQ(t1.temp,t2.temp)&IQ(t1.tempType,t2.tempType)']\n",
    "#dcCode=['t1&t2&EQ(t1.city,t2.city)&GTE(t1.temp,t2.temp)&IQ(t1.tempType,t2.tempType)']\n",
    "dcf=dcfeaturizer.DCFeaturizer(df,dcCode,d)"
   ]
  },
  {
   "cell_type": "markdown",
   "metadata": {},
   "source": [
    "In this version we create new table which ha sall possible value and by using join it with original table twe create the final table."
   ]
  },
  {
   "cell_type": "code",
   "execution_count": 5,
   "metadata": {
    "collapsed": true
   },
   "outputs": [],
   "source": [
    "dc_f=dc_featurizer.DCFeaturizer(df,dcCode,d)"
   ]
  },
  {
   "cell_type": "markdown",
   "metadata": {},
   "source": [
    "we claculate the creation time in this version :"
   ]
  },
  {
   "cell_type": "code",
   "execution_count": 6,
   "metadata": {
    "scrolled": true
   },
   "outputs": [
    {
     "name": "stdout",
     "output_type": "stream",
     "text": [
      "136524702044_dc_f1\n",
      "1884\n",
      "+--------+-------+------------+----------------+------+---------+\n",
      "|rv_index|rv_attr|assigned_val|         feature|  TYPE|weight_id|\n",
      "+--------+-------+------------+----------------+------+---------+\n",
      "|       1|   city| ITE00100554|   date=18000101|concur|        0|\n",
      "|       1|   city| GM000010962|   date=18000101|concur|        0|\n",
      "|       1|   city| EZE00100082|   date=18000101|concur|        0|\n",
      "|       1|   city| ITE00100554|   date=18000102|concur|        1|\n",
      "|       1|   city| GM000010962|   date=18000102|concur|        1|\n",
      "|       1|   city| EZE00100082|   date=18000102|concur|        1|\n",
      "|       1|   city| ITE00100554|INIT=ITE00100554|  init|        2|\n",
      "|       1|   city| GM000010962|INIT=ITE00100554|  init|        2|\n",
      "|       1|   city| EZE00100082|INIT=ITE00100554|  init|        2|\n",
      "|       1|   city| ITE00100554|       temp=-125|concur|        3|\n",
      "|       1|   city| GM000010962|       temp=-125|concur|        3|\n",
      "|       1|   city| EZE00100082|       temp=-125|concur|        3|\n",
      "|       1|   city| ITE00100554|       temp=-135|concur|        4|\n",
      "|       1|   city| GM000010962|       temp=-135|concur|        4|\n",
      "|       1|   city| EZE00100082|       temp=-135|concur|        4|\n",
      "|       1|   city| ITE00100554|       temp=-148|concur|        5|\n",
      "|       1|   city| GM000010962|       temp=-148|concur|        5|\n",
      "|       1|   city| EZE00100082|       temp=-148|concur|        5|\n",
      "|       1|   city| ITE00100554|        temp=-44|concur|        6|\n",
      "|       1|   city| GM000010962|        temp=-44|concur|        6|\n",
      "+--------+-------+------------+----------------+------+---------+\n",
      "only showing top 20 rows\n",
      "\n",
      "None\n"
     ]
    }
   ],
   "source": [
    "start_time_dd = time.time()\n",
    "dc_f.table_featurizer(d)\n",
    "finish_time_dd=time.time()\n",
    "mysqlv=d.get_table_spark(\"dc_f1\")\n",
    "print(mysqlv.count())\n",
    "print(mysqlv.show())"
   ]
  },
  {
   "cell_type": "code",
   "execution_count": 7,
   "metadata": {},
   "outputs": [
    {
     "name": "stdout",
     "output_type": "stream",
     "text": [
      "--- 1.80709886551 seconds ---\n"
     ]
    }
   ],
   "source": [
    "print(\"--- %s seconds ---\" % (finish_time_dd-start_time_dd))"
   ]
  },
  {
   "cell_type": "code",
   "execution_count": 8,
   "metadata": {},
   "outputs": [
    {
     "name": "stdout",
     "output_type": "stream",
     "text": [
      "24\n",
      "+--------+--------+------------+--------------------+------+\n",
      "|rv_index| rv_attr|assigned_val|                  DC|tup_id|\n",
      "+--------+--------+------------+--------------------+------+\n",
      "|      10|    city| EZE00100082|table1.city=table...|     5|\n",
      "|       5|    city| EZE00100082|table1.city=table...|    10|\n",
      "|       2|    temp|         -75|table1.city=table...|     1|\n",
      "|       7|    temp|         -75|table1.city=table...|     1|\n",
      "|       1|    temp|        -148|table1.city=table...|     2|\n",
      "|       6|    temp|        -148|table1.city=table...|     2|\n",
      "|      10|    temp|         -86|table1.city=table...|     4|\n",
      "|      10|    temp|        -135|table1.city=table...|     5|\n",
      "|       2|    temp|         -60|table1.city=table...|     6|\n",
      "|       7|    temp|         -60|table1.city=table...|     6|\n",
      "|       1|    temp|        -125|table1.city=table...|     7|\n",
      "|       6|    temp|        -125|table1.city=table...|     7|\n",
      "|      10|    temp|         -44|table1.city=table...|     9|\n",
      "|       4|    temp|        -135|table1.city=table...|    10|\n",
      "|       5|    temp|        -135|table1.city=table...|    10|\n",
      "|       9|    temp|        -135|table1.city=table...|    10|\n",
      "|       8|tempType|        TMAX|table1.city=table...|     3|\n",
      "|       8|tempType|        TMIN|table1.city=table...|     3|\n",
      "|      10|tempType|        TMIN|table1.city=table...|     5|\n",
      "|      10|tempType|        PRCP|table1.city=table...|     5|\n",
      "+--------+--------+------------+--------------------+------+\n",
      "only showing top 20 rows\n",
      "\n",
      "None\n"
     ]
    }
   ],
   "source": [
    "start_time_dd = time.time()\n",
    "dc_f.make_dc_f_table()\n",
    "finish_time_dd=time.time()\n",
    "mysqlv=d.get_table_spark(\"dc_f_dd\")\n",
    "print(mysqlv.count())\n",
    "print(mysqlv.show())"
   ]
  },
  {
   "cell_type": "markdown",
   "metadata": {},
   "source": [
    "Execution time is :"
   ]
  },
  {
   "cell_type": "code",
   "execution_count": 9,
   "metadata": {},
   "outputs": [
    {
     "name": "stdout",
     "output_type": "stream",
     "text": [
      "--- 0.235793113708 seconds ---\n"
     ]
    }
   ],
   "source": [
    "print(\"--- %s seconds ---\" % (finish_time_dd-start_time_dd))"
   ]
  },
  {
   "cell_type": "markdown",
   "metadata": {},
   "source": [
    "Because we have just one dc in all value in dc column is same"
   ]
  }
 ],
 "metadata": {
  "kernelspec": {
   "display_name": "Python 2",
   "language": "python",
   "name": "python2"
  },
  "language_info": {
   "codemirror_mode": {
    "name": "ipython",
    "version": 2
   },
   "file_extension": ".py",
   "mimetype": "text/x-python",
   "name": "python",
   "nbconvert_exporter": "python",
   "pygments_lexer": "ipython2",
   "version": "2.7.13"
  }
 },
 "nbformat": 4,
 "nbformat_minor": 2
}
