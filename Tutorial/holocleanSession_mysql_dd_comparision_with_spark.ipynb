{
 "cells": [
  {
   "cell_type": "markdown",
   "metadata": {},
   "source": [
    "# Test random varible evaluation\n",
    "\n",
    "For first step we create import the sufficient packages "
   ]
  },
  {
   "cell_type": "code",
   "execution_count": 1,
   "metadata": {
    "scrolled": false
   },
   "outputs": [],
   "source": [
    "import sys\n",
    "import os\n",
    "import time\n",
    "sys.path.append('../')\n",
    "from holoclean import holocleansession , dataset , dataengine\n",
    "from holoclean.utils import domainpruning\n",
    "from holoclean.featurization import dcfeaturizer,dc_featurizer"
   ]
  },
  {
   "cell_type": "code",
   "execution_count": 2,
   "metadata": {
    "collapsed": true
   },
   "outputs": [],
   "source": [
    "my_path = os.path.abspath(os.path.dirname('__file__'))\n",
    "path = os.path.join(my_path, \"../holoclean/mysql-connector-java-5.1.44-bin.jar\")\n",
    "holoclean_se=holocleansession.HolocleanSession(path)"
   ]
  },
  {
   "cell_type": "markdown",
   "metadata": {},
   "source": [
    "##  Creating Dataset and dataengine and holocleansession \n",
    "In this part we create dataset for keep tracking the runnig step and dataengine for make connector to the database we try to ingest the 10 element csv file and after ingesting it returns df other wise we can read it from database"
   ]
  },
  {
   "cell_type": "code",
   "execution_count": 3,
   "metadata": {},
   "outputs": [
    {
     "name": "stdout",
     "output_type": "stream",
     "text": [
      "index\n"
     ]
    }
   ],
   "source": [
    "ds=dataset.Dataset()  \n",
    "d=dataengine.Dataengine(\"metadb-config.txt\",'datadb-config.txt',ds,holoclean_se.return_sqlcontext())\n",
    "holoclean_se.set_dataengine(d)\n",
    "df=d.ingest_spark('1800.csv',holoclean_se.returnspark_session())"
   ]
  },
  {
   "cell_type": "markdown",
   "metadata": {},
   "source": [
    "##  Create featurizer\n"
   ]
  },
  {
   "cell_type": "code",
   "execution_count": 4,
   "metadata": {
    "collapsed": true
   },
   "outputs": [],
   "source": [
    "#dcCode=['t1&t2&EQ(t1.city,t2.city)&EQ(t1.temp,t2.temp)&IQ(t1.tempType,t2.tempType)']\n",
    "dcCode=['t1&t2&EQ(t1.city,t2.city)&GTE(t1.temp,t2.temp)&IQ(t1.tempType,t2.tempType)']\n",
    "dcf=dcfeaturizer.DCFeaturizer(df,dcCode,d)"
   ]
  },
  {
   "cell_type": "markdown",
   "metadata": {},
   "source": [
    "By using mysql we have same table :"
   ]
  },
  {
   "cell_type": "code",
   "execution_count": 5,
   "metadata": {},
   "outputs": [
    {
     "name": "stdout",
     "output_type": "stream",
     "text": [
      "811337479035_T\n",
      "OK!\n",
      "155\n",
      "+--------+-------+------------+--------------------+------+\n",
      "|rv_index|rv_attr|assigned_val|              DCname|tup_id|\n",
      "+--------+-------+------------+--------------------+------+\n",
      "|       1|   city| EZE00100082|table1.city=table...|    10|\n",
      "|       1|   city| ITE00100554|table1.city=table...|     2|\n",
      "|       1|   city| ITE00100554|table1.city=table...|     7|\n",
      "|      10|   city| EZE00100082|table1.city=table...|     5|\n",
      "|       2|   city| EZE00100082|table1.city=table...|     5|\n",
      "|       3|   city| EZE00100082|table1.city=table...|    10|\n",
      "|       3|   city| EZE00100082|table1.city=table...|     4|\n",
      "|       3|   city| EZE00100082|table1.city=table...|     5|\n",
      "|       3|   city| EZE00100082|table1.city=table...|     9|\n",
      "|       3|   city| ITE00100554|table1.city=table...|     1|\n",
      "|       3|   city| ITE00100554|table1.city=table...|     2|\n",
      "|       3|   city| ITE00100554|table1.city=table...|     6|\n",
      "|       3|   city| ITE00100554|table1.city=table...|     7|\n",
      "|       4|   city| EZE00100082|table1.city=table...|    10|\n",
      "|       4|   city| ITE00100554|table1.city=table...|     2|\n",
      "|       4|   city| ITE00100554|table1.city=table...|     7|\n",
      "|       5|   city| EZE00100082|table1.city=table...|    10|\n",
      "|       5|   city| ITE00100554|table1.city=table...|     7|\n",
      "|       6|   city| EZE00100082|table1.city=table...|    10|\n",
      "|       6|   city| ITE00100554|table1.city=table...|     2|\n",
      "+--------+-------+------------+--------------------+------+\n",
      "only showing top 20 rows\n",
      "\n",
      "None\n"
     ]
    }
   ],
   "source": [
    "start_time_mysql = time.time()\n",
    "\n",
    "dcf.make_dc_f_table()\n",
    "\n",
    "#dcf.test()\n",
    "finish_time_mysql=time.time()\n",
    "mysqlv=d.get_table_spark(\"dc_f_mysql\")\n",
    "print(mysqlv.count())\n",
    "print(mysqlv.show())"
   ]
  },
  {
   "cell_type": "markdown",
   "metadata": {},
   "source": [
    "Execution time is :"
   ]
  },
  {
   "cell_type": "code",
   "execution_count": 6,
   "metadata": {},
   "outputs": [
    {
     "name": "stdout",
     "output_type": "stream",
     "text": [
      "--- 0.241194009781 seconds ---\n"
     ]
    }
   ],
   "source": [
    "print(\"--- %s seconds ---\" % (finish_time_mysql-start_time_mysql))"
   ]
  },
  {
   "cell_type": "markdown",
   "metadata": {},
   "source": [
    "## Deep dive grounding\n",
    "In this version we create new table which has all initial value and all possible value and by using the create the all wrong violations "
   ]
  },
  {
   "cell_type": "code",
   "execution_count": 7,
   "metadata": {
    "collapsed": true
   },
   "outputs": [],
   "source": [
    "dc_f=dc_featurizer.DCFeaturizer(df,dcCode,d)"
   ]
  },
  {
   "cell_type": "markdown",
   "metadata": {},
   "source": [
    "we claculate the creation time in this version :"
   ]
  },
  {
   "cell_type": "code",
   "execution_count": null,
   "metadata": {
    "collapsed": true
   },
   "outputs": [],
   "source": []
  },
  {
   "cell_type": "code",
   "execution_count": 8,
   "metadata": {},
   "outputs": [
    {
     "name": "stdout",
     "output_type": "stream",
     "text": [
      "table1.city=table2.city AND table1.temp>=table2.temp AND table1.tempType<>table2.tempType\n",
      "+--------+------------+-----------+------+--------------------+\n",
      "|rv_index|assigned_val|    rv_attr|tup_id|             DC_name|\n",
      "+--------+------------+-----------+------+--------------------+\n",
      "|       1|        temp|       -125|     7|table1.city=table...|\n",
      "|       1|        temp|       -135|     7|table1.city=table...|\n",
      "|       1|        temp|       -148|     2|table1.city=table...|\n",
      "|       1|        temp|       -148|     7|table1.city=table...|\n",
      "|       1|        temp|        -44|     2|table1.city=table...|\n",
      "|       1|        temp|        -44|     7|table1.city=table...|\n",
      "|       1|        temp|        -60|     2|table1.city=table...|\n",
      "|       1|        temp|        -60|     7|table1.city=table...|\n",
      "|       1|        temp|        -75|     2|table1.city=table...|\n",
      "|       1|        temp|        -75|     7|table1.city=table...|\n",
      "|       1|        temp|        -86|     2|table1.city=table...|\n",
      "|       1|        temp|        -86|     7|table1.city=table...|\n",
      "|       1|        temp|          0|     2|table1.city=table...|\n",
      "|       1|        temp|          0|     7|table1.city=table...|\n",
      "|       1|        city|EZE00100082|    10|table1.city=table...|\n",
      "|       1|        city|ITE00100554|     2|table1.city=table...|\n",
      "|       1|        city|ITE00100554|     7|table1.city=table...|\n",
      "|       1|    tempType|       PRCP|     1|table1.city=table...|\n",
      "|       1|    tempType|       PRCP|     2|table1.city=table...|\n",
      "|       1|    tempType|       PRCP|     6|table1.city=table...|\n",
      "+--------+------------+-----------+------+--------------------+\n",
      "only showing top 20 rows\n",
      "\n",
      "159\n",
      "+--------+-------+------------+--------------------+------+\n",
      "|rv_index|rv_attr|assigned_val|                  DC|tup_id|\n",
      "+--------+-------+------------+--------------------+------+\n",
      "|       3|   city| ITE00100554|table1.city=table...|     1|\n",
      "|       8|   city| ITE00100554|table1.city=table...|     1|\n",
      "|       1|   city| ITE00100554|table1.city=table...|     2|\n",
      "|       3|   city| ITE00100554|table1.city=table...|     2|\n",
      "|       4|   city| ITE00100554|table1.city=table...|     2|\n",
      "|       6|   city| ITE00100554|table1.city=table...|     2|\n",
      "|       8|   city| ITE00100554|table1.city=table...|     2|\n",
      "|       9|   city| ITE00100554|table1.city=table...|     2|\n",
      "|       3|   city| EZE00100082|table1.city=table...|     4|\n",
      "|       8|   city| EZE00100082|table1.city=table...|     4|\n",
      "|       2|   city| EZE00100082|table1.city=table...|     5|\n",
      "|       3|   city| EZE00100082|table1.city=table...|     5|\n",
      "|       8|   city| EZE00100082|table1.city=table...|     5|\n",
      "|      10|   city| EZE00100082|table1.city=table...|     5|\n",
      "|       3|   city| ITE00100554|table1.city=table...|     6|\n",
      "|       8|   city| ITE00100554|table1.city=table...|     6|\n",
      "|       1|   city| ITE00100554|table1.city=table...|     7|\n",
      "|       3|   city| ITE00100554|table1.city=table...|     7|\n",
      "|       4|   city| ITE00100554|table1.city=table...|     7|\n",
      "|       5|   city| ITE00100554|table1.city=table...|     7|\n",
      "+--------+-------+------------+--------------------+------+\n",
      "only showing top 20 rows\n",
      "\n",
      "None\n"
     ]
    }
   ],
   "source": [
    "start_time_dd = time.time()\n",
    "dc_f.make_spark_table(d,holoclean_se.return_sqlcontext())\n",
    "dc_f.make_dc_f_table()\n",
    "finish_time_dd=time.time()\n",
    "mysqlv=d.get_table_spark(\"dc_f_dd\")\n",
    "print(mysqlv.count())\n",
    "print(mysqlv.show())"
   ]
  },
  {
   "cell_type": "markdown",
   "metadata": {},
   "source": [
    "Execution time is :"
   ]
  },
  {
   "cell_type": "code",
   "execution_count": 9,
   "metadata": {},
   "outputs": [
    {
     "name": "stdout",
     "output_type": "stream",
     "text": [
      "--- 8.5857129097 seconds ---\n"
     ]
    }
   ],
   "source": [
    "print(\"--- %s seconds ---\" % (finish_time_dd-start_time_dd))"
   ]
  },
  {
   "cell_type": "markdown",
   "metadata": {},
   "source": [
    "Because we have just one dc in all value in dc column is same"
   ]
  }
 ],
 "metadata": {
  "kernelspec": {
   "display_name": "Python 2",
   "language": "python",
   "name": "python2"
  },
  "language_info": {
   "codemirror_mode": {
    "name": "ipython",
    "version": 2
   },
   "file_extension": ".py",
   "mimetype": "text/x-python",
   "name": "python",
   "nbconvert_exporter": "python",
   "pygments_lexer": "ipython2",
   "version": "2.7.13"
  }
 },
 "nbformat": 4,
 "nbformat_minor": 2
}
